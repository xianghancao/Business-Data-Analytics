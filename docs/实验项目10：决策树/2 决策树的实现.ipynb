{
 "cells": [
  {
   "cell_type": "markdown",
   "id": "e077da2a-6842-442e-a5f5-ac7b83bfc0b9",
   "metadata": {},
   "source": [
    "# 决策树的Python实现\n",
    "## 1. sklearn下面的tree模块\n",
    "决策树的Python实现主要使用sklearn机器学习库tree模块下的DecisionTreeClassifier类。\n",
    "```python\n",
    "class sklearn.tree.DecisionTreeClassifier(*, criterion='gini', splitter='best', max_depth=None, min_samples_split=2, min_samples_leaf=1, min_weight_fraction_leaf=0.0, max_features=None, random_state=None, max_leaf_nodes=None, min_impurity_decrease=0.0, class_weight=None, ccp_alpha=0.0)\n",
    "```"
   ]
  },
  {
   "cell_type": "markdown",
   "id": "fdcbe893-8ce5-48ef-aeba-711507720e0b",
   "metadata": {},
   "source": [
    "|类别|名称|含义|\n",
    "|---|---|---|\n",
    "|参数|**criterion**|默认\"gini\"，可选“entropy”，该参数用于划分的效果。\"gini\"表示基尼纯度，“熵”表示信息增益。|\n",
    "||**splitter**|默认“best”，可选“random”，“best”为最佳分割，“random”为最佳随机分割。|\n",
    "||**max_dept**|树的最大深度。如果为None，则节点将被扩展，直到所有叶子都是纯的或直到所有叶子包含小于min_samples_split样本。|\n",
    "||**min_samples_split**|分隔内部节点所需的最小样本数|\n",
    "|属性|**class_**|类别标签|\n",
    "||**tree_**|树对象|\n",
    "|方法|**fit(x,y)**|根据训练集简历决策树分类器|\n",
    "||**predict(X)**|预测X的类别|\n",
    "||**score(X,y)**|返回给定X和y的准确率|\n",
    "||**get_params()**|获得模型的参数|"
   ]
  },
  {
   "cell_type": "markdown",
   "id": "a91481e4-0a49-4638-8309-1749442f5818",
   "metadata": {},
   "source": [
    "## 2. 模型输入X和y\n",
    "上述回归模型中使用$X$和$y$的数据结构如下，$X$包含多个样本，以及每个样本的属性，也就是自变量，和X的每个样本对应的就是我们的预测目标$y$，也就是因变量。\n",
    "\n",
    "在实际编程中，一般使用pd.DataFrame来表示$X$和$y$。"
   ]
  },
  {
   "cell_type": "markdown",
   "id": "374e6ad9-5aa8-4dae-84ec-4c63debb6e7e",
   "metadata": {},
   "source": [
    "![X&Y](image/X&Y.png)"
   ]
  },
  {
   "cell_type": "markdown",
   "id": "ce3fe0e1-a770-462f-a902-67a10774f782",
   "metadata": {},
   "source": [
    "## 3. 实现流程\n",
    "针对于决策树，其一般化的流程如下：  \n",
    "![decision_tree_steps](image/decision_tree_steps.png)"
   ]
  },
  {
   "cell_type": "markdown",
   "id": "dbc55ce9-0562-48a9-99fa-d2c34e9e836e",
   "metadata": {},
   "source": [
    "1）创建学习器，也就是初始化决策树分类模型\n",
    "```python\n",
    "from sklearn import tree\n",
    "tree_clf = tree.DecisionTreeClassifier\n",
    "```"
   ]
  },
  {
   "cell_type": "markdown",
   "id": "9ecc833e-0292-40e8-8314-2d05f0433d17",
   "metadata": {},
   "source": [
    "也可以这样表述：\n",
    "```python\n",
    "from sklearn.tree import DecisionTreeClassifier\n",
    "tree_clf = DecisionTreeClassifier()\n",
    "```"
   ]
  },
  {
   "cell_type": "markdown",
   "id": "560d21cc-7b37-4ca2-b063-25829592c575",
   "metadata": {},
   "source": [
    "2）训练模型\n",
    "```python\n",
    "model.fit(X, y)\n",
    "```"
   ]
  },
  {
   "cell_type": "markdown",
   "id": "20bc66c2-be7a-4d6c-9542-e960638de867",
   "metadata": {},
   "source": [
    "3）生成预测结果\n",
    "```python\n",
    "predicted_y = model.predict(X)\n",
    "```"
   ]
  },
  {
   "cell_type": "markdown",
   "id": "5b52f056-cea3-4945-8a58-7d3e74b214d8",
   "metadata": {},
   "source": [
    "4）计算模型预测精度\n",
    "```python\n",
    "precision = model.score(X, y)\n",
    "```\n",
    "查准率、查全率和F1值：\n",
    "```python\n",
    "from sklearn import metrics\n",
    "precision = metrics.precision_score(y, predicted_y)\n",
    "recall = metrics.recall_score(y, predicted_y)\n",
    "f1_score = metrics.f1_score(y, predicted_y)\n",
    "```"
   ]
  },
  {
   "cell_type": "markdown",
   "id": "d3b6052c-d3b9-41be-b26e-d768783b2c62",
   "metadata": {},
   "source": [
    "5）绘制决策树\n",
    "```python\n",
    "from sklearn.tree import plot_tree\n",
    "plt.figure()\n",
    "plot_tree(tree_clf)\n",
    "plt.show()\n",
    "```"
   ]
  },
  {
   "cell_type": "markdown",
   "id": "203b0769-8e1d-4938-932e-4d9eb21cf811",
   "metadata": {},
   "source": [
    "## 参考\n",
    "1. sklearn官网：[链接](https://scikit-learn.org/stable/modules/generated/sklearn.tree.DecisionTreeClassifier.html#)"
   ]
  }
 ],
 "metadata": {
  "kernelspec": {
   "display_name": "Python 3 (ipykernel)",
   "language": "python",
   "name": "python3"
  },
  "language_info": {
   "codemirror_mode": {
    "name": "ipython",
    "version": 3
   },
   "file_extension": ".py",
   "mimetype": "text/x-python",
   "name": "python",
   "nbconvert_exporter": "python",
   "pygments_lexer": "ipython3",
   "version": "3.11.7"
  },
  "widgets": {
   "application/vnd.jupyter.widget-state+json": {
    "state": {},
    "version_major": 2,
    "version_minor": 0
   }
  }
 },
 "nbformat": 4,
 "nbformat_minor": 5
}
