{
 "cells": [
  {
   "cell_type": "markdown",
   "id": "05a1cbf1-00a5-4cfe-a5f1-03a9706f28ee",
   "metadata": {},
   "source": [
    "# 实验流程"
   ]
  },
  {
   "cell_type": "markdown",
   "id": "9f2f758a-4fc6-4f21-bc97-65f61338267a",
   "metadata": {},
   "source": [
    "<div class=\"alert alert-block alert-success\">\n",
    "<b>知识点：</b>可视化的概念；matplotlib库的使用；matplotlib的金融应用场景\n",
    "<br><b>重点：</b>matplotlib绘图方法\n",
    "<br><b>难点：</b>matplotlib的金融应用场景\n",
    "</div>\n",
    "\n",
    "\n",
    "\n"
   ]
  },
  {
   "cell_type": "markdown",
   "id": "bf285638-ee9b-4d7a-975c-d4de37fffc8e",
   "metadata": {},
   "source": [
    "## 1. 课前知识"
   ]
  },
  {
   "cell_type": "markdown",
   "id": "9711516f-20c1-41cc-99eb-cf9f8736f943",
   "metadata": {},
   "source": [
    "请使用各类资源和工具，完成以下名词解释：\n",
    "- 图表类型（Chart Types）\n",
    "- 坐标系（Coordinate System）\n",
    "- 刻度（Ticks）\n",
    "- 轴（axis）\n",
    "- 标签（labels）\n",
    "- 散点图（scatter plot）\n",
    "- 网格（grid）\n",
    "- 图例（legend） "
   ]
  },
  {
   "cell_type": "markdown",
   "id": "d18b4d2d-5dc3-4b3d-a12c-f2882363c46c",
   "metadata": {},
   "source": [
    "观看以下[视频](https://player.bilibili.com/player.html?aid=461136862&bvid=BV1v5411K7LT&cid=354523956&p=8&autoplay=0)"
   ]
  },
  {
   "cell_type": "markdown",
   "id": "6bdc6440-814e-41fc-a109-a96c1b9c4afd",
   "metadata": {},
   "source": [
    "<iframe src=\"https://player.bilibili.com/player.html?aid=461136862&bvid=BV1v5411K7LT&cid=354523956&p=8&autoplay=0\" allowfullscreen=\"allowfullscreen\" width=\"80%\" height=\"350\" scrolling=\"no\" frameborder=\"0\" sandbox=\"allow-top-navigation allow-same-origin allow-forms allow-scripts\"></iframe>"
   ]
  },
  {
   "cell_type": "markdown",
   "id": "a1e7741d-5a0b-4be1-a63b-590116bcb87f",
   "metadata": {},
   "source": [
    "Matplotlib是一个流行的Python数据可视化库，有许多网络资源可以帮助你学习和使用它。以下是一些常见的Matplotlib网络资源：[Matplotlib官方文档](https://matplotlib.org/stable/contents.html)。 \n",
    "\n",
    "Matplotlib的官方网站提供了一个Gallery页面，展示了各种类型的图表示例，包括线图、散点图、柱状图、等高线图等。你可以在这里找到各种类型的图表示例，并学习如何使用Matplotlib创建它们：[Matplotlib Gallery](https://matplotlib.org/stable/gallery/index.html)。\n",
    "\n"
   ]
  },
  {
   "cell_type": "markdown",
   "id": "958295b8-af11-4079-b776-e7db48623a41",
   "metadata": {},
   "source": [
    "## 2. Keybr打字练习"
   ]
  },
  {
   "cell_type": "markdown",
   "id": "86cdc81e-239c-41ba-bc9e-e648f63bcbde",
   "metadata": {},
   "source": [
    "在浏览器地址栏输入：[keybr.com](https://keybr.com)"
   ]
  },
  {
   "cell_type": "markdown",
   "id": "f54abb48-49cf-40f4-904e-22f6ab9422c3",
   "metadata": {},
   "source": [
    "## 3. 完成本章节内的实验"
   ]
  },
  {
   "cell_type": "markdown",
   "id": "1efe6fa2-2c4f-4790-a2d4-8caa5f5da285",
   "metadata": {},
   "source": [
    "完成后，放到如下对应班级链接中： [**会计22-1**、](https://xdsisueducn-my.sharepoint.com/:f:/g/personal/2111003_xdsisu_edu_cn/EvmVa-lZDRhKsy65lwnaTmQBZh2xKgDt8-3YfpdDWY-Kug?e=sxmErY) [**会计22-2**、](https://xdsisueducn-my.sharepoint.com/:f:/g/personal/2111003_xdsisu_edu_cn/Eoty3HlyYgBGqQiYZjccOMABv0qkgea_JcRWHb543rX5FQ?e=75fdoi) [**会计22-3**、](https://xdsisueducn-my.sharepoint.com/:f:/g/personal/2111003_xdsisu_edu_cn/Eqyb8hPchlFFgBvJpnmjrikB0iDx_4D-NFqp9zCNENKj3w?e=BY3UPm) [**会计22-4**、](https://xdsisueducn-my.sharepoint.com/:f:/g/personal/2111003_xdsisu_edu_cn/Eidfy0916lNMronkNOJhHd0BpocxetZeJpZL7tNJAbsX6A?e=Th7apD) [**会计22-5**、](https://xdsisueducn-my.sharepoint.com/:f:/g/personal/2111003_xdsisu_edu_cn/EorZuIvgi2JBmQpKtRxYZoMBVpgXGUnwdvy0TBWocIdMkA?e=Mlpfbq) [**金融22-3**、](https://xdsisueducn-my.sharepoint.com/:f:/g/personal/2111003_xdsisu_edu_cn/Er4HQYisXl9HtYqJ9KeuljgBLL0hqAOAE3UQScDKchMyfw?e=jgizZ1) [**金融22-4**](https://xdsisueducn-my.sharepoint.com/:f:/g/personal/2111003_xdsisu_edu_cn/EjK2Eq0GM_JHmKyRKi0z8yEByf7TV-MqjF4IBiK5YfhxIg?e=MHWano)"
   ]
  }
 ],
 "metadata": {
  "kernelspec": {
   "display_name": "Python 3 (ipykernel)",
   "language": "python",
   "name": "python3"
  },
  "language_info": {
   "codemirror_mode": {
    "name": "ipython",
    "version": 3
   },
   "file_extension": ".py",
   "mimetype": "text/x-python",
   "name": "python",
   "nbconvert_exporter": "python",
   "pygments_lexer": "ipython3",
   "version": "3.9.17"
  }
 },
 "nbformat": 4,
 "nbformat_minor": 5
}
