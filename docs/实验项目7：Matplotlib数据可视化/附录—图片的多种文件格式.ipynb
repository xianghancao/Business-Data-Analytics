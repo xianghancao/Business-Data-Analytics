{
 "cells": [
  {
   "cell_type": "markdown",
   "id": "ee8ad7dc-0f3f-42ab-9a40-eba70b15a437",
   "metadata": {
    "tags": []
   },
   "source": [
    "# 附录：图片的多种文件格式"
   ]
  },
  {
   "cell_type": "markdown",
   "id": "76039fa2-52fc-4426-8339-b59b6e806648",
   "metadata": {},
   "source": [
    "## Matplotlib支持的多种图片文件格式\n",
    "Matplotlib可以保存图片为多种文件格式，其中一些无损格式包括：\n",
    "\n",
    "1. **PNG**：PNG是一种无损的位图图像格式，支持透明度和高质量的图像压缩。相比于有损格式如JPEG，PNG格式不会引入压缩损失，因此被认为是一种无损格式。可以使用`plt.savefig('figure.png')`保存为PNG格式。\n",
    "\n",
    "2. **PDF**：PDF是一种无损的矢量图像格式，可以保留图像的矢量信息和高质量的图像细节。可以使用`plt.savefig('figure.pdf')`保存为PDF格式。\n",
    "\n",
    "3. **SVG**：SVG是一种无损的矢量图像格式，可以无损地缩放和编辑图像。可以使用`plt.savefig('figure.svg')`保存为SVG格式。\n",
    "\n",
    "这些无损格式可以保留图像的细节和质量，适用于需要高保真度的图像保存。"
   ]
  },
  {
   "cell_type": "markdown",
   "id": "7ad81c6c-fff1-47f9-bf99-c2f6cd64ea50",
   "metadata": {},
   "source": []
  }
 ],
 "metadata": {
  "kernelspec": {
   "display_name": "Python 3 (ipykernel)",
   "language": "python",
   "name": "python3"
  },
  "language_info": {
   "codemirror_mode": {
    "name": "ipython",
    "version": 3
   },
   "file_extension": ".py",
   "mimetype": "text/x-python",
   "name": "python",
   "nbconvert_exporter": "python",
   "pygments_lexer": "ipython3",
   "version": "3.11.5"
  }
 },
 "nbformat": 4,
 "nbformat_minor": 5
}
