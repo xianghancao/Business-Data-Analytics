{
 "cells": [
  {
   "cell_type": "markdown",
   "id": "dc7e1db7-e6ae-450d-9a77-e6e936d5accb",
   "metadata": {},
   "source": [
    "# 实验1 matplotlib绘图流程"
   ]
  },
  {
   "cell_type": "markdown",
   "id": "ee4411a0-df60-4ef5-964d-0f6be614bb49",
   "metadata": {},
   "source": [
    "matplotlib([https://matplotlib.org/](https://matplotlib.org/))是一个用于生成出版级质量的绘图包。该项目由John Hunter于2002年发起，目的在于在Python环境下进行Matlab（一种针对科学计算的软件）风格的绘图。\n"
   ]
  },
  {
   "cell_type": "markdown",
   "id": "bb5c0ff3-f58a-43cb-a5bd-f0ba2e7cf14e",
   "metadata": {},
   "source": [
    "![MatplotlibTimeline](images/MatplotlibTimeline.png)"
   ]
  },
  {
   "cell_type": "markdown",
   "id": "5acf0d50-c8e9-4eab-bd5d-074ffdd038ee",
   "metadata": {},
   "source": [
    "Matplotlib最初由John D. Hunter编写，第一个公开版本于2003年发布。Michael Droettboom在John Hunter于2012年8月去世前不久被提名为matplotlib的首席开发者，Thomas Caswell于2014年加入，他现在(2021年)是首席开发者。"
   ]
  },
  {
   "cell_type": "markdown",
   "id": "4bb638fe-a07d-4d86-a39c-cfb2d1005ac9",
   "metadata": {},
   "source": [
    "## 1. 一张图片的解剖"
   ]
  },
  {
   "cell_type": "markdown",
   "id": "c6841244-b739-4318-b179-3c5e38dd688d",
   "metadata": {},
   "source": [
    "matplotlib图形由多个元素的层次结构组成，当这些元素放在一起时，就形成了实际的图形。"
   ]
  },
  {
   "cell_type": "markdown",
   "id": "65ab86ed-1b87-4b21-814f-944aa5d998d2",
   "metadata": {},
   "source": [
    "![MatplotlibFigureIntro](images/2on1.png)"
   ]
  },
  {
   "cell_type": "markdown",
   "id": "ce56e2a2-8970-427e-99f1-c3058b7c70e3",
   "metadata": {},
   "source": [
    "figure - 图形; \n",
    "title - 标题;\n",
    "tick - 刻度;\n",
    "axis - 轴;\n",
    "label - 标签;\n",
    "line - 线;\n",
    "scatter plot - 散点图；\n",
    "grid - 网格;\n",
    "legend - 图例;\n",
    "spine -  图脊;"
   ]
  },
  {
   "cell_type": "markdown",
   "id": "65d58832-1c64-49ea-9177-b2576c53c95f",
   "metadata": {},
   "source": [
    "任何基本部件的一个重要属性是zorder属性，它在图中指示了基本部件的虚拟深度。这个zorder值用于在渲染基本部件之前从最低到最高排序。这样就可以控制什么在什么的后面。大多数绘图者都创建一个默认的zorder值，这样各个图形部件可以恰当的渲染。例如，图脊、刻度和刻度标签通常在实际图形的后面。"
   ]
  },
  {
   "cell_type": "markdown",
   "id": "edf4aea5-e313-4cf1-b3a1-bd47c0826fc9",
   "metadata": {},
   "source": [
    "\n",
    "\n",
    "为了方便使用，matplotlib还定义了一些预定义的zorder值，常用的有以下几种：\n",
    "|图形部件|zorder值|用途|\n",
    "|---|---|---|\n",
    "|`legend`|5|用于表示图例。|\n",
    "|`text`|3|用于表示图形中的文本标签。|\n",
    "|`line`|2|用于表示图形中的线条，如直线、曲线等。|\n",
    "|`patch`|1|用于表示图形中的填充区域，如矩形、圆形等。|\n",
    "\n",
    "这些预定义的zorder值可以在绘图时直接使用，也可以通过设置zorder属性来自定义其他值。通过合理设置zorder属性，可以控制图形元素的叠加顺序，从而实现更灵活的图形绘制。"
   ]
  },
  {
   "cell_type": "markdown",
   "id": "74910737-4d45-42db-aa0e-e9f64526303a",
   "metadata": {},
   "source": [
    "## 2. matplotlib库的安装"
   ]
  },
  {
   "cell_type": "markdown",
   "id": "c0db2876-028f-4a46-a040-d24dba35564c",
   "metadata": {},
   "source": [
    "请在jupyter-lab新建一个Terminal（终端），输入命令如下：\n",
    "```bash\n",
    "pip install matplotlib --user -i https://mirrors.aliyun.com/pypi/simple\n",
    "```\n",
    "\n"
   ]
  },
  {
   "cell_type": "markdown",
   "id": "6b545411-2258-407d-be17-75db02cbd3b8",
   "metadata": {},
   "source": [
    "其中，`https://mirrors.aliyun.com/pypi/simple`为指定pypi镜像地址，加快下载速度。在安装的过程中，如果需要打断或者终止以上命令，使用`ctrl+c`。"
   ]
  },
  {
   "cell_type": "markdown",
   "id": "41d2d248-ef04-44a4-9002-5a4b00402e56",
   "metadata": {},
   "source": [
    "### 实验1.1 安装matplotlib库\n",
    "1. 安装matplotlib库\n",
    "2. 使用`import`关键词来加载matplotlib库"
   ]
  },
  {
   "cell_type": "code",
   "execution_count": null,
   "id": "e304f5b8-29c2-47c2-bb7b-7d9b48f77a15",
   "metadata": {},
   "outputs": [],
   "source": [
    "\n",
    "\n"
   ]
  },
  {
   "cell_type": "markdown",
   "id": "605d2c5f-6bbc-4d6d-8fa0-90b8a53ff9cf",
   "metadata": {},
   "source": [
    "## 3. 一个标准绘图流程\n",
    "### [1]初始化(initialize)\n"
   ]
  },
  {
   "cell_type": "code",
   "execution_count": 1,
   "id": "b347c47b-8e19-4466-94c1-3d531bb849cc",
   "metadata": {
    "tags": []
   },
   "outputs": [],
   "source": [
    "import numpy as np\n",
    "import matplotlib.pyplot as plt"
   ]
  },
  {
   "cell_type": "markdown",
   "id": "2a0d7264-2c57-4dee-8c35-18e36f402ef4",
   "metadata": {},
   "source": [
    "### [2]准备(prepare)\n"
   ]
  },
  {
   "cell_type": "code",
   "execution_count": 2,
   "id": "0ca2ced1-8a0c-466c-a9d1-8adbfa97e3e4",
   "metadata": {
    "tags": []
   },
   "outputs": [],
   "source": [
    "X = np.linspace(0, 8*np.pi, 1000)  #np.pi 圆周率\n",
    "Y = np.sin(X)"
   ]
  },
  {
   "cell_type": "markdown",
   "id": "dabb0100-fffc-472e-8b31-6aec30a5c0f5",
   "metadata": {},
   "source": [
    "### [3] 渲染(Render)\n"
   ]
  },
  {
   "cell_type": "code",
   "execution_count": 3,
   "id": "af78e0af-4e42-44e4-b7f8-8e05ad89bfd8",
   "metadata": {
    "tags": []
   },
   "outputs": [
    {
     "data": {
      "image/png": "[encoded data removed]",
      "text/plain": [
       "<Figure size 600x200 with 1 Axes>"
      ]
     },
     "metadata": {},
     "output_type": "display_data"
    }
   ],
   "source": [
    "plt.figure(figsize=(6,2))   # 很重要！！！ 生成一个空的图形 \n",
    "plt.plot(X, Y, '-')         # 绘制别的图形，只需要修改这里\n",
    "plt.show()                # 很重要！！！显示绘制的图形"
   ]
  },
  {
   "cell_type": "markdown",
   "id": "7b968f0d-cd3a-4bb0-9eb8-f802716b6a70",
   "metadata": {
    "tags": []
   },
   "source": [
    "### 实验1.2\n",
    "1. 使用pandas库读取世界幸福报告数据集，路径为：'datasets/world-happiness-report-china.csv'，读取完赋值给变量df\n",
    "1. 横坐标变量X为'年份'， 纵坐标变量Y为'幸福指数'\n",
    "1. 绘制幸福指数随年份变化的折线图\n",
    "1. 观察图形，你能得出什么结论？"
   ]
  },
  {
   "cell_type": "code",
   "execution_count": null,
   "id": "67760a5c-4d60-41fe-98df-639c113485a7",
   "metadata": {},
   "outputs": [],
   "source": [
    "\n",
    "\n",
    "\n",
    "\n",
    "\n",
    "\n",
    "\n"
   ]
  },
  {
   "cell_type": "markdown",
   "id": "05d65233-7a0a-477b-9baf-055696d2898c",
   "metadata": {},
   "source": [
    "## 参考\n",
    "\n",
    "- Nicolas P.Rougier, Scientific Visualization: Pyhon & Matplotlib[M], https://github.com/rougier/scientific-visualization-book/\n",
    "- matplotlib的绘图示例：https://matplotlib.org/stable/gallery/index.html"
   ]
  }
 ],
 "metadata": {
  "kernelspec": {
   "display_name": "Python 3 (ipykernel)",
   "language": "python",
   "name": "python3"
  },
  "language_info": {
   "codemirror_mode": {
    "name": "ipython",
    "version": 3
   },
   "file_extension": ".py",
   "mimetype": "text/x-python",
   "name": "python",
   "nbconvert_exporter": "python",
   "pygments_lexer": "ipython3",
   "version": "3.9.17"
  },
  "toc-showmarkdowntxt": false,
  "widgets": {
   "application/vnd.jupyter.widget-state+json": {
    "state": {},
    "version_major": 2,
    "version_minor": 0
   }
  }
 },
 "nbformat": 4,
 "nbformat_minor": 5
}
