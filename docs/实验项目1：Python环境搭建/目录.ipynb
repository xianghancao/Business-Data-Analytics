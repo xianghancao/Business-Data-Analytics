{
 "cells": [
  {
   "cell_type": "markdown",
   "id": "f93ccd07-0810-46d4-98c3-2017adfa407c",
   "metadata": {},
   "source": [
    "# 实验项目1：Python环境搭建"
   ]
  },
  {
   "cell_type": "markdown",
   "id": "31deea9b-9da0-4924-a9fe-fb45901714f5",
   "metadata": {},
   "source": [
    "## 目录\n",
    "\n",
    "```{tableofcontents}\n",
    "```"
   ]
  },
  {
   "cell_type": "markdown",
   "id": "1ca472b7-2f23-4770-9dd4-7fea82378e5d",
   "metadata": {},
   "source": []
  }
 ],
 "metadata": {
  "kernelspec": {
   "display_name": "Python 3 (ipykernel)",
   "language": "python",
   "name": "python3"
  },
  "language_info": {
   "codemirror_mode": {
    "name": "ipython",
    "version": 3
   },
   "file_extension": ".py",
   "mimetype": "text/x-python",
   "name": "python",
   "nbconvert_exporter": "python",
   "pygments_lexer": "ipython3",
   "version": "3.9.17"
  }
 },
 "nbformat": 4,
 "nbformat_minor": 5
}
