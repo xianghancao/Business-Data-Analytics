{
 "cells": [
  {
   "cell_type": "markdown",
   "id": "838e9016-61ae-49fa-8bdf-ae3b120b044f",
   "metadata": {},
   "source": [
    "# 实验流程"
   ]
  },
  {
   "cell_type": "markdown",
   "id": "ed28c7c3-4647-4555-be5c-16f360df161f",
   "metadata": {},
   "source": [
    "## 0 分钟：课程介绍"
   ]
  },
  {
   "cell_type": "markdown",
   "id": "4a05600e-3f09-4b82-b12b-4757a6d5b38e",
   "metadata": {},
   "source": [
    "1. 教师介绍\n",
    "2. 课程介绍\n",
    "3. 针对本课程你有哪些问题？填写课程疑问：https://padlet.com/2111003_/padlet-ls7tolndk0js5fh8"
   ]
  },
  {
   "cell_type": "markdown",
   "id": "c188b70f-2a0c-46d2-bb88-ed0729a825d8",
   "metadata": {},
   "source": [
    "## 20 分钟 实验1：Python安装"
   ]
  },
  {
   "cell_type": "markdown",
   "id": "b75d6182-4432-42f0-b1e9-779f7f7565fc",
   "metadata": {},
   "source": [
    "1. 了解Python的优势\n",
    "1. 下载Minconda安装包，下载路径：学习通资料区\n",
    "1. 安装Minconda安装包"
   ]
  },
  {
   "cell_type": "markdown",
   "id": "4ab338e8-ef00-4e8b-a361-6c47b2b82fd2",
   "metadata": {},
   "source": [
    "## 40 分钟 实验2：Jupyterlab安装"
   ]
  },
  {
   "cell_type": "markdown",
   "id": "ceeb471a-3026-4b6f-a094-1c9813a18415",
   "metadata": {},
   "source": [
    "\n",
    "1. 下载Jupyterlab，下载路径：学习通资料区\n",
    "1. 学习基本的Notebook操作，如单元编辑、运行和保存。\n",
    "1. 使用Jupyterlab进行Python编程：一个“Hello World”程序"
   ]
  },
  {
   "cell_type": "markdown",
   "id": "0e1ff6e1-2c4c-41f2-b01c-6d11995a7eb1",
   "metadata": {},
   "source": [
    "## 60 分钟 实验3：安装常用库"
   ]
  },
  {
   "cell_type": "markdown",
   "id": "8d1a9829-72d5-4d18-95dc-8b1ded02ee09",
   "metadata": {},
   "source": [
    "1. 学习pip命令\n",
    "1. 安装数据分析常用库 `Numpy`\n",
    "1. 安装数据分析常用库 `Pandas`\n",
    "1. 安装数据分析常用库 `Matplotlib`\n",
    "1. 列出已安装的库, 并查看库的版本"
   ]
  },
  {
   "cell_type": "markdown",
   "id": "c2998ff0-baec-432c-aa12-4f3216180c9f",
   "metadata": {},
   "source": [
    "## 80 分钟：提交本周实验报告"
   ]
  },
  {
   "cell_type": "markdown",
   "id": "30b2a4d3-f3dc-47c2-9da2-73c4f5993f86",
   "metadata": {},
   "source": [
    "- 2-3人/组提交一份实验报告\n",
    "- 将以上实验完成的结果放到如下链接中：\n",
    "- [**会计22-1**: https://xdsisueducn-my.sharepoint.com/:f:/g/personal/2111003_xdsisu_edu_cn/EvmVa-lZDRhKsy65lwnaTmQBZh2xKgDt8-3YfpdDWY-Kug?e=sxmErY](https://xdsisueducn-my.sharepoint.com/:f:/g/personal/2111003_xdsisu_edu_cn/EvmVa-lZDRhKsy65lwnaTmQBZh2xKgDt8-3YfpdDWY-Kug?e=sxmErY)\n",
    "- [**会计22-2**: https://xdsisueducn-my.sharepoint.com/:f:/g/personal/2111003_xdsisu_edu_cn/Eoty3HlyYgBGqQiYZjccOMABv0qkgea_JcRWHb543rX5FQ?e=75fdoi](https://xdsisueducn-my.sharepoint.com/:f:/g/personal/2111003_xdsisu_edu_cn/Eoty3HlyYgBGqQiYZjccOMABv0qkgea_JcRWHb543rX5FQ?e=75fdoi)\n",
    "- [**会计22-3**: https://xdsisueducn-my.sharepoint.com/:f:/g/personal/2111003_xdsisu_edu_cn/Eqyb8hPchlFFgBvJpnmjrikB0iDx_4D-NFqp9zCNENKj3w?e=BY3UPm](https://xdsisueducn-my.sharepoint.com/:f:/g/personal/2111003_xdsisu_edu_cn/Eqyb8hPchlFFgBvJpnmjrikB0iDx_4D-NFqp9zCNENKj3w?e=BY3UPm)\n",
    "- [**会计22-4**: https://xdsisueducn-my.sharepoint.com/:f:/g/personal/2111003_xdsisu_edu_cn/Eidfy0916lNMronkNOJhHd0BpocxetZeJpZL7tNJAbsX6A?e=Th7apD](https://xdsisueducn-my.sharepoint.com/:f:/g/personal/2111003_xdsisu_edu_cn/Eidfy0916lNMronkNOJhHd0BpocxetZeJpZL7tNJAbsX6A?e=Th7apD)\n",
    "- [**会计22-5**: https://xdsisueducn-my.sharepoint.com/:f:/g/personal/2111003_xdsisu_edu_cn/EorZuIvgi2JBmQpKtRxYZoMBVpgXGUnwdvy0TBWocIdMkA?e=Mlpfbq](https://xdsisueducn-my.sharepoint.com/:f:/g/personal/2111003_xdsisu_edu_cn/EorZuIvgi2JBmQpKtRxYZoMBVpgXGUnwdvy0TBWocIdMkA?e=Mlpfbq)\n",
    "- [**金融22-3**: https://xdsisueducn-my.sharepoint.com/:f:/g/personal/2111003_xdsisu_edu_cn/Er4HQYisXl9HtYqJ9KeuljgBLL0hqAOAE3UQScDKchMyfw?e=jgizZ1](https://xdsisueducn-my.sharepoint.com/:f:/g/personal/2111003_xdsisu_edu_cn/Er4HQYisXl9HtYqJ9KeuljgBLL0hqAOAE3UQScDKchMyfw?e=jgizZ1)\n",
    "- [**金融22-4**: https://xdsisueducn-my.sharepoint.com/:f:/g/personal/2111003_xdsisu_edu_cn/EjK2Eq0GM_JHmKyRKi0z8yEByf7TV-MqjF4IBiK5YfhxIg?e=MHWano](https://xdsisueducn-my.sharepoint.com/:f:/g/personal/2111003_xdsisu_edu_cn/EjK2Eq0GM_JHmKyRKi0z8yEByf7TV-MqjF4IBiK5YfhxIg?e=MHWano)"
   ]
  },
  {
   "cell_type": "markdown",
   "id": "ded132c8-3a19-4f85-9b35-caef27564eb8",
   "metadata": {},
   "source": [
    "## 90分钟：下课"
   ]
  }
 ],
 "metadata": {
  "kernelspec": {
   "display_name": "Python 3 (ipykernel)",
   "language": "python",
   "name": "python3"
  },
  "language_info": {
   "codemirror_mode": {
    "name": "ipython",
    "version": 3
   },
   "file_extension": ".py",
   "mimetype": "text/x-python",
   "name": "python",
   "nbconvert_exporter": "python",
   "pygments_lexer": "ipython3",
   "version": "3.11.7"
  }
 },
 "nbformat": 4,
 "nbformat_minor": 5
}
