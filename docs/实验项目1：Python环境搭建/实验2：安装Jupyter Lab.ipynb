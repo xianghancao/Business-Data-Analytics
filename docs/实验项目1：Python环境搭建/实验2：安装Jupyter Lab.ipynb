{
 "cells": [
  {
   "cell_type": "markdown",
   "id": "15d46dd6-ddb8-4d29-8f31-fded237a34b4",
   "metadata": {},
   "source": [
    "# 实验2：安装Jupyter Lab"
   ]
  },
  {
   "cell_type": "markdown",
   "id": "7e2e07a7-bb1f-4f62-9ba2-587a03259942",
   "metadata": {},
   "source": [
    "[Jupyter](https://jupyter.org/)是一个开源的交互式计算环境。它的名字来源于三种编程语言的缩写：Julia、Python和R。Jupyter提供了一个Web界面，用户可以在浏览器中编写、运行和共享代码。它的核心是Notebook，一个交互式文档，可以包含代码、文本、数学公式、图表等元素，使得代码的编写、运行和可视化结果可以在同一个环境中完成。Jupyter的灵活性和易用性使得它成为数据科学、机器学习和科学计算领域中广泛使用的工具。\n",
    "\n",
    "<img src='images/labpreview.png' alt='labpreview' width=400>\n",
    "\n",
    "\n",
    "\n",
    "JupyterLab是Jupyter项目的下一代界面，提供了一个灵活的工作区，可以在同一个界面中编辑代码、运行代码、查看结果、编写文档、可视化数据等。"
   ]
  },
  {
   "cell_type": "markdown",
   "id": "e2facee4-ab92-4078-8d32-f89fd90483d0",
   "metadata": {},
   "source": [
    "## 1. 进入命令行环境\n"
   ]
  },
  {
   "cell_type": "markdown",
   "id": "add6c575-f2b8-40f6-9e05-052b2e3d9391",
   "metadata": {},
   "source": [
    "### 1.1 Windows用户\n",
    "在系统菜单里找到并启动Anaconda PowerShell或者Anaconda PowerShell Prompt应用，打开\n",
    "\n",
    "\n",
    "<img src='images/anaconda_powershell2.png' alt='anaconda_powershell' width=400>\n"
   ]
  },
  {
   "cell_type": "markdown",
   "id": "dc0e94f0-1ad8-4fcb-9129-047bb03544bf",
   "metadata": {},
   "source": [
    "### 1.2 macOS用户"
   ]
  },
  {
   "cell_type": "markdown",
   "id": "c37bfe65-3fcb-472b-bca8-c4b9d55d0814",
   "metadata": {},
   "source": [
    "如果你是macOS用户，找到并启动Terminal终端应用\n",
    "\n",
    "![Terminal](images/Terminal.png)\n"
   ]
  },
  {
   "cell_type": "markdown",
   "id": "fcb01fc0-bb81-47e0-b615-54d8cc2d00c5",
   "metadata": {},
   "source": [
    "## 2. 安装jupyterlab"
   ]
  },
  {
   "cell_type": "markdown",
   "id": "9ca87ff7-4635-45a9-bdb0-5f4a95c2da8d",
   "metadata": {},
   "source": [
    "在以上的命令行环境下，输入以下命令来安装jupyterlab：\n",
    "```shell\n",
    "conda install jupyterlab -y\n",
    "```\n",
    "\n",
    "如果提示是否继续(Y/N)，可以按回车键继续。"
   ]
  },
  {
   "cell_type": "markdown",
   "id": "280b9834-28ce-40e4-b8f7-9b771205c413",
   "metadata": {},
   "source": [
    "如果上述命令执行后，网速比较慢，可以使用替代方法："
   ]
  },
  {
   "cell_type": "markdown",
   "id": "a71891a5-22f7-4fe8-9e40-abf22f24c776",
   "metadata": {},
   "source": [
    "```python\n",
    "pip config set global.index-url https://pypi.tuna.tsinghua.edu.cn/simple\n",
    "pip install jupyterlab\n",
    "```"
   ]
  },
  {
   "cell_type": "markdown",
   "id": "dfb48859-e755-4075-98c2-b14c861691d5",
   "metadata": {},
   "source": [
    "然后，在以上的命令行环境下，输入以下命令来安装**jupyterlab环境的中文包**：\n",
    "\n",
    "```bash\n",
    "pip install jupyterlab-language-pack-zh-CN\n",
    "```"
   ]
  },
  {
   "cell_type": "markdown",
   "id": "95ed33c0-0ffc-4c55-8165-0d742747e80b",
   "metadata": {},
   "source": [
    "## 3. 启动Jupyterlab"
   ]
  },
  {
   "cell_type": "markdown",
   "id": "e237cf5d-c165-4bb3-82a3-956dde443730",
   "metadata": {},
   "source": [
    "\n",
    "在以上命令行环境下，输入以下命令，并按回车键。\n",
    "\n",
    "```shell\n",
    "jupyter-lab\n",
    "```\n",
    "\n",
    "终端会跳转到浏览器的Jupyter编程环境。\n",
    "\n",
    "如果没有反应，用鼠标选中并复制终端上给出的三个链接或地址之一，将其粘贴到浏览器的地址栏里，按回车键，即可。"
   ]
  },
  {
   "cell_type": "markdown",
   "id": "0cc94f9b-0619-4299-8033-df9cf15ca464",
   "metadata": {},
   "source": [
    "## 4. 下载和安装Jupyterbab客户端"
   ]
  },
  {
   "cell_type": "markdown",
   "id": "e9ec5a13-ff2f-4fd7-ad5b-c1db0cfb0fbb",
   "metadata": {},
   "source": [
    "安装包可以在学习通资料区找到，以下链接为官方链接，下载速度较慢。"
   ]
  },
  {
   "cell_type": "markdown",
   "id": "a87e6997-3975-45dd-b3d1-2c667b8f2267",
   "metadata": {},
   "source": [
    "- windows用户：https://github.com/jupyterlab/jupyterlab-desktop/releases/latest/download/JupyterLab-Setup-Windows-x64.exe  \n",
    "\n",
    "- Mac用户（M芯片）： https://github.com/jupyterlab/jupyterlab-desktop/releases/latest/download/JupyterLab-Setup-macOS-arm64.dmg \n",
    "\n",
    "- Mac用户（Intel芯片）：https://github.com/jupyterlab/jupyterlab-desktop/releases/latest/download/JupyterLab-Setup-macOS-x64.dmg"
   ]
  },
  {
   "cell_type": "markdown",
   "id": "b095b9ab-6b09-4ff8-a20c-6c4532b016c1",
   "metadata": {},
   "source": [
    "接下来配置python环境，由老师教授"
   ]
  },
  {
   "cell_type": "markdown",
   "id": "6d216f6c-3c07-41cd-8052-92e305690cb1",
   "metadata": {},
   "source": [
    "## 5. 在线版Jupyterlab\n",
    "如果安装以上出现问题，仍然无法解决，可以使用在线版的jupyterlab，链接如下：\n",
    "https://learning.anaconda.cloud\n",
    "\n",
    "1. 注册 anaconda 账户\n",
    "2. 登陆 anaconda \n",
    "3. 启动 notebook"
   ]
  }
 ],
 "metadata": {
  "kernelspec": {
   "display_name": "Python 3 (ipykernel)",
   "language": "python",
   "name": "python3"
  },
  "language_info": {
   "codemirror_mode": {
    "name": "ipython",
    "version": 3
   },
   "file_extension": ".py",
   "mimetype": "text/x-python",
   "name": "python",
   "nbconvert_exporter": "python",
   "pygments_lexer": "ipython3",
   "version": "3.12.5"
  }
 },
 "nbformat": 4,
 "nbformat_minor": 5
}
