{
 "cells": [
  {
   "cell_type": "markdown",
   "id": "fb2792b2-03f2-4727-bacb-a886e02dae3d",
   "metadata": {},
   "source": [
    "# 实验项目1：Python环境搭建"
   ]
  },
  {
   "cell_type": "markdown",
   "id": "47600a6d-c16f-4805-8df1-b782a13b9aaa",
   "metadata": {},
   "source": [
    "## Contents\n",
    "\n",
    "```{tableofcontents}\n",
    "```"
   ]
  }
 ],
 "metadata": {
  "kernelspec": {
   "display_name": "Python 3 (ipykernel)",
   "language": "python",
   "name": "python3"
  },
  "language_info": {
   "codemirror_mode": {
    "name": "ipython",
    "version": 3
   },
   "file_extension": ".py",
   "mimetype": "text/x-python",
   "name": "python",
   "nbconvert_exporter": "python",
   "pygments_lexer": "ipython3",
   "version": "3.9.17"
  }
 },
 "nbformat": 4,
 "nbformat_minor": 5
}
