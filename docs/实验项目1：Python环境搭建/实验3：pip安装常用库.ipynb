{
 "cells": [
  {
   "cell_type": "markdown",
   "id": "4e65cc37-2639-4c55-a605-c860a3e6565f",
   "metadata": {},
   "source": [
    "# 实验3：安装常用库\n",
    "在Python中，pip是一个用于管理和安装第三方包的包管理工具。它是[Python Package Index（PyPI）](https://pypi.org/)的默认包管理器。\n",
    "\n",
    "使用pip，您可以轻松地搜索、安装、升级和卸载Python包。\n",
    "\n",
    "以下是一些常用的pip命令示例，在shell命令行环境下，输入\n"
   ]
  },
  {
   "cell_type": "markdown",
   "id": "9343212a-7f25-4e8e-b592-3518932fd1fa",
   "metadata": {},
   "source": [
    "## 1. 安装包：\n",
    "```shell\n",
    "pip install package_name\n",
    "```\n",
    "   该命令会从PyPI下载并安装指定的包。\n",
    "\n",
    "如果网速比较慢，可以打断以上命令，使用`ctrl+c`。然后指定pypi镜像地址：`https://mirrors.aliyun.com/pypi/simple`，输入命令如下：\n",
    "```bash\n",
    "pip install package_name -i 镜像地址\n",
    "```\n",
    "镜像地址可选：\n",
    "- 阿里云 https://mirrors.aliyun.com/pypi/simple/\n",
    "- 中国科技大学 https://pypi.mirrors.ustc.edu.cn/simple/\n",
    "- 豆瓣(douban) https://pypi.douban.com/simple/\n",
    "- 清华大学 https://pypi.tuna.tsinghua.edu.cn/simple/\n",
    "- 中国科学技术大学 https://pypi.mirrors.ustc.edu.cn/simple/\n",
    "\n",
    "可以把某个源设为默认，例如把清华源设为默认：\n",
    "```bash\n",
    "pip config set global.index-url https://pypi.tuna.tsinghua.edu.cn/simple\n",
    "```\n"
   ]
  },
  {
   "cell_type": "markdown",
   "id": "b98055f7-5955-480f-98f7-7023d05e2e7b",
   "metadata": {},
   "source": [
    "### 实验内容\n",
    "使用pip安装numpy、pandas、matplotlib第三方python数据分析包"
   ]
  },
  {
   "cell_type": "markdown",
   "id": "aea4c113-00bc-406e-b3e2-946d6a153ac1",
   "metadata": {},
   "source": [
    "## 2. 升级包：\n",
    "```shell\n",
    "pip install --upgrade package_name\n",
    "```\n",
    "\n",
    "   该命令会升级已安装的包到最新版本。\n"
   ]
  },
  {
   "cell_type": "markdown",
   "id": "663a86b8-e591-4256-880d-aad3751969d0",
   "metadata": {},
   "source": [
    "## 3. 卸载包：\n",
    "```shell\n",
    "pip uninstall package_name\n",
    "```\n",
    "\n",
    "   该命令会卸载指定的包。\n",
    "\n"
   ]
  },
  {
   "cell_type": "markdown",
   "id": "b7dfd141-1750-464b-93a1-c44c2fa4f716",
   "metadata": {},
   "source": [
    "## 4. 列出已安装的包：\n",
    "```\n",
    "pip list\n",
    "```\n",
    "\n",
    "   该命令会列出当前环境中已安装的所有包。\n",
    "\n",
    "pip还支持其他一些命令和选项，您可以使用`pip --help`命令或查阅pip的文档来获取更多信息。\n",
    "\n",
    "需要注意的是，pip默认安装包到Python的全局环境中，如果你想安装到本用户下，在命令中追加使用'-u'参数。如果您使用虚拟环境（virtual environment），您可以在虚拟环境中使用pip来管理包，以避免与全局环境中的包冲突。"
   ]
  },
  {
   "cell_type": "markdown",
   "id": "f224c055-4ef5-4f4c-92c9-adfe49f0ccde",
   "metadata": {
    "tags": []
   },
   "source": [
    "## 5. 安装jupyterlab中文包\n",
    "在'Terminal'的命令行界面里，输入命令\n",
    "```bash\n",
    "pip install jupyterlab-language-pack-zh-CN\n",
    "```"
   ]
  },
  {
   "cell_type": "markdown",
   "id": "d75c9059-c06a-4767-b5a7-b1c9b859ac05",
   "metadata": {
    "tags": []
   },
   "source": [
    "点击settings，点击language，选择中文简体\n",
    "\n",
    "![jupyterlab-zh-cn3](images/jupyterlab-zh-cn3.png)"
   ]
  },
  {
   "cell_type": "markdown",
   "id": "29072700-dfac-4804-86db-36a35af630a9",
   "metadata": {},
   "source": [
    "然后，页面提示，点击change and reload\n",
    "\n",
    "\n",
    "<img src='images/jupyterlab-zh-cn2.png' alt='jupyterlab-zh-cn2' width=400>\n"
   ]
  },
  {
   "cell_type": "markdown",
   "id": "ec20c045-1d6b-4970-a746-f0b695b67618",
   "metadata": {},
   "source": [
    "观察，页面是否发生了变化？"
   ]
  }
 ],
 "metadata": {
  "kernelspec": {
   "display_name": "Python 3 (ipykernel)",
   "language": "python",
   "name": "python3"
  },
  "language_info": {
   "codemirror_mode": {
    "name": "ipython",
    "version": 3
   },
   "file_extension": ".py",
   "mimetype": "text/x-python",
   "name": "python",
   "nbconvert_exporter": "python",
   "pygments_lexer": "ipython3",
   "version": "3.9.17"
  }
 },
 "nbformat": 4,
 "nbformat_minor": 5
}
