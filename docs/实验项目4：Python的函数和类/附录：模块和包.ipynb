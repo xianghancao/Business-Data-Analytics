{
 "cells": [
  {
   "cell_type": "markdown",
   "id": "79781a61-c630-46d5-b996-817802e90c39",
   "metadata": {},
   "source": [
    "# 附录：模块和包"
   ]
  },
  {
   "cell_type": "markdown",
   "id": "c6559996-987e-467a-addb-9e8db97c4ceb",
   "metadata": {},
   "source": [
    "## 一、模块"
   ]
  },
  {
   "cell_type": "markdown",
   "id": "d43ddaf1-ab4b-4d17-b556-2e8634b213ad",
   "metadata": {},
   "source": [
    "在Python中，模块(module)是指一个包含了 Python 代码的文件。模块可以包含函数、变量和类等定义，以及可执行的代码。\n",
    "\n",
    "模块的主要目的是将相关的代码组织在一起，以便在需要时进行重复使用。通过将代码分解为模块，可以提高代码的可维护性、可读性和重用性。\n",
    "\n",
    "要创建一个模块，只需创建一个以.py为扩展名的Python脚本文件，并在其中编写相应的代码。"
   ]
  },
  {
   "cell_type": "markdown",
   "id": "70d88ec7-5bd6-4280-83a5-fff644f174d9",
   "metadata": {},
   "source": [
    "### 1.1 import 模块名\n",
    "当您使用import语句加载模块时，可以直接指定模块的名称，例如：\n",
    "\n",
    "```python\n",
    "import module_name\n",
    "```\n",
    "这将加载名为module_name的模块，并使其在当前代码中可用。您可以使用模块中定义的函数、变量和类等。"
   ]
  },
  {
   "cell_type": "markdown",
   "id": "fb136d11-fcb4-4cb4-845b-f02884f7124e",
   "metadata": {},
   "source": [
    "我们以datetime模块为例，datetime模块，提供当日的日期，试运行以下代码：\n"
   ]
  },
  {
   "cell_type": "code",
   "execution_count": 4,
   "id": "41bfe8ce-d1c1-4cb9-abe4-e341f27d3efd",
   "metadata": {
    "tags": []
   },
   "outputs": [],
   "source": [
    "import datetime"
   ]
  },
  {
   "cell_type": "code",
   "execution_count": 5,
   "id": "80552e72-fa94-4b31-b01b-323becdc738c",
   "metadata": {
    "tags": []
   },
   "outputs": [
    {
     "name": "stdout",
     "output_type": "stream",
     "text": [
      "2023-09-17 18:21:48.763584\n"
     ]
    }
   ],
   "source": [
    "now = datetime.datetime.today()\n",
    "print(now)"
   ]
  },
  {
   "cell_type": "markdown",
   "id": "f2ab6683-8ade-4323-9fed-86e5a6f4302e",
   "metadata": {},
   "source": [
    "### 1.2 from 模块名 import 函数名"
   ]
  },
  {
   "cell_type": "markdown",
   "id": "76be154b-4ae3-41bc-ba6a-e1ac647655af",
   "metadata": {},
   "source": [
    "\n",
    "此外，还可以使用from关键字结合import语句来选择性地加载模块或包中的特定内容。例如：\n",
    "\n",
    "```python\n",
    "from module_name import function_name\n",
    "```\n",
    "这将从module_name模块中加载function_name函数，并使其在当前代码中可用。\n",
    "\n",
    "例如，"
   ]
  },
  {
   "cell_type": "code",
   "execution_count": 6,
   "id": "e2942230-5a52-44f3-a88f-76b744961dbb",
   "metadata": {
    "tags": []
   },
   "outputs": [
    {
     "data": {
      "text/plain": [
       "1.4142135623730951"
      ]
     },
     "execution_count": 6,
     "metadata": {},
     "output_type": "execute_result"
    }
   ],
   "source": [
    "from math import sqrt\n",
    "sqrt(2)"
   ]
  },
  {
   "cell_type": "markdown",
   "id": "e0cf5dbd-b527-43c1-abb0-8bddef441229",
   "metadata": {},
   "source": [
    "### 练习\n",
    "1. 在当前目录下，点击右上方蓝色➕号，新建一个Python文件\n",
    "2. 在文件中放入上一练习的函数compare(x, y)，保存文件名称为my_func.py\n",
    "3. 在下方空格处，导入该文件中的compare函数\n",
    "4. 调用compare函数，比较2的3次方和3的2次方的大小。"
   ]
  },
  {
   "cell_type": "code",
   "execution_count": null,
   "id": "cad486a2-52b5-4ec1-b502-fe0837bcb94c",
   "metadata": {},
   "outputs": [],
   "source": [
    "\n",
    "\n"
   ]
  },
  {
   "cell_type": "markdown",
   "id": "6b3e5c19-69ed-40be-8116-c92f14447340",
   "metadata": {},
   "source": [
    "## 二、包\n"
   ]
  },
  {
   "cell_type": "markdown",
   "id": "ef3561ac-c002-4152-a53e-15112dee57af",
   "metadata": {},
   "source": [
    "### 2.1 包的概念\n",
    "**Package（包）**是一个包含多个模块的目录。包用于组织和管理相关的模块，可以形成层次结构。包目录中通常包含一个特殊的__init__.py文件，用于标识该目录为一个包。\n",
    "\n",
    "例如，您可以创建一个名为my_package的包，其中包含多个模块文件:\n",
    "\n",
    "```bash\n",
    "my_package/\n",
    "    __init__.py\n",
    "    module1.py\n",
    "    module2.py\n",
    "```"
   ]
  },
  {
   "cell_type": "markdown",
   "id": "c5170564-063e-4db8-820e-1f2c2df1510f",
   "metadata": {},
   "source": [
    "可以通过导入包和其中的模块来使用其中的功能：\n",
    "```python\n",
    "import my_package.module1\n",
    "import my_package.module2\n",
    "\n",
    "my_package.module1.function1()\n",
    "my_package.module2.function2()\n",
    "```\n",
    "Python中的import语句既可以用于加载模块（module），也可以用于加载包（package）。您也可以从包中加载特定的模块或其他内容。例如：\n",
    "```python\n",
    "from package_name import module1\n",
    "```\n",
    "这将从package_name包中加载module1模块，并使其在当前代码中可用。"
   ]
  },
  {
   "cell_type": "markdown",
   "id": "d66bbd28-2d56-49fd-9e93-4957a24736dd",
   "metadata": {},
   "source": [
    "### 2.2 包的结构"
   ]
  },
  {
   "cell_type": "markdown",
   "id": "3f7f936e-3adf-4de6-bbb8-580cba332d7f",
   "metadata": {},
   "source": [
    "\n",
    "以下图为例子，这是一个和游戏相关的程序，它的文件结构如下：\n",
    "\n",
    "![package](images/package.png)\n",
    "\n",
    "这里Game文件夹叫包（Package），Sound、Image和Level这三个文件夹叫子包(Sub-package)。它们各自包含自己的`.py`文件，这些文件叫模块。\n",
    "\n",
    "从这里我们可以看到，包是一个有层次的文件目录结构，它定义了由n个模块或n个子包组成的python应用程序执行环境。通俗一点：包是一个包含__init__.py 文件的目录，该目录下一定得有这个__init__.py文件和其它模块或子包。\n",
    "\n",
    "注意，每一个包中的`__init__.py`文件是必须存在的，否则，Python就会把这个目录当成普通目录(文件夹)，而不是一个包。`__init__.py`可以是空文件，也可以有Python代码，因为`__init__.py`本身就是一个模块，而它的模块名就是对应包的名字。\n",
    "\n",
    "\n"
   ]
  },
  {
   "cell_type": "markdown",
   "id": "e3368942-50ea-45eb-83e5-a2cfcc95958a",
   "metadata": {},
   "source": [
    "### 2.3 Python的标准库"
   ]
  },
  {
   "cell_type": "markdown",
   "id": "1defa567-7bbc-4bfa-a1c2-785a3485d781",
   "metadata": {},
   "source": [
    "Python的标准库是一组预先安装在Python解释器中的模块和包，它们提供了广泛的功能和工具，可用于各种常见的任务和应用程序开发。\n",
    "\n",
    "Python的标准库既包含模块，也包含包。标准库中的一些功能是通过单个模块提供的，例如`math`模块用于数学计算，`random`模块用于生成随机数，`datetime`模块用于处理日期和时间等。您可以使用`import`语句来加载这些模块，并在您的代码中使用它们提供的功能。\n",
    "\n",
    "另一方面，标准库中的一些功能是通过包的形式组织的。包是一个包含多个模块的目录，通常还包括一个特殊的__init__.py文件来标识该目录为一个包。这些包提供了一组相关的模块，用于解决特定的问题或提供特定的功能。例如，`os`包提供了与操作系统交互的功能，`re`包提供了正则表达式操作的功能。您可以使用`import`语句加载这些包，并使用包中的模块和功能。\n"
   ]
  },
  {
   "cell_type": "markdown",
   "id": "d50a5989-046e-479f-ab07-a1b63dbbcfd2",
   "metadata": {},
   "source": [
    "这里只列举了部分，更多请见官方文档: [链接](https://docs.python.org/zh-cn/3/library/index.html#library-index)\n",
    "\n",
    "| 模块或包                                                         | 功能                                                   |\n",
    "| ------------------------------------------------------------ | ------------------------------------------------------ |\n",
    "| [`os`](https://docs.python.org/zh-cn/3/library/os.html#module-os) | 提供了许多与操作系统交互的函数                         |\n",
    "| [`datetime`](https://docs.python.org/zh-cn/3/library/datetime.html#module-datetime) | 模块提供了以简单和复杂的方式操作日期和时间的类         |\n",
    "| [`re`](https://docs.python.org/zh-cn/3/library/re.html#module-re) | 为高级字符串处理提供正则表达式工具                     |\n",
    "| [`random`](https://docs.python.org/zh-cn/3/library/random.html#module-random) | 模块提供了进行随机选择的工具                           |\n",
    "| [`doctest`](https://docs.python.org/zh-cn/3/library/doctest.html#module-doctest) | 用于扫描模块并验证程序文档字符串中嵌入的测试           |\n",
    "\n"
   ]
  },
  {
   "cell_type": "markdown",
   "id": "e518e302-c03a-4373-99d3-6d6f46cf1f4b",
   "metadata": {},
   "source": [
    "### 2.4 Python的第三方包"
   ]
  },
  {
   "cell_type": "markdown",
   "id": "b4425841-fd16-46ff-a387-a1c0cc5b56dc",
   "metadata": {},
   "source": [
    "Python的第三方包是由Python社区开发并提供的，不属于Python标准库的软件包。这些包通常由第三方开发者创建和维护，并提供了各种额外的功能和工具，可以扩展Python的能力。\n",
    "\n",
    "第三方包可以用于各种用途，例如数据处理、网络通信、Web开发、科学计算、机器学习、图像处理等。它们提供了高级功能和库，使开发人员能够更快速、更高效地开发应用程序。\n",
    "\n",
    "Python的第三方包可以通过包管理工具（如pip）进行安装。安装这些包后，您可以在自己的Python项目中使用它们。常见的第三方包有：\n",
    "\n",
    "| Python的第三方包   | 功能     |\n",
    "| --- | --- |\n",
    "| `Numpy` | 提供了数组、矩阵和数值计算功能    |\n",
    "| `Pandas` | 提供了强大、便捷的数据分析工具    |\n",
    "|`Matplotlib`|用于绘制图表和可视化数据的库 |\n",
    "| `Scipy` | 提供了科学计算、统计等相关工具     |\n",
    "|`Statsmodels` |提供了多元回归和分析的工具|\n",
    "|`Requests`|用于发送HTTP请求的库   |\n",
    "|`Django`|用于构建Web应用程序的高级框架    |\n",
    "|`Flask`|用于构建轻量级Web应用程序的框架    |\n",
    "|`TensorFlow`|用于机器学习和深度学习的库    |\n",
    "|`Scikit-learn`|提供了各种机器学习算法和工具    |\n",
    "|`BeautifulSoup`|用于解析和提取HTML/XML数据的库    |\n",
    "\n",
    "这只是一小部分常见的第三方包示例，Python社区有数以千计的第三方包可供选择，覆盖了各种不同的领域和用途。\n",
    "\n",
    "通过使用第三方包，您可以利用Python生态系统中其他开发者的工作成果，加快开发速度，避免重复造轮子，并且能够更加便捷地实现复杂的功能。"
   ]
  }
 ],
 "metadata": {
  "kernelspec": {
   "display_name": "Python 3 (ipykernel)",
   "language": "python",
   "name": "python3"
  },
  "language_info": {
   "codemirror_mode": {
    "name": "ipython",
    "version": 3
   },
   "file_extension": ".py",
   "mimetype": "text/x-python",
   "name": "python",
   "nbconvert_exporter": "python",
   "pygments_lexer": "ipython3",
   "version": "3.9.17"
  }
 },
 "nbformat": 4,
 "nbformat_minor": 5
}
