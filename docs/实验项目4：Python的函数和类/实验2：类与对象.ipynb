{
 "cells": [
  {
   "cell_type": "markdown",
   "id": "a94cf427-ee64-4631-a2c2-5909a9f0dde9",
   "metadata": {},
   "source": [
    "# 实验2: 类与对象\n",
    "在Python中，类（Class）是一种用于封装数据和行为的结构。通过使用类，可以创建自定义的数据类型，并对其进行实例化，从而实现面向对象编程（OOP）的思想。以下是Python类设计的基本概念和方法。"
   ]
  },
  {
   "cell_type": "markdown",
   "id": "b1bda01c-17c4-47cc-bd2a-a77ca8471502",
   "metadata": {},
   "source": [
    "\n",
    "- 类（Class） 是用于定义对象属性和行为的蓝图或模板。类本身不包含实际的数据，而是用于创建对象的模型。\n",
    "- 对象（Object） 是类的实例，它包含类中定义的属性（变量）和行为（方法）。\n",
    "\n",
    "例如，可以将类比作建筑物的设计图，而对象则是根据设计图建造出来的具体建筑物。"
   ]
  },
  {
   "cell_type": "markdown",
   "id": "e184acc0-a537-4b6d-a782-29cd9e7a8580",
   "metadata": {},
   "source": [
    "在Python中，可以使用 `class` 关键字定义一个类。以下是一个类的基本结构：\n"
   ]
  },
  {
   "cell_type": "code",
   "execution_count": 16,
   "id": "14c8ff6d-2be8-4451-96db-90dd68c5c93b",
   "metadata": {
    "tags": []
   },
   "outputs": [],
   "source": [
    "class ClassName():\n",
    "    def __init__(self, x):         # 初始化方法（构造函数）\n",
    "        self.x = x                 # 实例属性\n",
    "        \n",
    "    def display_x(self):           # 类的方法\n",
    "        print(f\"{self.x}\")"
   ]
  },
  {
   "cell_type": "markdown",
   "id": "c7e53a6a-999f-4c5d-a4d7-c6b54aa414e6",
   "metadata": {},
   "source": [
    "\n",
    "`__init__` 是类的构造函数，用于在创建类实例时初始化实例的属性。它类似于其他编程语言中的构造函数。`__init__` 函数可以接受多个参数，用于初始化对象的状态。\n"
   ]
  },
  {
   "cell_type": "markdown",
   "id": "f9bf85f2-d68c-46d8-9079-26fea93219dd",
   "metadata": {},
   "source": [
    "请注意，特殊方法“__init__”前后分别有两个下划线！！！"
   ]
  },
  {
   "cell_type": "markdown",
   "id": "54572241-594d-4169-8bad-c71ae399c973",
   "metadata": {},
   "source": [
    "\n",
    "可以通过类名调用来创建一个对象（类的实例），语法如下：\n",
    "\n"
   ]
  },
  {
   "cell_type": "code",
   "execution_count": 19,
   "id": "db56352b-cc9c-4a1f-be3c-d12955d13ac9",
   "metadata": {
    "tags": []
   },
   "outputs": [],
   "source": [
    "obj = ClassName(\"今天天气很不错～\")        # 创建类的实例"
   ]
  },
  {
   "cell_type": "code",
   "execution_count": 20,
   "id": "15a844c5-bb11-491f-b859-e76b69dd0144",
   "metadata": {
    "tags": []
   },
   "outputs": [
    {
     "name": "stdout",
     "output_type": "stream",
     "text": [
      "今天天气很不错～\n"
     ]
    }
   ],
   "source": [
    "obj.display_x()            # 调用对象的方法"
   ]
  },
  {
   "cell_type": "markdown",
   "id": "d322cc1f-46ac-4164-b3c2-ba4104009071",
   "metadata": {},
   "source": [
    "### 例子\n",
    "接下来我们看一个具体的例子，"
   ]
  },
  {
   "cell_type": "code",
   "execution_count": 14,
   "id": "97ef9d52-5c29-40b0-b124-720a9807c327",
   "metadata": {
    "tags": []
   },
   "outputs": [],
   "source": [
    "class Person:\n",
    "    def __init__(self, name, age):\n",
    "        self.name = name\n",
    "        self.age = age\n",
    "    \n",
    "    def print_basic_info(self):\n",
    "        print('name:', self.name)\n",
    "        print('age:', self.age)"
   ]
  },
  {
   "cell_type": "code",
   "execution_count": 15,
   "id": "41c4ec59-2dad-43e0-a2a1-c939bd1d62c1",
   "metadata": {
    "tags": []
   },
   "outputs": [
    {
     "name": "stdout",
     "output_type": "stream",
     "text": [
      "name: Alice\n",
      "age: 30\n"
     ]
    }
   ],
   "source": [
    "# 创建对象时，自动调用 __init__ 方法\n",
    "person = Person(\"Alice\", 30)\n",
    "person.print_basic_info()"
   ]
  },
  {
   "cell_type": "markdown",
   "id": "1cb0a1da-04c4-4283-9ff3-b9f14bb208f2",
   "metadata": {},
   "source": [
    "### 实验2.1：创建一个类\n",
    "举个例子，很多刚大学毕业的学生撰写自己人生的第一份简历的时候，都无从下手。一般的方法是去网站上下载一份“简历模版”，然后在模块空白处填上自己的信息，包括基本信息、毕业院校、工作经验、荣誉奖励等等。模版相当于面向对象编程里的类，填写完个人信息的个人简历，相当于实例。\n",
    "\n",
    "个人简历是根据模版创建出来的一个具体的“对象”，凡是使用同一个模版的个人简历，都包含同样的结构，但是信息不同）。就像下图，Jack、Rose、Micheal和Steve这4个同学都用了同一个简历模版，只是每个人的个人信息、工作经验、荣誉、兴趣爱好不同。类和实例的关系，也是这样，不同的实例只是它包含的数据不同。\n"
   ]
  },
  {
   "cell_type": "markdown",
   "id": "661c317e-957e-4faa-981e-1a5b304adfd5",
   "metadata": {},
   "source": [
    "\n",
    "![cvs](images/cvs.png)\n",
    "\n",
    "\n"
   ]
  },
  {
   "cell_type": "markdown",
   "id": "d871cb22-1ea3-426e-978f-17203f3679e9",
   "metadata": {},
   "source": [
    "\n",
    "我们创建一个类，名字为CV，它完成个人简历的录入、修改和打印功能。\n",
    "\n",
    "它包含以下属性：\n",
    "\n",
    "- 名字，字符串\n",
    "- 性别，字符串\n",
    "- 年龄，整形\n",
    "- 联系方式，字符串\n",
    "- 毕业院校，字典，例如，{\"开始日期:结束日期\": \"学校名称，专业, 学位\"}\n",
    "- 技能证书，列表\n",
    "\n",
    "它包含以下方法：\n",
    "\n",
    "- 打印个人基本信息 print_basic_info()\n",
    "- 打印学业信息 print_university()\n",
    "- 打印技能证书 print_skills_certificates()\n",
    "\n",
    "以上变量名称建议使用英文单词代替。\n",
    "\n",
    "最后创建一个简历类的实例叫fengkai，并录入一些信息，并打印他的基本信息，学业信息，技能证书\n",
    "\n"
   ]
  },
  {
   "cell_type": "markdown",
   "id": "1d7b0c95-a4c5-4ede-880a-34f10e44e91e",
   "metadata": {},
   "source": [
    "<img src='images/template.jpg' alt='template' width=400>"
   ]
  },
  {
   "cell_type": "code",
   "execution_count": null,
   "id": "9f5c6989-770c-45ea-b3b6-ca3058cd5098",
   "metadata": {},
   "outputs": [],
   "source": [
    "\n",
    "\n",
    "\n",
    "\n",
    "\n",
    "\n"
   ]
  }
 ],
 "metadata": {
  "kernelspec": {
   "display_name": "Python 3 (ipykernel)",
   "language": "python",
   "name": "python3"
  },
  "language_info": {
   "codemirror_mode": {
    "name": "ipython",
    "version": 3
   },
   "file_extension": ".py",
   "mimetype": "text/x-python",
   "name": "python",
   "nbconvert_exporter": "python",
   "pygments_lexer": "ipython3",
   "version": "3.9.17"
  },
  "widgets": {
   "application/vnd.jupyter.widget-state+json": {
    "state": {},
    "version_major": 2,
    "version_minor": 0
   }
  }
 },
 "nbformat": 4,
 "nbformat_minor": 5
}
