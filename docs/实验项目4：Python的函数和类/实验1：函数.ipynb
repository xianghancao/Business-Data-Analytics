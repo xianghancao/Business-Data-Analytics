{
 "cells": [
  {
   "cell_type": "markdown",
   "id": "faf56f1f-dfc1-48a3-8d3d-4a86a0a92439",
   "metadata": {},
   "source": [
    "# 实验1：函数"
   ]
  },
  {
   "cell_type": "markdown",
   "id": "8c2155db-3e56-47cf-af2c-a88776dd1297",
   "metadata": {},
   "source": [
    "在Python语言中，函数是一段可重复使用的代码块，用于完成特定的功能。函数可以接受输入参数并返回结果。\n",
    "\n",
    "函数的主要优点是代码的可重用性和模块化。通过将代码封装在函数中，可以在程序中多次调用函数，避免重复编写相同的代码。函数还可以提高代码的可读性和维护性，因为它们将复杂的逻辑划分为较小的、可理解的部分。\n",
    "\n",
    "以下是一个简单的Python函数的示例："
   ]
  },
  {
   "cell_type": "code",
   "execution_count": 1,
   "id": "38550dfc-d4f4-4263-af4d-85297d59b175",
   "metadata": {
    "tags": []
   },
   "outputs": [
    {
     "name": "stdout",
     "output_type": "stream",
     "text": [
      "Hello, Alice!\n",
      "Hello, Bob!\n"
     ]
    }
   ],
   "source": [
    "def greet(name):\n",
    "    \"\"\"打招呼的函数\"\"\"\n",
    "    print(\"Hello, \" + name + \"!\")\n",
    "\n",
    "# 调用函数\n",
    "greet(\"Alice\")\n",
    "greet(\"Bob\")"
   ]
  },
  {
   "cell_type": "markdown",
   "id": "c31e1211-cd63-4661-a3e6-fc59ced6868b",
   "metadata": {},
   "source": [
    "在上面的示例中，greet函数接受一个参数name，并在函数体中打印出相应的问候语。通过调用函数并传递不同的参数，可以多次执行问候的操作。"
   ]
  },
  {
   "cell_type": "markdown",
   "id": "17d4b7d7-c565-4295-9a96-7bc4fe4a09f1",
   "metadata": {},
   "source": [
    "## （一）函数如何定义"
   ]
  },
  {
   "cell_type": "markdown",
   "id": "0a3fdff4-13ed-409a-8d4b-617931ec3668",
   "metadata": {},
   "source": [
    "在Python中，定义一个函数要使用`def`语句，依次写出函数名、括号、括号中的参数和冒号`:`，然后，在缩进块中编写函数体，函数的返回值用`return`语句返回。\n",
    "\n",
    "```python\n",
    "def 函数名(参数1, 参数2, 参数3等等):    # 注意冒号是语法必备元素\n",
    "    \"\"\"本函数的介绍\"\"\"            # 函数的注释\n",
    "    函数语句块                   # 缩进表明语句块内的所有语句都在本函数作用域下\n",
    "    或称函数体                   # 函数体中的代码可以是任意有效的Python代码，包括变量声明、条件语句、循环语句、函数调用等。\n",
    "    return 表达式               # 如果函数没有指定返回值，它将默认返回None\n",
    "```"
   ]
  },
  {
   "cell_type": "markdown",
   "id": "3d0d3857-f3d5-4b6a-a568-688fc0204b88",
   "metadata": {},
   "source": [
    "函数可以接受零个或多个参数。参数是函数定义中用于接受输入值的变量。在函数调用时，可以向函数传递实际的参数值。"
   ]
  },
  {
   "cell_type": "markdown",
   "id": "f4705dc8-f732-4702-9986-0c5410d39a29",
   "metadata": {},
   "source": [
    "我们以自定义一个求绝对值的`my_abs`函数为例：\n",
    "\n"
   ]
  },
  {
   "cell_type": "code",
   "execution_count": 2,
   "id": "6c48a335-ffe4-49c1-81f7-cc70c6a48956",
   "metadata": {
    "tags": []
   },
   "outputs": [],
   "source": [
    "def my_abs(x):\n",
    "    \"\"\"这是一个求绝对值的函数\"\"\"\n",
    "    if x >= 0:\n",
    "        return x\n",
    "    else:\n",
    "        return -x"
   ]
  },
  {
   "cell_type": "markdown",
   "id": "f947af0a-460a-4f48-9b98-a848e754cd96",
   "metadata": {},
   "source": [
    "### 实验1.1：设计一个比较大小的函数\n",
    "请设计一个比较大小的函数，compare(x, y)，使用return语句返回两者中较大的值。"
   ]
  },
  {
   "cell_type": "code",
   "execution_count": null,
   "id": "9a637f05-6ae9-41e1-9827-04866e81de4a",
   "metadata": {},
   "outputs": [],
   "source": [
    "\n",
    "\n",
    "\n",
    "\n"
   ]
  },
  {
   "cell_type": "markdown",
   "id": "5a699697-665d-4482-accc-cd04e18c9ce8",
   "metadata": {},
   "source": [
    "## （二）函数的调用"
   ]
  },
  {
   "cell_type": "markdown",
   "id": "b156fe2f-c6a0-443f-a97d-c6521e9d8320",
   "metadata": {},
   "source": [
    "现在我们调用它看看，给其传入一个负数，例如-99："
   ]
  },
  {
   "cell_type": "code",
   "execution_count": 3,
   "id": "5adb6569-7b67-40bc-98cb-f2062edcadbc",
   "metadata": {
    "tags": []
   },
   "outputs": [
    {
     "data": {
      "text/plain": [
       "99"
      ]
     },
     "execution_count": 3,
     "metadata": {},
     "output_type": "execute_result"
    }
   ],
   "source": [
    "my_abs(-99)"
   ]
  },
  {
   "cell_type": "markdown",
   "id": "7e785e86-455e-47fc-8948-9559d1144df8",
   "metadata": {},
   "source": [
    "### 实验1.2：调用比较大小的函数\n",
    "调用比较大小的函数，测试是否正确运行"
   ]
  },
  {
   "cell_type": "code",
   "execution_count": null,
   "id": "fc87024f-0f93-4a27-b12b-0da0ca7b3d93",
   "metadata": {},
   "outputs": [],
   "source": [
    "\n",
    "\n"
   ]
  },
  {
   "cell_type": "markdown",
   "id": "288c5b2a-3c9d-4b55-99b8-782b93d6ad18",
   "metadata": {},
   "source": [
    "### 实验1.3：设计计算方差的函数\n",
    "\n",
    "将上一个实验项目的计算方差的代码，改成函数的形式，然后调用并测试该函数\n",
    "\n",
    "$$\n",
    "\\sigma^2 = \\frac{(x_1-\\mu)^2+(x_2-\\mu)^2+\\dots+(x_3-\\mu)^2}{n}\n",
    "$$\n",
    "\n",
    "函数名为compute_variance，传入参数为列表类型的变量，返回值为方差"
   ]
  },
  {
   "cell_type": "code",
   "execution_count": null,
   "id": "1dfc0b9c-6027-4d36-9c10-bd3338f03197",
   "metadata": {},
   "outputs": [],
   "source": [
    "\n",
    "\n",
    "\n",
    "\n"
   ]
  }
 ],
 "metadata": {
  "kernelspec": {
   "display_name": "Python 3 (ipykernel)",
   "language": "python",
   "name": "python3"
  },
  "language_info": {
   "codemirror_mode": {
    "name": "ipython",
    "version": 3
   },
   "file_extension": ".py",
   "mimetype": "text/x-python",
   "name": "python",
   "nbconvert_exporter": "python",
   "pygments_lexer": "ipython3",
   "version": "3.9.17"
  }
 },
 "nbformat": 4,
 "nbformat_minor": 5
}
