{
 "cells": [
  {
   "cell_type": "markdown",
   "id": "db19401d-ac58-4725-aafc-130b905594e0",
   "metadata": {},
   "source": [
    "# 实验说明"
   ]
  },
  {
   "cell_type": "markdown",
   "id": "ca3b8b65-cec2-4c4d-a8a6-426ae819f7c0",
   "metadata": {},
   "source": [
    "实验项目：Python的函数和类  \n",
    "修读要求：必修  \n",
    "实验目的：  \n",
    "通过本实验项目，学生将：  \n",
    "- 理解函数的定义与调用，掌握参数传递和返回值处理。\n",
    "- 学习常用的内置函数和自定义函数。\n",
    "- 了解面向对象编程的基本概念。\n",
    "- 掌握类的定义与实例化，理解类的属性和方法。\n",
    "实验内容  \n",
    "1. 函数  \n",
    "   - 函数的定义与调用\n",
    "   - 参数传递\n",
    "   - 返回值处理\n",
    "   - 常用内置函数\n",
    "   - 自定义函数\n",
    "2. 类  \n",
    "   - 类的定义与实例化\n",
    "   - 类的属性\n",
    "   - 类的方法\n",
    "   - 继承与多态\n",
    "   - 综合练习\n",
    "学时分配：2学时  \n",
    "实验类型：综合性实验  \n",
    "主要设备（软件）：Anaconda、Jupyter Lab、Python 3.x  "
   ]
  },
  {
   "cell_type": "markdown",
   "id": "f006781d-cc92-45d8-a9da-22cbda53f6e4",
   "metadata": {},
   "source": [
    "实验要求：  \n",
    "项目实施前：\n",
    "- 教师需准备好相关的教学材料和实验手册。\n",
    "- 学生需提前复习Python的基本语法和数据类型。\n",
    "  \n",
    "项目实施中：\n",
    "- 教师需详细讲解条件判断和循环语句的用法，演示代码示例。\n",
    "- 学生需按照实验手册的步骤进行操作，独立完成每个实验任务。\n",
    "  \n",
    "项目实施后：\n",
    "- 学生需提交实验报告，包含代码、运行结果及分析。\n",
    "- 教师需批改实验报告，给出反馈意见。\n",
    "  \n",
    "注意事项：\n",
    "- 实验过程中需注意代码的规范性，注释清晰明了。\n",
    "- 在操作过程中，如遇到问题，及时与教师沟通解决。\n",
    "- 运行代码前，需检查代码逻辑和语法，避免运行时错误。\n",
    "- 遵守实验室纪律，爱护实验设备。"
   ]
  },
  {
   "cell_type": "markdown",
   "id": "7875d5a4-fb37-4f4f-a0cb-3ff143aefceb",
   "metadata": {},
   "source": []
  }
 ],
 "metadata": {
  "kernelspec": {
   "display_name": "Python 3 (ipykernel)",
   "language": "python",
   "name": "python3"
  },
  "language_info": {
   "codemirror_mode": {
    "name": "ipython",
    "version": 3
   },
   "file_extension": ".py",
   "mimetype": "text/x-python",
   "name": "python",
   "nbconvert_exporter": "python",
   "pygments_lexer": "ipython3",
   "version": "3.9.17"
  }
 },
 "nbformat": 4,
 "nbformat_minor": 5
}
