{
 "cells": [
  {
   "cell_type": "markdown",
   "id": "838e9016-61ae-49fa-8bdf-ae3b120b044f",
   "metadata": {},
   "source": [
    "# 实验流程"
   ]
  },
  {
   "cell_type": "markdown",
   "id": "d77ca2a8-ed59-41d0-8870-8d2ba2eb70bb",
   "metadata": {},
   "source": [
    "## 0 分钟 介绍本周实验"
   ]
  },
  {
   "cell_type": "markdown",
   "id": "c188b70f-2a0c-46d2-bb88-ed0729a825d8",
   "metadata": {},
   "source": [
    "## 5 分钟 实验1：函数"
   ]
  },
  {
   "cell_type": "markdown",
   "id": "b75d6182-4432-42f0-b1e9-779f7f7565fc",
   "metadata": {},
   "source": [
    "- 教师：介绍实验内容，展示示例\n",
    "- 学生：完成实验1.1，1.2"
   ]
  },
  {
   "cell_type": "markdown",
   "id": "4ab338e8-ef00-4e8b-a361-6c47b2b82fd2",
   "metadata": {},
   "source": [
    "## 40 分钟 实验2：类与对象"
   ]
  },
  {
   "cell_type": "markdown",
   "id": "0bc54eb0-ebc3-4ceb-80f1-e7f7704e2671",
   "metadata": {},
   "source": [
    "- 教师：介绍实验内容，展示示例\n",
    "- 学生：完成实验2.1，2.2，2.3，2.4"
   ]
  },
  {
   "cell_type": "markdown",
   "id": "c2998ff0-baec-432c-aa12-4f3216180c9f",
   "metadata": {},
   "source": [
    "## 80 分钟：提交本周实验报告"
   ]
  },
  {
   "cell_type": "markdown",
   "id": "30b2a4d3-f3dc-47c2-9da2-73c4f5993f86",
   "metadata": {},
   "source": [
    "- 2-3人/组提交一份实验报告\n",
    "- 将以上实验完成的结果放到如下链接中：\n",
    "- [**会计22-1**: https://xdsisueducn-my.sharepoint.com/:f:/g/personal/2111003_xdsisu_edu_cn/EvmVa-lZDRhKsy65lwnaTmQBZh2xKgDt8-3YfpdDWY-Kug?e=sxmErY](https://xdsisueducn-my.sharepoint.com/:f:/g/personal/2111003_xdsisu_edu_cn/EvmVa-lZDRhKsy65lwnaTmQBZh2xKgDt8-3YfpdDWY-Kug?e=sxmErY)\n",
    "- [**会计22-2**: https://xdsisueducn-my.sharepoint.com/:f:/g/personal/2111003_xdsisu_edu_cn/Eoty3HlyYgBGqQiYZjccOMABv0qkgea_JcRWHb543rX5FQ?e=75fdoi](https://xdsisueducn-my.sharepoint.com/:f:/g/personal/2111003_xdsisu_edu_cn/Eoty3HlyYgBGqQiYZjccOMABv0qkgea_JcRWHb543rX5FQ?e=75fdoi)\n",
    "- [**会计22-3**: https://xdsisueducn-my.sharepoint.com/:f:/g/personal/2111003_xdsisu_edu_cn/Eqyb8hPchlFFgBvJpnmjrikB0iDx_4D-NFqp9zCNENKj3w?e=BY3UPm](https://xdsisueducn-my.sharepoint.com/:f:/g/personal/2111003_xdsisu_edu_cn/Eqyb8hPchlFFgBvJpnmjrikB0iDx_4D-NFqp9zCNENKj3w?e=BY3UPm)\n",
    "- [**会计22-4**: https://xdsisueducn-my.sharepoint.com/:f:/g/personal/2111003_xdsisu_edu_cn/Eidfy0916lNMronkNOJhHd0BpocxetZeJpZL7tNJAbsX6A?e=Th7apD](https://xdsisueducn-my.sharepoint.com/:f:/g/personal/2111003_xdsisu_edu_cn/Eidfy0916lNMronkNOJhHd0BpocxetZeJpZL7tNJAbsX6A?e=Th7apD)\n",
    "- [**会计22-5**: https://xdsisueducn-my.sharepoint.com/:f:/g/personal/2111003_xdsisu_edu_cn/EorZuIvgi2JBmQpKtRxYZoMBVpgXGUnwdvy0TBWocIdMkA?e=Mlpfbq](https://xdsisueducn-my.sharepoint.com/:f:/g/personal/2111003_xdsisu_edu_cn/EorZuIvgi2JBmQpKtRxYZoMBVpgXGUnwdvy0TBWocIdMkA?e=Mlpfbq)\n",
    "- [**金融22-3**: https://xdsisueducn-my.sharepoint.com/:f:/g/personal/2111003_xdsisu_edu_cn/Er4HQYisXl9HtYqJ9KeuljgBLL0hqAOAE3UQScDKchMyfw?e=jgizZ1](https://xdsisueducn-my.sharepoint.com/:f:/g/personal/2111003_xdsisu_edu_cn/Er4HQYisXl9HtYqJ9KeuljgBLL0hqAOAE3UQScDKchMyfw?e=jgizZ1)\n",
    "- [**金融22-4**: https://xdsisueducn-my.sharepoint.com/:f:/g/personal/2111003_xdsisu_edu_cn/EjK2Eq0GM_JHmKyRKi0z8yEByf7TV-MqjF4IBiK5YfhxIg?e=MHWano](https://xdsisueducn-my.sharepoint.com/:f:/g/personal/2111003_xdsisu_edu_cn/EjK2Eq0GM_JHmKyRKi0z8yEByf7TV-MqjF4IBiK5YfhxIg?e=MHWano)"
   ]
  },
  {
   "cell_type": "markdown",
   "id": "ded132c8-3a19-4f85-9b35-caef27564eb8",
   "metadata": {},
   "source": [
    "## 90分钟：下课"
   ]
  }
 ],
 "metadata": {
  "kernelspec": {
   "display_name": "Python 3 (ipykernel)",
   "language": "python",
   "name": "python3"
  },
  "language_info": {
   "codemirror_mode": {
    "name": "ipython",
    "version": 3
   },
   "file_extension": ".py",
   "mimetype": "text/x-python",
   "name": "python",
   "nbconvert_exporter": "python",
   "pygments_lexer": "ipython3",
   "version": "3.9.17"
  }
 },
 "nbformat": 4,
 "nbformat_minor": 5
}
