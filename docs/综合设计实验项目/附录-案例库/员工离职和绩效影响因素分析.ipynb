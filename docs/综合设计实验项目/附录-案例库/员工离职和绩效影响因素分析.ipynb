{
 "cells": [
  {
   "cell_type": "markdown",
   "id": "6ea21538-f21b-49b6-af39-0cdead212cc7",
   "metadata": {},
   "source": [
    "\n",
    "# **哪些因素与员工离职和绩效有关**\n",
    "\n",
    "IBM公开了一个综合数据集，可以使用它来了解各种因素如何影响员工的流失率和满意度。一些变量包括教育程度，工作相关性，绩效评估和工作生活平衡程度等。\n",
    "\n",
    "![img](图片/1620-20220521141819757.png)\n",
    "\n",
    "分析此数据集，找到任何确实影响员工满意度的变量，另外，还可以看看是否可以对变量进行重要程度排名。\n",
    "\n",
    "难易程度：简单\n",
    "\n",
    "数据集：数据/员工离职和绩效\n",
    "\n",
    "https://www.kaggle.com/pavansubhasht/ibm-hr-analytics-attrition-dataset"
   ]
  },
  {
   "cell_type": "markdown",
   "id": "e6bbc20a-adc4-479e-bad0-50c9edff418d",
   "metadata": {},
   "source": [
    "Education  \n",
    "1 'Below College'  \n",
    "2 'College'  \n",
    "3 'Bachelor'  \n",
    "4 'Master'  \n",
    "5 'Doctor'  \n",
    "\n",
    "EnvironmentSatisfaction  \n",
    "1 'Low'  \n",
    "2 'Medium'  \n",
    "3 'High'  \n",
    "4 'Very High'  \n",
    "\n",
    "JobInvolvement   \n",
    "1 'Low'  \n",
    "2 'Medium'  \n",
    "3 'High'  \n",
    "4 'Very High'  \n",
    "\n",
    "JobSatisfaction   \n",
    "1 'Low'  \n",
    "2 'Medium'  \n",
    "3 'High'  \n",
    "4 'Very High'  \n",
    "\n",
    "PerformanceRating   \n",
    "1 'Low'  \n",
    "2 'Good'  \n",
    "3 'Excellent'  \n",
    "4 'Outstanding'  \n",
    "\n",
    "RelationshipSatisfaction   \n",
    "1 'Low'  \n",
    "2 'Medium'  \n",
    "3 'High'  \n",
    "4 'Very High'  \n",
    "\n",
    "WorkLifeBalance   \n",
    "1 'Bad'  \n",
    "2 'Good'  \n",
    "3 'Better'  \n",
    "4 'Best'  "
   ]
  },
  {
   "cell_type": "code",
   "execution_count": null,
   "id": "7c302ffa-2656-4fcf-a18d-4db540f6c3e1",
   "metadata": {},
   "outputs": [],
   "source": []
  }
 ],
 "metadata": {
  "kernelspec": {
   "display_name": "Python 3 (ipykernel)",
   "language": "python",
   "name": "python3"
  },
  "language_info": {
   "codemirror_mode": {
    "name": "ipython",
    "version": 3
   },
   "file_extension": ".py",
   "mimetype": "text/x-python",
   "name": "python",
   "nbconvert_exporter": "python",
   "pygments_lexer": "ipython3",
   "version": "3.9.7"
  },
  "widgets": {
   "application/vnd.jupyter.widget-state+json": {
    "state": {},
    "version_major": 2,
    "version_minor": 0
   }
  }
 },
 "nbformat": 4,
 "nbformat_minor": 5
}
