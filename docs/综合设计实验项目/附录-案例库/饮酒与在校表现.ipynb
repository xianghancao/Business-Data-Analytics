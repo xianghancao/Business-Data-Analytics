{
 "cells": [
  {
   "cell_type": "markdown",
   "id": "2ed913db-0e35-45b5-8e7b-6d51669adcc9",
   "metadata": {},
   "source": [
    "\n",
    "### **饮酒与在校表现**\n",
    "\n",
    "喝酒会影响学生的成绩吗？如果不会，那有什么别的影响吗？这个数据是从中学数学和葡萄牙语课程的学生进行的一项调查中获得的。它包含几个变量，例如饮酒量，家庭人数，参与课外活动。\n",
    "\n",
    "![img](图片/1620-20220521141819544.png)\n",
    "\n",
    "利用这些数据，挖掘学校成绩与各种因素之间的关系。另外，看看是否可以根据其他变量来预测学生的成绩！\n"
   ]
  },
  {
   "cell_type": "markdown",
   "id": "a751da33-6f95-4216-b701-61bd952a07d8",
   "metadata": {},
   "source": [
    "这些数据是在对中学数学和葡萄牙语课程学生的调查中获得的。它包含了很多关于学生的有趣的社会、性别和学习信息。你可以用它来做EDA或者预测学生的期末成绩。\n",
    "\n",
    "数据集student-mat.csv(数学课程)和student-po .csv(葡萄牙语课程)包含的属性如下：\n",
    "\n",
    "1. school - student's school (binary: 'GP' - Gabriel Pereira or 'MS' - Mousinho da Silveira)\n",
    "2. sex - student's sex (binary: 'F' - female or 'M' - male)\n",
    "3. age - student's age (numeric: from 15 to 22)\n",
    "4. address - student's home address type (binary: 'U' - urban or 'R' - rural)\n",
    "5. famsize - family size (binary: 'LE3' - less or equal to 3 or 'GT3' - greater than 3)\n",
    "6. Pstatus - parent's cohabitation status (binary: 'T' - living together or 'A' - apart)\n",
    "7. Medu - mother's education (numeric: 0 - none, 1 - primary education (4th grade), 2 – 5th to 9th grade, 3 – secondary education or 4 – higher education)\n",
    "8. Fedu - father's education (numeric: 0 - none, 1 - primary education (4th grade), 2 – 5th to 9th grade, 3 – secondary education or 4 – higher education)\n",
    "9. Mjob - mother's job (nominal: 'teacher', 'health' care related, civil 'services' (e.g. administrative or police), 'at_home' or 'other')\n",
    "10. Fjob - father's job (nominal: 'teacher', 'health' care related, civil 'services' (e.g. administrative or police), 'at_home' or 'other')\n",
    "11. reason - reason to choose this school (nominal: close to 'home', school 'reputation', 'course' preference or 'other')\n",
    "12. guardian - student's guardian (nominal: 'mother', 'father' or 'other')\n",
    "13. traveltime - home to school travel time (numeric: 1 - <15 min., 2 - 15 to 30 min., 3 - 30 min. to 1 hour, or 4 - >1 hour)\n",
    "14. studytime - weekly study time (numeric: 1 - <2 hours, 2 - 2 to 5 hours, 3 - 5 to 10 hours, or 4 - >10 hours)\n",
    "15. failures - number of past class failures (numeric: n if 1<=n<3, else 4)\n",
    "16. schoolsup - extra educational support (binary: yes or no)\n",
    "17. famsup - family educational support (binary: yes or no)\n",
    "18. paid - extra paid classes within the course subject (Math or Portuguese) (binary: yes or no)\n",
    "19. activities - extra-curricular activities (binary: yes or no)\n",
    "20. nursery - attended nursery school (binary: yes or no)\n",
    "21. higher - wants to take higher education (binary: yes or no)\n",
    "22. internet - Internet access at home (binary: yes or no)\n",
    "23. romantic - with a romantic relationship (binary: yes or no)\n",
    "24. famrel - quality of family relationships (numeric: from 1 - very bad to 5 - excellent)\n",
    "25. freetime - free time after school (numeric: from 1 - very low to 5 - very high)\n",
    "26. goout - going out with friends (numeric: from 1 - very low to 5 - very high)\n",
    "27. Dalc - workday alcohol consumption (numeric: from 1 - very low to 5 - very high)\n",
    "28. Walc - weekend alcohol consumption (numeric: from 1 - very low to 5 - very high)\n",
    "29. health - current health status (numeric: from 1 - very bad to 5 - very good)\n",
    "30. absences - number of school absences (numeric: from 0 to 93)\n",
    "\n",
    "These grades are related with the course subject, Math or Portuguese:\n",
    "\n",
    "1. G1 - first period grade (numeric: from 0 to 20)\n",
    "2. G2 - second period grade (numeric: from 0 to 20)\n",
    "3. G3 - final grade (numeric: from 0 to 20, output target)  \n",
    "\n",
    "Additional note: there are several (382) students that belong to both datasets . \n",
    "These students can be identified by searching for identical attributes\n",
    "that characterize each student, as shown in the annexed R file.\n",
    "\n",
    "Source Information\n",
    "\n",
    "P. Cortez and A. Silva. Using Data Mining to Predict Secondary School Student Performance. In A. Brito and J. Teixeira Eds., Proceedings of 5th FUture BUsiness TEChnology Conference (FUBUTEC 2008) pp. 5-12, Porto, Portugal, April, 2008, EUROSIS, ISBN 978-9077381-39-7.\n",
    "\n",
    "Fabio Pagnotta, Hossain Mohammad Amran. \n",
    "Email:fabio.pagnotta@studenti.unicam.it, mohammadamra.hossain '@' studenti.unicam.it \n",
    "University Of Camerino"
   ]
  },
  {
   "cell_type": "markdown",
   "id": "ed7487ce-94d5-4b95-ace0-d16e27680b68",
   "metadata": {},
   "source": [
    "\n",
    "数据集：数据/饮酒与在校表现\n",
    "\n",
    "案例来源：\n",
    "https://www.kaggle.com/uciml/student-alcohol-consumption"
   ]
  },
  {
   "cell_type": "code",
   "execution_count": null,
   "id": "7674c3f1-56cc-4b66-8bbd-1906871bad7e",
   "metadata": {},
   "outputs": [],
   "source": []
  }
 ],
 "metadata": {
  "kernelspec": {
   "display_name": "Python 3 (ipykernel)",
   "language": "python",
   "name": "python3"
  },
  "language_info": {
   "codemirror_mode": {
    "name": "ipython",
    "version": 3
   },
   "file_extension": ".py",
   "mimetype": "text/x-python",
   "name": "python",
   "nbconvert_exporter": "python",
   "pygments_lexer": "ipython3",
   "version": "3.9.7"
  },
  "widgets": {
   "application/vnd.jupyter.widget-state+json": {
    "state": {},
    "version_major": 2,
    "version_minor": 0
   }
  }
 },
 "nbformat": 4,
 "nbformat_minor": 5
}
