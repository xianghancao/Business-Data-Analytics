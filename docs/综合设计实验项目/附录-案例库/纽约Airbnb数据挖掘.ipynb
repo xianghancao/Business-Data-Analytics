{
 "cells": [
  {
   "cell_type": "markdown",
   "id": "fb8b3a2e-d26d-4354-8d27-84ac088bc8a6",
   "metadata": {},
   "source": [
    "# **纽约Airbnb数据挖掘**\n",
    "\n",
    "自2008年以来，Airbnb使游客和房东出行更方便，提出更多个性化的体验世界的方式。该数据集包含有关2019年纽约出租的信息以及包含其地理信息，价格，评论数量等。\n",
    "\n",
    "![img](图片/1620-20220521141819501.png)\n",
    "\n",
    "可以分析的一些角度如下：\n",
    "\n",
    "- 哪些区域生意最好，为什么？\n",
    "- 哪些区域的流量比其他区域大，为什么？\n",
    "- 价格，评论数量和预订天数之间是否存在一些关系？\n",
    "- 我们能从预测中学到什么?(例如:地点、价格、评论等)\n",
    "\n",
    "数据集：数据/Airbnb\n",
    "\n",
    "案例来源：\n",
    "\n",
    "https://www.kaggle.com/dgomonov/new-york-city-airbnb-open-data"
   ]
  },
  {
   "cell_type": "code",
   "execution_count": null,
   "id": "4fd945dd-8b36-45f7-b517-531767f10e1f",
   "metadata": {},
   "outputs": [],
   "source": []
  }
 ],
 "metadata": {
  "kernelspec": {
   "display_name": "Python 3 (ipykernel)",
   "language": "python",
   "name": "python3"
  },
  "language_info": {
   "codemirror_mode": {
    "name": "ipython",
    "version": 3
   },
   "file_extension": ".py",
   "mimetype": "text/x-python",
   "name": "python",
   "nbconvert_exporter": "python",
   "pygments_lexer": "ipython3",
   "version": "3.9.7"
  },
  "widgets": {
   "application/vnd.jupyter.widget-state+json": {
    "state": {},
    "version_major": 2,
    "version_minor": 0
   }
  }
 },
 "nbformat": 4,
 "nbformat_minor": 5
}
