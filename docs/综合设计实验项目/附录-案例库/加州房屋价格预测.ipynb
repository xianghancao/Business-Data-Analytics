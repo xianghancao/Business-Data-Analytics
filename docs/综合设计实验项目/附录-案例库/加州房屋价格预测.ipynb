{
 "cells": [
  {
   "cell_type": "markdown",
   "id": "2218c66d-5fd7-45a3-a5e3-8368d4e4a55f",
   "metadata": {},
   "source": [
    "# 加州房屋价格预测"
   ]
  },
  {
   "cell_type": "markdown",
   "id": "299acd04-be80-4863-bfa0-c9462e3ebbab",
   "metadata": {},
   "source": [
    "![1992-imvsvza2685209](图片/1992-imvsvza2685209.jpg)\n",
    "\n",
    "数据集来源：  \n",
    "https://www.kaggle.com/datasets/fedesoriano/california-housing-prices-data-extra-features\n",
    "\n",
    "数据集位置：  \n",
    "'数据/California_Houses.csv'"
   ]
  },
  {
   "cell_type": "markdown",
   "id": "10aa8fbf-379b-4da1-8fea-5427802f5965",
   "metadata": {},
   "source": [
    "数据集描述：\n",
    "\n",
    "该数据包含了1990年加州人口普查的信息。因此，尽管它可能不能像Zillow Zestimate数据集那样帮助你预测当前的房价，但它确实提供了一个可访问的介绍性数据集，教人们机器学习的基础知识。\n",
    "\n",
    "这些数据来自于加州某一特定地区的房屋，以及一些基于1990年人口普查数据的关于这些房屋的汇总数据。这些列如下，它们的名字很容易理解:\n",
    "\n",
    "1) Median House Value: Median house value for households within a block (measured in US Dollars) \n",
    "2) Median Income: Median income for households within a block of houses (measured in tens of thousands of US Dollars) [10k$]\n",
    "3) Median Age: Median age of a house within a block; a lower number is a newer building [years]\n",
    "4) Total Rooms: Total number of rooms within a block\n",
    "5) Total Bedrooms: Total number of bedrooms within a block\n",
    "6) Population: Total number of people residing within a block\n",
    "7) Households: Total number of households, a group of people residing within a home unit, for a block\n",
    "8) Latitude: A measure of how far north a house is; a higher value is farther north \n",
    "9) Longitude: A measure of how far west a house is; a higher value is farther west \n",
    "10) Distance to coast: Distance to the nearest coast point [m]\n",
    "11) Distance to Los Angeles: Distance to the centre of Los Angeles [m]\n",
    "12) Distance to San Diego: Distance to the centre of San Diego [m]\n",
    "13) Distance to San Jose: Distance to the centre of San Jose [m]\n",
    "14) Distance to San Francisco: Distance to the centre of San Francisco [m]\n"
   ]
  }
 ],
 "metadata": {
  "kernelspec": {
   "display_name": "Python 3 (ipykernel)",
   "language": "python",
   "name": "python3"
  },
  "language_info": {
   "codemirror_mode": {
    "name": "ipython",
    "version": 3
   },
   "file_extension": ".py",
   "mimetype": "text/x-python",
   "name": "python",
   "nbconvert_exporter": "python",
   "pygments_lexer": "ipython3",
   "version": "3.9.7"
  },
  "widgets": {
   "application/vnd.jupyter.widget-state+json": {
    "state": {},
    "version_major": 2,
    "version_minor": 0
   }
  }
 },
 "nbformat": 4,
 "nbformat_minor": 5
}
