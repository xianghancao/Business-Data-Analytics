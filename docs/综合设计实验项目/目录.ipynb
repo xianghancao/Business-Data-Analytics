{
 "cells": [
  {
   "cell_type": "markdown",
   "id": "62e3aab3-cc2c-4b7a-a07d-827d7fba5998",
   "metadata": {},
   "source": [
    "# 综合设计实验项目"
   ]
  },
  {
   "cell_type": "markdown",
   "id": "31deea9b-9da0-4924-a9fe-fb45901714f5",
   "metadata": {},
   "source": [
    "## 目录\n",
    "\n",
    "```{tableofcontents}\n",
    "```"
   ]
  },
  {
   "cell_type": "markdown",
   "id": "d0036b87-59b4-40f1-96b4-8d7acc486809",
   "metadata": {},
   "source": []
  }
 ],
 "metadata": {
  "kernelspec": {
   "display_name": "Python 3 (ipykernel)",
   "language": "python",
   "name": "python3"
  },
  "language_info": {
   "codemirror_mode": {
    "name": "ipython",
    "version": 3
   },
   "file_extension": ".py",
   "mimetype": "text/x-python",
   "name": "python",
   "nbconvert_exporter": "python",
   "pygments_lexer": "ipython3",
   "version": "3.9.17"
  }
 },
 "nbformat": 4,
 "nbformat_minor": 5
}
