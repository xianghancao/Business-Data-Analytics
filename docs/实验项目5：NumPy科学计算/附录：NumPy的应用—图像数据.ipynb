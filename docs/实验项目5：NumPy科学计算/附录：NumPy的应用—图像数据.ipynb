{
 "cells": [
  {
   "cell_type": "markdown",
   "id": "9c81ef92-7d02-47a9-9fdf-7ea460efef40",
   "metadata": {},
   "source": [
    "# 附录：NumPy的应用—图像数据\n",
    "\n",
    "一个图像就是一个像素矩阵，其维度就是高度 x 宽度。\n",
    "- 如果图像是黑白照片，也就是一个灰度图，每个像素可以用一个数字代表（通常是在0（黑）和255（白）之间）。如果想要裁切图像左上角10 x 10像素的部分，只需通过 NumPy 的 `image[:10, :10]` 函数即可获取。\n",
    "\n",
    "下面是一个图片文件的切片：\n",
    "\n",
    "![numpy-grayscale-image](images/numpy-grayscale-image.png)\n",
    "\n"
   ]
  },
  {
   "cell_type": "markdown",
   "id": "721ebc2c-c25a-45d5-95ea-08d97f73d891",
   "metadata": {},
   "source": [
    "\n",
    "- 如果是一个彩色图像，那么每个像素可以用3个数字表示——一个代表红色，一个代表绿色，一个代表蓝色。这种情况下，我们需要一个3维素组（因为每个单元仅可以包含一个数字）。因此，一个彩色图像可以被一个 ndarray 维度表示：（高度 * 宽度 * 3）：\n",
    "\n",
    "![numpy-grayscale-image](images/numpy-color-image.png)"
   ]
  },
  {
   "cell_type": "markdown",
   "id": "70a95d58-60d8-41be-803f-ac770ad70335",
   "metadata": {},
   "source": [
    "## 参考：\n",
    "A Visual Intro to NumPy and Data Representation, https://jalammar.github.io/visual-numpy/"
   ]
  }
 ],
 "metadata": {
  "kernelspec": {
   "display_name": "Python 3 (ipykernel)",
   "language": "python",
   "name": "python3"
  },
  "language_info": {
   "codemirror_mode": {
    "name": "ipython",
    "version": 3
   },
   "file_extension": ".py",
   "mimetype": "text/x-python",
   "name": "python",
   "nbconvert_exporter": "python",
   "pygments_lexer": "ipython3",
   "version": "3.9.17"
  }
 },
 "nbformat": 4,
 "nbformat_minor": 5
}
