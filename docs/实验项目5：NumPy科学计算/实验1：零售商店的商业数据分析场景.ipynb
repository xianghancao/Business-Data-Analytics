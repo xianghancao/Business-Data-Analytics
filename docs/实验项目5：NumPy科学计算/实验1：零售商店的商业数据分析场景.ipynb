{
 "cells": [
  {
   "cell_type": "markdown",
   "id": "0106212a-21e4-4a09-a9c7-5c876b98871b",
   "metadata": {},
   "source": [
    "# 实验1：零售商店的商业数据分析场景"
   ]
  },
  {
   "cell_type": "markdown",
   "id": "2ed463e8-8fe8-417a-8d57-c4c4000aa2eb",
   "metadata": {},
   "source": [
    "我们可以设想一个零售商店希望通过数据分析来提高产品销售效率，优化库存管理，并预测未来销售趋势。为了完成这些任务，我们将使用NumPy数组进行处理与分析。\n",
    "\n",
    "假设零售商店正在分析其6种产品在某一天的销量。\n",
    "\n",
    "| Product Name | Quantity | Price |\n",
    "|--------------|----------|-------|\n",
    "| Product A    | 10       | 100   |\n",
    "| Product B    | 20       | 200   |\n",
    "| Product C    | 15       | 150   |\n",
    "| Product D    | 30       | 120   |\n",
    "| Product E    | 50       | 180   |\n",
    "| Product F    | 45       | 160   |\n",
    "\n",
    "\n",
    "零售商能够使用NumPy处理和分析商品销售数据，从而为运营决策提供数据支持。"
   ]
  },
  {
   "cell_type": "markdown",
   "id": "b4748fb8-d436-46ac-9dff-2151416905a9",
   "metadata": {},
   "source": [
    "## 实验要求：\n",
    "\n",
    "1. 使用NumPy创建一个表示这些销量的数组\n",
    "2. 使用NumPy创建一个表示这些价格的数组\n",
    "3. 计算总销售额，将每个商品的销量与其价格相乘并求和\n",
    "4. 使用NumPy函数`max`和`min`来找到销量最高和最低的商品，帮助零售商确定哪些商品最畅销或最滞销\n",
    "5. 为了对销量进行排序，以便了解各商品的相对受欢迎程度，可以使用`np.sort()`函数：\n",
    "6. 为了后续分析或备份，零售商可以将当日销售数据保存到文件`daily_sales.npy`中\n",
    "7. 假设零售商希望预测未来几天的销量趋势，生成一个模拟的随机数组，表示未来一周的商品销量变化"
   ]
  },
  {
   "cell_type": "code",
   "execution_count": null,
   "id": "d2684d95-1122-4398-b784-343ddc6f8c16",
   "metadata": {},
   "outputs": [],
   "source": [
    "\n",
    "\n",
    "\n",
    "\n",
    "\n",
    "\n",
    "\n",
    "\n",
    "\n",
    "\n"
   ]
  },
  {
   "cell_type": "markdown",
   "id": "a480c824-4f81-4bf3-baa5-836edfcf34bf",
   "metadata": {},
   "source": [
    "完成后，放到如下对应班级链接中： [**会计22-1**、](https://xdsisueducn-my.sharepoint.com/:f:/g/personal/2111003_xdsisu_edu_cn/EvmVa-lZDRhKsy65lwnaTmQBZh2xKgDt8-3YfpdDWY-Kug?e=sxmErY) [**会计22-2**、](https://xdsisueducn-my.sharepoint.com/:f:/g/personal/2111003_xdsisu_edu_cn/Eoty3HlyYgBGqQiYZjccOMABv0qkgea_JcRWHb543rX5FQ?e=75fdoi) [**会计22-3**、](https://xdsisueducn-my.sharepoint.com/:f:/g/personal/2111003_xdsisu_edu_cn/Eqyb8hPchlFFgBvJpnmjrikB0iDx_4D-NFqp9zCNENKj3w?e=BY3UPm) [**会计22-4**、](https://xdsisueducn-my.sharepoint.com/:f:/g/personal/2111003_xdsisu_edu_cn/Eidfy0916lNMronkNOJhHd0BpocxetZeJpZL7tNJAbsX6A?e=Th7apD) [**会计22-5**、](https://xdsisueducn-my.sharepoint.com/:f:/g/personal/2111003_xdsisu_edu_cn/EorZuIvgi2JBmQpKtRxYZoMBVpgXGUnwdvy0TBWocIdMkA?e=Mlpfbq) [**金融22-3**、](https://xdsisueducn-my.sharepoint.com/:f:/g/personal/2111003_xdsisu_edu_cn/Er4HQYisXl9HtYqJ9KeuljgBLL0hqAOAE3UQScDKchMyfw?e=jgizZ1) [**金融22-4**](https://xdsisueducn-my.sharepoint.com/:f:/g/personal/2111003_xdsisu_edu_cn/EjK2Eq0GM_JHmKyRKi0z8yEByf7TV-MqjF4IBiK5YfhxIg?e=MHWano)"
   ]
  }
 ],
 "metadata": {
  "kernelspec": {
   "display_name": "Python 3 (ipykernel)",
   "language": "python",
   "name": "python3"
  },
  "language_info": {
   "codemirror_mode": {
    "name": "ipython",
    "version": 3
   },
   "file_extension": ".py",
   "mimetype": "text/x-python",
   "name": "python",
   "nbconvert_exporter": "python",
   "pygments_lexer": "ipython3",
   "version": "3.9.17"
  }
 },
 "nbformat": 4,
 "nbformat_minor": 5
}
