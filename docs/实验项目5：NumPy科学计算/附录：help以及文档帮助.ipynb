{
 "cells": [
  {
   "cell_type": "markdown",
   "id": "2b11c3a6-9810-4071-9944-fd4e55946a9f",
   "metadata": {},
   "source": [
    "# 附录：help以及文档帮助"
   ]
  },
  {
   "cell_type": "markdown",
   "id": "3761a3bd-7828-4827-848b-0262d9ffb06c",
   "metadata": {},
   "source": [
    "## 1. help()"
   ]
  },
  {
   "cell_type": "markdown",
   "id": "4473a4a0-0dcb-4840-9c1a-81b05fced42a",
   "metadata": {},
   "source": [
    "如果想要了解Python里面变量、函数等未知的信息，Python有一个内置的help()函数，可以帮助您访问这些信息。这意味着几乎在任何需要更多信息的时候，您都可以使用help()来快速查找所需的信息。"
   ]
  },
  {
   "cell_type": "code",
   "execution_count": 4,
   "id": "53456a45-553a-4333-9444-7c2d75fd5d00",
   "metadata": {},
   "outputs": [
    {
     "name": "stdout",
     "output_type": "stream",
     "text": [
      "Help on built-in function max in module builtins:\n",
      "\n",
      "max(...)\n",
      "    max(iterable, *[, default=obj, key=func]) -> value\n",
      "    max(arg1, arg2, *args, *[, key=func]) -> value\n",
      "    \n",
      "    With a single iterable argument, return its biggest item. The\n",
      "    default keyword-only argument specifies an object to return if\n",
      "    the provided iterable is empty.\n",
      "    With two or more arguments, return the largest argument.\n",
      "\n"
     ]
    }
   ],
   "source": [
    "help(max)"
   ]
  },
  {
   "cell_type": "markdown",
   "id": "afc29fe2-b714-4613-83e2-56b365eb0aec",
   "metadata": {},
   "source": [
    "## 2. 文档帮助"
   ]
  },
  {
   "cell_type": "markdown",
   "id": "f8be5573-66c2-4ceb-a951-b2384c9ee2ed",
   "metadata": {},
   "source": [
    "有时候我们需要系统性得了解某一个知识点，光是看help()下面的解释已经不够了，这时候需要向这个知识和工具的创造者(creater)求助。这些知识和工具的创造者一般会有博客或者官方网站，提供给使用者参考。"
   ]
  },
  {
   "cell_type": "markdown",
   "id": "6d6428da-3bcb-4cfb-b80d-007652f3f7de",
   "metadata": {},
   "source": [
    "我们以numpy的官方网站为例：\n",
    "https://numpy.org/doc/stable/user/index.html\n",
    "\n",
    "![numpy-site](images/numpy-site.png)"
   ]
  },
  {
   "cell_type": "markdown",
   "id": "0ea7a21d-83bf-4a8e-8c44-427bfb9014ff",
   "metadata": {},
   "source": [
    "点击User Guide用户指南，进入后，能看到关于Numpy的介绍、安装、新手指南和基础知识。"
   ]
  },
  {
   "cell_type": "markdown",
   "id": "6902cb5a-9669-4994-91f9-80c0c44efb3d",
   "metadata": {},
   "source": [
    "如果是想要直接查询Numpy里面的特定函数，请访问API reference。"
   ]
  },
  {
   "cell_type": "markdown",
   "id": "877437dc-7975-40df-9dd9-5a6c731e27f7",
   "metadata": {},
   "source": [
    "![numpy-site-api](images/numpy-site-api.png)"
   ]
  }
 ],
 "metadata": {
  "kernelspec": {
   "display_name": "Python 3 (ipykernel)",
   "language": "python",
   "name": "python3"
  },
  "language_info": {
   "codemirror_mode": {
    "name": "ipython",
    "version": 3
   },
   "file_extension": ".py",
   "mimetype": "text/x-python",
   "name": "python",
   "nbconvert_exporter": "python",
   "pygments_lexer": "ipython3",
   "version": "3.9.17"
  }
 },
 "nbformat": 4,
 "nbformat_minor": 5
}
