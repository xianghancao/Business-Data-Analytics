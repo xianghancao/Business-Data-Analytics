{
 "cells": [
  {
   "cell_type": "markdown",
   "id": "db07e6c8-b2fa-4089-92f2-0e62786649a4",
   "metadata": {
    "tags": []
   },
   "source": [
    "# 附录：NumPy的应用—音频数据\n",
    "\n",
    "一个音频文件是一个一维数组的样本。 每个样本都是一个数字，代表一小块音频信号。 CD的音频每秒可能有44,100个样本，每个样本是-32767到32768之间的整数。 这意味着如果您有一个10秒的CD的WAVE文件，您可以将它装入一个长度为441,000（也就是10 * 44,100）的NumPy数组中。 如果想提取音频的第一秒，只需将该文件加载到一个NumPy数组`audio` 中，并使用 `audio[:44100]`即可获取到。\n",
    "\n",
    "下面是一个音频文件的一个切片：\n",
    "\n",
    "![numpy-audio](images/numpy-audio.png)"
   ]
  },
  {
   "cell_type": "markdown",
   "id": "00e4a0c2-3f2e-45d6-ae03-fbeceb1eb5ca",
   "metadata": {},
   "source": [
    "## 利用正弦波频率生成中央C到H音调"
   ]
  },
  {
   "cell_type": "markdown",
   "id": "217cdd2a-c156-439e-934c-8d029938a532",
   "metadata": {},
   "source": [
    "正弦波频率是指正弦波的周期性振荡中，每秒钟完成的周期数，通常以赫兹（Hz）为单位表示。具体来说，正弦波的频率表示了它在单位时间内震荡的次数，也可以理解为它的音调高低。例如，440赫兹的正弦波代表在一秒钟内完成440个周期的振荡，通常被称为A4音调，是音乐中的一个常用音调。"
   ]
  },
  {
   "cell_type": "markdown",
   "id": "cbfb0c3e-9980-4a99-a0eb-239e230cd546",
   "metadata": {},
   "source": [
    "以下是中央C到H音调的频率对照表，以及它们对应的频率（赫兹）：\n",
    "\n",
    "| 音调   | 频率（赫兹）  |\n",
    "|-------|-------------|\n",
    "| 中央C | 261.63      |\n",
    "| D     | 293.66      |\n",
    "| E     | 329.63      |\n",
    "| F     | 349.23      |\n",
    "| G     | 392.00      |\n",
    "| A     | 440.00      |\n",
    "| B     | 493.88      |\n",
    "| H     | 523.25      |\n",
    "\n",
    "这些频率是基于国际标准音高记谱法。在这个表格中，中央C的频率为261.63赫兹，依次向上升，每个音调的频率都比前一个音调高一个半音。在音乐理论中，半音是音乐中的基本单位，它表示两个音调之间的最小音高间隔。在半音的音乐系统中，每个半音的频率比前一个半音的频率高约6%，这是因为音高是按对数比例增加的。换句话说，每个半音的频率是前一个半音频率的1.059463094倍。"
   ]
  },
  {
   "cell_type": "code",
   "execution_count": 5,
   "id": "36d49b44-c4a2-4811-8863-48f0d9ad2d4c",
   "metadata": {
    "tags": []
   },
   "outputs": [],
   "source": [
    "from scipy.io import wavfile\n",
    "import numpy as np\n",
    "\n",
    "def wav_gen(freq, duration, sampling_rate):\n",
    "    \"\"\"\n",
    "    生成示例音频数据（这里假设使用正弦波作为示例音频)\n",
    "    音频文件的参数：\n",
    "    freq - 正弦波频率（Hz）\n",
    "    sampling_rate - 采样率，表示每秒采集的样本数\n",
    "    duration - 音频时长，单位为秒\n",
    "    \"\"\"\n",
    "    t = np.linspace(0, duration, int(sampling_rate * duration))\n",
    "    audio_data = np.sin(2 * np.pi * freq * t)\n",
    "    audio_data_int = np.int16(audio_data * 32767)   # 将音频数据转换为整数型\n",
    "    return audio_data_int"
   ]
  },
  {
   "cell_type": "code",
   "execution_count": 6,
   "id": "c7a1ecd8-2e58-470c-80a2-eb284219572f",
   "metadata": {
    "tags": []
   },
   "outputs": [
    {
     "name": "stdout",
     "output_type": "stream",
     "text": [
      "frequency: 261.63\n",
      "frequency: 293.67\n",
      "frequency: 329.63\n",
      "frequency: 370.00\n",
      "frequency: 415.31\n",
      "frequency: 466.17\n",
      "frequency: 523.26\n",
      "frequency: 587.34\n",
      "frequency: 659.27\n",
      "frequency: 740.00\n",
      "frequency: 830.62\n",
      "frequency: 932.34\n",
      "frequency: 1046.52\n",
      "frequency: 1174.68\n",
      "frequency: 1318.53\n",
      "frequency: 1480.00\n",
      "audio array: [     0   1221   2440 ... -13153  -6580    284]\n"
     ]
    }
   ],
   "source": [
    "sampling_rate = 44100\n",
    "audio = np.array([])\n",
    "for i in range(0, 16):\n",
    "    freq = 261.63*1.059463094**(i*2)\n",
    "    print('frequency: %.2f' %freq)\n",
    "    audio_data_int = wav_gen(freq = freq,\n",
    "                            duration=0.5,\n",
    "                            sampling_rate=44100)\n",
    "    audio = np.concatenate((audio, audio_data_int))\n",
    "audio = np.int16(audio)\n",
    "print('audio array:', audio)\n",
    "wavfile.write('audio.wav', sampling_rate, audio)      # 保存音频文件"
   ]
  },
  {
   "cell_type": "code",
   "execution_count": 2,
   "id": "650dbf92-dba3-4aa2-b46e-624affe658a2",
   "metadata": {
    "tags": []
   },
   "outputs": [],
   "source": [
    "def play_music(file_path):\n",
    "    import pygame\n",
    "    pygame.init()                         # 初始化pygame\n",
    "    pygame.mixer.music.load(file_path)    # 加载音乐文件\n",
    "    pygame.mixer.music.play()             # 播放音乐\n",
    "    print('start play: %s' %file_path)\n",
    "    while pygame.mixer.music.get_busy():  # 等待音乐播放结束\n",
    "        pygame.time.Clock().tick(10)\n",
    "    print('end!')"
   ]
  },
  {
   "cell_type": "code",
   "execution_count": 3,
   "id": "c28c6e5d-7643-4700-8ef4-963d153e003c",
   "metadata": {
    "tags": []
   },
   "outputs": [
    {
     "name": "stdout",
     "output_type": "stream",
     "text": [
      "pygame 2.5.2 (SDL 2.28.3, Python 3.11.5)\n",
      "Hello from the pygame community. https://www.pygame.org/contribute.html\n",
      "start play: audio.wav\n",
      "end!\n"
     ]
    }
   ],
   "source": [
    "play_music('audio.wav')"
   ]
  },
  {
   "cell_type": "markdown",
   "id": "ac4832ec-4f23-4aee-b6ee-79e8cae98173",
   "metadata": {},
   "source": [
    "## 参考：\n",
    "A Visual Intro to NumPy and Data Representation, https://jalammar.github.io/visual-numpy/"
   ]
  }
 ],
 "metadata": {
  "kernelspec": {
   "display_name": "Python 3 (ipykernel)",
   "language": "python",
   "name": "python3"
  },
  "language_info": {
   "codemirror_mode": {
    "name": "ipython",
    "version": 3
   },
   "file_extension": ".py",
   "mimetype": "text/x-python",
   "name": "python",
   "nbconvert_exporter": "python",
   "pygments_lexer": "ipython3",
   "version": "3.9.17"
  }
 },
 "nbformat": 4,
 "nbformat_minor": 5
}
