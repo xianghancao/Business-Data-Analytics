{
 "cells": [
  {
   "cell_type": "markdown",
   "id": "ff6d6ec7-4ba8-4e84-a371-db209076b975",
   "metadata": {
    "tags": []
   },
   "source": [
    "# 实验2：顾客满意度调查分析"
   ]
  },
  {
   "cell_type": "markdown",
   "id": "84f23c5a-ea52-4453-978f-b4c90bf2a70d",
   "metadata": {},
   "source": [
    "一家连锁餐厅希望分析其顾客的满意度调查结果，以识别改进服务的机会。餐厅在最近的调查中收集了六种服务维度的评分和相关的顾客数量，具体数据如下：\n",
    "\n",
    "| 服务维度   | 顾客数量 | 顾客评分 |\n",
    "|------------|----------|----------|\n",
    "| 食品质量   | 120      | 4.5      |\n",
    "| 服务态度   | 100      | 4.2      |\n",
    "| 环境卫生   | 90       | 4.7      |\n",
    "| 菜品多样性 | 80       | 4.1      |\n",
    "| 价格合理性 | 110      | 4.3      |\n",
    "\n",
    "使用NumPy进行顾客满意度调查数据的创建、操作、分析和可视化。这种分析能够帮助餐厅识别服务改进的机会，提高顾客满意度和忠诚度。"
   ]
  },
  {
   "cell_type": "markdown",
   "id": "08bc633c-63e9-4dd8-80fb-28a2fe224bbd",
   "metadata": {},
   "source": [
    "## 实验要求\n",
    "1. 使用NumPy创建一个二维数组来表示顾客数量和评分。\n",
    "2. 查看数组的维度、尺寸和形状。\n",
    "3. 提取特定数据，例如获取“食品质量”的顾客数量和评分。\n",
    "4. 获取顾客数量大于100的顾客数量和顾客评分\n",
    "5. 计算顾客数量的总和、评分的平均值、评分的最大值和评分的最小值。\n",
    "6. 收集到了新的调查数据，可以将其与现有数据连接起来。\n",
    "\n",
    "| 服务维度   | 顾客数量 | 顾客评分 |\n",
    "|------------|----------|----------|\n",
    "| 预定便利性 | 70       | 4.6      |\n",
    "\n"
   ]
  },
  {
   "cell_type": "code",
   "execution_count": null,
   "id": "4241a655-4238-4453-8db0-f6afb0729575",
   "metadata": {},
   "outputs": [],
   "source": [
    "\n",
    "\n",
    "\n",
    "\n",
    "\n",
    "\n",
    "\n",
    "\n",
    "\n",
    "\n",
    "\n"
   ]
  },
  {
   "cell_type": "markdown",
   "id": "d178fac1-59df-4728-983a-5acbc0ba4488",
   "metadata": {},
   "source": [
    "完成后，放到如下对应班级链接中： [**会计22-1**、](https://xdsisueducn-my.sharepoint.com/:f:/g/personal/2111003_xdsisu_edu_cn/EvmVa-lZDRhKsy65lwnaTmQBZh2xKgDt8-3YfpdDWY-Kug?e=sxmErY) [**会计22-2**、](https://xdsisueducn-my.sharepoint.com/:f:/g/personal/2111003_xdsisu_edu_cn/Eoty3HlyYgBGqQiYZjccOMABv0qkgea_JcRWHb543rX5FQ?e=75fdoi) [**会计22-3**、](https://xdsisueducn-my.sharepoint.com/:f:/g/personal/2111003_xdsisu_edu_cn/Eqyb8hPchlFFgBvJpnmjrikB0iDx_4D-NFqp9zCNENKj3w?e=BY3UPm) [**会计22-4**、](https://xdsisueducn-my.sharepoint.com/:f:/g/personal/2111003_xdsisu_edu_cn/Eidfy0916lNMronkNOJhHd0BpocxetZeJpZL7tNJAbsX6A?e=Th7apD) [**会计22-5**、](https://xdsisueducn-my.sharepoint.com/:f:/g/personal/2111003_xdsisu_edu_cn/EorZuIvgi2JBmQpKtRxYZoMBVpgXGUnwdvy0TBWocIdMkA?e=Mlpfbq) [**金融22-3**、](https://xdsisueducn-my.sharepoint.com/:f:/g/personal/2111003_xdsisu_edu_cn/Er4HQYisXl9HtYqJ9KeuljgBLL0hqAOAE3UQScDKchMyfw?e=jgizZ1) [**金融22-4**](https://xdsisueducn-my.sharepoint.com/:f:/g/personal/2111003_xdsisu_edu_cn/EjK2Eq0GM_JHmKyRKi0z8yEByf7TV-MqjF4IBiK5YfhxIg?e=MHWano)"
   ]
  }
 ],
 "metadata": {
  "kernelspec": {
   "display_name": "Python 3 (ipykernel)",
   "language": "python",
   "name": "python3"
  },
  "language_info": {
   "codemirror_mode": {
    "name": "ipython",
    "version": 3
   },
   "file_extension": ".py",
   "mimetype": "text/x-python",
   "name": "python",
   "nbconvert_exporter": "python",
   "pygments_lexer": "ipython3",
   "version": "3.9.17"
  }
 },
 "nbformat": 4,
 "nbformat_minor": 5
}
