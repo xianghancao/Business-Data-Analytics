{
 "cells": [
  {
   "cell_type": "markdown",
   "id": "9cff8db7-ee05-4ed0-ab03-5a83c4d25ef8",
   "metadata": {},
   "source": [
    "# 实验说明"
   ]
  },
  {
   "cell_type": "markdown",
   "id": "3bbfbd4e-1448-4cf0-951b-f3ead2c24442",
   "metadata": {},
   "source": [
    "\n",
    "实验项目：Numpy科学计算\n",
    "修读要求：必修\n",
    "实验目的：\n",
    "通过本实验项目，学生将：\n",
    "- 了解Numpy库及其在科学计算中的重要性。\n",
    "- 理解Numpy数组的基本概念和操作方法。\n",
    "- 掌握Numpy一维数组和二维数组的常用操作。\n",
    "- 学习Numpy在科学计算中的实际应用。\n",
    "实验内容：\n",
    "1. Numpy介绍\n",
    "   - 了解Numpy库的背景、特点及其在科学计算中的优势。\n",
    "   - 安装和导入Numpy库。\n",
    "2. Numpy的一维数组\n",
    "   - 创建一维数组：使用`array`、`arange`、`linspace`等函数。\n",
    "   - 基本操作：数组索引、切片、基本数学运算（加减乘除）。\n",
    "   - 数组属性：形状（shape）、维度（ndim）、数据类型（dtype）。\n",
    "3. Numpy的二维数组\n",
    "   - 创建二维数组：使用`array`、`zeros`、`ones`、`eye`等函数。\n",
    "   - 基本操作：数组索引、切片、基本数学运算（加减乘除）。\n",
    "   - 数组变形：使用`reshape`、`flatten`等函数。\n",
    "   - 矩阵运算：矩阵加减乘除、转置、点积等。\n",
    "4. Numpy的应用\n",
    "   - 统计运算：求和、均值、中位数、标准差等。\n",
    "   - 数组排序和查找：使用`sort`、`argsort`、`where`等函数。\n",
    "   - 线性代数运算：求逆矩阵、特征值和特征向量、解线性方程组。\n",
    "   \n",
    "学时分配：2学时  \n",
    "实验类型：综合性实验  \n",
    "主要设备（软件）：Anaconda、Jupyter Lab、Python 3.x\n"
   ]
  },
  {
   "cell_type": "markdown",
   "id": "025daf59-4e95-4da4-b6ef-d69cab25743d",
   "metadata": {},
   "source": [
    "实验要求：  \n",
    "项目实施前：\n",
    "- 教师需准备好相关的教学材料和实验手册。\n",
    "- 学生需提前复习Python的基本语法和数据类型。\n",
    "  \n",
    "项目实施中：\n",
    "- 教师需详细讲解条件判断和循环语句的用法，演示代码示例。\n",
    "- 学生需按照实验手册的步骤进行操作，独立完成每个实验任务。\n",
    "  \n",
    "项目实施后：\n",
    "- 学生需提交实验报告，包含代码、运行结果及分析。\n",
    "- 教师需批改实验报告，给出反馈意见。\n",
    "  \n",
    "注意事项：\n",
    "- 实验过程中需注意代码的规范性，注释清晰明了。\n",
    "- 在操作过程中，如遇到问题，及时与教师沟通解决。\n",
    "- 运行代码前，需检查代码逻辑和语法，避免运行时错误。\n",
    "- 遵守实验室纪律，爱护实验设备。"
   ]
  }
 ],
 "metadata": {
  "kernelspec": {
   "display_name": "Python 3 (ipykernel)",
   "language": "python",
   "name": "python3"
  },
  "language_info": {
   "codemirror_mode": {
    "name": "ipython",
    "version": 3
   },
   "file_extension": ".py",
   "mimetype": "text/x-python",
   "name": "python",
   "nbconvert_exporter": "python",
   "pygments_lexer": "ipython3",
   "version": "3.9.17"
  }
 },
 "nbformat": 4,
 "nbformat_minor": 5
}
