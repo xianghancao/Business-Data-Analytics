{
 "cells": [
  {
   "cell_type": "markdown",
   "id": "10adfbb5-6fc6-4d7a-8128-9c83346a6c6b",
   "metadata": {},
   "source": [
    "# 附录：NumPy的应用—自然语言"
   ]
  },
  {
   "cell_type": "markdown",
   "id": "6fa67694-e73b-4213-93f3-e69b602caa5f",
   "metadata": {},
   "source": [
    "虽然NumPy主要用于科学计算和数据分析领域，但它也可以在自然语言处理（NLP）等领域中发挥作用。"
   ]
  },
  {
   "cell_type": "markdown",
   "id": "b33efab0-d32f-4725-a1aa-8c63f59c0710",
   "metadata": {},
   "source": [
    "和音频、图像不同，如果需要表示语言，需要用数值表示一段文本需要构建一个词汇表（模型需要知道的所有的唯一词）以及一个[词嵌入（embedding）](https://jalammar.github.io/illustrated-word2vec/)过程。 \n",
    "\n",
    "让我们看看用数字表示这个谚语的步骤：**”Have the bards who preceded me left any theme unsung?”** *翻译：在我之前的吟游诗人有没有留下任何主题？*"
   ]
  },
  {
   "cell_type": "markdown",
   "id": "dcf82d23-ac22-4853-bfb8-f898a8591446",
   "metadata": {},
   "source": [
    "我们可以使用[一个词汇数据集](http://mattmahoney.net/dc/textdata.html)来构建一个词汇表（71,290个单词）："
   ]
  },
  {
   "cell_type": "markdown",
   "id": "230434ef-757b-4f3c-b09e-adaea4d49581",
   "metadata": {},
   "source": [
    "<img src='images/numpy-nlp-vocabulary.png' width=200>"
   ]
  },
  {
   "cell_type": "markdown",
   "id": "d3f23dec-d186-4da1-91b5-27c2e489aa6c",
   "metadata": {},
   "source": [
    "这个句子可以被划分为一系列词：\n",
    "\n",
    "![numpy-nlp-tokenization](images/numpy-nlp-tokenization.png)"
   ]
  },
  {
   "cell_type": "markdown",
   "id": "38733f1a-9d08-4428-8d1c-fc31a7319cf5",
   "metadata": {},
   "source": [
    "然后我们用词汇表中单词的ID来替换它：\n",
    "\n",
    "![numpy-nlp-ids](images/numpy-nlp-ids.png)"
   ]
  },
  {
   "cell_type": "markdown",
   "id": "64b9769e-a2f7-403d-a0e5-88325d6662f5",
   "metadata": {},
   "source": [
    "然后进一步使用word2vec词嵌入、卷积向量等技术来处理文本，详见：\n",
    "https://jalammar.github.io/illustrated-word2vec/"
   ]
  },
  {
   "cell_type": "markdown",
   "id": "1a2b9df0-84d4-462c-a385-fe86eea0b8ab",
   "metadata": {},
   "source": []
  },
  {
   "cell_type": "markdown",
   "id": "d9c8e776-00dd-4e1b-8fe9-e0e3ecd4c44a",
   "metadata": {},
   "source": [
    "## 参考：\n",
    "- A Visual Intro to NumPy and Data Representation, https://jalammar.github.io/visual-numpy/\n",
    "- The Illustrated Word2vec, https://jalammar.github.io/illustrated-word2vec/"
   ]
  }
 ],
 "metadata": {
  "kernelspec": {
   "display_name": "Python 3 (ipykernel)",
   "language": "python",
   "name": "python3"
  },
  "language_info": {
   "codemirror_mode": {
    "name": "ipython",
    "version": 3
   },
   "file_extension": ".py",
   "mimetype": "text/x-python",
   "name": "python",
   "nbconvert_exporter": "python",
   "pygments_lexer": "ipython3",
   "version": "3.9.17"
  }
 },
 "nbformat": 4,
 "nbformat_minor": 5
}
