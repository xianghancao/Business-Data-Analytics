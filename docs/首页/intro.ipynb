{
 "cells": [
  {
   "cell_type": "markdown",
   "id": "f3f54f33-c53c-488d-ad24-fe36ef4e0370",
   "metadata": {},
   "source": [
    "# 商业数据分析(Business Data Analytics)"
   ]
  },
  {
   "cell_type": "markdown",
   "id": "86408600-e05b-4221-90f0-af3dde7ab235",
   "metadata": {},
   "source": [
    "本课件部分原创，如果侵权，请联系删除。本课件仅用于学术使用，勿做商业传播。\n",
    "\n",
    "课件在线地址：https://business-data-analytics.netlify.app\n",
    "\n",
    "\n",
    "## 介绍\n",
    "\n",
    "在当今竞争激烈的商业环境中，数据驱动的决策已成为常态。随着数据和分析工具的进步，企业正在经历一场数字化转型，以在竞争中保持领先地位。因此，对能够分析和解释商业数据的专业人员的需求日益增长。同时，数据分析类的课程在高校越来越受欢迎。\n",
    "本课件旨在让学生掌握商业数据分析所需的技能和知识，培养学生的数据思维和信息化素养。\n",
    "\n",
    "课件特点：\n",
    "1. 练习多，且容易上手。每一个知识点均搭配一个练习，帮助学生迅速巩固对于知识点的理解；\n",
    "2. 商业案例多，避免编程知识和商业场景脱离；\n",
    "3. 图片多，大部分知识点应用可视化的方式，降低学习难度\n",
    "4. 每章节均搭配有ipynb格式的代码课件，学生可以本地运行代码\n",
    "5. 每章节均搭配在线互动网页，学生可以线上互动\n",
    "\n"
   ]
  },
  {
   "cell_type": "markdown",
   "id": "f4aeba1f-5b41-4daa-8347-02ba71abfc70",
   "metadata": {},
   "source": [
    "版本号：V3.0\n",
    "更新日期：2024.12\n",
    "\n",
    "本课件限教学班级学生使用，勿做商业传播。如果部分内容侵权，请联系删除。\n"
   ]
  }
 ],
 "metadata": {
  "kernelspec": {
   "display_name": "Python 3 (ipykernel)",
   "language": "python",
   "name": "python3"
  },
  "language_info": {
   "codemirror_mode": {
    "name": "ipython",
    "version": 3
   },
   "file_extension": ".py",
   "mimetype": "text/x-python",
   "name": "python",
   "nbconvert_exporter": "python",
   "pygments_lexer": "ipython3",
   "version": "3.9.17"
  }
 },
 "nbformat": 4,
 "nbformat_minor": 5
}
