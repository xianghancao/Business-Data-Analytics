{
 "cells": [
  {
   "cell_type": "markdown",
   "id": "045fbb6e-b3f5-4544-af97-92cf4d8d10c6",
   "metadata": {},
   "source": [
    "# 实验说明"
   ]
  },
  {
   "cell_type": "markdown",
   "id": "51a2ce74-3b4e-448e-9a3c-91dcf91cff58",
   "metadata": {},
   "source": [
    "实验项目：Python的变量和数据类型  \n",
    "修读要求：必修  \n",
    "实验目的：  \n",
    "通过本实验，学生将：\n",
    "- 了解 Python中的基本数据类型及其应用场景。\n",
    "- 理解 Python变量的定义与赋值方法。\n",
    "- 掌握 Python中不同数据类型的操作与转换。\n",
    "- 应用 这些知识进行简单的数据处理和计算。\n",
    "实验内容\n",
    "1. Python变量与数据类型概述\n",
    "- 介绍Python的基本数据类型：整数、浮点数、字符串、列表、元组、字典、集合。\n",
    "- 讲解变量的定义与赋值规则。\n",
    "2. 变量的定义与操作\n",
    "- 创建和使用变量：基本赋值、变量命名规范。\n",
    "- 变量的基本操作：算术运算、比较运算、逻辑运算。\n",
    "3. 数据类型的操作\n",
    "- 整数与浮点数：算术运算、类型转换、格式化输出。\n",
    "- 字符串：字符串操作（拼接、切片、替换）、字符串方法（`upper()`, `lower()`, `split()`）。\n",
    "- 列表与元组：创建、索引、切片、添加与删除元素、列表方法（`append()`, `extend()`, `pop()`）。\n",
    "- 字典与集合：字典的键值对操作、集合的基本操作（添加、删除、交并差集）。\n",
    "4. 数据类型转换\n",
    "- 从一种数据类型转换到另一种数据类型（如整数与浮点数之间的转换、字符串与整数之间的转换）。\n",
    "5. 实验任务与实例\n",
    "- 通过实例练习各类数据类型的使用，完成若干编程任务，例如：\n",
    "  - 创建一个包含各种数据类型的列表，并进行基本操作。\n",
    "  - 编写函数进行数据类型转换，并测试其功能。\n"
   ]
  },
  {
   "cell_type": "markdown",
   "id": "a290bd38-b456-4fbc-930d-57339666efff",
   "metadata": {},
   "source": [
    "学时分配  \n",
    "总学时：2学时  \n",
    "实验类型：演示性实验  \n",
    "主要设备（软件）：Anaconda、Jupyter Lab、Python 3.x  \n",
    "实验要求：  \n",
    "项目实施前：  \n",
    "- 教师需准备好相关的教学材料和实验手册。\n",
    "- 学生需提前安装和配置好Python环境（Anaconda, Jupyter Notebook）。\n",
    "\n",
    "项目实施中：  \n",
    "- 教师需详细讲解实验内容，演示Python编程的基本操作。\n",
    "- 学生需按照实验手册的步骤进行操作，完成每个实验任务。\n",
    "\n",
    "项目实施后：  \n",
    "- 学生需提交实验报告，包含代码、运行结果及分析。\n",
    "- 教师需批改实验报告，给出反馈意见。\n",
    "\n",
    "注意事项  \n",
    "- 实验过程中需注意代码的规范性，注释清晰明了。\n",
    "- 在操作过程中，如遇到问题，及时与教师沟通解决。\n",
    "- 运行代码前，需检查代码逻辑和语法，避免运行时错误。\n",
    "- 遵守实验室纪律，爱护实验设备。"
   ]
  },
  {
   "cell_type": "markdown",
   "id": "9d217140-6428-489c-b64d-581e6e037b0d",
   "metadata": {},
   "source": []
  }
 ],
 "metadata": {
  "kernelspec": {
   "display_name": "Python 3 (ipykernel)",
   "language": "python",
   "name": "python3"
  },
  "language_info": {
   "codemirror_mode": {
    "name": "ipython",
    "version": 3
   },
   "file_extension": ".py",
   "mimetype": "text/x-python",
   "name": "python",
   "nbconvert_exporter": "python",
   "pygments_lexer": "ipython3",
   "version": "3.9.17"
  }
 },
 "nbformat": 4,
 "nbformat_minor": 5
}
