{
 "cells": [
  {
   "cell_type": "markdown",
   "id": "43bc58e9-4cce-4c2e-a1a9-67e1f5da68a0",
   "metadata": {},
   "source": [
    "# 实验1: 关键字与变量"
   ]
  },
  {
   "cell_type": "markdown",
   "id": "c102a4b6-d140-4da8-b875-bca58caee8fb",
   "metadata": {},
   "source": [
    "## （一) 关键字"
   ]
  },
  {
   "cell_type": "markdown",
   "id": "631645ed-8aeb-443d-91fe-c59810901364",
   "metadata": {},
   "source": [
    "关键字（Keyword），是Python语言预设的具有特殊用途的专用词汇。Python的常见关键字如下："
   ]
  },
  {
   "cell_type": "markdown",
   "id": "c2f1e68f-457d-4af5-9ba4-61d209a4c05a",
   "metadata": {},
   "source": [
    "|关键词| | | | | |\n",
    "|---|---|---|---|---|---|\n",
    "|print|del|from|not|while|as|elif|for|\n",
    "|global|or|with|assert|else|if|pass|lambda|\n",
    "|yield|break|except|import|and|class|exec|try|\n",
    "|in|raise|continue|finally|is|return|def|"
   ]
  },
  {
   "cell_type": "markdown",
   "id": "02694d94-96b0-4c39-8b54-fcf51d95cbdf",
   "metadata": {},
   "source": [
    "### 示例\n",
    "几乎所有的计算机程序是为了执行一个特定的任务。通过输入操作，用户告诉计算机程序指令或信息；有了输出操作，程序运行后告诉用户其执行的结果。我们把输入输出统称为Input/Output，或者简写为IO。\n",
    "\n",
    "print作为最常用的关键字，用`print()`在括号中加上字符串，就可以向屏幕上输出指定的文字。使用print('')语句，输出 “Hello, World!”"
   ]
  },
  {
   "cell_type": "code",
   "execution_count": 1,
   "id": "5c415522-3b11-47fe-9725-9b95eecd5d84",
   "metadata": {},
   "outputs": [
    {
     "name": "stdout",
     "output_type": "stream",
     "text": [
      "Hello, World!\n"
     ]
    }
   ],
   "source": [
    "print(\"Hello, World!\")"
   ]
  },
  {
   "cell_type": "markdown",
   "id": "e06ddd75-ae6a-4ea9-bcaf-9f6d212cbf8d",
   "metadata": {},
   "source": [
    "### 实验1.1 使用print语句\n",
    "使用print('')语句，输出你的姓名和学号 "
   ]
  },
  {
   "cell_type": "code",
   "execution_count": null,
   "id": "aea5b8f7-a303-48ea-b02f-ffe727486aed",
   "metadata": {},
   "outputs": [],
   "source": []
  },
  {
   "cell_type": "markdown",
   "id": "74720882-31e8-4b7d-b4a6-aff92ca635f8",
   "metadata": {},
   "source": [
    "## （二）标识符"
   ]
  },
  {
   "cell_type": "markdown",
   "id": "51ba9f9b-db5e-4e3b-8a09-0bb6d9ae8054",
   "metadata": {},
   "source": [
    "标识符（Identifier）是Python中用于变量、常量、函数、语句块等命名的一串字符。"
   ]
  },
  {
   "cell_type": "markdown",
   "id": "3cb1e149-64e8-4d27-82b9-957768562dab",
   "metadata": {},
   "source": [
    "命名标识符须遵循以下规则：\n",
    "1. 标识符由字母、数字、下划线“_”或美元符号“$”等组合构成；\n",
    "2. 标识符的首个字符不能是数字；\n",
    "3. 不能使用关键字；\n",
    "4. 标识符大小写敏感"
   ]
  },
  {
   "cell_type": "markdown",
   "id": "10d100d1-35b5-458a-979b-183e84746049",
   "metadata": {},
   "source": [
    "例如gduf2020、_gduf2020都是合法标识符，而2020gduf不是标识符。\n",
    "由于Python严格区分字符的大小写，所以Pi和pi是两个不同的标识符。  \n",
    "为了提高程序的可读性，标识符命名要尽可能“见其名而知其意”。"
   ]
  },
  {
   "cell_type": "markdown",
   "id": "74abd902-886c-4d9e-aab5-3d1ab5f72a5c",
   "metadata": {},
   "source": [
    "### 示例\n",
    "在设计变量名时，当我们需要表示一个变量能够存储年份，我们可以使用`year`"
   ]
  },
  {
   "cell_type": "markdown",
   "id": "642b0e6a-f99e-4cda-9c4f-fec67d8fa093",
   "metadata": {},
   "source": [
    "year"
   ]
  },
  {
   "cell_type": "markdown",
   "id": "f079ab39-745c-49a3-898a-555270b615cd",
   "metadata": {},
   "source": [
    "当需要一个能够存储月份的变量，我们可以设计其为`month`，我们不建议使用拼音来表达其意思，如`nianfen`，`yuefen`。"
   ]
  },
  {
   "cell_type": "markdown",
   "id": "b7df4d01-f4c5-4fc6-9707-250eae536efb",
   "metadata": {},
   "source": [
    "month"
   ]
  },
  {
   "cell_type": "markdown",
   "id": "c9aa2387-cb4e-42e6-9032-b8ab4b768cd8",
   "metadata": {},
   "source": [
    "### 实验1.2 设计一个变量的名称\n",
    "请设计1个变量的名称，用来表示学生的姓名"
   ]
  },
  {
   "cell_type": "markdown",
   "id": "f2533b4c-1a5a-4663-b7db-1a053eac4b75",
   "metadata": {},
   "source": []
  },
  {
   "cell_type": "markdown",
   "id": "1b1d3b51-e4c0-4098-be91-dbb8c8c2aea8",
   "metadata": {},
   "source": [
    "请设计1个变量的名称，用来表示学生的年龄"
   ]
  },
  {
   "cell_type": "markdown",
   "id": "e5b61a78-c885-41a3-a186-e948e6f6d676",
   "metadata": {},
   "source": []
  },
  {
   "cell_type": "markdown",
   "id": "5e05b49d-0384-475f-bcaf-f982a62e2041",
   "metadata": {},
   "source": [
    "请设计1个变量的名称，用来表示学生的专业"
   ]
  },
  {
   "cell_type": "markdown",
   "id": "41cc3568-c5a9-476f-8f8c-37fa32bfa66e",
   "metadata": {},
   "source": []
  },
  {
   "cell_type": "markdown",
   "id": "5ac0aef4-c575-4d11-91ee-bb8398e4757a",
   "metadata": {},
   "source": [
    "## (三) 变量与赋值"
   ]
  },
  {
   "cell_type": "markdown",
   "id": "0195254f-7183-4bfb-be72-ae7ae13654ec",
   "metadata": {},
   "source": [
    "变量（Variable）是计算机语言中能记忆数据的抽象概念。程序通过变量名（标识符表示）来访问变量。  \n",
    "在程序执行过程中，一个变量名代表其记忆的数据所存储的内存区域。\n",
    "Python程序通过变量名使用该变量指代的内存区域，从该内存区域读取数据或将某项数据保存到该区域中。  \n",
    "例如anInteger=100语句表示将整数100保存到变量anInteger所指代的内存区域。"
   ]
  },
  {
   "cell_type": "markdown",
   "id": "24d13ddf-3709-4e82-9e6d-02a586b12d48",
   "metadata": {},
   "source": [
    "### 示例"
   ]
  },
  {
   "cell_type": "markdown",
   "id": "41f8e2b0-2058-48be-9613-c6d07c86cd7c",
   "metadata": {},
   "source": [
    "- 给一个变量名为“year”的变量赋值字符串：'2023'\n",
    "- 给一个变量名为“month”的变量赋值字符串：'09'\n",
    "- 定义一个变量表示日期，赋值字符串：'01'"
   ]
  },
  {
   "cell_type": "code",
   "execution_count": 6,
   "id": "7ce77894-70b4-4caa-9e67-219bf2ca35c1",
   "metadata": {
    "tags": []
   },
   "outputs": [
    {
     "name": "stdout",
     "output_type": "stream",
     "text": [
      "year: 2023\n",
      "month: 09\n",
      "day: 01\n"
     ]
    }
   ],
   "source": [
    "year = '2023'    # 这里创建和定义了一个变量，变量名为year，并赋值为'2023'\n",
    "month = '09'\n",
    "day = '01'\n",
    "print('year:', year)\n",
    "print('month:', month)\n",
    "print('day:', day)"
   ]
  },
  {
   "cell_type": "markdown",
   "id": "e1482398-aad7-449f-8ab8-997bad35a10a",
   "metadata": {},
   "source": [
    "以#开头的语句是注释，注释是给人看的，可以是任意内容，解释器会忽略掉注释。"
   ]
  },
  {
   "cell_type": "markdown",
   "id": "fb5b81c9-54b0-40c4-a5af-bbc6bca26094",
   "metadata": {},
   "source": [
    "### 实验1.3 给变量赋值\n",
    "1. 给一个变量名为“name”的变量，赋值给它\"John\"\n",
    "2. 定义一个变量表示学生的年龄，并赋值给它\"21\"\n",
    "3. 定义一个变量表示学生的专业，并赋值给它\"Math\"\n",
    "4. 使用print语句打印上面的三个变量"
   ]
  },
  {
   "cell_type": "code",
   "execution_count": null,
   "id": "a25a2d50-fdf7-4008-bd34-55374506c577",
   "metadata": {},
   "outputs": [],
   "source": [
    "\n",
    "\n",
    "\n",
    "\n"
   ]
  }
 ],
 "metadata": {
  "kernelspec": {
   "display_name": "Python 3 (ipykernel)",
   "language": "python",
   "name": "python3"
  },
  "language_info": {
   "codemirror_mode": {
    "name": "ipython",
    "version": 3
   },
   "file_extension": ".py",
   "mimetype": "text/x-python",
   "name": "python",
   "nbconvert_exporter": "python",
   "pygments_lexer": "ipython3",
   "version": "3.9.17"
  }
 },
 "nbformat": 4,
 "nbformat_minor": 5
}
