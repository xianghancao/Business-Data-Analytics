{
 "cells": [
  {
   "cell_type": "markdown",
   "id": "1da373a4-da8e-4369-822e-f11491ab75b2",
   "metadata": {},
   "source": [
    "# 实验2: 数据类型"
   ]
  },
  {
   "cell_type": "markdown",
   "id": "b00f1266-fef8-4085-a214-b9e5fa784fcd",
   "metadata": {},
   "source": [
    "\n",
    "计算机顾名思义就是可以做数学计算的机器，因此，计算机程序理所当然地可以处理各种数值。\n",
    "\n",
    "但是，计算机能处理的远不止数值，还可以处理文本、图形、音频、视频、网页等各种各样的数据，不同的数据，需要定义不同的数据类型。在Python中，能够直接处理的数据类型有以下几种：\n",
    "\n",
    "## （一）整数\n",
    "\n",
    "Python可以处理任意大小的整数，当然包括负整数，在程序中的表示方法和数学上的写法一模一样，例如：`1`，`100`，`-8080`，`0`，等等。\n",
    "\n",
    "计算机由于使用二进制，所以，有时候用十六进制表示整数比较方便，十六进制用`0x`前缀和0-9，a-f表示，例如：`0xff00`，`0xa5b4c3d2`，等等。\n",
    "\n",
    "对于很大的数，例如`10000000000`，很难数清楚0的个数。Python允许在数字中间以`_`分隔，因此，写成`10_000_000_000`和`10000000000`是完全一样的。十六进制数也可以写成`0xa1b2_c3d4`。\n"
   ]
  },
  {
   "cell_type": "markdown",
   "id": "9f2ab158-0c95-4074-8595-9c867a69ee50",
   "metadata": {},
   "source": [
    "## （二）浮点数\n",
    "\n",
    "浮点数也就是小数，之所以称为浮点数，是因为按照科学记数法表示时，一个浮点数的小数点位置是可变的，比如，$1.23\\times10^9$ 和 $12.3\\times10^8$ 是完全相等的。\n",
    "\n",
    "浮点数可以用数学写法，如`1.23`，`3.14`，`-9.01`，等等。但是对于很大或很小的浮点数，就必须用科学计数法表示，把10用e替代，$1.23\\times10^9$就是`1.23e9`，或者`12.3e8`，0.000012可以写成`1.2e-5`，等等。\n",
    "\n",
    "整数和浮点数在计算机内部存储的方式是不同的，整数运算永远是精确的，而浮点数运算则可能会有四舍五入的误差。\n",
    "\n"
   ]
  },
  {
   "cell_type": "markdown",
   "id": "8a4a599c-caff-46f0-b256-5a5c4f9466ae",
   "metadata": {},
   "source": [
    "\n",
    "## （三）字符串\n",
    "\n",
    "字符串是以单引号`'`或双引号`\"`括起来的任意文本，比如`'abc'`，`\"xyz\"`等等。请注意，`''`或`\"\"`本身只是一种表示方式，不是字符串的一部分，因此，字符串`'abc'`只有`a`，`b`，`c`这3个字符。如果`'`本身也是一个字符，那就可以用`\"\"`括起来，比如`\"I'm OK\"`包含的字符是`I`，`'`，`m`，空格，`O`，`K`这6个字符。\n",
    "\n",
    "如果需要拼接字符串，可以使用`+`号，例如拼接'abc'和'xyz'这两个字符串：\n"
   ]
  },
  {
   "cell_type": "code",
   "execution_count": 3,
   "id": "5864b84f-00f7-4442-9b11-3ac5b75c2aaa",
   "metadata": {
    "tags": []
   },
   "outputs": [
    {
     "data": {
      "text/plain": [
       "'abcxyz'"
      ]
     },
     "execution_count": 3,
     "metadata": {},
     "output_type": "execute_result"
    }
   ],
   "source": [
    "'abc' + 'xyz'"
   ]
  },
  {
   "cell_type": "markdown",
   "id": "e7e5a816-d9dd-4481-9f00-a5b5144dfe22",
   "metadata": {},
   "source": [
    "## （四）布尔类型\n",
    "布尔类型（Boolean type）是 Python 中一种基本数据类型，用于表示真或假。布尔类型的变量只能取两个值：True 或 False。布尔类型主要应用在运算符与表达式中。\n",
    "\n"
   ]
  },
  {
   "cell_type": "markdown",
   "id": "9f0f3ef9-e32f-47d3-bb70-5bc379cee1f4",
   "metadata": {},
   "source": [
    "### 示例\n",
    "创建布尔类型的变量，分别赋值为True和False。"
   ]
  },
  {
   "cell_type": "code",
   "execution_count": 1,
   "id": "2851dc84-25f8-4865-b1fd-9ba6e22a414c",
   "metadata": {},
   "outputs": [
    {
     "name": "stdout",
     "output_type": "stream",
     "text": [
      "是否是晴天: True\n",
      "是否在下雨: False\n"
     ]
    }
   ],
   "source": [
    "is_sunny = True\n",
    "is_raining = False\n",
    "print(\"是否是晴天:\", is_sunny)\n",
    "print(\"是否在下雨:\", is_raining)"
   ]
  },
  {
   "cell_type": "markdown",
   "id": "e34f1cc3-69b4-4b20-acdf-9bc655e5d3fa",
   "metadata": {},
   "source": [
    "### 实验2.1：创建布尔类型的变量\n",
    "创建两个布尔变量，分别表示你当前是否饿了 (is_hungry) 和是否困了 (is_sleepy)，并输出它们。"
   ]
  },
  {
   "cell_type": "code",
   "execution_count": null,
   "id": "9efb03b4-1e99-4223-a384-9cef349f4b9a",
   "metadata": {},
   "outputs": [],
   "source": [
    "\n",
    "\n",
    "\n",
    "\n"
   ]
  },
  {
   "cell_type": "markdown",
   "id": "b590d772-e0c2-4ad8-be99-b98fb31ac3ba",
   "metadata": {},
   "source": [
    "## （五）运算符与表达式"
   ]
  },
  {
   "cell_type": "markdown",
   "id": "9256f924-57cf-409f-a7e1-f59800b86f4b",
   "metadata": {},
   "source": [
    "运算符包括算术运算符、关系运算符、逻辑运算符、赋值运算符欧等等。  \n",
    "我们先来看看逻辑运算符：and、or和not，逻辑运算符的操作数是逻辑值True（真）和False（假）。not属于一元运算符，只有一个操作数；or和and属于二元运算符，有两个操作数。"
   ]
  },
  {
   "cell_type": "markdown",
   "id": "bb297950-01ac-4017-89ad-8c69d797f1c1",
   "metadata": {},
   "source": [
    "<center>表 逻辑运算符的运算法则</center>\n",
    "\n",
    "|操作数X|操作数Y|X and Y|X or Y| not X|\n",
    "|---|---|---|---|---|\n",
    "|True|True|True|True|False|\n",
    "|True|False|False|True|False|\n",
    "|False|True|False|True|True|\n",
    "|False|False|False|False|True|"
   ]
  },
  {
   "cell_type": "markdown",
   "id": "d3518e1d-3825-4bc8-8201-7126dc6ca778",
   "metadata": {},
   "source": [
    "### 示例\n",
    "使用逻辑运算符and、or、not来处理布尔值，并理解这些运算的结果。"
   ]
  },
  {
   "cell_type": "code",
   "execution_count": 3,
   "id": "83b505d0-3e88-4eff-ae5c-ec47521210a3",
   "metadata": {},
   "outputs": [
    {
     "name": "stdout",
     "output_type": "stream",
     "text": [
      "是否既是晴天又在下雨: False\n",
      "是否是晴天或下雨: True\n",
      "是否不是晴天: False\n"
     ]
    }
   ],
   "source": [
    "is_sunny_and_raining = is_sunny and is_raining\n",
    "is_sunny_or_raining = is_sunny or is_raining\n",
    "is_not_sunny = not is_sunny\n",
    "\n",
    "print(\"是否既是晴天又在下雨:\", is_sunny_and_raining)\n",
    "print(\"是否是晴天或下雨:\", is_sunny_or_raining)\n",
    "print(\"是否不是晴天:\", is_not_sunny)"
   ]
  },
  {
   "cell_type": "markdown",
   "id": "f0d2f916-7b3a-43d0-ac89-fbddc45bc3f7",
   "metadata": {},
   "source": [
    "### 实验2.2：逻辑运算\n",
    "使用你之前创建的is_hungry和is_sleepy变量，结合and、or和not进行逻辑运算，并输出结果。\n"
   ]
  },
  {
   "cell_type": "code",
   "execution_count": null,
   "id": "c1a5e0b1-201e-46f9-a6c3-42cc6036646d",
   "metadata": {},
   "outputs": [],
   "source": [
    "\n",
    "\n",
    "\n",
    "\n",
    "\n"
   ]
  },
  {
   "cell_type": "markdown",
   "id": "e277b38c-81de-42a5-9f9f-eda5b5fe76af",
   "metadata": {},
   "source": [
    "## （六）运算符的优先级"
   ]
  },
  {
   "cell_type": "markdown",
   "id": "6e293591-530f-4c7a-95fe-b56984c65652",
   "metadata": {},
   "source": [
    "表达式是由变量、对象、方法调用和操作符等元素组成的式子。例如`a+b`, `a>b`, `a and b`都为表达式。\n",
    "\n",
    "**当表达式出现多个运算符时，Python将按照运算符的优先次序从高到低进行计算**。"
   ]
  },
  {
   "cell_type": "markdown",
   "id": "8a77f113-1907-43f1-a086-9a28128514ec",
   "metadata": {},
   "source": [
    "<center>运算符的优先次序</center>\n",
    "\n",
    "|运算符|描述（优先次序从高到低）|\n",
    "|---|---|\n",
    "|**|幂运算|\n",
    "|~, + , -|按位翻转，正号，负号|\n",
    "|*, /, %, //|乘、除、取模和取整除|\n",
    "|+, -|加法、减法|\n",
    "|>>, <<|右移|\n",
    "|&,|位与|\n",
    "|^, \\||位运算符|\n",
    "|<,<=,>,>=,!=,==|比较运算符|\n",
    "|is, is not|身份运算符|\n",
    "|in, not in|成员运算符|\n",
    "|not, or, and|逻辑运算符|"
   ]
  },
  {
   "cell_type": "markdown",
   "id": "76363bd0-98e3-465f-a51a-45ded69a716e",
   "metadata": {},
   "source": [
    "### 实验2.3：运算符的优先级\n",
    "以下表达式的运行结果是多少？  \n",
    "\n",
    "- 1 + 2\\**2\n",
    "- (5 + 2) * 3 // 4\n",
    "- 2>1 and 3<2\n",
    "- not 2>1\n",
    "- a = True; (a is False) or (a is not True) or (a is not False)\n",
    "- a = [1,2,3,4,5,6]; not (3 not in a)"
   ]
  },
  {
   "cell_type": "code",
   "execution_count": null,
   "id": "3af5e671-e82c-4d11-92c7-f853d5de9348",
   "metadata": {},
   "outputs": [],
   "source": []
  }
 ],
 "metadata": {
  "kernelspec": {
   "display_name": "Python 3 (ipykernel)",
   "language": "python",
   "name": "python3"
  },
  "language_info": {
   "codemirror_mode": {
    "name": "ipython",
    "version": 3
   },
   "file_extension": ".py",
   "mimetype": "text/x-python",
   "name": "python",
   "nbconvert_exporter": "python",
   "pygments_lexer": "ipython3",
   "version": "3.12.5"
  }
 },
 "nbformat": 4,
 "nbformat_minor": 5
}
