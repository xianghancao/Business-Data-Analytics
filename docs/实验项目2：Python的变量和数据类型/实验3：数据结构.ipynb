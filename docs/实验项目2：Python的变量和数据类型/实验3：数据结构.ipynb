{
 "cells": [
  {
   "cell_type": "markdown",
   "id": "cd68e558-0e04-43a4-b20d-d13d996f85bf",
   "metadata": {},
   "source": [
    "# 实验3: 数据结构"
   ]
  },
  {
   "cell_type": "markdown",
   "id": "611e14cc-5deb-4faf-bf65-1d3db1e0e8c1",
   "metadata": {},
   "source": [
    "## （一）列表\n",
    "\n",
    "列表（List）是python语言编程使用最多的一种数据结构。  \n",
    "它是一种**有序**的集合，可以随时添加和删除其中的元素。"
   ]
  },
  {
   "cell_type": "code",
   "execution_count": 4,
   "id": "200211de-1f72-474a-b11c-67c1c93ad37e",
   "metadata": {
    "tags": []
   },
   "outputs": [],
   "source": [
    "l = [6, 3.2, '苹果']"
   ]
  },
  {
   "cell_type": "markdown",
   "id": "ace3e248-9ccf-4294-a07f-f1748072a758",
   "metadata": {},
   "source": [
    "列表是一个可变的有序表，所以，可以往列表中追加元素到末尾："
   ]
  },
  {
   "cell_type": "code",
   "execution_count": 5,
   "id": "e8aa679d-6ead-4056-8fb8-0ab52f5a923b",
   "metadata": {
    "tags": []
   },
   "outputs": [
    {
     "data": {
      "text/plain": [
       "[6, 3.2, '苹果', '香蕉']"
      ]
     },
     "execution_count": 5,
     "metadata": {},
     "output_type": "execute_result"
    }
   ],
   "source": [
    "l.append('香蕉')\n",
    "l"
   ]
  },
  {
   "cell_type": "markdown",
   "id": "d982ce70-55f8-4e7f-99c3-c7f546208f50",
   "metadata": {},
   "source": [
    "要删除指定位置的元素，用`pop(i)`方法，其中`i`是索引位置：\n"
   ]
  },
  {
   "cell_type": "code",
   "execution_count": 6,
   "id": "ce94a63b-9641-423a-8751-166ca685ae8c",
   "metadata": {
    "tags": []
   },
   "outputs": [
    {
     "data": {
      "text/plain": [
       "[6, '苹果', '香蕉']"
      ]
     },
     "execution_count": 6,
     "metadata": {},
     "output_type": "execute_result"
    }
   ],
   "source": [
    "l.pop(1)\n",
    "l"
   ]
  },
  {
   "cell_type": "markdown",
   "id": "d85d1112-dc12-4b41-9e76-1d66c042c8b0",
   "metadata": {},
   "source": [
    "要把某个元素替换成别的元素，可以直接赋值给对应的索引位置：\n"
   ]
  },
  {
   "cell_type": "code",
   "execution_count": 7,
   "id": "3c1d8625-e80a-45cc-87fa-306923b01d78",
   "metadata": {
    "tags": []
   },
   "outputs": [
    {
     "data": {
      "text/plain": [
       "[6, 1.9, '香蕉']"
      ]
     },
     "execution_count": 7,
     "metadata": {},
     "output_type": "execute_result"
    }
   ],
   "source": [
    "l[1] = 1.9\n",
    "l"
   ]
  },
  {
   "cell_type": "markdown",
   "id": "282ce8fe-6c0b-4a4f-a7c9-cf27abbe85f9",
   "metadata": {},
   "source": [
    "列表中的元素的索引位置是从0开始，直到列表的长度-1结束。"
   ]
  },
  {
   "cell_type": "markdown",
   "id": "8887b028-ce51-492f-a219-2ed2d2cd7afe",
   "metadata": {},
   "source": [
    "\n",
    "列表元素也可以是另一个列表，比如：\n"
   ]
  },
  {
   "cell_type": "code",
   "execution_count": 8,
   "id": "c3b92469-6fd9-4ac2-8ece-93ac9e8ad4e1",
   "metadata": {
    "tags": []
   },
   "outputs": [
    {
     "data": {
      "text/plain": [
       "3"
      ]
     },
     "execution_count": 8,
     "metadata": {},
     "output_type": "execute_result"
    }
   ],
   "source": [
    "l = [6, 1.9, ['苹果', '香蕉']]  #这种称之为嵌套\n",
    "len(l)"
   ]
  },
  {
   "cell_type": "markdown",
   "id": "b258b060-b3ed-44fc-b7c0-4b1050842d4d",
   "metadata": {},
   "source": [
    "\n",
    "如果一个列表中一个元素也没有，就是一个空的列表，它的长度为0：\n"
   ]
  },
  {
   "cell_type": "code",
   "execution_count": 9,
   "id": "e751938e-bca5-43d3-925f-a0c2df264469",
   "metadata": {
    "tags": []
   },
   "outputs": [
    {
     "data": {
      "text/plain": [
       "0"
      ]
     },
     "execution_count": 9,
     "metadata": {},
     "output_type": "execute_result"
    }
   ],
   "source": [
    "l = []\n",
    "len(l)"
   ]
  },
  {
   "cell_type": "markdown",
   "id": "e5cf07c5-9680-40c8-bde8-ef771aff6181",
   "metadata": {},
   "source": [
    "**列表的常用方法**\n",
    "\n",
    "列表支持以下方法：\n",
    "\n",
    "| 语法                   | 描述                                                         |\n",
    "| --- | --- |\n",
    "| L.append(x)            | 将元素x追加到列表L的尾部                                 |\n",
    "| L.count(x)             | 返回元素x在列表L中出现的次数                             |\n",
    "| L.extend(m)            | 将列表m的项追加到L的结尾处，操作符+=完成同样的功能      |\n",
    "| L.index(x, start, end) | 返回元素x在列表L中(或L的start:end分片中)最左边出现的索引位置，否则会产生一个ValueError异常 |\n",
    "| L.insert(i, x)  | 在索引位置i处将元素x插入列表L                        |\n",
    "| L.pop()           | 返回并移除list L最右边的元素                             |\n",
    "| L.pop(i)          | 返回并移除L中索引位置int i处的元素                       |\n",
    "| L.remove(x)       | 从list L中移除最左边出现的元素x，如果找不到x就产生ValueError异常 |\n"
   ]
  },
  {
   "cell_type": "markdown",
   "id": "66021ce0-51bf-48f6-b541-6c6673f2106b",
   "metadata": {},
   "source": [
    "### 实验3.1：创建一个列表\n",
    "\n",
    "- 请创建一个列表变量，名字叫college，包含以下元素：\"外语学院\"，\"国际交流学院\"，\"教育学院\"，\"传媒学院\"\n",
    "- 使用print语句输出上述列表\n",
    "- 使用append语句在该列表后追加一个新的元素：\"商学院\"\n",
    "- 计算上述列表的长度\n",
    "\n",
    "\n",
    "提示：在调试代码过程中，如果出现语句错误，如“SyntaxError: invalid character in identifier”，讲中文逗号\"，\"改成英文逗号\",\" 。\n",
    "\n",
    "\n"
   ]
  },
  {
   "cell_type": "code",
   "execution_count": null,
   "id": "054d2e3c-6a4b-4796-9bbd-fe934f3520eb",
   "metadata": {},
   "outputs": [],
   "source": [
    "\n",
    "\n"
   ]
  },
  {
   "cell_type": "markdown",
   "id": "1a2ac42a-c467-46bf-93b9-3de0017a4310",
   "metadata": {},
   "source": [
    "## （二）元祖\n",
    "另一种有序列表叫元组：tuple。\n",
    "\n",
    "> 这个单词怎么读呢？ Python之父吉多·范罗苏姆在 [Twitter](https://twitter.com/gvanrossum/status/86144775731941376) 上说：“ 每周的一三五我会把 tuple 念作 **too-pull**，而二四六我喜欢念作 **tub-pull**。至于礼拜天嘛，我从不会讨论这些。:)”  \n",
    ">\n",
    "> 引自《Python语言及其应用》\n",
    "\n"
   ]
  },
  {
   "cell_type": "markdown",
   "id": "60696f0a-76aa-49ad-ba8d-32ba64cd10a5",
   "metadata": {},
   "source": [
    "元祖和列表非常类似，但是tuple一旦初始化就不能修改，比如：\n",
    "\n",
    "```python\n",
    ">>> t = (6, 1.9,  '香蕉')\n",
    ">>> type(t) # 看看它的类型\n",
    "```\n",
    "\n",
    "\n",
    "现在，这个元祖不能变了，它也没有append()，insert()这样的方法。其他获取元素的方法和列表是一样的，你可以正常地使用`t[0]`，`train[-1]`，但不能赋值成另外的元素。\n",
    "通常我们使用元祖来存储一些无法被修改的安全信息。"
   ]
  },
  {
   "cell_type": "markdown",
   "id": "9a658ba2-4d1e-4f3c-9240-54026db7cd69",
   "metadata": {},
   "source": [
    "### 实验3.2：元祖的不变特性\n",
    "创建一个元祖变量名称为account_info, 其中包含两个元素'John', '123456'，  \n",
    "然后尝试令account_info[1] = '654321'。"
   ]
  },
  {
   "cell_type": "code",
   "execution_count": null,
   "id": "64001891-b87a-45d9-aaec-270131fae1fc",
   "metadata": {},
   "outputs": [],
   "source": [
    "\n",
    "\n"
   ]
  },
  {
   "cell_type": "markdown",
   "id": "ff9e9fb2-90c5-418c-90e9-2eb6f35aeade",
   "metadata": {},
   "source": [
    "## （三）字典\n",
    "我们要学习的第三个数据结构是字典（dict）全称dictionary。它是Python中唯一的映射类型的数据结构。\n",
    "\n",
    "举个例子，假设要根据同学的名字查找对应的成绩，如果用列表实现，需要两个列表：\n",
    "\n",
    "```python\n",
    "names = ['Michael', 'Bob', 'Tracy']\n",
    "scores = [95, 75, 85]\n",
    "```\n",
    "\n",
    "给定一个名字，要查找对应的成绩，就先要在names中找到对应的位置，再从scores取出对应的成绩，列表越长，耗时越长。\n",
    "\n",
    "如果用字典实现，只需要一个“名字”-“成绩”的对照表，直接根据名字查找成绩，无论这个表有多大，查找速度都不会变慢。用Python写一个字典如下：\n",
    "\n",
    "```python\n",
    ">>> d = {'Michael': 95, 'Bob': 75, 'Tracy': 85}\n",
    ">>> d['Michael']\n",
    "95\n",
    "```\n"
   ]
  },
  {
   "cell_type": "markdown",
   "id": "685d1620-fde5-466d-a9ed-e62bbaaaa9d4",
   "metadata": {},
   "source": [
    "请务必注意，字典内部存放的顺序和键放入的顺序是没有关系的。\n",
    "\n",
    "和列表比较，字典有以下几个特点：\n",
    "\n",
    "1. 查找和插入的速度极快，不会随着key的增加而变慢；\n",
    "2. 需要占用大量的内存，内存浪费多。\n",
    "\n",
    "而列表相反：\n",
    "\n",
    "1. 查找和插入的时间随着元素的增加而增加；\n",
    "2. 占用空间小，浪费内存很少。\n",
    "\n",
    "所以，字典是用空间来换取时间的一种方法。\n",
    "\n",
    "字典可以用在需要高速查找的很多地方，在Python代码中几乎无处不在，正确使用字典非常重要，需要牢记的第一条就是字典的key必须是**不可变对象**。\n",
    "\n"
   ]
  },
  {
   "cell_type": "markdown",
   "id": "7e70ac35-95cf-4014-8f99-5d1edc13c5b0",
   "metadata": {},
   "source": [
    "字典有如下方法：\n",
    "\n",
    "| 语法                | 描述                                                         |\n",
    "| --- | --- |\n",
    "| d.keys()            | 返回字典d中所有键的视图                                 |\n",
    "| d.values()                | 返回字典d中所有值的视图                                  |\n",
    "| d.items()           | 返回字典d中所有(key, value)对的视图                     |\n",
    "| d.get(k)            | 返回键k相关联的值，如果k不在字典d中就返回None               |\n",
    "| d.get(k, v)         | 返回键k相关联的值，如果k不在字典d中就返回v                  |\n",
    "| d.pop(k)            | 返回键k相关联的值，并移除键为k的项，如果k不包含在d中就产生KeyError异常|\n",
    "| d.pop(k, v)               | 返回键k相关联的值，并移除键为k的项，如果k不包含在d中就返回v  |\n",
    "| d.popitem()               | 返回并移除字典d中一个任意的(key, value)对，如果d为空就产 生KeyError异常 |\n",
    "| d.clear()           | 从字典d中移除所有项                                         |\n",
    "| d.fromkeys(s, v)  | 返回一个dict，该字典的键为序列s中的项，值为None或v(如果给定 了参数v) |\n",
    "| d.setdefault(k, v)  | 与dict.get()方法一样，不同之处在于，如果k没有包含在字典d中 就插入一个键为k的新项，其值为None或v(如果给定了参数v) |\n",
    "| d.update(a)               | 将a中每个尚未包含在字典d中的(key, value)对添加到d，对同时 包含在d与a中的每个键，使用a中对应的值替换d中对应的值——a可以是 字典，也可以是(key, value)对的一个iterable，或关键字参数 |\n",
    "\n",
    "\n",
    "\n",
    "\n"
   ]
  },
  {
   "cell_type": "markdown",
   "id": "a2c7cfcf-6d9b-4c66-94b7-80b0001e2e47",
   "metadata": {},
   "source": [
    "### 实验3.3：创建字典\n",
    "创建一个字典变量，名为student_info, 包含三个键-值对：\n",
    "\n",
    "- 'name': 'John'\n",
    "- 'age': 21\n",
    "- 'major':'math'"
   ]
  },
  {
   "cell_type": "code",
   "execution_count": null,
   "id": "47ca219c-a862-472e-8de3-f49b7e56ea5f",
   "metadata": {},
   "outputs": [],
   "source": [
    "\n",
    "\n",
    "\n"
   ]
  }
 ],
 "metadata": {
  "kernelspec": {
   "display_name": "Python 3 (ipykernel)",
   "language": "python",
   "name": "python3"
  },
  "language_info": {
   "codemirror_mode": {
    "name": "ipython",
    "version": 3
   },
   "file_extension": ".py",
   "mimetype": "text/x-python",
   "name": "python",
   "nbconvert_exporter": "python",
   "pygments_lexer": "ipython3",
   "version": "3.12.5"
  }
 },
 "nbformat": 4,
 "nbformat_minor": 5
}
