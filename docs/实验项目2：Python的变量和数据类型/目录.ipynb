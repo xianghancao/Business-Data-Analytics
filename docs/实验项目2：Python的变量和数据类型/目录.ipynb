{
 "cells": [
  {
   "cell_type": "markdown",
   "id": "fb2792b2-03f2-4727-bacb-a886e02dae3d",
   "metadata": {},
   "source": [
    "# 实验项目2：Python的变量和数据类型"
   ]
  },
  {
   "cell_type": "markdown",
   "id": "47600a6d-c16f-4805-8df1-b782a13b9aaa",
   "metadata": {},
   "source": [
    "## 目录\n",
    "\n",
    "```{tableofcontents}\n",
    "```"
   ]
  },
  {
   "cell_type": "markdown",
   "id": "b8986877-878a-47f1-85a9-511cf5f6dec5",
   "metadata": {},
   "source": []
  }
 ],
 "metadata": {
  "kernelspec": {
   "display_name": "Python 3 (ipykernel)",
   "language": "python",
   "name": "python3"
  },
  "language_info": {
   "codemirror_mode": {
    "name": "ipython",
    "version": 3
   },
   "file_extension": ".py",
   "mimetype": "text/x-python",
   "name": "python",
   "nbconvert_exporter": "python",
   "pygments_lexer": "ipython3",
   "version": "3.9.17"
  }
 },
 "nbformat": 4,
 "nbformat_minor": 5
}
