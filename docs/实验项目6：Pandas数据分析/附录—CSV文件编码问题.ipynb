{
 "cells": [
  {
   "cell_type": "markdown",
   "id": "ca2a6467-2a98-43ef-9c34-c812ba1906bb",
   "metadata": {
    "tags": []
   },
   "source": [
    "# 附录：CSV文件无法打开"
   ]
  },
  {
   "cell_type": "markdown",
   "id": "d2ab74b8-533c-4f60-9ce9-ab542a1816e4",
   "metadata": {},
   "source": [
    "## 1. 编码问题"
   ]
  },
  {
   "cell_type": "markdown",
   "id": "5f58bbc8-57ee-45c4-80e7-4d27e406b25e",
   "metadata": {},
   "source": [
    "当使用 Pandas 读取 CSV 文件时遇到编码问题，可能会是 ANSI 编码格式。ANSI 编码是一种常见的字符编码方式，尤其在 Windows 系统中经常使用。在一些情况下，Pandas 可能无法自动识别 ANSI 编码，导致读取文件时出现编码问题。"
   ]
  },
  {
   "cell_type": "markdown",
   "id": "a6b9622d-38c1-4fc8-b1fa-d7f2820c8f6f",
   "metadata": {},
   "source": [
    "当遇到 ANSI 编码问题时，可以尝试指定编码方式为'ansi'，这种方式通常可以正确地解析 ANSI 编码的文件。以下是一个示例代码：\n",
    "\n",
    "```python\n",
    "df = pd.read_csv('file.csv', encoding='ansi')\n",
    "```\n"
   ]
  },
  {
   "cell_type": "markdown",
   "id": "e759d4f7-ec2a-43a0-af5d-2b64609354f3",
   "metadata": {},
   "source": [
    "上述代码里面，指定参数`encoding`为'ansi'。"
   ]
  },
  {
   "cell_type": "markdown",
   "id": "bc31aee4-634a-41f3-812d-538e31512c35",
   "metadata": {},
   "source": [
    "## 2. 找不到该文件"
   ]
  },
  {
   "cell_type": "markdown",
   "id": "da0b3f93-be75-481f-a9ad-1b23b0b83e5f",
   "metadata": {},
   "source": [
    "当使用 Pandas 打开 CSV 文件时，如果找不到指定的文件，Python 通常会引发 FileNotFoundError 异常，并且会包含一些详细的错误信息，如文件路径、文件名等。下面是一个示例错误信息："
   ]
  },
  {
   "cell_type": "markdown",
   "id": "fc91a631-c19c-4408-9ae5-7d30d6d4b870",
   "metadata": {},
   "source": [
    "\n",
    "```\n",
    "FileNotFoundError: [Errno 2] No such file or directory: 'example.csv'\n",
    "```"
   ]
  },
  {
   "cell_type": "markdown",
   "id": "711660d5-7418-4714-9d93-24f0428e34f5",
   "metadata": {},
   "source": [
    "在这个示例中，错误信息表明 Python 找不到名为 example.csv 的文件。"
   ]
  }
 ],
 "metadata": {
  "kernelspec": {
   "display_name": "Python 3 (ipykernel)",
   "language": "python",
   "name": "python3"
  },
  "language_info": {
   "codemirror_mode": {
    "name": "ipython",
    "version": 3
   },
   "file_extension": ".py",
   "mimetype": "text/x-python",
   "name": "python",
   "nbconvert_exporter": "python",
   "pygments_lexer": "ipython3",
   "version": "3.9.17"
  }
 },
 "nbformat": 4,
 "nbformat_minor": 5
}
