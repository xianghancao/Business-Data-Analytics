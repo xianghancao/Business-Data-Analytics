{
 "cells": [
  {
   "cell_type": "markdown",
   "metadata": {
    "colab_type": "text",
    "id": "view-in-github"
   },
   "source": [
    "# 2 Pandas的数据框"
   ]
  },
  {
   "cell_type": "markdown",
   "metadata": {},
   "source": [
    "Pandas的数据框(DataFrame)是一种二维的数据结构，类似于电子表格或关系型数据库中的表格。它由行和列组成，每列可以包含不同的数据类型（例如数字、字符串、布尔值等）。数据框是Pandas库中最常用的数据结构之一，它提供了许多功能强大的方法和工具，用于数据的处理、分析和操作。"
   ]
  },
  {
   "cell_type": "markdown",
   "metadata": {
    "colab_type": "text",
    "id": "7qQ1n2fkx234"
   },
   "source": [
    "## 1. 读取和创建数据框\n",
    "数据框可以通过多种方式创建，例如从CSV文件、Excel文件、数据库查询结果等导入数据，或者通过手动创建一个字典、列表或NumPy数组来构建数据框。\n",
    "\n",
    "从CSV文件导入数据，并创建数据框，方法如下："
   ]
  },
  {
   "cell_type": "markdown",
   "metadata": {},
   "source": [
    "![0 excel-to-pandas](images/excel-to-pandas.png)"
   ]
  },
  {
   "cell_type": "markdown",
   "metadata": {},
   "source": [
    "DataFrame的对象--基本上是一个数值表，每一行和每一列都有一个标签。上面的CSV文件来自一个音乐流媒体服务的数据，包含4个艺术家及其曲风、粉丝数、播放量这四列。"
   ]
  },
  {
   "cell_type": "markdown",
   "metadata": {},
   "source": [
    "### 实验2.1：加载CSV格式文件\n",
    "使用`pd.read_csv()`加载路径下的CSV文件：'datasets/music.csv'"
   ]
  },
  {
   "cell_type": "code",
   "execution_count": null,
   "metadata": {},
   "outputs": [],
   "source": [
    "\n",
    "\n"
   ]
  },
  {
   "cell_type": "markdown",
   "metadata": {},
   "source": [
    "\n",
    "如果通过创建字典的方式构建数据框，那么方法如下："
   ]
  },
  {
   "cell_type": "code",
   "execution_count": 1,
   "metadata": {
    "colab": {},
    "colab_type": "code",
    "id": "yyFj31jcMmH6"
   },
   "outputs": [],
   "source": [
    "import pandas as pd\n",
    "df = pd.DataFrame({'Artist':['Billie Holiday','Jimi Hendrix', 'Miles Davis', 'SIA'],\n",
    "              'Genre': ['Jazz', 'Rock', 'Jazz', 'Pop'],\n",
    "              'Listeners': [1300000, 2700000, 1500000, 2000000],\n",
    "              'Plays': [27000000, 70000000, 48000000, 74000000]})"
   ]
  },
  {
   "cell_type": "markdown",
   "metadata": {
    "colab": {},
    "colab_type": "code",
    "id": "WF4_LVYOO__m"
   },
   "source": [
    "![view_pandas_dataframe](images/view_pandas_dataframe.png)"
   ]
  },
  {
   "cell_type": "markdown",
   "metadata": {},
   "source": [
    "一旦创建了数据框，就可以使用Pandas提供的各种方法和函数来对数据进行筛选、排序、聚合、合并等操作，以满足不同的数据分析需求。"
   ]
  },
  {
   "cell_type": "markdown",
   "metadata": {
    "colab_type": "text",
    "id": "6LUcXFMKyF6z"
   },
   "source": [
    "## 2. 选择\n",
    "可以使用数据框的列名来选择特定的列数据。例如，使用df['Artists']可以选择名为\"Artists\"的列数据。"
   ]
  },
  {
   "cell_type": "markdown",
   "metadata": {
    "colab": {},
    "colab_type": "code",
    "id": "sTNHtQz3Mu_K"
   },
   "source": [
    "![select-column](images/select-column.png)"
   ]
  },
  {
   "cell_type": "markdown",
   "metadata": {
    "colab": {},
    "colab_type": "code",
    "id": "fhOMUtTNPnc0"
   },
   "source": [
    "当然可以使用行索引来选择特定的行数据。例如，使用`df.loc[row_index]`可以选择名为\"row_index\"的行数据。\n",
    "\n",
    "当然也可以使用`.loc`来选择表格的任何片断（但这里会包括两个边界行号）："
   ]
  },
  {
   "cell_type": "markdown",
   "metadata": {
    "colab": {},
    "colab_type": "code",
    "id": "ov_6TtCvPubJ"
   },
   "source": [
    "![select_column-and-rows.png](images/select_column-and-rows.png)"
   ]
  },
  {
   "cell_type": "markdown",
   "metadata": {},
   "source": [
    "### 实验2.2：选择部分区域元素\n",
    "选择第1和第2行，列名为 \"Artist\" and \"Plays\"的部分。"
   ]
  },
  {
   "cell_type": "code",
   "execution_count": null,
   "metadata": {},
   "outputs": [],
   "source": [
    "\n",
    "\n",
    "\n"
   ]
  },
  {
   "cell_type": "markdown",
   "metadata": {
    "colab_type": "text",
    "id": "GeuS62DoyXlJ"
   },
   "source": [
    "## 3. 过滤\n",
    "我们可以很容易地使用特定行的值来过滤行。例如，这里是我们的爵士乐手："
   ]
  },
  {
   "cell_type": "markdown",
   "metadata": {
    "colab": {},
    "colab_type": "code",
    "id": "ax8qDMHfPQmP"
   },
   "source": [
    "![pandas-filter-1](images/pandas-filter-1.png)"
   ]
  },
  {
   "cell_type": "markdown",
   "metadata": {
    "colab": {},
    "colab_type": "code",
    "id": "Surgh6XVRmlT"
   },
   "source": [
    "### 实验2.3：过滤元素\n",
    "选择 Genre 是 \"Rock\"的行\n",
    "\n"
   ]
  },
  {
   "cell_type": "code",
   "execution_count": null,
   "metadata": {},
   "outputs": [],
   "source": [
    "\n",
    "\n",
    "\n"
   ]
  },
  {
   "cell_type": "markdown",
   "metadata": {
    "colab_type": "text",
    "id": "a33J488lyeFj"
   },
   "source": [
    "以下是拥有超过180万名听众的艺术家："
   ]
  },
  {
   "cell_type": "markdown",
   "metadata": {
    "colab": {},
    "colab_type": "code",
    "id": "H1Ld-RXQPTLL"
   },
   "source": [
    "![filter](images/filter.png)"
   ]
  },
  {
   "cell_type": "markdown",
   "metadata": {
    "colab": {},
    "colab_type": "code",
    "id": "8XLaLBKORva4"
   },
   "source": [
    "### 实验2.4：条件过滤\n",
    "选择 \"Plays \"小于50,000,000的行\n",
    "\n",
    "\n"
   ]
  },
  {
   "cell_type": "code",
   "execution_count": null,
   "metadata": {},
   "outputs": [],
   "source": [
    "\n",
    "\n",
    "\n"
   ]
  },
  {
   "cell_type": "markdown",
   "metadata": {
    "colab_type": "text",
    "id": "MPeYsXStyuwA"
   },
   "source": [
    "## 4. 分组"
   ]
  },
  {
   "cell_type": "markdown",
   "metadata": {},
   "source": [
    "当你开始用某些标准对行进行分组并汇总它们的数据时，事情就会变得非常有趣。例如，让我们按流派\"Genre\"对我们的数据集进行分组，看看每种流派有多少听众和播放次数："
   ]
  },
  {
   "cell_type": "markdown",
   "metadata": {
    "colab": {},
    "colab_type": "code",
    "id": "qPG_jFSdPMF5"
   },
   "source": [
    "![group-by](images/group-by.png)"
   ]
  },
  {
   "cell_type": "markdown",
   "metadata": {},
   "source": [
    "Pandas将两行 \"Jazz\"爵士乐归为一行，由于我们使用了`sum()`聚合，它将两位爵士乐艺术家的听众和播放次数加在一起，并将总和显示在合并的\"Jazz\"列中。"
   ]
  },
  {
   "cell_type": "markdown",
   "metadata": {},
   "source": [
    "这不仅有趣，而且是一种极其强大的数据分析方法。现在你知道了`groupby()`，你就可以折叠数据集并从中发掘出洞察力。"
   ]
  },
  {
   "cell_type": "markdown",
   "metadata": {},
   "source": [
    "除了`sum()`，pandas还提供了多个聚合函数，包括计算平均值的`mean()`，`min()`，`max()`，以及其他多个函数。更多关于`groupyby()`的信息请参见Group By用户指南。"
   ]
  },
  {
   "cell_type": "markdown",
   "metadata": {
    "colab": {},
    "colab_type": "code",
    "id": "g2IFgCF4Rg48"
   },
   "source": [
    "### 实验2.5：聚合\n",
    "按\"Genre\"分组，使用`sum()`作为聚合函数 "
   ]
  },
  {
   "cell_type": "code",
   "execution_count": null,
   "metadata": {
    "tags": []
   },
   "outputs": [],
   "source": [
    "\n",
    "\n",
    "\n"
   ]
  },
  {
   "cell_type": "markdown",
   "metadata": {},
   "source": [
    "## 5. 从现有的列创建新的列"
   ]
  },
  {
   "cell_type": "markdown",
   "metadata": {},
   "source": [
    "在数据分析过程中，我们经常发现自己需要从现有的列中创建新的列。Pandas让这一切变得轻而易举。"
   ]
  },
  {
   "cell_type": "markdown",
   "metadata": {},
   "source": [
    "![create-new-column](images/create-new-column.png)"
   ]
  },
  {
   "cell_type": "markdown",
   "metadata": {},
   "source": [
    "通过告诉Pandas用一列除以另一列，它意识到我们要做的是分别除以各个数值（即每行的 \"Plays \"值除以该行的 \"Listeners \"值）。"
   ]
  },
  {
   "cell_type": "markdown",
   "metadata": {
    "colab": {},
    "colab_type": "code",
    "id": "g2IFgCF4Rg48"
   },
   "source": [
    "### 实验2.6：创建新列\n",
    "创建一个新列，列名为'Avg Plays'，值为每个艺术家的平均播放次数，即总播放次数'Plays'除以听众数'Listeners'。"
   ]
  },
  {
   "cell_type": "code",
   "execution_count": null,
   "metadata": {},
   "outputs": [],
   "source": [
    "\n",
    "\n",
    "\n"
   ]
  },
  {
   "cell_type": "markdown",
   "metadata": {},
   "source": [
    "## 参考\n",
    "- 10 Minutes to pandas: https://pandas.pydata.org/pandas-docs/stable/10min.html\n",
    "- A Gentle Visual Intro to Data Analysis in Python Using Pandas: https://jalammar.github.io/gentle-visual-intro-to-data-analysis-python-pandas/"
   ]
  }
 ],
 "metadata": {
  "colab": {
   "collapsed_sections": [],
   "include_colab_link": true,
   "name": "Pandas Intro.ipynb",
   "provenance": [],
   "version": "0.3.2"
  },
  "kernelspec": {
   "display_name": "Python 3 (ipykernel)",
   "language": "python",
   "name": "python3"
  },
  "language_info": {
   "codemirror_mode": {
    "name": "ipython",
    "version": 3
   },
   "file_extension": ".py",
   "mimetype": "text/x-python",
   "name": "python",
   "nbconvert_exporter": "python",
   "pygments_lexer": "ipython3",
   "version": "3.11.7"
  },
  "toc-showmarkdowntxt": false
 },
 "nbformat": 4,
 "nbformat_minor": 4
}
