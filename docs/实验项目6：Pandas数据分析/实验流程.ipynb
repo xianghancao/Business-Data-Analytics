{
 "cells": [
  {
   "cell_type": "markdown",
   "id": "42f6c5e5-4fa8-4428-91b7-c99ea1045050",
   "metadata": {},
   "source": [
    "# 实验流程"
   ]
  },
  {
   "cell_type": "markdown",
   "id": "95f4502c-7cbb-4885-9798-b47e9dde3be0",
   "metadata": {},
   "source": [
    "\n",
    "<div class=\"alert alert-block alert-success\">\n",
    "<b>知识点：</b>DataFrame数据框；描述性统计的方法；Pandas的金融应用场景\n",
    "<br><b>重点：</b>Pandas库的数据结构、常用分析方法、描述性统计的方法\n",
    "<br><b>难点：</b>Pandas的金融应用场景\n",
    "</div>\n",
    "\n",
    "\n"
   ]
  },
  {
   "cell_type": "markdown",
   "id": "45b1fa44-66f7-4d06-b9a4-f0b650ba6188",
   "metadata": {
    "tags": []
   },
   "source": [
    "## 1. 课前知识"
   ]
  },
  {
   "cell_type": "markdown",
   "id": "504048a6-eb45-46e8-84fe-95935365d587",
   "metadata": {},
   "source": [
    "请使用各类资源和工具，完成以下名词解释：\n",
    "- 数据框\n",
    "- 描述性统计方法\n",
    "- CSV格式文件\n",
    "- XLS格式文件\n",
    "- 行和行名\n",
    "- 列和列名"
   ]
  },
  {
   "cell_type": "markdown",
   "id": "7a1047d0-8599-4a59-85e0-2b6de69f8244",
   "metadata": {},
   "source": [
    "## 2. Keybr打字练习"
   ]
  },
  {
   "cell_type": "markdown",
   "id": "c2d9b363-4a1d-4275-9dd5-eb873a65b2ed",
   "metadata": {},
   "source": [
    "在浏览器地址栏输入：[keybr.com](https://keybr.com)"
   ]
  },
  {
   "cell_type": "markdown",
   "id": "44cdce1e-8288-49ff-beaf-5d35fef4282d",
   "metadata": {},
   "source": [
    "## 3. 观看视频\n",
    "\n"
   ]
  },
  {
   "cell_type": "markdown",
   "id": "4ef5057d-9039-4233-bb03-8c9a4810b32f",
   "metadata": {},
   "source": [
    "观看[《探索“海量数据”的前沿》](https://player.bilibili.com/player.html?aid=76325166&bvid=BV1zJ41117me&cid=130555852&p=1&autoplay=0)"
   ]
  },
  {
   "cell_type": "markdown",
   "id": "7a940f79-b5ea-417b-bab8-5ac01cb1305a",
   "metadata": {},
   "source": [
    "## 4. 完成本章节1、2、3内的实验"
   ]
  },
  {
   "cell_type": "markdown",
   "id": "585969ce-7187-4e72-b588-4d17026eb5c6",
   "metadata": {},
   "source": [
    "完成后，放到如下对应班级链接中： [**会计22-1**、](https://xdsisueducn-my.sharepoint.com/:f:/g/personal/2111003_xdsisu_edu_cn/EvmVa-lZDRhKsy65lwnaTmQBZh2xKgDt8-3YfpdDWY-Kug?e=sxmErY) [**会计22-2**、](https://xdsisueducn-my.sharepoint.com/:f:/g/personal/2111003_xdsisu_edu_cn/Eoty3HlyYgBGqQiYZjccOMABv0qkgea_JcRWHb543rX5FQ?e=75fdoi) [**会计22-3**、](https://xdsisueducn-my.sharepoint.com/:f:/g/personal/2111003_xdsisu_edu_cn/Eqyb8hPchlFFgBvJpnmjrikB0iDx_4D-NFqp9zCNENKj3w?e=BY3UPm) [**会计22-4**、](https://xdsisueducn-my.sharepoint.com/:f:/g/personal/2111003_xdsisu_edu_cn/Eidfy0916lNMronkNOJhHd0BpocxetZeJpZL7tNJAbsX6A?e=Th7apD) [**会计22-5**、](https://xdsisueducn-my.sharepoint.com/:f:/g/personal/2111003_xdsisu_edu_cn/EorZuIvgi2JBmQpKtRxYZoMBVpgXGUnwdvy0TBWocIdMkA?e=Mlpfbq) [**金融22-3**、](https://xdsisueducn-my.sharepoint.com/:f:/g/personal/2111003_xdsisu_edu_cn/Er4HQYisXl9HtYqJ9KeuljgBLL0hqAOAE3UQScDKchMyfw?e=jgizZ1) [**金融22-4**](https://xdsisueducn-my.sharepoint.com/:f:/g/personal/2111003_xdsisu_edu_cn/EjK2Eq0GM_JHmKyRKi0z8yEByf7TV-MqjF4IBiK5YfhxIg?e=MHWano)"
   ]
  }
 ],
 "metadata": {
  "kernelspec": {
   "display_name": "Python 3 (ipykernel)",
   "language": "python",
   "name": "python3"
  },
  "language_info": {
   "codemirror_mode": {
    "name": "ipython",
    "version": 3
   },
   "file_extension": ".py",
   "mimetype": "text/x-python",
   "name": "python",
   "nbconvert_exporter": "python",
   "pygments_lexer": "ipython3",
   "version": "3.9.17"
  }
 },
 "nbformat": 4,
 "nbformat_minor": 5
}
