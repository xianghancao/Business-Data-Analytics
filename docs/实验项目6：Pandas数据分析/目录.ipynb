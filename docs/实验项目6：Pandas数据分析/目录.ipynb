{
 "cells": [
  {
   "cell_type": "markdown",
   "id": "62e3aab3-cc2c-4b7a-a07d-827d7fba5998",
   "metadata": {},
   "source": [
    "# 实验项目6：Pandas数据分析"
   ]
  },
  {
   "cell_type": "markdown",
   "id": "31deea9b-9da0-4924-a9fe-fb45901714f5",
   "metadata": {},
   "source": [
    "## 目录\n",
    "\n",
    "```{tableofcontents}\n",
    "```"
   ]
  },
  {
   "cell_type": "markdown",
   "id": "3aa10055-e048-4b47-b266-3833b12b13c0",
   "metadata": {},
   "source": []
  }
 ],
 "metadata": {
  "kernelspec": {
   "display_name": "Python 3 (ipykernel)",
   "language": "python",
   "name": "python3"
  },
  "language_info": {
   "codemirror_mode": {
    "name": "ipython",
    "version": 3
   },
   "file_extension": ".py",
   "mimetype": "text/x-python",
   "name": "python",
   "nbconvert_exporter": "python",
   "pygments_lexer": "ipython3",
   "version": "3.9.17"
  }
 },
 "nbformat": 4,
 "nbformat_minor": 5
}
