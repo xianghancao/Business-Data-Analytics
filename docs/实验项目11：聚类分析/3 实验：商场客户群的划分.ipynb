{
 "cells": [
  {
   "cell_type": "markdown",
   "id": "05a88390-f8cc-4627-aa9d-39e1adf5d734",
   "metadata": {},
   "source": [
    "# 3 实验：商场客户群的划分.ipynb\n",
    "在零售行业中，会员价值体现在持续不断地为零售运营商带来稳定的销售额和利润，同时也为零售运营商策略的制定提供数据支持\n",
    "零售行业会采取各种不同方法来吸引更多的人成为会员，并且尽可能提高会员的忠诚度。"
   ]
  },
  {
   "cell_type": "markdown",
   "id": "2608ef01-0778-4136-a20e-9ce8d80ce741",
   "metadata": {},
   "source": [
    "**背景**  \n",
    "- 当前电商的发展使商场会员不断流失，给零售运营商带来了严重损失。此时，运营商需要有针对性地实施营销策略来加强与会员的良好关系\n",
    "- 完善会员画像，使会员的形象更具体，帮助商家了解客户\n",
    "- 加强对现有会员的精细化管理，提供个性化的服务，可与会员建立稳定的关系\n"
   ]
  },
  {
   "cell_type": "markdown",
   "id": "40d2e8e3-97e5-43b2-822e-748b7e75d2cb",
   "metadata": {},
   "source": [
    "<center><img src='image/shoppingmall.png' width=500><\\center>"
   ]
  },
  {
   "cell_type": "markdown",
   "id": "cb905c7c-4930-45c4-807a-78cc22a4d379",
   "metadata": {},
   "source": [
    "**客户分析RFM模型**   \n",
    "通过客户购买数据识别不同价值的客户，识别客户价值应用最广泛的模型是RFM模型。  \n",
    "**R（Recency）**指的是最近一次消费时间与截止时间的间隔。通常情况下，最近一次消费时间与截止时间的间隔越短，对即时提供的商品或是服务也最有可能感兴趣。  \n",
    "**F（Frequency）**指顾客在某段时间内所消费的次数。可以说消费频率越高的顾客，也是满意度越高的顾客，其忠诚度也就越高，顾客价值也就越大。  \n",
    "**M（Monetary）**指顾客在某段时间内所消费的金额。消费金额越大的顾客，他们的消费能力自然也就越大，这就是所谓“20%的顾客贡献了80%的销售额”的二八法则。  \n"
   ]
  },
  {
   "cell_type": "markdown",
   "id": "a887af42-5b8d-406d-b7a7-1d092535791e",
   "metadata": {},
   "source": [
    "RFM模型包括三个特征，使用三维坐标系进行展示，如图所示。X轴表示Recency，Y轴表示Frequency，Z轴表示Monetary，每个轴一般会分成5级表示程度，1为最小，5为最大。\n"
   ]
  },
  {
   "cell_type": "markdown",
   "id": "55670830-8633-49a7-8859-82fc59da1671",
   "metadata": {},
   "source": [
    "<center><img src='image/RFM_model.png' width=500></center>"
   ]
  },
  {
   "cell_type": "markdown",
   "id": "7def04d9-8a9b-454e-9e97-c524eb75e231",
   "metadata": {},
   "source": [
    "**数据信息**如下：  \n",
    "销售流水表记录的是该商场的销售数据，其中包括会员与非会员的消费数据  \n",
    "数据时间范围是2015年1月1日至2018年1月3日\n",
    "<center><img src='image/shoppingmall_data.png' width=600></center>"
   ]
  },
  {
   "cell_type": "markdown",
   "id": "651570cb-838f-4777-b39f-1458f644be26",
   "metadata": {},
   "source": [
    "**目标**：  \n",
    "- 对商场的经营数据和会员信息数据进行处理\n",
    "- 分析商场的经营特征\n",
    "- 对商场会员进行用户画像描绘，方便更了解会员，对会员进行针对性的服务\n",
    "- 根据会员的消费特征对会员进行精细划分，方便针对不同群体制定对应的营销策略或管理方案，从而提升商场的销售利润\n"
   ]
  },
  {
   "cell_type": "markdown",
   "id": "ddd513a8-9f2f-4fc1-83a4-cd0ef3339c2f",
   "metadata": {},
   "source": [
    "## 实验3.1 读取数据"
   ]
  },
  {
   "cell_type": "markdown",
   "id": "83d804ce-40eb-41fc-a80d-9bba5c3c8508",
   "metadata": {},
   "source": [
    "读取数据集，路径为'datasets/sales.csv', 编码格式为'gbk'，并查看前5行数据。"
   ]
  },
  {
   "cell_type": "code",
   "execution_count": null,
   "id": "8f18cd8c-abe4-4578-9e23-eac318b4e078",
   "metadata": {},
   "outputs": [],
   "source": [
    "\n",
    "\n",
    "\n",
    "\n",
    "\n"
   ]
  },
  {
   "cell_type": "markdown",
   "id": "e585e72a-b867-49b6-94ee-0d7859f648a1",
   "metadata": {},
   "source": [
    "通过数据观察，本案例以消费次数F，消费总金额M，最近消费距今时长R和入会时长L,4个特征作为百货公司识别客户价值的关键特征，记为LRFM模型。"
   ]
  },
  {
   "cell_type": "markdown",
   "id": "59487eb2-b365-4ed2-b971-f5e307c99648",
   "metadata": {},
   "source": [
    "## 实验3.2 获取关键特征\n",
    "获取列名为['消费次数','最后一次消费距今时长','消费金额','入会时长']这4列，然后赋值给变量X。"
   ]
  },
  {
   "cell_type": "code",
   "execution_count": null,
   "id": "bcfd8c65-5aa9-49e6-b139-4608993ee1d9",
   "metadata": {},
   "outputs": [],
   "source": [
    "\n",
    "\n",
    "\n",
    "\n",
    "\n"
   ]
  },
  {
   "cell_type": "markdown",
   "id": "9759ed5a-e6f5-456d-a4a2-157d9fabfc3d",
   "metadata": {},
   "source": [
    "## 实验3.3 应用K-means聚类算法"
   ]
  },
  {
   "cell_type": "markdown",
   "id": "99f07aeb-3ee6-4e42-9b8b-00a809584801",
   "metadata": {},
   "source": [
    "这里我们主观定义聚类后的簇数量为5，也就是分成5个类别"
   ]
  },
  {
   "cell_type": "code",
   "execution_count": null,
   "id": "c4a4f99e-3d23-43ff-9dca-f3303245de84",
   "metadata": {},
   "outputs": [],
   "source": [
    "\n",
    "\n",
    "\n",
    "\n",
    "\n"
   ]
  },
  {
   "cell_type": "markdown",
   "id": "ccc68bfd-2dc7-4079-8689-0ebaf5f1d58e",
   "metadata": {},
   "source": [
    "## 实验3.4 计算5个类别客户在各个特征上的平均值"
   ]
  },
  {
   "cell_type": "markdown",
   "id": "e4cc08fc-e2fe-403c-ad17-7f6832e5353b",
   "metadata": {},
   "source": [
    "1. 在特征X中新添加一列，列名为'聚类类别'，值为聚类模型获得的类别。\n",
    "2. 然后，使用groupby方法来进行分组，然后应用平均值方法进行聚合。\n",
    "3. 结合业务分析，通过比较各个特征在群间的大小对某一个群的特征进行评价分析，从而总结出每个群的优势和弱势特征。"
   ]
  },
  {
   "cell_type": "code",
   "execution_count": null,
   "id": "ba970536-3185-4543-a1c3-c8cfca374773",
   "metadata": {},
   "outputs": [],
   "source": [
    "\n",
    "\n",
    "\n",
    "\n",
    "\n"
   ]
  },
  {
   "cell_type": "markdown",
   "id": "d7f69769-09f7-4fea-9346-cc60c9250c0c",
   "metadata": {},
   "source": [
    "### 3.3 会员管理方案   "
   ]
  },
  {
   "cell_type": "markdown",
   "id": "084e3423-92ad-401a-bb9f-6c8028d5090f",
   "metadata": {},
   "source": [
    "1. 如果将上述类别分为['重要保持客户', '低价值客户', '一般价值客户', '流失客户', '重要发展客户']，这5类客户占比总客户的比例是多少？\n",
    "2. 对这5类客户，分别采取怎样的营销手段和策略，来进行客户管理？"
   ]
  },
  {
   "cell_type": "code",
   "execution_count": null,
   "id": "3b1a791c-4392-4201-8577-04c69ae108c4",
   "metadata": {},
   "outputs": [],
   "source": [
    "\n",
    "\n",
    "\n",
    "\n"
   ]
  }
 ],
 "metadata": {
  "kernelspec": {
   "display_name": "Python 3 (ipykernel)",
   "language": "python",
   "name": "python3"
  },
  "language_info": {
   "codemirror_mode": {
    "name": "ipython",
    "version": 3
   },
   "file_extension": ".py",
   "mimetype": "text/x-python",
   "name": "python",
   "nbconvert_exporter": "python",
   "pygments_lexer": "ipython3",
   "version": "3.9.17"
  },
  "widgets": {
   "application/vnd.jupyter.widget-state+json": {
    "state": {},
    "version_major": 2,
    "version_minor": 0
   }
  }
 },
 "nbformat": 4,
 "nbformat_minor": 5
}
