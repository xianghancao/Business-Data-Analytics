{
 "cells": [
  {
   "cell_type": "markdown",
   "id": "f819b9dc-2e02-460e-a7c4-1d206ef74021",
   "metadata": {},
   "source": [
    "# 实验1：判断语句"
   ]
  },
  {
   "cell_type": "markdown",
   "id": "67c89f5b-db40-490e-a1d3-04b3788d61d3",
   "metadata": {},
   "source": [
    "流程是指程序运行时语句的执行次序。Python包含了三种基本流程控制结构：`顺序结构`、`分支结构`、`循环结构`。  \n",
    "`顺序结构`是从上往下的顺序逐剧执行的结构，先执行位置在前的语句、后执行位置在后的语句。本章主要讲授`分支结构`、`循环结构`。"
   ]
  },
  {
   "cell_type": "markdown",
   "id": "c054a32c-2d05-4a27-af01-d28effe1ee14",
   "metadata": {},
   "source": [
    "分支结构又称选择结构，它是一种在两条或更多条执行路径中**选择一条执行**的语句控制结构。"
   ]
  },
  {
   "cell_type": "markdown",
   "id": "cd299a2c-9b2f-438a-a889-d3224106b297",
   "metadata": {},
   "source": [
    "## （一）单分支结构\n"
   ]
  },
  {
   "cell_type": "markdown",
   "id": "56a5a948-fe18-4b72-8543-8084f7b141de",
   "metadata": {},
   "source": [
    "if 语句单分支结构的语法形式为：\n",
    "```python\n",
    "if(条件表达式):\n",
    "    语句块\n",
    "```"
   ]
  },
  {
   "cell_type": "markdown",
   "id": "072ae540-fd6d-47a6-8722-c567f3e13179",
   "metadata": {},
   "source": [
    "![process01](images/process01.png)"
   ]
  },
  {
   "cell_type": "markdown",
   "id": "86f10e05-66c9-4a69-8e43-8e2479fee2eb",
   "metadata": {},
   "source": [
    "若`条件表达式`的逻辑值为True则执行`语句块`，否则不执行`语句块`。**if语句的条件表达式之后需要添加冒号（:），语句块内的每行语句均需要通过缩进表示同属一个语句块。**"
   ]
  },
  {
   "cell_type": "markdown",
   "id": "41953c0e-ff8b-4734-9465-11224e74731d",
   "metadata": {},
   "source": [
    "运行下述例子："
   ]
  },
  {
   "cell_type": "code",
   "execution_count": 1,
   "id": "924df39d-782c-4759-a3f6-511d5e12079a",
   "metadata": {},
   "outputs": [
    {
     "name": "stdin",
     "output_type": "stream",
     "text": [
      "输入成绩后，按【回车键】确认 50\n"
     ]
    },
    {
     "name": "stdout",
     "output_type": "stream",
     "text": [
      "很不幸，你挂科了！\n"
     ]
    }
   ],
   "source": [
    "grade = int(input('输入成绩后，按【回车键】确认')) #Python键盘输入默认为字符串，这里做类型转换，把字符串转成整数\n",
    "if(grade < 60):                                   # 如果输入小数，也就是浮点数，使用float()来转换\n",
    "    print('很不幸，你挂科了！')"
   ]
  },
  {
   "cell_type": "markdown",
   "id": "71872263-012b-4b0b-aad4-a1ca48462949",
   "metadata": {},
   "source": [
    "### 实验1.1 if语句"
   ]
  },
  {
   "cell_type": "markdown",
   "id": "8d5d1735-d07a-4465-ab77-fda461507f41",
   "metadata": {},
   "source": [
    "如果输入成绩在60分和80分之间，请打印“良好”"
   ]
  },
  {
   "cell_type": "code",
   "execution_count": null,
   "id": "6204d3b8-dffd-4ce3-a437-5274af7e6456",
   "metadata": {},
   "outputs": [],
   "source": [
    "\n",
    "\n"
   ]
  },
  {
   "cell_type": "markdown",
   "id": "741c49b8-01f3-4489-bd3a-23fc4e8d6b1f",
   "metadata": {},
   "source": [
    "## （二）双分支结构"
   ]
  },
  {
   "cell_type": "markdown",
   "id": "09bbb673-e39b-4bed-9784-c3ff91a94194",
   "metadata": {},
   "source": [
    "if 语句双分支结构的语法形式为：\n",
    "```python\n",
    "if(条件表达式):\n",
    "    语句块1\n",
    "else:\n",
    "    语句块2\n",
    "```"
   ]
  },
  {
   "cell_type": "markdown",
   "id": "6f5792f6-c2f0-4c50-8338-55668ac35fa8",
   "metadata": {},
   "source": [
    "![process02](images/process02.png)"
   ]
  },
  {
   "cell_type": "markdown",
   "id": "d828c43e-5330-4163-b1c7-68149e8b9280",
   "metadata": {},
   "source": [
    "若`条件表达式`的逻辑值为True，则执行`语句块1`；否则执行`语句块2`。"
   ]
  },
  {
   "cell_type": "code",
   "execution_count": 2,
   "id": "568cbccf-4766-4949-8128-0cb3529762da",
   "metadata": {},
   "outputs": [
    {
     "name": "stdin",
     "output_type": "stream",
     "text": [
      "输入成绩后，按【回车键】确认 61\n"
     ]
    },
    {
     "name": "stdout",
     "output_type": "stream",
     "text": [
      "恭喜！通过考试\n"
     ]
    }
   ],
   "source": [
    "grade = int(input('输入成绩后，按【回车键】确认'))\n",
    "if(grade < 60):\n",
    "    print('很不幸，你挂科了！')\n",
    "else:                                         # 注意else与if对齐\n",
    "    print('恭喜！通过考试')"
   ]
  },
  {
   "cell_type": "markdown",
   "id": "20ab18d6-e9ce-4a3b-91d4-e9628175479c",
   "metadata": {},
   "source": [
    "## （三）多分支结构"
   ]
  },
  {
   "cell_type": "markdown",
   "id": "0541f491-034f-4e48-87b5-54311402d651",
   "metadata": {},
   "source": [
    "if语句多分支结构的语法如下："
   ]
  },
  {
   "cell_type": "markdown",
   "id": "7a3f84ce-a52f-4911-9378-a82c408fb3ad",
   "metadata": {},
   "source": [
    "```python\n",
    "if(条件表达式1):\n",
    "    语句块1\n",
    "elif(条件表达式2):\n",
    "    语句块2\n",
    "    ...\n",
    "elif(条件表达式n):\n",
    "    语句块n\n",
    "else:\n",
    "    语句块n+1\n",
    "```"
   ]
  },
  {
   "cell_type": "markdown",
   "id": "9c3e7380-2808-4a33-8bbc-0430d16caac1",
   "metadata": {},
   "source": [
    "![process03](images/process03.png)"
   ]
  },
  {
   "cell_type": "code",
   "execution_count": 3,
   "id": "e950df6f-fc8f-4348-8ff1-aaa6aca1c7a7",
   "metadata": {},
   "outputs": [
    {
     "name": "stdin",
     "output_type": "stream",
     "text": [
      "输入成绩后，按【回车键】确认 91\n"
     ]
    },
    {
     "name": "stdout",
     "output_type": "stream",
     "text": [
      "优秀！\n"
     ]
    }
   ],
   "source": [
    "grade = int(input('输入成绩后，按【回车键】确认'))\n",
    "if(grade < 60):\n",
    "    print('很不幸，你挂科了！')\n",
    "elif(grade >= 60 and grade < 80):                          # 注意elif与if对齐\n",
    "    print('你及格了！')\n",
    "elif(grade >= 80 and grade < 90):                          # 注意elif与if对齐\n",
    "    print('表现不错！')\n",
    "elif(grade >= 90 and grade<=100):                          # 注意elif与if对齐\n",
    "    print('优秀！')\n",
    "else:\n",
    "    print('您输入的成绩有误！')"
   ]
  },
  {
   "cell_type": "markdown",
   "id": "97f4fb76-2a02-473d-b70a-ba7d7bb69c8c",
   "metadata": {},
   "source": [
    "### 实验1.2 计算小明的体重"
   ]
  },
  {
   "cell_type": "markdown",
   "id": "f57445c2-faa1-48f7-a5e5-fea925334d55",
   "metadata": {},
   "source": [
    "小明身高1.75米，体重80.5kg。请根据BMI公式（体重除以身高的平方）帮小明计算他的BMI指数，并根据BMI指数：\n",
    "\n",
    "- 低于18.5：过轻\n",
    "- 18.5-25：正常\n",
    "- 25-28：过重\n",
    "- 28-32：肥胖\n",
    "- 高于32：严重肥胖\n",
    "\n",
    "Tips：\n",
    "    用`if-elif`判断并打印结果"
   ]
  },
  {
   "cell_type": "code",
   "execution_count": null,
   "id": "1289b31a-3c02-4a08-8b24-648a7c886387",
   "metadata": {},
   "outputs": [],
   "source": [
    "\n",
    "\n"
   ]
  }
 ],
 "metadata": {
  "kernelspec": {
   "display_name": "Python 3 (ipykernel)",
   "language": "python",
   "name": "python3"
  },
  "language_info": {
   "codemirror_mode": {
    "name": "ipython",
    "version": 3
   },
   "file_extension": ".py",
   "mimetype": "text/x-python",
   "name": "python",
   "nbconvert_exporter": "python",
   "pygments_lexer": "ipython3",
   "version": "3.9.17"
  }
 },
 "nbformat": 4,
 "nbformat_minor": 5
}
