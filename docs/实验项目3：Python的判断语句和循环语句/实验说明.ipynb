{
 "cells": [
  {
   "cell_type": "markdown",
   "id": "045fbb6e-b3f5-4544-af97-92cf4d8d10c6",
   "metadata": {},
   "source": [
    "# 实验说明"
   ]
  },
  {
   "cell_type": "markdown",
   "id": "51a2ce74-3b4e-448e-9a3c-91dcf91cff58",
   "metadata": {},
   "source": [
    "实验项目：Python的判断语句和循环语句  \r",
    "修读要求：必修  \n",
    "实验目的：  \n",
    "通过本实验，学生将：\r\n",
    "- 理解并掌握Python的条件判断语句（if-else）。\r\n",
    "- 掌握Python的循环结构（for和while）。\r\n",
    "- 能够编写基本的逻辑控制代码，解决\n",
    "  和语法，避免运行时错误。\r\n",
    "- 遵守实验室纪律，爱护实验设备。"
   ]
  },
  {
   "cell_type": "markdown",
   "id": "1181d651-a072-49f9-afd8-9a5777a6a44d",
   "metadata": {},
   "source": [
    "\n",
    "实验内容\n",
    "1. 条件判断语句\n",
    "   - 学习if、elif、else语句的基本结构和使用方法。\n",
    "   - 编写条件判断的示例代码，了解不同条件下的程序执行流程。\n",
    "2. 循环结构\n",
    "   - 学习for循环的基本结构和使用方法，掌握range()函数的应用。\n",
    "   - 学习while循环的基本结构和使用方法，了解循环控制（break和continue）。\n",
    "   - 编写循环的示例代码，熟悉循环语句的实际应用。\n",
    "   \n",
    "学时分配：2学时\n",
    "实验类型：验证性实验\n",
    "主要设备（软件）：Anaconda、JupyterLab、Python 3.x\n",
    "\n",
    "实验要求\n",
    "项目实施前：  \n",
    "- 教师需准备好相关的教学材实验手册。\n",
    "- 学生需提前复习Py  thon的基本语法和数据类型。\n",
    "\n",
    "项目实施中：  \n",
    "- 教师需详细讲解条件判断和循环语句的用法，演示代码示例。\n",
    "- 学生需按照实验手册的  步骤进行操作，独立完成每个实验任务。\n",
    "\n",
    "项目实施后：  \n",
    "- 学生需提交实验报告，包含代码、运行结果及分析。\n",
    "- 教师需批改实验报告，给出反馈意见。\n",
    "\n",
    "注意事项：\n",
    "- 实验过程中需注意代码的规范性，注释清晰明了。\n",
    "- 在操作过程中，如遇到问题，及时与教师沟通解决。\n",
    "- 运行代码前，需检查代码逻辑和语法，避免运行时错误。\n",
    "- 遵守实验室纪律，爱护实验设备。"
   ]
  },
  {
   "cell_type": "markdown",
   "id": "9d217140-6428-489c-b64d-581e6e037b0d",
   "metadata": {},
   "source": [
    "实验要求：  \n",
    "项目实施前：\n",
    "- 教师需准备好相关的教学材料和实验手册。\n",
    "- 学生需提前复习Python的基本语法和数据类型。\n",
    "  \n",
    "项目实施中：\n",
    "- 教师需详细讲解条件判断和循环语句的用法，演示代码示例。\n",
    "- 学生需按照实验手册的步骤进行操作，独立完成每个实验任务。\n",
    "  \n",
    "项目实施后：\n",
    "- 学生需提交实验报告，包含代码、运行结果及分析。\n",
    "- 教师需批改实验报告，给出反馈意见。\n",
    "  \n",
    "注意事项：\n",
    "- 实验过程中需注意代码的规范性，注释清晰明了。\n",
    "- 在操作过程中，如遇到问题，及时与教师沟通解决。\n",
    "- 运行代码前，需检查代码逻辑和语法，避免运行时错误。\n",
    "- 遵守实验室纪律，爱护实验设备。"
   ]
  },
  {
   "cell_type": "code",
   "execution_count": null,
   "id": "b6449db7-2f41-4b06-a457-677d25972df3",
   "metadata": {},
   "outputs": [],
   "source": []
  }
 ],
 "metadata": {
  "kernelspec": {
   "display_name": "Python 3 (ipykernel)",
   "language": "python",
   "name": "python3"
  },
  "language_info": {
   "codemirror_mode": {
    "name": "ipython",
    "version": 3
   },
   "file_extension": ".py",
   "mimetype": "text/x-python",
   "name": "python",
   "nbconvert_exporter": "python",
   "pygments_lexer": "ipython3",
   "version": "3.11.5"
  }
 },
 "nbformat": 4,
 "nbformat_minor": 5
}
