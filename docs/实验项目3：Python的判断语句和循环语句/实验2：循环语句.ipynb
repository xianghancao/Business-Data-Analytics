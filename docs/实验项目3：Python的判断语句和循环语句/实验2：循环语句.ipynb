{
 "cells": [
  {
   "cell_type": "markdown",
   "id": "cea1f5f5-7dce-46ba-bef2-03e2dc73a441",
   "metadata": {},
   "source": [
    "# 实验2：循环语句"
   ]
  },
  {
   "cell_type": "markdown",
   "id": "2aba87fe-8a52-411d-9136-7eda9b3d8035",
   "metadata": {},
   "source": [
    "循环结构是在满足一定条件下**反复执行某一段语句块**的流程控制结构。反复被执行的语句块被称为**循环体**。"
   ]
  },
  {
   "cell_type": "markdown",
   "id": "64d93c7f-39cc-41e6-b30a-20f5fb4da365",
   "metadata": {},
   "source": [
    "## （一）while循环"
   ]
  },
  {
   "cell_type": "markdown",
   "id": "d5983151-501f-4a9b-aa37-3276d6dd7e5f",
   "metadata": {},
   "source": [
    "while循环语句的语法形式为：\n",
    "```python\n",
    "while(条件表达式):\n",
    "    循环体\n",
    "```"
   ]
  },
  {
   "cell_type": "markdown",
   "id": "15da9106-3283-42ea-9a33-a365e722a997",
   "metadata": {},
   "source": [
    "while语句的执行过程是先判断`条件表达式`的值，若值为True，则执行`循环体`，否则将跳过`循环体`，执行while语句后面的语句。\n",
    "每次`循环体`执行完毕后，再转到`条件表达式`判断真假，以决定是否再次执行`循环体`。"
   ]
  },
  {
   "cell_type": "markdown",
   "id": "f51f55c0-9694-4939-9d8a-6696437eff60",
   "metadata": {},
   "source": [
    "![loop01](images/loop01.png)"
   ]
  },
  {
   "cell_type": "markdown",
   "id": "6e464936-1644-46a7-803c-a1e4bebf1d3f",
   "metadata": {},
   "source": [
    "这个例子是计算1到100的自然数的和。"
   ]
  },
  {
   "cell_type": "code",
   "execution_count": 4,
   "id": "a1d91161-58a2-448f-b6fc-c4d8326faa2e",
   "metadata": {
    "tags": []
   },
   "outputs": [
    {
     "name": "stdout",
     "output_type": "stream",
     "text": [
      "n: 1 s: 1\n",
      "n: 2 s: 3\n",
      "n: 3 s: 6\n",
      "n: 4 s: 10\n",
      "n: 5 s: 15\n",
      "n: 6 s: 21\n",
      "n: 7 s: 28\n",
      "n: 8 s: 36\n",
      "n: 9 s: 45\n",
      "n: 10 s: 55\n",
      "n: 11 s: 66\n",
      "n: 12 s: 78\n",
      "n: 13 s: 91\n",
      "n: 14 s: 105\n",
      "n: 15 s: 120\n",
      "n: 16 s: 136\n",
      "n: 17 s: 153\n",
      "n: 18 s: 171\n",
      "n: 19 s: 190\n",
      "n: 20 s: 210\n",
      "n: 21 s: 231\n",
      "n: 22 s: 253\n",
      "n: 23 s: 276\n",
      "n: 24 s: 300\n",
      "n: 25 s: 325\n",
      "n: 26 s: 351\n",
      "n: 27 s: 378\n",
      "n: 28 s: 406\n",
      "n: 29 s: 435\n",
      "n: 30 s: 465\n",
      "n: 31 s: 496\n",
      "n: 32 s: 528\n",
      "n: 33 s: 561\n",
      "n: 34 s: 595\n",
      "n: 35 s: 630\n",
      "n: 36 s: 666\n",
      "n: 37 s: 703\n",
      "n: 38 s: 741\n",
      "n: 39 s: 780\n",
      "n: 40 s: 820\n",
      "n: 41 s: 861\n",
      "n: 42 s: 903\n",
      "n: 43 s: 946\n",
      "n: 44 s: 990\n",
      "n: 45 s: 1035\n",
      "n: 46 s: 1081\n",
      "n: 47 s: 1128\n",
      "n: 48 s: 1176\n",
      "n: 49 s: 1225\n",
      "n: 50 s: 1275\n",
      "n: 51 s: 1326\n",
      "n: 52 s: 1378\n",
      "n: 53 s: 1431\n",
      "n: 54 s: 1485\n",
      "n: 55 s: 1540\n",
      "n: 56 s: 1596\n",
      "n: 57 s: 1653\n",
      "n: 58 s: 1711\n",
      "n: 59 s: 1770\n",
      "n: 60 s: 1830\n",
      "n: 61 s: 1891\n",
      "n: 62 s: 1953\n",
      "n: 63 s: 2016\n",
      "n: 64 s: 2080\n",
      "n: 65 s: 2145\n",
      "n: 66 s: 2211\n",
      "n: 67 s: 2278\n",
      "n: 68 s: 2346\n",
      "n: 69 s: 2415\n",
      "n: 70 s: 2485\n",
      "n: 71 s: 2556\n",
      "n: 72 s: 2628\n",
      "n: 73 s: 2701\n",
      "n: 74 s: 2775\n",
      "n: 75 s: 2850\n",
      "n: 76 s: 2926\n",
      "n: 77 s: 3003\n",
      "n: 78 s: 3081\n",
      "n: 79 s: 3160\n",
      "n: 80 s: 3240\n",
      "n: 81 s: 3321\n",
      "n: 82 s: 3403\n",
      "n: 83 s: 3486\n",
      "n: 84 s: 3570\n",
      "n: 85 s: 3655\n",
      "n: 86 s: 3741\n",
      "n: 87 s: 3828\n",
      "n: 88 s: 3916\n",
      "n: 89 s: 4005\n",
      "n: 90 s: 4095\n",
      "n: 91 s: 4186\n",
      "n: 92 s: 4278\n",
      "n: 93 s: 4371\n",
      "n: 94 s: 4465\n",
      "n: 95 s: 4560\n",
      "n: 96 s: 4656\n",
      "n: 97 s: 4753\n",
      "n: 98 s: 4851\n",
      "n: 99 s: 4950\n",
      "n: 100 s: 5050\n",
      "The sum from 1 to 100 is 5050\n"
     ]
    }
   ],
   "source": [
    "n = 1                          # n负责存储自然数，用于遍历自然数1，2，3，4，5.。。。100\n",
    "s = 0                          # s负责存储求和的结果，初始为0\n",
    "while(n<=100):\n",
    "    s = s + n                  #求和，并保存求和的结果到s\n",
    "    print('n:', n, 's:', s)\n",
    "    n = n + 1                  #让自然数+1，并更新自然数n\n",
    "    \n",
    "print('The sum from 1 to 100 is', s)"
   ]
  },
  {
   "cell_type": "markdown",
   "id": "2d97bc90-3bd1-4456-86c7-53217a3a7997",
   "metadata": {},
   "source": [
    "### 实验2.1 如何求1，3，5，7，。。99，间隔为2的等差数列的和。"
   ]
  },
  {
   "cell_type": "code",
   "execution_count": null,
   "id": "796c5b87-d09b-4ed3-b691-5fe5ecf9f46d",
   "metadata": {},
   "outputs": [],
   "source": [
    "\n",
    "\n"
   ]
  },
  {
   "cell_type": "markdown",
   "id": "c0aacb1d-fbe8-4669-8d4a-45de485dd769",
   "metadata": {},
   "source": [
    "## （二）for循环"
   ]
  },
  {
   "cell_type": "markdown",
   "id": "2d4a94a1-746a-4a26-acbb-9fa592f6dff9",
   "metadata": {},
   "source": [
    "for语句通常用来遍历字符串、列表、元祖等序列数据类型中的元素。对序列中的每个元素执行一次相关的循环体。for语句的语法形式如下：\n",
    "```python\n",
    "for 变量 in 序列:\n",
    "    循环体\n",
    "```"
   ]
  },
  {
   "cell_type": "markdown",
   "id": "cd926d69-07c9-45dc-9d25-be5c65ed6719",
   "metadata": {},
   "source": [
    "下面这个例子使用for语句循环输出列表list1中的所有元素。"
   ]
  },
  {
   "cell_type": "code",
   "execution_count": 5,
   "id": "66088881-cc74-454e-a427-63ab4a64508a",
   "metadata": {},
   "outputs": [
    {
     "name": "stdout",
     "output_type": "stream",
     "text": [
      "1\n",
      "2\n",
      "3\n",
      "4\n",
      "5\n"
     ]
    }
   ],
   "source": [
    "list1 = [1,2,3,4,5]\n",
    "for x in list1:\n",
    "    print(x)"
   ]
  },
  {
   "cell_type": "markdown",
   "id": "17741b15-4387-48d2-b5eb-77467e8d7a52",
   "metadata": {},
   "source": [
    "此外，for语句经常使用range/xrange函数生成序列。"
   ]
  },
  {
   "cell_type": "code",
   "execution_count": 6,
   "id": "ae9dd5fb-ac11-4eed-9e1f-8bff8c82df4c",
   "metadata": {},
   "outputs": [
    {
     "name": "stdout",
     "output_type": "stream",
     "text": [
      "1\n",
      "2\n",
      "3\n",
      "4\n"
     ]
    }
   ],
   "source": [
    "for i in range(1,5):\n",
    "    print(i)"
   ]
  },
  {
   "cell_type": "markdown",
   "id": "78fb7904-94f1-4458-9479-6daf5e12a511",
   "metadata": {},
   "source": [
    "使用range函数生成序列，请注意它的起止范围。函数range(1,5)生成序列[1,2,3,4]。"
   ]
  },
  {
   "cell_type": "markdown",
   "id": "68e1742c-2d1e-476c-903f-af3d4bba9392",
   "metadata": {},
   "source": [
    "## （三）break语句"
   ]
  },
  {
   "cell_type": "markdown",
   "id": "5328b1f2-0a5e-4201-862a-95abfde0c016",
   "metadata": {},
   "source": [
    "break语句用于控制程序提前结束循环而执行`循环体`后面的语句。"
   ]
  },
  {
   "cell_type": "code",
   "execution_count": 7,
   "id": "8a620d73-7ce1-4a3c-b04b-d63eb55a0d97",
   "metadata": {},
   "outputs": [
    {
     "name": "stdin",
     "output_type": "stream",
     "text": [
      "请输入数据（当输入-1时结束）: 1\n",
      "请输入数据（当输入-1时结束）: 2\n",
      "请输入数据（当输入-1时结束）: 3\n",
      "请输入数据（当输入-1时结束）: -1\n"
     ]
    },
    {
     "name": "stdout",
     "output_type": "stream",
     "text": [
      "[1, 2, 3]\n"
     ]
    }
   ],
   "source": [
    "list2 = []                                      # 定义一个空的列表 \n",
    "while(True):\n",
    "    x = int(input('请输入数据（当输入-1时结束）:'))\n",
    "    if x == -1:                     \n",
    "        break                                   # 当输入=-1时，则跳出循环\n",
    "    else:\n",
    "        list2 = list2 + [x]\n",
    "print(list2)"
   ]
  },
  {
   "cell_type": "markdown",
   "id": "b07b0504-ca4b-4794-8114-874b7071610b",
   "metadata": {},
   "source": [
    "## （四）continue语句"
   ]
  },
  {
   "cell_type": "markdown",
   "id": "a2ee670b-93a5-4680-93a8-bff541bed5cc",
   "metadata": {},
   "source": [
    "continue语句用于结束本次循环，重新判断条件表达式真假，若为True，则继续循环，否则，结束循环。"
   ]
  },
  {
   "cell_type": "code",
   "execution_count": 8,
   "id": "71922b5a-7bb3-4c47-8bd9-176397cd148a",
   "metadata": {},
   "outputs": [
    {
     "name": "stdout",
     "output_type": "stream",
     "text": [
      "2\n",
      "4\n",
      "6\n",
      "8\n",
      "10\n"
     ]
    }
   ],
   "source": [
    "i=0\n",
    "while(i<=10):\n",
    "    i=i+1\n",
    "    if i%2 != 0:       # 如果i是奇数，则continue，跳至while语句，不执行后面的print\n",
    "        continue       # %为整除 !=为不等于\n",
    "    print(i)           # 注意此语句的锁进与上面的if对齐，表示其仍在while内"
   ]
  },
  {
   "cell_type": "markdown",
   "id": "1c4a5cb1-9e9a-4068-b857-f5862cd3b80c",
   "metadata": {},
   "source": [
    "### 实验2.2 循环打印\n",
    "\n",
    "请利用循环for语句和print语句，依次对list中的每个名字打印出`Hello, xxx!`：\n",
    "\n",
    "```python\n",
    "L = ['Bart', 'Lisa', 'Adam']\n",
    "```\n",
    "\n",
    "\n",
    "\n"
   ]
  },
  {
   "cell_type": "code",
   "execution_count": null,
   "id": "b0dc223b-c06a-4049-b001-9b38f665747f",
   "metadata": {},
   "outputs": [],
   "source": [
    "\n",
    "\n",
    "\n"
   ]
  },
  {
   "cell_type": "markdown",
   "id": "f0c5d8e9-fec0-4d14-bf58-f62c3c298c79",
   "metadata": {
    "tags": []
   },
   "source": [
    "### 实验2.3 计算平均值\n",
    "均值是描述性统计方法中最常见的指标，它主要用来计算全体样本或抽样的平均值。\n",
    "\n",
    "$$\n",
    "\\mu = \\frac{x_1+x_2+\\dots+x_n}{n}\n",
    "$$\n",
    "\n",
    "试用变量、列表list和循环for语句计算数列 [1, 2, 3, 4, 5]的平均值。"
   ]
  },
  {
   "cell_type": "code",
   "execution_count": null,
   "id": "bc4dd1f0-39b2-4bc0-8507-82ccd86b0fe5",
   "metadata": {},
   "outputs": [],
   "source": [
    "\n",
    "\n"
   ]
  },
  {
   "cell_type": "markdown",
   "id": "29d8bd1a-8104-41d0-9e43-2566edfdb926",
   "metadata": {},
   "source": [
    "### 实验2.4 计算方差\n",
    "\n",
    "参照上述平均值的计算方法，进一步计算数列[1, 2, 3, 4, 5]的方差。\n",
    "方差公式为：\n",
    "\n",
    "$$\n",
    "\\sigma^2 = \\frac{(x_1-\\mu)^2+(x_2-\\mu)^2+\\dots+(x_3-\\mu)^2}{n}\n",
    "$$\n",
    "提示：使用列表list和循环for语句，也可使用函数def语句"
   ]
  },
  {
   "cell_type": "code",
   "execution_count": null,
   "id": "927e0f08-d785-4584-ae9a-55e68e54293a",
   "metadata": {},
   "outputs": [],
   "source": [
    "\n",
    "\n",
    "\n"
   ]
  },
  {
   "cell_type": "markdown",
   "id": "514f9324-ff5c-417b-9736-b652ce718925",
   "metadata": {},
   "source": [
    "\n",
    "\n",
    "## 总结\n",
    "\n",
    "1. 循环是让计算机做重复任务的有效的方法。\n",
    "\n",
    "2. `break`语句可以在循环过程中直接退出循环，而`continue`语句可以提前结束本轮循环，并直接开始下一轮循环。这两个语句通常都*必须*配合`if`语句使用。\n",
    "\n",
    "3. *要特别注意*，不要滥用`break`和`continue`语句。`break`和`continue`会造成代码执行逻辑分叉过多，容易出错。大多数循环并不需要用到`break`和`continue`语句，上面的两个例子，都可以通过改写循环条件或者修改循环逻辑，去掉`break`和`continue`语句。\n",
    "\n",
    "4. 有些时候，如果代码写得有问题，会让程序陷入“死循环”，也就是永远循环下去。在命令行模式下用`Ctrl+C`退出程序，或者在Jupyter里点击打断内核或者重启内核。\n",
    "\n",
    "\n",
    "\n",
    "\n",
    "\n",
    "\n"
   ]
  }
 ],
 "metadata": {
  "kernelspec": {
   "display_name": "Python 3 (ipykernel)",
   "language": "python",
   "name": "python3"
  },
  "language_info": {
   "codemirror_mode": {
    "name": "ipython",
    "version": 3
   },
   "file_extension": ".py",
   "mimetype": "text/x-python",
   "name": "python",
   "nbconvert_exporter": "python",
   "pygments_lexer": "ipython3",
   "version": "3.9.17"
  }
 },
 "nbformat": 4,
 "nbformat_minor": 5
}
