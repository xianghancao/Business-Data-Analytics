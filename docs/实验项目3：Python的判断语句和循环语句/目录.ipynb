{
 "cells": [
  {
   "cell_type": "markdown",
   "id": "62e3aab3-cc2c-4b7a-a07d-827d7fba5998",
   "metadata": {},
   "source": [
    "# 实验项目3：Python的判断语句和循环语句"
   ]
  },
  {
   "cell_type": "markdown",
   "id": "31deea9b-9da0-4924-a9fe-fb45901714f5",
   "metadata": {},
   "source": [
    "## 目录\n",
    "\n",
    "```{tableofcontents}\n",
    "```"
   ]
  },
  {
   "cell_type": "markdown",
   "id": "33f8dd82-928b-44c8-aed8-8767b9b9d4b3",
   "metadata": {},
   "source": []
  }
 ],
 "metadata": {
  "kernelspec": {
   "display_name": "Python 3 (ipykernel)",
   "language": "python",
   "name": "python3"
  },
  "language_info": {
   "codemirror_mode": {
    "name": "ipython",
    "version": 3
   },
   "file_extension": ".py",
   "mimetype": "text/x-python",
   "name": "python",
   "nbconvert_exporter": "python",
   "pygments_lexer": "ipython3",
   "version": "3.9.17"
  }
 },
 "nbformat": 4,
 "nbformat_minor": 5
}
