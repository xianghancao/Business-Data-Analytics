{
 "cells": [
  {
   "cell_type": "markdown",
   "id": "fc98f21e-c454-4964-836e-c3c93218f987",
   "metadata": {},
   "source": [
    "# 3 实验：波士顿房屋价格预测"
   ]
  },
  {
   "cell_type": "markdown",
   "id": "d7898204-414f-4e3f-b4a2-b70be32122e3",
   "metadata": {},
   "source": [
    "本节使用线性回归的python实现方法，应用案例数据集，来详细说明线性回归模型是如何应用的。"
   ]
  },
  {
   "cell_type": "markdown",
   "id": "7c7730ae-4d9d-4805-b5a3-b68182d57716",
   "metadata": {},
   "source": [
    "<center><img src='image/boston_houses.jpeg' width=400></center>"
   ]
  },
  {
   "cell_type": "markdown",
   "id": "5e356ef4-ead0-49f4-8e2b-515683590ee5",
   "metadata": {},
   "source": [
    "\n",
    "\n",
    "数据集是1970年波士顿各地区的房价和其他统计信息，包含506个样本，每个样本包含14个属性，如下表所示：\n",
    "\n",
    "|属性|翻译|定义|\n",
    "|---|---|---|\n",
    "|CRIM|犯罪率|per capita crime rate by town|\n",
    "|ZN|住宅用地比例|proportion of residential land zoned for lots over 25,000 sq.ft.|\n",
    "|INDUS|非零售商业用地比例|proportion of non-retail business acres per town.|\n",
    "|CHAS|是否临河，1为是，0为否|Charles River dummy variable (1 if tract bounds river; 0 otherwise)|\n",
    "|NOX|氮氧化物浓度|nitric oxides concentration (parts per 10 million)|\n",
    "|RM|每栋住宅平均房间数|average number of rooms per dwelling|\n",
    "|AGE|1940年以前建筑比例|proportion of owner-occupied units built prior to 1940|\n",
    "|DIS|与市中心的距离|weighted distances to five Boston employment centres|\n",
    "|RAD|高速公路的可接近性|index of accessibility to radial highways|\n",
    "|TAX|房地产税率|full-value property-tax rate per $10,000 |\n",
    "|PTRATIO| 师生比例|pupil-teacher ratio by town|\n",
    "|B|有色人种比例|1000(Bk - 0.63)^2 where Bk is the proportion of blacks by town|\n",
    "|LSTAT|低端人口比例| lower status of the population|\n",
    "|MEDV|房价中位数|Median value of owner-occupied homes in \\$1000's|\n",
    "\n",
    "\n",
    "\n",
    "\n",
    "\n",
    "该数据集用于回归问题，包含13个自变量，因变量为**MEDV 房价中位数**。  \n",
    "数据集来源：  \n",
    "The Boston house-price data of Harrison, D. and Rubinfeld, D.L. 'Hedonic prices and the demand for clean air', J. Environ. Economics & Management, vol.5, 81-102, 1978.  \n"
   ]
  },
  {
   "cell_type": "markdown",
   "id": "e748ed8e-06af-42bd-8fcb-f38bc3df8215",
   "metadata": {},
   "source": [
    "## 1. 读取数据"
   ]
  },
  {
   "cell_type": "markdown",
   "id": "b76a4785-6959-4c7e-bcc9-49846cac6512",
   "metadata": {},
   "source": [
    "### 实验3.1 读取数据\n",
    "使用pandas库来读取路径下的数据：\"datasets/波士顿房价数据.csv\""
   ]
  },
  {
   "cell_type": "code",
   "execution_count": 1,
   "id": "44444a33-c34c-4fbf-8699-3debfe1fdf1c",
   "metadata": {},
   "outputs": [],
   "source": [
    "EN_CN_dict = {'CRIM': '犯罪率',\n",
    "             'ZN': '住宅用地比例',\n",
    "             'INDUS': '非零售商业用地比例',\n",
    "             'CHAS': '是否临河',\n",
    "             'NOX': '氮氧化物浓度',\n",
    "             'RM': '每栋住宅平均房间数',\n",
    "             'AGE': '1940年以前建筑比例',\n",
    "             'DIS': '与市中心的距离',\n",
    "             'RAD': '高速公路的可接近性',\n",
    "             'TAX': '房地产税率',\n",
    "             'PTRATIO': '师生比例',\n",
    "             'B': '有色人种比例',\n",
    "             'LSTAT': '低端人口比例',\n",
    "             'MEDV': '房价中位数'}"
   ]
  },
  {
   "cell_type": "code",
   "execution_count": null,
   "id": "f7e5c374-ef5e-49ed-8966-8318a82e2a00",
   "metadata": {},
   "outputs": [],
   "source": [
    "\n",
    "\n",
    "\n",
    "\n"
   ]
  },
  {
   "cell_type": "markdown",
   "id": "dac8db20-1a0c-45dc-9e5e-b4390a1ebd20",
   "metadata": {},
   "source": [
    "### 实验3.2 描述性统计分析\n",
    "应用pandas的描述统计方法，了解该数据集的基本统计特性"
   ]
  },
  {
   "cell_type": "markdown",
   "id": "8569541b-d54d-48c8-84db-6d6c1a924039",
   "metadata": {
    "tags": []
   },
   "source": [
    "## 2. 数据预处理\n",
    "### 实验3.3 处理重复值\n",
    "首先，检查下数据是否存在重复，使用`DataFrame.duplicated()`检查是否存在重复的行，`True`代表为重复行，`False`代表不是重复行。"
   ]
  },
  {
   "cell_type": "code",
   "execution_count": null,
   "id": "e07e86b2-e288-4078-b8df-9c762234fc75",
   "metadata": {},
   "outputs": [],
   "source": [
    "\n",
    "\n",
    "\n",
    "\n",
    "\n"
   ]
  },
  {
   "cell_type": "markdown",
   "id": "c62da80e-5176-4dc5-ad28-c1a4f742f564",
   "metadata": {
    "tags": []
   },
   "source": [
    "### 实验3.4 处理缺失值\n",
    "其次，检查是否存在缺失值问题。使用`DataFrame.isnull()`返回`True`代表有，`False`代表没有。"
   ]
  },
  {
   "cell_type": "code",
   "execution_count": null,
   "id": "acad835b-3f91-4d7a-9b14-fd46d08c0437",
   "metadata": {},
   "outputs": [],
   "source": [
    "\n",
    "\n",
    "\n",
    "\n",
    "\n"
   ]
  },
  {
   "cell_type": "markdown",
   "id": "85e4c367-d357-499f-b002-dd14a67070f7",
   "metadata": {},
   "source": [
    "### 实验3.5 处理异常值\n",
    "检查是否存在异常值问题。"
   ]
  },
  {
   "cell_type": "code",
   "execution_count": null,
   "id": "fe6ae5ed-d6de-4d93-9efc-66297ba26af3",
   "metadata": {},
   "outputs": [],
   "source": [
    "\n",
    "\n",
    "\n",
    "\n",
    "\n"
   ]
  },
  {
   "cell_type": "markdown",
   "id": "477cfb4b-475c-4f4e-afb8-8f38ecc417c5",
   "metadata": {},
   "source": [
    "### 实验3.6 标准化处理\n",
    "常用的标准化处理方法有最小最大值标准化处理、均值标准差标准化处理、小数标度标准化处理等。下面我们采用均值标准差标准化处理："
   ]
  },
  {
   "cell_type": "markdown",
   "id": "d792cc11-85f0-4a45-ae99-c5d0aed74b2a",
   "metadata": {},
   "source": [
    "$$\n",
    "standardize(S) = \\frac{S - \\mu_S}{\\sigma_S}\n",
    "$$"
   ]
  },
  {
   "cell_type": "code",
   "execution_count": null,
   "id": "dffda0ea-6173-4038-ae81-17746f42b61d",
   "metadata": {},
   "outputs": [],
   "source": [
    "\n",
    "\n",
    "\n",
    "\n"
   ]
  },
  {
   "cell_type": "markdown",
   "id": "c37bc072-6da7-467c-ba62-3500d1f475ed",
   "metadata": {},
   "source": [
    "### 2.5 生成解释变量（自变量）X和被解释变量（因变量）y"
   ]
  },
  {
   "cell_type": "markdown",
   "id": "c8bc227c-bdbe-4404-8c26-63d8b360c1bf",
   "metadata": {},
   "source": [
    "生成模型的解释变量x和被解释变量y"
   ]
  },
  {
   "cell_type": "code",
   "execution_count": 16,
   "id": "2aa6f04b-31fd-4070-b98b-e17e9e9b498b",
   "metadata": {},
   "outputs": [],
   "source": [
    "X = df[['犯罪率', '住宅用地比例', '非零售商业用地比例', '氮氧化物浓度', '每栋住宅平均房间数', '1940年以前建筑比例',\n",
    "       '与市中心的距离', '高速公路的可接近性', '房地产税率', '师生比例', '有色人种比例', '低端人口比例' ]]\n",
    "y = df['房价中位数']"
   ]
  },
  {
   "cell_type": "markdown",
   "id": "33eff4b9-ab87-44b8-8d9e-2321792a79c9",
   "metadata": {},
   "source": [
    "## 3. 相关性分析\n",
    "### 实验3.7 计算相关系数矩阵"
   ]
  },
  {
   "cell_type": "markdown",
   "id": "5e9f1a7d-6e8c-4504-814d-34672cb895f8",
   "metadata": {},
   "source": [
    "在做多元回归之前，我们需要确定因变量（被解释变量）和自变量（解释变量）之间是否存在相关性。可以使用`pandas.dataframe.corr()`来计算相关系数矩阵："
   ]
  },
  {
   "cell_type": "code",
   "execution_count": null,
   "id": "40845c9d-505a-498b-b523-7cc50cccf048",
   "metadata": {},
   "outputs": [],
   "source": [
    "\n",
    "\n",
    "\n",
    "\n",
    "\n"
   ]
  },
  {
   "cell_type": "markdown",
   "id": "c58f67c9-39dd-450f-a23d-02425c101ec3",
   "metadata": {},
   "source": [
    "## 4. 样本内和样本外划分"
   ]
  },
  {
   "cell_type": "markdown",
   "id": "56903944-3cb6-468e-b22f-908296b0938c",
   "metadata": {},
   "source": [
    "随机对照试验是商业数据分析领域中常用的一种实验设计方法。在随机对照试验中，研究者将参与试验的个体随机分为两组：实验组和对照组。实验组接受某种干预或处理，而对照组则不接受干预，作为对照参照。\n",
    "\n",
    "根据上述的理论，我们通常将数据集划分为训练集（training sets）和测试集（test sets），前者负责模型的训练任务，后者用来评价模型的表现。两者的划分比例按照经验，设置为0.8:0.2。"
   ]
  },
  {
   "cell_type": "markdown",
   "id": "a7df2bda-89b1-41e6-ab1c-4e15a6e4e22a",
   "metadata": {},
   "source": [
    "一般将80%的原始数据集的子样本集作为样本内(In-sample, IS)，剩余20%作为样本外(Out-of-sample, OOS)。样本总数为500个，一种简单的切割方法是直接指定前80%个样本为IS，后面20%为OOS，但是这种采样方法存在弊端。"
   ]
  },
  {
   "cell_type": "markdown",
   "id": "1e1f7b1d-ecbb-454d-abcb-9f7a0aafb458",
   "metadata": {},
   "source": [
    "![fix_split](image/fix_split.png)"
   ]
  },
  {
   "cell_type": "markdown",
   "id": "800bf023-ce8e-4574-920a-aa3df6715e2a",
   "metadata": {},
   "source": [
    "当我们并不了解原始数据集是不是被刻意排列了，最好的办法是使用随机抽样，即随机抽80%为IS，剩余的20%为OOS。我们使用生成随机数的方法，生成随机序列，来从总体样本中随机抽取样本："
   ]
  },
  {
   "cell_type": "markdown",
   "id": "04829394-7457-441e-86b1-fe496f9a84da",
   "metadata": {},
   "source": [
    "![random_split](image/random_split.png)"
   ]
  },
  {
   "cell_type": "code",
   "execution_count": 20,
   "id": "a0ce789a-45c7-4569-b96c-01703e5f0a78",
   "metadata": {},
   "outputs": [],
   "source": [
    "from sklearn.model_selection import train_test_split\n",
    "train_x, test_x, train_y, test_y = train_test_split(X, y,train_size=0.8,random_state=42)"
   ]
  },
  {
   "cell_type": "markdown",
   "id": "b2a84dfa-7ee5-440b-95a2-27b7bc02b94d",
   "metadata": {},
   "source": [
    "## 5. 多元回归分析"
   ]
  },
  {
   "cell_type": "markdown",
   "id": "db682f6f-1127-454a-8f52-ae5b6adcce04",
   "metadata": {},
   "source": [
    "### 实验3.8 样本内训练"
   ]
  },
  {
   "cell_type": "code",
   "execution_count": null,
   "id": "c40889b2-7602-402a-acaa-0c2fc851b08d",
   "metadata": {},
   "outputs": [],
   "source": [
    "\n",
    "\n",
    "\n",
    "\n",
    "\n",
    "\n"
   ]
  },
  {
   "cell_type": "markdown",
   "id": "6e9c5bf7-14f6-49d3-9e26-0c7af6241fb4",
   "metadata": {},
   "source": [
    "模型的回归方程是\n",
    "\n",
    "$$\n",
    "房价中位数 = (？)\\times犯罪率+(？)\\times住宅用地比例+(？)\\times非零售商业用地比例\\\\+(？)\\times氮氧化物浓度+(？)\\times每栋住宅平均房间数\\\\+(？)\\times1940年以前建筑比例+(？)\\times与市中心的距离+(？)\\times高速公路的可接近性+(？)\\times房地产税率\\\\+(？)\\times师生比例+(？)\\times有色人种比例+(？)\\times低端人口比例+（？）\n",
    "$$"
   ]
  },
  {
   "cell_type": "markdown",
   "id": "9df3cd2c-ebd2-432d-8dd8-d3831b61d6d8",
   "metadata": {},
   "source": [
    "### 实验3.9 样本外表现"
   ]
  },
  {
   "cell_type": "markdown",
   "id": "4a273a76-f756-4e6f-80cd-df9ac01dea08",
   "metadata": {},
   "source": [
    "我们再来看看我们刚才训练的模型，在样本外的表现。"
   ]
  },
  {
   "cell_type": "code",
   "execution_count": null,
   "id": "8cfb8295-0038-4622-bcf4-96e550b807b4",
   "metadata": {},
   "outputs": [],
   "source": [
    "\n",
    "\n",
    "\n",
    "\n",
    "\n",
    "\n"
   ]
  },
  {
   "cell_type": "markdown",
   "id": "e7646b95-46ee-45ed-a390-d4e56bf898ef",
   "metadata": {},
   "source": [
    "## 6. 结论"
   ]
  },
  {
   "cell_type": "markdown",
   "id": "f2dababa-16e1-4739-b044-e01da618b49e",
   "metadata": {},
   "source": [
    "最后，我们根据回归方程：\n",
    "\n",
    "$$\n",
    "房价中位数 = (？)\\times犯罪率+(？)\\times住宅用地比例+(？)\\times非零售商业用地比例\\\\+(？)\\times氮氧化物浓度+(？)\\times每栋住宅平均房间数\\\\+(？)\\times1940年以前建筑比例+(？)\\times与市中心的距离+(？)\\times高速公路的可接近性+(？)\\times房地产税率\\\\+(？)\\times师生比例+(？)\\times有色人种比例+(？)\\times低端人口比例+（？）\n",
    "$$"
   ]
  },
  {
   "cell_type": "markdown",
   "id": "781767bf-3732-4f2b-b1b4-969f634edc26",
   "metadata": {},
   "source": [
    "可以得出以下结论，在保持其他自变量不变的情况下：\n",
    "1. 每增加一个单位的**每栋住宅平均房间数**，都会带来？个单位的**房价中位数**上涨; \n",
    "2. 每增加一个单位的**与市中心的距离**，都会带来？个单位的**房价中位数**下降; \n",
    "3. 每增加一个单位的**都低端人口比例**，会带来？个单位的**房价中位数**下降; \n",
    "4. 每增加一个单位的**高速公路的可接近性**, 都会带来？个单位的**房价中位数**上涨; \n"
   ]
  },
  {
   "cell_type": "markdown",
   "id": "834d9abe-340e-454c-bc96-15f39479d057",
   "metadata": {},
   "source": [
    "## 7. 思考"
   ]
  },
  {
   "cell_type": "markdown",
   "id": "d73b7a29-0b1d-4717-b5f7-adb6b49a28e8",
   "metadata": {},
   "source": [
    "在结束此案例分析之前，我们思考以下问题：\n",
    "1. 从1978年开始收集的数据与今天的数据相似性如何、是否还有参照意义？通货膨胀是否要考虑?\n",
    "2. 数据中的特征是否足以描述房屋价格？你认为装修质量、公摊面积、是否有花园等因素应该考虑进去吗?\n",
    "3. 在城市收集的数据适用于农村和集镇吗?\n",
    "4. 如果一个房屋所有者想要出售他的房屋，他应用此模型预测了他的房屋价格，你认为他该如何说服买家相信这个模型给出的价格？"
   ]
  }
 ],
 "metadata": {
  "kernelspec": {
   "display_name": "Python 3 (ipykernel)",
   "language": "python",
   "name": "python3"
  },
  "language_info": {
   "codemirror_mode": {
    "name": "ipython",
    "version": 3
   },
   "file_extension": ".py",
   "mimetype": "text/x-python",
   "name": "python",
   "nbconvert_exporter": "python",
   "pygments_lexer": "ipython3",
   "version": "3.9.17"
  },
  "widgets": {
   "application/vnd.jupyter.widget-state+json": {
    "state": {},
    "version_major": 2,
    "version_minor": 0
   }
  }
 },
 "nbformat": 4,
 "nbformat_minor": 5
}
