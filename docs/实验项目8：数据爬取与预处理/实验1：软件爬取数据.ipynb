{
 "cells": [
  {
   "cell_type": "markdown",
   "id": "b9e704b0-530c-4298-9f10-ea300db6d440",
   "metadata": {},
   "source": [
    "# 6.1 网页爬虫——软件爬虫"
   ]
  },
  {
   "cell_type": "markdown",
   "id": "5e7ab5c9-ac21-4dc2-aa99-d55b218838ea",
   "metadata": {},
   "source": [
    "## 1. 采集器软件安装"
   ]
  },
  {
   "cell_type": "markdown",
   "id": "14206725-cb99-40a9-a5a9-275b5ae157f9",
   "metadata": {},
   "source": [
    "![bazhuayu](image/bazhuayu.png)"
   ]
  },
  {
   "cell_type": "markdown",
   "id": "319348bf-6718-4e9a-aa3c-d36d2c29af28",
   "metadata": {},
   "source": [
    "这里推荐使用八爪鱼采集器，它是模拟人的采集方式，比如打开网页、点击网页的按钮等对网页上的信息进行全自动提取，提供了一种无需编程就可以爬取数据的方法。"
   ]
  },
  {
   "cell_type": "markdown",
   "id": "40026e27-240c-4cc6-8718-45ca0d215408",
   "metadata": {},
   "source": [
    "安装方法如下：\n",
    "1. 粘贴网址在浏览器中：https://www.bazhuayu.com\n",
    "2. 安装完成后，注册账号。\n",
    "3. 查看八爪鱼教程：https://www.bazhuayu.com/tutorial8/81zdypz"
   ]
  },
  {
   "cell_type": "markdown",
   "id": "57277ec9-ab0f-4b9f-96fc-a38b37ec0089",
   "metadata": {},
   "source": [
    "### 2. 从JD平台上采集和巧克力相关的数据"
   ]
  },
  {
   "cell_type": "markdown",
   "id": "4dac6892-dd27-4f4b-b164-166c151be2c9",
   "metadata": {},
   "source": [
    "本文通过应用数据采集软件（八爪鱼），从JD平台上采集和巧克力相关的数据。"
   ]
  },
  {
   "cell_type": "markdown",
   "id": "ba2fff60-16da-49a5-a911-4b85f740ddfb",
   "metadata": {},
   "source": [
    "### 2.1 输入网址"
   ]
  },
  {
   "cell_type": "markdown",
   "id": "cbb149bf-6245-4c2b-b371-705e8604f158",
   "metadata": {},
   "source": [
    "<img src=\"image/bazhuanyu_1.png\" width=400>"
   ]
  },
  {
   "cell_type": "markdown",
   "id": "d51711ce-933f-4704-9a70-fb42906f7ca5",
   "metadata": {},
   "source": [
    "### 2.2 打开浏览模式，并登陆个人的JD账户\n",
    "<img src=\"image/bazhuanyu_2.png\" width=400>"
   ]
  },
  {
   "cell_type": "markdown",
   "id": "6f167301-d221-4e3a-9784-49de5a2308bc",
   "metadata": {},
   "source": [
    "### 2.3 搜索“巧克力”\n",
    "<img src=\"image/bazhuanyu_3.png\" width=400>"
   ]
  },
  {
   "cell_type": "markdown",
   "id": "00addf4e-1a77-498e-b9d5-19086feff1ca",
   "metadata": {},
   "source": [
    "### 2.4 关闭“浏览模式”，生成采集设置\n",
    "<img src=\"image/bazhuanyu_4.png\" width=200>"
   ]
  },
  {
   "cell_type": "markdown",
   "id": "35cdebfe-bf2a-413d-b280-052de398c5f8",
   "metadata": {},
   "source": [
    "### 2.5 更新网站地址\n",
    "<img src=\"image/bazhuanyu_5.png\" width=600>"
   ]
  },
  {
   "cell_type": "markdown",
   "id": "a0a14930-9072-4340-9cf3-032c97d7beb4",
   "metadata": {},
   "source": [
    "### 2.6 保存cookie"
   ]
  },
  {
   "cell_type": "markdown",
   "id": "035d3b0b-8136-4a95-9b46-6a760a27e0f0",
   "metadata": {},
   "source": [
    "<img src=\"image/bazhuanyu_6.png\" width=200>"
   ]
  },
  {
   "cell_type": "markdown",
   "id": "5614e9cd-a31f-4545-b601-e6495c70be57",
   "metadata": {},
   "source": [
    "### 2.7 自定义翻页次数\n",
    "<img src=\"image/bazhuanyu_7.png\" width=200>"
   ]
  },
  {
   "cell_type": "markdown",
   "id": "918eb145-d714-4fa1-8f5a-0ab0ef8bff3d",
   "metadata": {},
   "source": [
    "### 2.8 保存流程并采集\n",
    "<img src=\"image/bazhuanyu_8.png\" width=600>"
   ]
  },
  {
   "cell_type": "markdown",
   "id": "c226ace3-6a30-45dc-a79c-f1c7b3a9c485",
   "metadata": {},
   "source": [
    "采集完毕后，请保存为“CSV”的文件格式"
   ]
  },
  {
   "cell_type": "markdown",
   "id": "fab95cac-b773-47a0-bae2-64e51946d423",
   "metadata": {},
   "source": [
    "## 实验1.1 网页爬虫"
   ]
  },
  {
   "cell_type": "markdown",
   "id": "c598e40e-a3f0-4814-9476-9750a077579f",
   "metadata": {},
   "source": [
    "使用爬虫软件爬取某个网站上的商品的名称、价格、评价数、店铺等信息，样本大于500条，保存为CSV文件格式，并对爬虫中的过程进行截图，并思考爬取的数据能应用在哪些商业场景中？"
   ]
  },
  {
   "cell_type": "code",
   "execution_count": null,
   "id": "89bdd79e-5058-4279-bd02-7423a7075bb3",
   "metadata": {},
   "outputs": [],
   "source": []
  }
 ],
 "metadata": {
  "kernelspec": {
   "display_name": "Python 3 (ipykernel)",
   "language": "python",
   "name": "python3"
  },
  "language_info": {
   "codemirror_mode": {
    "name": "ipython",
    "version": 3
   },
   "file_extension": ".py",
   "mimetype": "text/x-python",
   "name": "python",
   "nbconvert_exporter": "python",
   "pygments_lexer": "ipython3",
   "version": "3.11.7"
  }
 },
 "nbformat": 4,
 "nbformat_minor": 5
}
