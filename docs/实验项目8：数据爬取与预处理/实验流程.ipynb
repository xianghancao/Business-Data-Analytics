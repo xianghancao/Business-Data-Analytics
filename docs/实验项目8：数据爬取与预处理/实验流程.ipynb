{
 "cells": [
  {
   "cell_type": "markdown",
   "id": "55e6ba73-ecf2-433b-9382-d3f49d2ffebe",
   "metadata": {},
   "source": [
    "# 实验流程"
   ]
  },
  {
   "cell_type": "markdown",
   "id": "6b093e0d-beb9-4b02-85db-74c36f61e4bb",
   "metadata": {},
   "source": [
    "完成本章节内的实验"
   ]
  },
  {
   "cell_type": "markdown",
   "id": "54437e21-5c3a-4877-9c12-ca8ec93eb909",
   "metadata": {},
   "source": [
    "完成后，放到如下对应班级链接中： [**会计22-1**、](https://xdsisueducn-my.sharepoint.com/:f:/g/personal/2111003_xdsisu_edu_cn/EvmVa-lZDRhKsy65lwnaTmQBZh2xKgDt8-3YfpdDWY-Kug?e=sxmErY) [**会计22-2**、](https://xdsisueducn-my.sharepoint.com/:f:/g/personal/2111003_xdsisu_edu_cn/Eoty3HlyYgBGqQiYZjccOMABv0qkgea_JcRWHb543rX5FQ?e=75fdoi) [**会计22-3**、](https://xdsisueducn-my.sharepoint.com/:f:/g/personal/2111003_xdsisu_edu_cn/Eqyb8hPchlFFgBvJpnmjrikB0iDx_4D-NFqp9zCNENKj3w?e=BY3UPm) [**会计22-4**、](https://xdsisueducn-my.sharepoint.com/:f:/g/personal/2111003_xdsisu_edu_cn/Eidfy0916lNMronkNOJhHd0BpocxetZeJpZL7tNJAbsX6A?e=Th7apD) [**会计22-5**、](https://xdsisueducn-my.sharepoint.com/:f:/g/personal/2111003_xdsisu_edu_cn/EorZuIvgi2JBmQpKtRxYZoMBVpgXGUnwdvy0TBWocIdMkA?e=Mlpfbq) [**金融22-3**、](https://xdsisueducn-my.sharepoint.com/:f:/g/personal/2111003_xdsisu_edu_cn/Er4HQYisXl9HtYqJ9KeuljgBLL0hqAOAE3UQScDKchMyfw?e=jgizZ1) [**金融22-4**](https://xdsisueducn-my.sharepoint.com/:f:/g/personal/2111003_xdsisu_edu_cn/EjK2Eq0GM_JHmKyRKi0z8yEByf7TV-MqjF4IBiK5YfhxIg?e=MHWano)"
   ]
  }
 ],
 "metadata": {
  "kernelspec": {
   "display_name": "Python 3 (ipykernel)",
   "language": "python",
   "name": "python3"
  },
  "language_info": {
   "codemirror_mode": {
    "name": "ipython",
    "version": 3
   },
   "file_extension": ".py",
   "mimetype": "text/x-python",
   "name": "python",
   "nbconvert_exporter": "python",
   "pygments_lexer": "ipython3",
   "version": "3.9.17"
  }
 },
 "nbformat": 4,
 "nbformat_minor": 5
}
