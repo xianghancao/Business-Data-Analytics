{
 "cells": [
  {
   "cell_type": "markdown",
   "id": "b2304ea8-e1da-43ef-9dfe-c0b5e8e19315",
   "metadata": {},
   "source": [
    "# 作业"
   ]
  },
  {
   "cell_type": "markdown",
   "id": "95ea6781-de1a-45c3-867e-df9bc17393af",
   "metadata": {},
   "source": [
    "## 1. 绘制企业年报词云（2分*3=6分）\n",
    "1. 读取电动汽车公司“Tesla”的企业年报，数据在'datasets/tsla-20210930-gen.txt'\n",
    "2. 在bing.com搜索引擎上，输入“tesla+logo”等关键词，下载相应的图片\n",
    "3. 使用wordcloud库制作相应的词云图，并优化"
   ]
  },
  {
   "cell_type": "code",
   "execution_count": null,
   "id": "96f50aab-c71e-4727-a733-a7f83b91c1f8",
   "metadata": {},
   "outputs": [],
   "source": [
    "\n",
    "\n"
   ]
  },
  {
   "cell_type": "markdown",
   "id": "25f6d972-bb07-46bb-9ae7-634f3952e495",
   "metadata": {},
   "source": [
    "## 2.统计企业年报词频（2分*2=4分）\n",
    "1. 应用NLTK库的word_tokenize方法对上面的字符串进行分词\n",
    "2. 计算单词的词频"
   ]
  },
  {
   "cell_type": "code",
   "execution_count": null,
   "id": "0abb9e49-73f6-4ec2-9d46-8317bc6fff20",
   "metadata": {},
   "outputs": [],
   "source": [
    "\n",
    "\n"
   ]
  }
 ],
 "metadata": {
  "kernelspec": {
   "display_name": "Python 3 (ipykernel)",
   "language": "python",
   "name": "python3"
  },
  "language_info": {
   "codemirror_mode": {
    "name": "ipython",
    "version": 3
   },
   "file_extension": ".py",
   "mimetype": "text/x-python",
   "name": "python",
   "nbconvert_exporter": "python",
   "pygments_lexer": "ipython3",
   "version": "3.11.5"
  }
 },
 "nbformat": 4,
 "nbformat_minor": 5
}
