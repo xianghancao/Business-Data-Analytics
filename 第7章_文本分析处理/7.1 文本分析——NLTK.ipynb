{
 "cells": [
  {
   "cell_type": "markdown",
   "id": "0e152b29-2fe4-4aae-bf7c-c56416691dde",
   "metadata": {},
   "source": [
    "# 7.1 文本分析——NLTK\n",
    "[NLTK](https://www.nltk.org/install.html)是一个用于建立Python程序来处理人类语言的工具库。\n",
    "它为50多个语料库和词汇资源（如WordNet）提供了易于使用的接口，以及一套用于分类、标记化、词根化、标签化、解析和语义推理的文本处理库。"
   ]
  },
  {
   "cell_type": "markdown",
   "id": "75943a8a-9a4c-40c1-8637-1b9e4b15f848",
   "metadata": {},
   "source": [
    "## 1. 分词"
   ]
  },
  {
   "cell_type": "markdown",
   "id": "8693ed2c-3411-4811-8a9b-7c3e2749a9d0",
   "metadata": {},
   "source": [
    "分词，意思是分割句子与单词。我们使用NLTK库的单词分割器（tokenizer）对句子`At eight o'clock on Thursday morning, Arthur didn't feel very good.`进行分词："
   ]
  },
  {
   "cell_type": "code",
   "execution_count": 1,
   "id": "f04a593e-c54c-497b-9e42-ee3b7c9acd93",
   "metadata": {
    "tags": []
   },
   "outputs": [
    {
     "name": "stdout",
     "output_type": "stream",
     "text": [
      "Pretty printing has been turned OFF\n",
      "NLTK库信息： {'nltk_data path': 'nltk/nltk_data', 'nltk_data included': ['tokenizers/punkt', 'taggers/averaged_perceptron_tagger', 'taggers/universal_tagset', 'corpora/.DS_Store', 'corpora/inaugural', 'corpora/reuters']}\n"
     ]
    },
    {
     "data": {
      "text/plain": [
       "['At', 'eight', \"o'clock\", 'on', 'Thursday', 'morning', ',', 'Arthur', 'did', \"n't\", 'feel', 'very', 'good', '.']"
      ]
     },
     "execution_count": 1,
     "metadata": {},
     "output_type": "execute_result"
    }
   ],
   "source": [
    "%pprint\n",
    "import nltk\n",
    "sentence = \"\"\"At eight o'clock on Thursday morning,\n",
    "             Arthur didn't feel very good.\"\"\"\n",
    "tokens = nltk.word_tokenize(sentence, language='english')\n",
    "tokens"
   ]
  },
  {
   "cell_type": "markdown",
   "id": "2e0ddbe2-e4e6-4e5d-8085-ef053bf1d565",
   "metadata": {},
   "source": [
    "## 2. 词性标注\n",
    "早在小学时，你就学会了名词、动词、形容词和副词之间的区别。这些 \"词类 \"并不只是语法学家的闲置发明，而可以广泛应用在各类语言处理任务中[2]。本部分我们来了解如何自动标记文本中的每个词的词性，然后分析文本中词语的词性分布。\n"
   ]
  },
  {
   "cell_type": "code",
   "execution_count": 2,
   "id": "27a1dc34-6d44-418c-8b54-fa4a2969b455",
   "metadata": {},
   "outputs": [
    {
     "data": {
      "text/plain": [
       "[('Arthur', 'NOUN'), ('did', 'VERB'), (\"n't\", 'ADV'), ('feel', 'VERB'), ('very', 'ADV'), ('good', 'ADJ'), ('.', '.')]"
      ]
     },
     "execution_count": 2,
     "metadata": {},
     "output_type": "execute_result"
    }
   ],
   "source": [
    "tagged = nltk.pos_tag(tokens, tagset='universal')\n",
    "tagged[7:]"
   ]
  },
  {
   "cell_type": "markdown",
   "id": "5e912b16-12d6-47ed-b525-372b0c2e94b8",
   "metadata": {},
   "source": [
    "### 练习\n",
    "1. 创建一个字符串变量，包含一个完整的英文句子，例如描述自己当前的状态\n",
    "2. 应用NLTK库的word_tokenize方法对上面的字符串进行分词\n",
    "3. 对分词后的单词进行词性标注"
   ]
  },
  {
   "cell_type": "code",
   "execution_count": null,
   "id": "be789a67-ebc3-4d5f-94cc-e1bfb4cc9b46",
   "metadata": {},
   "outputs": [],
   "source": [
    "\n",
    "\n"
   ]
  },
  {
   "cell_type": "markdown",
   "id": "87e24923-16e6-4ef5-af0b-50d3891fad21",
   "metadata": {},
   "source": [
    "## 3. 词频统计"
   ]
  },
  {
   "cell_type": "markdown",
   "id": "fcba0c7a-7e9c-4def-8030-0a6e6cd6fcc5",
   "metadata": {},
   "source": [
    "想象一下，你如何去寻找一本书中出现频率最高的50个词。手动的方法是对每个词汇项目进行统计，如下图中所示，例如the出现了3*5+4=19次。\n",
    "<center><img src=\"image/tally.png\" alt=\"image/tally.png\" width=\"304\" height=\"228\"></center>"
   ]
  },
  {
   "cell_type": "markdown",
   "id": "3cefa504-9a3f-4eaf-b433-5217b05d1896",
   "metadata": {},
   "source": [
    "以上通过手工统计是相当费时费力的，下面我们用Python里的for循环，遍历一段文本，统计并绘制其词频分布。"
   ]
  },
  {
   "cell_type": "code",
   "execution_count": 3,
   "id": "00d3b224-7b24-42a3-b3d5-28cb3333b004",
   "metadata": {},
   "outputs": [
    {
     "data": {
      "text/plain": [
       "{'a': 2, ',': 8, 'b': 1, 'c': 3, 'd': 3}"
      ]
     },
     "execution_count": 3,
     "metadata": {},
     "output_type": "execute_result"
    }
   ],
   "source": [
    "from nltk.tokenize import word_tokenize\n",
    "sentence = \"a, b, c, d, a, c, d, c, d\"\n",
    "fdist = {}\n",
    "for word in word_tokenize(sentence):\n",
    "    w = word.lower()\n",
    "    if w not in fdist: fdist[w] = 0\n",
    "    fdist[w] += 1\n",
    "fdist"
   ]
  },
  {
   "cell_type": "code",
   "execution_count": 4,
   "id": "ff5e80ca-6ff3-4724-b3c6-8495046c8fe0",
   "metadata": {},
   "outputs": [
    {
     "data": {
      "text/plain": [
       "Text(0.5, 1.0, 'Frequency Distribution of Words')"
      ]
     },
     "execution_count": 4,
     "metadata": {},
     "output_type": "execute_result"
    },
    {
     "data": {
      "image/png": "[encoded data removed]",
      "text/plain": [
       "<Figure size 600x300 with 1 Axes>"
      ]
     },
     "metadata": {},
     "output_type": "display_data"
    }
   ],
   "source": [
    "import matplotlib.pyplot as plt\n",
    "fig, ax= plt.subplots(figsize=(6,3))\n",
    "ax.bar(fdist.keys(), fdist.values())\n",
    "ax.set_title('Frequency Distribution of Words')"
   ]
  },
  {
   "cell_type": "markdown",
   "id": "8ca1c65a-4fa2-480b-a452-e11fbeb9d7da",
   "metadata": {},
   "source": [
    "## 3. 语料库的文本分析\n"
   ]
  },
  {
   "cell_type": "markdown",
   "id": "a1e7f473-6054-413e-9d33-2a6447780dd8",
   "metadata": {},
   "source": [
    "### 3.1 读取NLTK内置的语料库"
   ]
  },
  {
   "cell_type": "markdown",
   "id": "5b003483-be60-4039-abdc-dec1e028e9b3",
   "metadata": {},
   "source": [
    "NLTK内置了对几十个[语料库和训练好的模型](https://www.nltk.org/nltk_data/)的支持，列举如下：\n",
    "\n",
    "|语料库|解释|\n",
    "|---|---|\n",
    "|gutenberg|从[古腾堡计划](http://www.gutenberg.org/)电子文本档案中选出的一小部分文本，其中包含了大约25000本免费的电子书|\n",
    "|webtext|少量网络文本包括火狐浏览器讨论区的内容、对话、《加勒比海盗》的电影剧本、个人广告和酒评|\n",
    "|nps_chat|[布朗语料库](http://icame.uib.no/brown/bcm-los.html)是第一个百万字级的英语电子语料库(1961年创建)。该语料库包含来自500个来源的文本，如新闻、社论等|\n",
    "|brown|一个百万词级别的英语电子语料库，这个语料库包含 500 个不同来源的文本，按文体分类有新闻、社论等|\n",
    "|reuters|路透社语料库，上万篇新闻方档，约有 1 百万字，分 90 个主题|\n",
    "|inaugural|美国总统就职演说语料库，包含55个文本的集合|"
   ]
  },
  {
   "cell_type": "markdown",
   "id": "e813cf19-4072-40e5-a296-a5106da89978",
   "metadata": {},
   "source": [
    "我们以语料库inaugural为例，读取美国总统就职演说语料库，其包含从1789年美国华盛顿(Washington)总统，到2021年美国拜登(Biden)总统的共55届总统就职演说的文本。"
   ]
  },
  {
   "cell_type": "code",
   "execution_count": 5,
   "id": "586b3c88-32f4-41a9-a7e9-323a7c2558ac",
   "metadata": {
    "tags": []
   },
   "outputs": [
    {
     "data": {
      "text/plain": [
       "['1789-Washington.txt', '1793-Washington.txt', '1797-Adams.txt', '1801-Jefferson.txt', '1805-Jefferson.txt', '1809-Madison.txt', '1813-Madison.txt', '1817-Monroe.txt', '1821-Monroe.txt', '1825-Adams.txt', '1829-Jackson.txt', '1833-Jackson.txt', '1837-VanBuren.txt', '1841-Harrison.txt', '1845-Polk.txt', '1849-Taylor.txt', '1853-Pierce.txt', '1857-Buchanan.txt', '1861-Lincoln.txt', '1865-Lincoln.txt', '1869-Grant.txt', '1873-Grant.txt', '1877-Hayes.txt', '1881-Garfield.txt', '1885-Cleveland.txt', '1889-Harrison.txt', '1893-Cleveland.txt', '1897-McKinley.txt', '1901-McKinley.txt', '1905-Roosevelt.txt', '1909-Taft.txt', '1913-Wilson.txt', '1917-Wilson.txt', '1921-Harding.txt', '1925-Coolidge.txt', '1929-Hoover.txt', '1933-Roosevelt.txt', '1937-Roosevelt.txt', '1941-Roosevelt.txt', '1945-Roosevelt.txt', '1949-Truman.txt', '1953-Eisenhower.txt', '1957-Eisenhower.txt', '1961-Kennedy.txt', '1965-Johnson.txt', '1969-Nixon.txt', '1973-Nixon.txt', '1977-Carter.txt', '1981-Reagan.txt', '1985-Reagan.txt', '1989-Bush.txt', '1993-Clinton.txt', '1997-Clinton.txt', '2001-Bush.txt', '2005-Bush.txt', '2009-Obama.txt', '2013-Obama.txt', '2017-Trump.txt', '2021-Biden.txt']"
      ]
     },
     "execution_count": 5,
     "metadata": {},
     "output_type": "execute_result"
    }
   ],
   "source": [
    "from nltk.corpus import inaugural\n",
    "inaugural.fileids()"
   ]
  },
  {
   "cell_type": "markdown",
   "id": "43bfb3d6-9e4a-4700-ae8b-e308ac7dcdfe",
   "metadata": {},
   "source": [
    "如果需要提取语料库2021年美国拜登(Biden)总统的演说文本，使用下列方法："
   ]
  },
  {
   "cell_type": "code",
   "execution_count": 6,
   "id": "109059db-ee7d-49d5-afcf-f1458d710214",
   "metadata": {},
   "outputs": [
    {
     "data": {
      "text/plain": [
       "['Chief', 'Justice', 'Roberts', ',', 'Vice', ...]"
      ]
     },
     "execution_count": 6,
     "metadata": {},
     "output_type": "execute_result"
    }
   ],
   "source": [
    "inaugural.words('2021-Biden.txt')"
   ]
  },
  {
   "cell_type": "markdown",
   "id": "e85bdf78-020c-4539-9d95-36eedba9076a",
   "metadata": {},
   "source": [
    "### 练习：关于美国总统就职演说中提及“战争”的次数\n",
    "1. 请问Biden的就职演说中关于关键词'war'的频数有多少？\n",
    "2. 请绘制历届总统的就职演说中关键词'war'的频数随年份的变化。  \n",
    "Tips: 注意，每个文本的年份都出现在其文件名中。使用fileid[:4]，提取前四个字符，即可获得年份。"
   ]
  },
  {
   "cell_type": "code",
   "execution_count": null,
   "id": "5b786646-a176-4eba-9626-af621e83c7ee",
   "metadata": {},
   "outputs": [],
   "source": [
    "\n",
    "\n"
   ]
  },
  {
   "cell_type": "markdown",
   "id": "e07f0a5d-941b-4fc6-ba14-dc56689799be",
   "metadata": {},
   "source": [
    "## 参考\n",
    "[1] NLTK官网:https://www.nltk.org/install.html  \n",
    "[2] Natural Language Processing with Python：https://www.nltk.org/book/"
   ]
  }
 ],
 "metadata": {
  "kernelspec": {
   "display_name": "Python 3 (ipykernel)",
   "language": "python",
   "name": "python3"
  },
  "language_info": {
   "codemirror_mode": {
    "name": "ipython",
    "version": 3
   },
   "file_extension": ".py",
   "mimetype": "text/x-python",
   "name": "python",
   "nbconvert_exporter": "python",
   "pygments_lexer": "ipython3",
   "version": "3.9.17"
  }
 },
 "nbformat": 4,
 "nbformat_minor": 5
}
