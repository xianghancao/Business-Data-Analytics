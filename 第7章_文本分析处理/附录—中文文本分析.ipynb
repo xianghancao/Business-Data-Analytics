{
 "cells": [
  {
   "cell_type": "markdown",
   "id": "e3cc2b9f-dac0-4feb-9c5a-4600d387db3d",
   "metadata": {},
   "source": [
    "# 中文文本分析——Jieba"
   ]
  },
  {
   "cell_type": "markdown",
   "id": "f1cf11d2-b9d6-4648-9fe9-e1fd8b255db3",
   "metadata": {},
   "source": [
    "[Jieba](https://github.com/fxsjy/jieba)，是一个流行的Python中文分词组件。"
   ]
  },
  {
   "cell_type": "markdown",
   "id": "ec3770ef-8a02-49d4-a172-ef214720f9ba",
   "metadata": {},
   "source": [
    "## 1. 安装Jieba"
   ]
  },
  {
   "cell_type": "markdown",
   "id": "d4c13fc1-b5d6-421d-b1ec-c2527bf39979",
   "metadata": {},
   "source": [
    "如果使用pip安装工具，在终端Terminal里的命令行模式下，输入以下命令：\n",
    "```bash\n",
    "pip install jieba\n",
    "```"
   ]
  },
  {
   "cell_type": "markdown",
   "id": "0d0a91b2-cdd8-4ba6-bed4-2a86344cd6d8",
   "metadata": {},
   "source": [
    "或使用ipython的[魔术命令(magic commands)](https://ipython.readthedocs.io/en/stable/interactive/magics.html#magic-pip)直接运行以下代码，"
   ]
  },
  {
   "cell_type": "code",
   "execution_count": null,
   "id": "e82aee47-0477-448f-b50e-1e98d5c84992",
   "metadata": {},
   "outputs": [],
   "source": [
    "%pip install jieba"
   ]
  },
  {
   "cell_type": "markdown",
   "id": "609fa2dd-4204-46ea-b1a5-4869fff5447e",
   "metadata": {},
   "source": [
    "## 2. 分词"
   ]
  },
  {
   "cell_type": "code",
   "execution_count": 16,
   "id": "40cb74d7-d1cd-4f54-808c-e61081703019",
   "metadata": {
    "tags": []
   },
   "outputs": [
    {
     "name": "stdout",
     "output_type": "stream",
     "text": [
      "《/ 再别/ 再别康桥/ 别康桥/ 康桥/ 》/ 轻轻/ 的/ 我/ 走/ 了/ ，/ 正如/ 我/ 轻轻/ 的/ 来/ ；/ 我/ 轻轻/ 的/ 招手/ ，/ 作别/ 西天/ 的/ 云彩/ 。/ 那/ 河畔/ 的/ 金/ 柳/ ，/ 是/ 夕阳/ 中/ 的/ 新娘/ ；/ 波光/ 里/ 的/ 艳/ 影/ ，/ 在/ 我/ 的/ 心头/ 荡漾/ 。/ 软泥/ 上/ 的/ 青/ 荇/ ⑴，/ 油油/ 油油的/ 在/ 水底/ 招摇/ ⑵；/ 在/ 康/ 河/ 的/ 柔波/ 波里/ ，/ 我/ 甘心/ 做/ 一条/ 水草/ ！/ 那/ 榆/ 荫/ 下/ 的/ 一/ 潭/ ，/ 不是/ 清泉/ ，/ 是/ 天上/ 虹/ ；/ 揉碎/ 在/ 浮/ 藻/ 间/ ，/ 沉淀/ 着/ 彩虹/ 似的/ 梦/ 。/ 寻梦/ ？/ 撑/ 一支/ 长/ 篙/ ⑶，/ 向/ 青草/ 更/ 青/ 处/ 漫/ 溯/ ⑷；/ 满载/ 一/ 船/ 星/ 辉/ ，/ 在/ 星/ 辉/ 斑斓/ 里/ 放歌/ 。/ 但/ 我/ 不能/ 放歌/ ，/ 悄悄/ 是/ 别离/ 的/ 笙箫/ ；/ 夏/ 虫/ 也/ 为/ 我/ 沉默/ ，/ 沉默/ 是/ 今晚/ 的/ 康桥/ ！/ 悄悄/ 悄悄的/ 我/ 走/ 了/ ，/ 正如/ 我/ 悄悄/ 悄悄的/ 来/ ；/ 我/ 挥/ 一/ 挥/ 衣袖/ ，/ 不/ 带走/ 一片/ 云彩/ 。\n"
     ]
    }
   ],
   "source": [
    "import jieba\n",
    "text=\"《再别康桥》轻轻的我走了，正如我轻轻的来；我轻轻的招手，作别西天的云彩。那河畔的金柳，是夕阳中的新娘；波光里的艳影，在我的心头荡漾。软泥上的青荇⑴，油油的在水底招摇⑵；在康河的柔波里，我甘心做一条水草！那榆荫下的一潭，不是清泉，是天上虹；揉碎在浮藻间，沉淀着彩虹似的梦。寻梦？撑一支长篙⑶，向青草更青处漫溯⑷；满载一船星辉，在星辉斑斓里放歌。但我不能放歌，悄悄是别离的笙箫；夏虫也为我沉默，沉默是今晚的康桥！悄悄的我走了，正如我悄悄的来；我挥一挥衣袖，不带走一片云彩。\"\n",
    "seg_list = jieba.cut(text, cut_all=True)\n",
    "print(\"/ \".join(seg_list))  # 全模式"
   ]
  },
  {
   "cell_type": "markdown",
   "id": "d9a92966-1b61-4cb0-8e5f-14300e45fd90",
   "metadata": {},
   "source": [
    "## 3.词性标注"
   ]
  },
  {
   "cell_type": "code",
   "execution_count": 17,
   "id": "de47c656-7f58-44d5-91a7-a86ce40c7245",
   "metadata": {},
   "outputs": [
    {
     "name": "stdout",
     "output_type": "stream",
     "text": [
      "轻轻 d\n",
      "的 uj\n",
      "我 r\n",
      "走 v\n",
      "了 ul\n",
      "， x\n",
      "正如 v\n",
      "我 r\n",
      "轻轻 d\n",
      "的 uj\n",
      "来 v\n"
     ]
    }
   ],
   "source": [
    "import jieba.posseg as pseg\n",
    "words = pseg.cut(\"轻轻的我走了，正如我轻轻的来\") #jieba默认模式\n",
    "for word, flag in words:\n",
    "    print('%s %s' % (word, flag))"
   ]
  },
  {
   "cell_type": "markdown",
   "id": "84ac036f-3e0a-4717-a629-ef18ceba40b0",
   "metadata": {},
   "source": [
    "词性和专名类别标签集合如下表:"
   ]
  },
  {
   "cell_type": "markdown",
   "id": "93d046a2-1535-4a90-9780-f5ac277c3cea",
   "metadata": {},
   "source": [
    "|标签|含义|标签|含义|标签|含义|标签|含义|\n",
    "|---|---|---|---|---|---|---|---\n",
    "|n|普通名词|f|方位名词|s|处所名词|t|时间|\n",
    "|nr|人名|ns|地名|nt|机构名|nw|作品名|\n",
    "|nz|其他专名|v|普通动词|vd|动副词|vn|名动词|\n",
    "|a|形容词|ad|副形词|an|名形词|d|副词|\n",
    "|m|数量词|q|量词|r|代词|p|介词|\n",
    "|c|连词|u|助词|xc|其他虚词|w|标点符号|\n",
    "|PER|人名|LOC|地名|ORG|机构名|TIME|时间|\n"
   ]
  },
  {
   "cell_type": "markdown",
   "id": "938d5f42-36fc-4178-9bc4-80cd38d8fff7",
   "metadata": {},
   "source": [
    "## 参考\n",
    "Jieba：https://github.com/fxsjy/jieba  "
   ]
  }
 ],
 "metadata": {
  "kernelspec": {
   "display_name": "Python 3 (ipykernel)",
   "language": "python",
   "name": "python3"
  },
  "language_info": {
   "codemirror_mode": {
    "name": "ipython",
    "version": 3
   },
   "file_extension": ".py",
   "mimetype": "text/x-python",
   "name": "python",
   "nbconvert_exporter": "python",
   "pygments_lexer": "ipython3",
   "version": "3.11.5"
  }
 },
 "nbformat": 4,
 "nbformat_minor": 5
}
