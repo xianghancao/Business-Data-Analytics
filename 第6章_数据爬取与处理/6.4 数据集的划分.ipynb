{
 "cells": [
  {
   "cell_type": "markdown",
   "id": "61b8fa00-6aaa-4b0a-a399-2ff52789c5f8",
   "metadata": {},
   "source": [
    "# 数据抽样"
   ]
  },
  {
   "cell_type": "markdown",
   "id": "77718837-7e7b-4342-99c5-4eb84aa73833",
   "metadata": {},
   "source": [
    "根据随机对照试验的理论，我们通常将数据集划分为训练集（training sets）和测试集（test sets），前者负责模型的训练任务，后者用来评价模型的表现。两者的划分比例按照经验，设置为0.8:0.2。"
   ]
  },
  {
   "cell_type": "markdown",
   "id": "d2d45f34-26ab-4371-bc5a-f9767ab6bce2",
   "metadata": {},
   "source": [
    "一般将80%的原始数据集的子样本集作为样本内(In-sample, IS)，剩余20%作为样本外(Out-of-sample, OOS)。样本总数为500个，一种简单的切割方法是直接指定前80%个样本为IS，后面20%为OOS，但是这种采样方法存在弊端。"
   ]
  },
  {
   "cell_type": "markdown",
   "id": "bcf3b110-79cf-4961-983a-3d419c5a54da",
   "metadata": {},
   "source": [
    "![fix_split](image/fix_split.png)"
   ]
  },
  {
   "cell_type": "markdown",
   "id": "bed348c8-1352-4d8c-83ba-544ff7a52ff9",
   "metadata": {},
   "source": [
    "当我们并不了解原始数据集是不是被刻意排列了，最好的办法是使用随机抽样，即随机抽80%为IS，剩余的20%为OOS。我们使用生成随机数的方法，生成随机序列，来从总体样本中随机抽取样本："
   ]
  },
  {
   "cell_type": "markdown",
   "id": "aec97ead-8519-415c-9cfb-288a372b84f2",
   "metadata": {},
   "source": [
    "![random_split](image/random_split.png)"
   ]
  },
  {
   "cell_type": "code",
   "execution_count": null,
   "id": "1809e190-91aa-4e59-974e-0df985138b0b",
   "metadata": {},
   "outputs": [],
   "source": [
    "from sklearn.model_selection import train_test_split\n",
    "train_x, test_x, train_y, test_y = \\\n",
    "        train_test_split(x, y,train_size=0.8,random_state=42)"
   ]
  }
 ],
 "metadata": {
  "kernelspec": {
   "display_name": "Python 3 (ipykernel)",
   "language": "python",
   "name": "python3"
  },
  "language_info": {
   "codemirror_mode": {
    "name": "ipython",
    "version": 3
   },
   "file_extension": ".py",
   "mimetype": "text/x-python",
   "name": "python",
   "nbconvert_exporter": "python",
   "pygments_lexer": "ipython3",
   "version": "3.9.17"
  }
 },
 "nbformat": 4,
 "nbformat_minor": 5
}
