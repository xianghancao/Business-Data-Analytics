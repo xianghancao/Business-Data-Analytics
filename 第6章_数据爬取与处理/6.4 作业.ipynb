{
 "cells": [
  {
   "cell_type": "markdown",
   "id": "c14ca121-9c7f-4ae9-a8b7-ca137111e47b",
   "metadata": {},
   "source": [
    "# 作业"
   ]
  },
  {
   "cell_type": "markdown",
   "id": "56a75684-8900-4cfa-a6b1-5afd738030ac",
   "metadata": {},
   "source": [
    "## 1. 网页爬虫（5分）"
   ]
  },
  {
   "cell_type": "markdown",
   "id": "b90254ab-23f5-472e-90f0-44521d34c71f",
   "metadata": {},
   "source": [
    "使用爬虫软件爬取JD上某个商品的名称、价格、评价数、店铺等信息，样本为1000条，保存为CSV文件格式，然后和本ipynb文件一起上传提交。"
   ]
  },
  {
   "cell_type": "code",
   "execution_count": null,
   "id": "2b59c026-1b62-4d89-967c-e4a2e907d404",
   "metadata": {},
   "outputs": [],
   "source": [
    "\n",
    "\n"
   ]
  },
  {
   "cell_type": "markdown",
   "id": "7d235e42-fe8a-443d-a4d1-38a587d69dbb",
   "metadata": {},
   "source": [
    "## 2.数据预处理（1分+1分+1分+2分=5分，附加题2分）"
   ]
  },
  {
   "cell_type": "markdown",
   "id": "341ca2e3-15a9-4727-9b3e-a1ab0773ab99",
   "metadata": {},
   "source": [
    "对上述爬取的数据进行预处理：\n",
    "1. 检查是否有重复样本(行)，如果有，去重\n",
    "2. 检查是否有缺失值，如果有，填补缺失值\n",
    "3. 检查是否有异常值，如果有，修正异常值或者删除样本（行）\n",
    "4. 对于数据集进行哑变量处理，即根据商品信息，将品牌、类别等信息从商品名称中提取出来，使用0和1表示这些特征。\n",
    "5. 附加题：将采集的评价数从字符串改成数值。"
   ]
  },
  {
   "cell_type": "code",
   "execution_count": null,
   "id": "873d8061-e5eb-48cd-a544-f29731b799b1",
   "metadata": {},
   "outputs": [],
   "source": [
    "\n",
    "\n"
   ]
  }
 ],
 "metadata": {
  "kernelspec": {
   "display_name": "Python 3 (ipykernel)",
   "language": "python",
   "name": "python3"
  },
  "language_info": {
   "codemirror_mode": {
    "name": "ipython",
    "version": 3
   },
   "file_extension": ".py",
   "mimetype": "text/x-python",
   "name": "python",
   "nbconvert_exporter": "python",
   "pygments_lexer": "ipython3",
   "version": "3.9.13"
  }
 },
 "nbformat": 4,
 "nbformat_minor": 5
}
