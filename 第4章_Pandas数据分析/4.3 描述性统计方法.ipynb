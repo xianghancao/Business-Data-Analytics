{
 "cells": [
  {
   "cell_type": "markdown",
   "metadata": {},
   "source": [
    "# 描述性统计方法"
   ]
  },
  {
   "cell_type": "markdown",
   "metadata": {},
   "source": [
    "## 1. 描述性统计方法"
   ]
  },
  {
   "cell_type": "markdown",
   "metadata": {},
   "source": [
    "常用的描述性统计方法\n",
    "\n",
    "| 统计学里的描述性统计方法 | 中文|  \n",
    "| ---- | -------- |       \n",
    "|Count|个数|\n",
    "| Minimum    |   最小值       |          \n",
    "| Maximum    |  最大值        |          \n",
    "|Mean |均值 |\n",
    "| Median| 中位数|\n",
    "|Variance |方差 |\n",
    "| Standard deviation|标准差 |\n",
    "| Quintile|分位数 |\n"
   ]
  },
  {
   "cell_type": "markdown",
   "metadata": {},
   "source": [
    "### 1.1 平均值"
   ]
  },
  {
   "cell_type": "markdown",
   "metadata": {},
   "source": [
    "算术平均值用来描述一组数据，即“平均值”。它被定义为\n",
    "\n",
    "$$\n",
    "\\mu =  \\frac{\\sum_{i=1}^{n}{x_i}}{n}\n",
    "$$\n",
    "\n",
    "这里$x_1$,...$x_n$是我们的观测值\n"
   ]
  },
  {
   "cell_type": "markdown",
   "metadata": {},
   "source": [
    "### 练习\n",
    "找到以下序列的平均值[2, 2, 4, 5, 5, 5, 8, 9, 9, 9, 12]，可以使用numpy的`mean()`方法。"
   ]
  },
  {
   "cell_type": "code",
   "execution_count": null,
   "metadata": {},
   "outputs": [],
   "source": []
  },
  {
   "cell_type": "markdown",
   "metadata": {},
   "source": [
    "### 1.2 标准差"
   ]
  },
  {
   "cell_type": "markdown",
   "metadata": {},
   "source": [
    "数据离散程度的度量最常用的指标就是方差和标准差。它的计算公式如下：\n"
   ]
  },
  {
   "cell_type": "markdown",
   "metadata": {},
   "source": [
    "$$\n",
    "\\sigma^2 = \\frac{\\sum_{i=1}({x_i-\\mu})^2}{n}\n",
    "$$\n",
    "这里$x_1$,...$x_n$是我们的观测值、$\\mu$为均值"
   ]
  },
  {
   "cell_type": "markdown",
   "metadata": {},
   "source": [
    "找到以下序列的标准差[2, 2, 4, 5, 5, 5, 8, 9, 9, 9, 12]，可以使用numpy的`std()`方法。"
   ]
  },
  {
   "cell_type": "code",
   "execution_count": null,
   "metadata": {},
   "outputs": [],
   "source": []
  },
  {
   "cell_type": "markdown",
   "metadata": {},
   "source": [
    "### 1.3 中位数\n",
    "顾名思义，一组数据的中位数是当以递减或递增顺序排列时出现在数据中间位置的数字。\n",
    "\n",
    "数据中位数不容易受极端值的影响。\n"
   ]
  },
  {
   "cell_type": "markdown",
   "metadata": {},
   "source": [
    "### 练习\n",
    "找到以下序列的中位数[2, 2, 4, 5, 5, 5, 8, 9, 9, 9, 12]，可以使用numpy的`median()`方法。"
   ]
  },
  {
   "cell_type": "code",
   "execution_count": null,
   "metadata": {},
   "outputs": [],
   "source": []
  },
  {
   "cell_type": "markdown",
   "metadata": {},
   "source": [
    "### 1.4 分位数\n"
   ]
  },
  {
   "cell_type": "markdown",
   "metadata": {},
   "source": [
    "四分位数是将分类的数据分成四个部分的三个数值，每个部分的观察值的个数都是相等的。四分位数是分位数的一种类型。\n",
    "![Quartile-example.png](image/Quartile-example.png)\n"
   ]
  },
  {
   "cell_type": "markdown",
   "metadata": {},
   "source": [
    "第一个四分位数（Q1，或最低四分位数）是第25个百分位数，意味着25%的数据落在第一个四分位数以下。  \n",
    "第二个四分位数（Q2，或中位数）是第50个百分位数，意味着50%的数据低于第二个四分位数。  \n",
    "第三个四分位数（Q3，或上四分位数）是第75个百分位数，意味着75%的数据落在第三个四分位数以下。  "
   ]
  },
  {
   "cell_type": "markdown",
   "metadata": {},
   "source": [
    "箱型图可以在视觉上很好得描述数据集的分位数，它们由显示四分位数的方框和显示最低和最高观测值的“须”组成："
   ]
  },
  {
   "cell_type": "markdown",
   "metadata": {},
   "source": [
    "![Quartiles-with-boxplots](image/Quartiles-with-boxplots.png)"
   ]
  },
  {
   "cell_type": "markdown",
   "metadata": {},
   "source": [
    "### 练习\n",
    "找到以下序列的75%分位数[2, 2, 4, 5, 5, 5, 8, 9, 9, 9, 12]，可以使用numpy的`np.quantile(a=数组、q=分位数)`方法。\n"
   ]
  },
  {
   "cell_type": "code",
   "execution_count": null,
   "metadata": {},
   "outputs": [],
   "source": []
  },
  {
   "cell_type": "markdown",
   "metadata": {
    "slideshow": {
     "slide_type": "slide"
    },
    "tags": []
   },
   "source": [
    "## 2.Pandas下的描述性统计方法 "
   ]
  },
  {
   "cell_type": "markdown",
   "metadata": {},
   "source": [
    "首先，加载一个数据集文件到内存里"
   ]
  },
  {
   "cell_type": "code",
   "execution_count": 7,
   "metadata": {},
   "outputs": [
    {
     "data": {
      "text/html": [
       "<div>\n",
       "<style scoped>\n",
       "    .dataframe tbody tr th:only-of-type {\n",
       "        vertical-align: middle;\n",
       "    }\n",
       "\n",
       "    .dataframe tbody tr th {\n",
       "        vertical-align: top;\n",
       "    }\n",
       "\n",
       "    .dataframe thead th {\n",
       "        text-align: right;\n",
       "    }\n",
       "</style>\n",
       "<table border=\"1\" class=\"dataframe\">\n",
       "  <thead>\n",
       "    <tr style=\"text-align: right;\">\n",
       "      <th></th>\n",
       "      <th>年份</th>\n",
       "      <th>幸福指数</th>\n",
       "      <th>经济生产</th>\n",
       "      <th>社会支持</th>\n",
       "      <th>预期寿命</th>\n",
       "      <th>自由</th>\n",
       "      <th>慷慨</th>\n",
       "    </tr>\n",
       "    <tr>\n",
       "      <th>国家名称</th>\n",
       "      <th></th>\n",
       "      <th></th>\n",
       "      <th></th>\n",
       "      <th></th>\n",
       "      <th></th>\n",
       "      <th></th>\n",
       "      <th></th>\n",
       "    </tr>\n",
       "  </thead>\n",
       "  <tbody>\n",
       "    <tr>\n",
       "      <th>China</th>\n",
       "      <td>2006</td>\n",
       "      <td>4.560</td>\n",
       "      <td>8.696</td>\n",
       "      <td>0.747</td>\n",
       "      <td>66.88</td>\n",
       "      <td>NaN</td>\n",
       "      <td>NaN</td>\n",
       "    </tr>\n",
       "    <tr>\n",
       "      <th>China</th>\n",
       "      <td>2007</td>\n",
       "      <td>4.863</td>\n",
       "      <td>8.824</td>\n",
       "      <td>0.811</td>\n",
       "      <td>67.06</td>\n",
       "      <td>NaN</td>\n",
       "      <td>-0.176</td>\n",
       "    </tr>\n",
       "    <tr>\n",
       "      <th>China</th>\n",
       "      <td>2008</td>\n",
       "      <td>4.846</td>\n",
       "      <td>8.911</td>\n",
       "      <td>0.748</td>\n",
       "      <td>67.24</td>\n",
       "      <td>0.853</td>\n",
       "      <td>-0.092</td>\n",
       "    </tr>\n",
       "    <tr>\n",
       "      <th>China</th>\n",
       "      <td>2009</td>\n",
       "      <td>4.454</td>\n",
       "      <td>8.996</td>\n",
       "      <td>0.798</td>\n",
       "      <td>67.42</td>\n",
       "      <td>0.771</td>\n",
       "      <td>-0.160</td>\n",
       "    </tr>\n",
       "    <tr>\n",
       "      <th>China</th>\n",
       "      <td>2010</td>\n",
       "      <td>4.653</td>\n",
       "      <td>9.092</td>\n",
       "      <td>0.768</td>\n",
       "      <td>67.60</td>\n",
       "      <td>0.805</td>\n",
       "      <td>-0.133</td>\n",
       "    </tr>\n",
       "    <tr>\n",
       "      <th>China</th>\n",
       "      <td>2011</td>\n",
       "      <td>5.037</td>\n",
       "      <td>9.179</td>\n",
       "      <td>0.787</td>\n",
       "      <td>67.76</td>\n",
       "      <td>0.824</td>\n",
       "      <td>-0.186</td>\n",
       "    </tr>\n",
       "    <tr>\n",
       "      <th>China</th>\n",
       "      <td>2012</td>\n",
       "      <td>5.095</td>\n",
       "      <td>9.249</td>\n",
       "      <td>0.788</td>\n",
       "      <td>67.92</td>\n",
       "      <td>0.808</td>\n",
       "      <td>-0.185</td>\n",
       "    </tr>\n",
       "    <tr>\n",
       "      <th>China</th>\n",
       "      <td>2013</td>\n",
       "      <td>5.241</td>\n",
       "      <td>9.319</td>\n",
       "      <td>0.778</td>\n",
       "      <td>68.08</td>\n",
       "      <td>0.805</td>\n",
       "      <td>-0.158</td>\n",
       "    </tr>\n",
       "    <tr>\n",
       "      <th>China</th>\n",
       "      <td>2014</td>\n",
       "      <td>5.196</td>\n",
       "      <td>9.386</td>\n",
       "      <td>0.820</td>\n",
       "      <td>68.24</td>\n",
       "      <td>NaN</td>\n",
       "      <td>-0.217</td>\n",
       "    </tr>\n",
       "    <tr>\n",
       "      <th>China</th>\n",
       "      <td>2015</td>\n",
       "      <td>5.304</td>\n",
       "      <td>9.449</td>\n",
       "      <td>0.794</td>\n",
       "      <td>68.40</td>\n",
       "      <td>NaN</td>\n",
       "      <td>-0.244</td>\n",
       "    </tr>\n",
       "    <tr>\n",
       "      <th>China</th>\n",
       "      <td>2016</td>\n",
       "      <td>5.325</td>\n",
       "      <td>9.510</td>\n",
       "      <td>0.742</td>\n",
       "      <td>68.70</td>\n",
       "      <td>NaN</td>\n",
       "      <td>-0.228</td>\n",
       "    </tr>\n",
       "    <tr>\n",
       "      <th>China</th>\n",
       "      <td>2017</td>\n",
       "      <td>5.099</td>\n",
       "      <td>9.571</td>\n",
       "      <td>0.772</td>\n",
       "      <td>69.00</td>\n",
       "      <td>0.878</td>\n",
       "      <td>-0.175</td>\n",
       "    </tr>\n",
       "    <tr>\n",
       "      <th>China</th>\n",
       "      <td>2018</td>\n",
       "      <td>5.131</td>\n",
       "      <td>9.632</td>\n",
       "      <td>0.788</td>\n",
       "      <td>69.30</td>\n",
       "      <td>0.895</td>\n",
       "      <td>-0.159</td>\n",
       "    </tr>\n",
       "    <tr>\n",
       "      <th>China</th>\n",
       "      <td>2019</td>\n",
       "      <td>5.144</td>\n",
       "      <td>9.688</td>\n",
       "      <td>0.822</td>\n",
       "      <td>69.60</td>\n",
       "      <td>0.927</td>\n",
       "      <td>-0.173</td>\n",
       "    </tr>\n",
       "    <tr>\n",
       "      <th>China</th>\n",
       "      <td>2020</td>\n",
       "      <td>5.771</td>\n",
       "      <td>9.702</td>\n",
       "      <td>0.808</td>\n",
       "      <td>69.90</td>\n",
       "      <td>0.891</td>\n",
       "      <td>-0.103</td>\n",
       "    </tr>\n",
       "  </tbody>\n",
       "</table>\n",
       "</div>"
      ],
      "text/plain": [
       "         年份   幸福指数   经济生产   社会支持   预期寿命     自由     慷慨\n",
       "国家名称                                                 \n",
       "China  2006  4.560  8.696  0.747  66.88    NaN    NaN\n",
       "China  2007  4.863  8.824  0.811  67.06    NaN -0.176\n",
       "China  2008  4.846  8.911  0.748  67.24  0.853 -0.092\n",
       "China  2009  4.454  8.996  0.798  67.42  0.771 -0.160\n",
       "China  2010  4.653  9.092  0.768  67.60  0.805 -0.133\n",
       "China  2011  5.037  9.179  0.787  67.76  0.824 -0.186\n",
       "China  2012  5.095  9.249  0.788  67.92  0.808 -0.185\n",
       "China  2013  5.241  9.319  0.778  68.08  0.805 -0.158\n",
       "China  2014  5.196  9.386  0.820  68.24    NaN -0.217\n",
       "China  2015  5.304  9.449  0.794  68.40    NaN -0.244\n",
       "China  2016  5.325  9.510  0.742  68.70    NaN -0.228\n",
       "China  2017  5.099  9.571  0.772  69.00  0.878 -0.175\n",
       "China  2018  5.131  9.632  0.788  69.30  0.895 -0.159\n",
       "China  2019  5.144  9.688  0.822  69.60  0.927 -0.173\n",
       "China  2020  5.771  9.702  0.808  69.90  0.891 -0.103"
      ]
     },
     "execution_count": 7,
     "metadata": {},
     "output_type": "execute_result"
    }
   ],
   "source": [
    "import pandas\n",
    "df=pandas.read_csv(\"数据/world-happiness-report-china.csv\", index_col=0)\n",
    "df"
   ]
  },
  {
   "cell_type": "markdown",
   "metadata": {},
   "source": [
    "它返回的是一个pandas.DataFrame的对象，我们称之为“数据框”类型。"
   ]
  },
  {
   "cell_type": "markdown",
   "metadata": {},
   "source": [
    "我们把它赋给变量名为df的变量。"
   ]
  },
  {
   "cell_type": "markdown",
   "metadata": {},
   "source": [
    "如果只是想查看头和尾巴，可以使用`dataframe.head()`或者`dataframe.tail()`这两个方法。"
   ]
  },
  {
   "cell_type": "code",
   "execution_count": 8,
   "metadata": {},
   "outputs": [
    {
     "data": {
      "text/html": [
       "<div>\n",
       "<style scoped>\n",
       "    .dataframe tbody tr th:only-of-type {\n",
       "        vertical-align: middle;\n",
       "    }\n",
       "\n",
       "    .dataframe tbody tr th {\n",
       "        vertical-align: top;\n",
       "    }\n",
       "\n",
       "    .dataframe thead th {\n",
       "        text-align: right;\n",
       "    }\n",
       "</style>\n",
       "<table border=\"1\" class=\"dataframe\">\n",
       "  <thead>\n",
       "    <tr style=\"text-align: right;\">\n",
       "      <th></th>\n",
       "      <th>年份</th>\n",
       "      <th>幸福指数</th>\n",
       "      <th>经济生产</th>\n",
       "      <th>社会支持</th>\n",
       "      <th>预期寿命</th>\n",
       "      <th>自由</th>\n",
       "      <th>慷慨</th>\n",
       "    </tr>\n",
       "    <tr>\n",
       "      <th>国家名称</th>\n",
       "      <th></th>\n",
       "      <th></th>\n",
       "      <th></th>\n",
       "      <th></th>\n",
       "      <th></th>\n",
       "      <th></th>\n",
       "      <th></th>\n",
       "    </tr>\n",
       "  </thead>\n",
       "  <tbody>\n",
       "    <tr>\n",
       "      <th>China</th>\n",
       "      <td>2006</td>\n",
       "      <td>4.560</td>\n",
       "      <td>8.696</td>\n",
       "      <td>0.747</td>\n",
       "      <td>66.88</td>\n",
       "      <td>NaN</td>\n",
       "      <td>NaN</td>\n",
       "    </tr>\n",
       "    <tr>\n",
       "      <th>China</th>\n",
       "      <td>2007</td>\n",
       "      <td>4.863</td>\n",
       "      <td>8.824</td>\n",
       "      <td>0.811</td>\n",
       "      <td>67.06</td>\n",
       "      <td>NaN</td>\n",
       "      <td>-0.176</td>\n",
       "    </tr>\n",
       "    <tr>\n",
       "      <th>China</th>\n",
       "      <td>2008</td>\n",
       "      <td>4.846</td>\n",
       "      <td>8.911</td>\n",
       "      <td>0.748</td>\n",
       "      <td>67.24</td>\n",
       "      <td>0.853</td>\n",
       "      <td>-0.092</td>\n",
       "    </tr>\n",
       "    <tr>\n",
       "      <th>China</th>\n",
       "      <td>2009</td>\n",
       "      <td>4.454</td>\n",
       "      <td>8.996</td>\n",
       "      <td>0.798</td>\n",
       "      <td>67.42</td>\n",
       "      <td>0.771</td>\n",
       "      <td>-0.160</td>\n",
       "    </tr>\n",
       "    <tr>\n",
       "      <th>China</th>\n",
       "      <td>2010</td>\n",
       "      <td>4.653</td>\n",
       "      <td>9.092</td>\n",
       "      <td>0.768</td>\n",
       "      <td>67.60</td>\n",
       "      <td>0.805</td>\n",
       "      <td>-0.133</td>\n",
       "    </tr>\n",
       "  </tbody>\n",
       "</table>\n",
       "</div>"
      ],
      "text/plain": [
       "         年份   幸福指数   经济生产   社会支持   预期寿命     自由     慷慨\n",
       "国家名称                                                 \n",
       "China  2006  4.560  8.696  0.747  66.88    NaN    NaN\n",
       "China  2007  4.863  8.824  0.811  67.06    NaN -0.176\n",
       "China  2008  4.846  8.911  0.748  67.24  0.853 -0.092\n",
       "China  2009  4.454  8.996  0.798  67.42  0.771 -0.160\n",
       "China  2010  4.653  9.092  0.768  67.60  0.805 -0.133"
      ]
     },
     "execution_count": 8,
     "metadata": {},
     "output_type": "execute_result"
    }
   ],
   "source": [
    "df.head()"
   ]
  },
  {
   "cell_type": "markdown",
   "metadata": {},
   "source": [
    "### 2.1 describe方法"
   ]
  },
  {
   "cell_type": "markdown",
   "metadata": {},
   "source": [
    "它会返回我们的数据集的一些**基础描述性统计信息**。"
   ]
  },
  {
   "cell_type": "code",
   "execution_count": 9,
   "metadata": {},
   "outputs": [
    {
     "data": {
      "text/html": [
       "<div>\n",
       "<style scoped>\n",
       "    .dataframe tbody tr th:only-of-type {\n",
       "        vertical-align: middle;\n",
       "    }\n",
       "\n",
       "    .dataframe tbody tr th {\n",
       "        vertical-align: top;\n",
       "    }\n",
       "\n",
       "    .dataframe thead th {\n",
       "        text-align: right;\n",
       "    }\n",
       "</style>\n",
       "<table border=\"1\" class=\"dataframe\">\n",
       "  <thead>\n",
       "    <tr style=\"text-align: right;\">\n",
       "      <th></th>\n",
       "      <th>年份</th>\n",
       "      <th>幸福指数</th>\n",
       "      <th>经济生产</th>\n",
       "      <th>社会支持</th>\n",
       "      <th>预期寿命</th>\n",
       "      <th>自由</th>\n",
       "      <th>慷慨</th>\n",
       "    </tr>\n",
       "  </thead>\n",
       "  <tbody>\n",
       "    <tr>\n",
       "      <th>count</th>\n",
       "      <td>15.000000</td>\n",
       "      <td>15.000000</td>\n",
       "      <td>15.000000</td>\n",
       "      <td>15.000000</td>\n",
       "      <td>15.000000</td>\n",
       "      <td>10.000000</td>\n",
       "      <td>14.000000</td>\n",
       "    </tr>\n",
       "    <tr>\n",
       "      <th>mean</th>\n",
       "      <td>2013.000000</td>\n",
       "      <td>5.047933</td>\n",
       "      <td>9.280267</td>\n",
       "      <td>0.784733</td>\n",
       "      <td>68.206667</td>\n",
       "      <td>0.845700</td>\n",
       "      <td>-0.170643</td>\n",
       "    </tr>\n",
       "    <tr>\n",
       "      <th>std</th>\n",
       "      <td>4.472136</td>\n",
       "      <td>0.334580</td>\n",
       "      <td>0.322896</td>\n",
       "      <td>0.025689</td>\n",
       "      <td>0.933860</td>\n",
       "      <td>0.050524</td>\n",
       "      <td>0.042878</td>\n",
       "    </tr>\n",
       "    <tr>\n",
       "      <th>min</th>\n",
       "      <td>2006.000000</td>\n",
       "      <td>4.454000</td>\n",
       "      <td>8.696000</td>\n",
       "      <td>0.742000</td>\n",
       "      <td>66.880000</td>\n",
       "      <td>0.771000</td>\n",
       "      <td>-0.244000</td>\n",
       "    </tr>\n",
       "    <tr>\n",
       "      <th>25%</th>\n",
       "      <td>2009.500000</td>\n",
       "      <td>4.854500</td>\n",
       "      <td>9.044000</td>\n",
       "      <td>0.770000</td>\n",
       "      <td>67.510000</td>\n",
       "      <td>0.805750</td>\n",
       "      <td>-0.185750</td>\n",
       "    </tr>\n",
       "    <tr>\n",
       "      <th>50%</th>\n",
       "      <td>2013.000000</td>\n",
       "      <td>5.099000</td>\n",
       "      <td>9.319000</td>\n",
       "      <td>0.788000</td>\n",
       "      <td>68.080000</td>\n",
       "      <td>0.838500</td>\n",
       "      <td>-0.174000</td>\n",
       "    </tr>\n",
       "    <tr>\n",
       "      <th>75%</th>\n",
       "      <td>2016.500000</td>\n",
       "      <td>5.218500</td>\n",
       "      <td>9.540500</td>\n",
       "      <td>0.803000</td>\n",
       "      <td>68.850000</td>\n",
       "      <td>0.887750</td>\n",
       "      <td>-0.158250</td>\n",
       "    </tr>\n",
       "    <tr>\n",
       "      <th>max</th>\n",
       "      <td>2020.000000</td>\n",
       "      <td>5.771000</td>\n",
       "      <td>9.702000</td>\n",
       "      <td>0.822000</td>\n",
       "      <td>69.900000</td>\n",
       "      <td>0.927000</td>\n",
       "      <td>-0.092000</td>\n",
       "    </tr>\n",
       "  </tbody>\n",
       "</table>\n",
       "</div>"
      ],
      "text/plain": [
       "                年份       幸福指数       经济生产       社会支持       预期寿命         自由  \\\n",
       "count    15.000000  15.000000  15.000000  15.000000  15.000000  10.000000   \n",
       "mean   2013.000000   5.047933   9.280267   0.784733  68.206667   0.845700   \n",
       "std       4.472136   0.334580   0.322896   0.025689   0.933860   0.050524   \n",
       "min    2006.000000   4.454000   8.696000   0.742000  66.880000   0.771000   \n",
       "25%    2009.500000   4.854500   9.044000   0.770000  67.510000   0.805750   \n",
       "50%    2013.000000   5.099000   9.319000   0.788000  68.080000   0.838500   \n",
       "75%    2016.500000   5.218500   9.540500   0.803000  68.850000   0.887750   \n",
       "max    2020.000000   5.771000   9.702000   0.822000  69.900000   0.927000   \n",
       "\n",
       "              慷慨  \n",
       "count  14.000000  \n",
       "mean   -0.170643  \n",
       "std     0.042878  \n",
       "min    -0.244000  \n",
       "25%    -0.185750  \n",
       "50%    -0.174000  \n",
       "75%    -0.158250  \n",
       "max    -0.092000  "
      ]
     },
     "execution_count": 9,
     "metadata": {},
     "output_type": "execute_result"
    }
   ],
   "source": [
    "df.describe()"
   ]
  },
  {
   "cell_type": "markdown",
   "metadata": {},
   "source": [
    "这些会按照每一列的数据进行统计，结果包括：\n",
    "- count : 个数\n",
    "- mean : 均值\n",
    "- std : 标准差\n",
    "- min : 最小值\n",
    "- 25% : 分位数为25%的数值\n",
    "- 50% : 分位数为50%的数值\n",
    "- 75% : 分位数为75%的数值\n",
    "- max : 最大值"
   ]
  },
  {
   "cell_type": "markdown",
   "metadata": {},
   "source": [
    "Pandas常用统计方法\n",
    "\n",
    "\n",
    "| 函数名称 | 作用 |  \n",
    "| ---- | -------- | \n",
    "| .count()   | 非NA值的数量          |          \n",
    "| .min()    |   最小值       |          \n",
    "| .max()    |  最大值        |          \n",
    "|.mean() |均值 |\n",
    "| .median()| 中位数|\n",
    "|.var() |方差 |\n",
    "|.std()|标准差 |\n",
    "| .skew()| 偏度|\n",
    "| .kurt()| 峰度 |\n",
    "\n",
    "\n"
   ]
  },
  {
   "cell_type": "markdown",
   "metadata": {},
   "source": [
    "如果我们想要计算某一列的最大值，可以这样："
   ]
  },
  {
   "cell_type": "code",
   "execution_count": 22,
   "metadata": {},
   "outputs": [
    {
     "data": {
      "text/plain": [
       "5.771"
      ]
     },
     "execution_count": 22,
     "metadata": {},
     "output_type": "execute_result"
    }
   ],
   "source": [
    "df[\"幸福指数\"].max()"
   ]
  },
  {
   "cell_type": "markdown",
   "metadata": {},
   "source": [
    "同样，计算标准差，可以使用命令："
   ]
  },
  {
   "cell_type": "code",
   "execution_count": 21,
   "metadata": {},
   "outputs": [
    {
     "data": {
      "text/plain": [
       "0.33458043377739044"
      ]
     },
     "execution_count": 21,
     "metadata": {},
     "output_type": "execute_result"
    }
   ],
   "source": [
    "df[\"幸福指数\"].std()"
   ]
  },
  {
   "cell_type": "markdown",
   "metadata": {},
   "source": [
    "### 2.2 包含缺失值的情况"
   ]
  },
  {
   "cell_type": "markdown",
   "metadata": {},
   "source": [
    "当数据框包含缺失值时，比如"
   ]
  },
  {
   "cell_type": "code",
   "execution_count": 24,
   "metadata": {},
   "outputs": [
    {
     "data": {
      "text/plain": [
       "国家名称\n",
       "China      NaN\n",
       "China      NaN\n",
       "China    0.853\n",
       "China    0.771\n",
       "China    0.805\n",
       "China    0.824\n",
       "China    0.808\n",
       "China    0.805\n",
       "China      NaN\n",
       "China      NaN\n",
       "China      NaN\n",
       "China    0.878\n",
       "China    0.895\n",
       "China    0.927\n",
       "China    0.891\n",
       "Name: 自由, dtype: float64"
      ]
     },
     "execution_count": 24,
     "metadata": {},
     "output_type": "execute_result"
    }
   ],
   "source": [
    "df[\"自由\"]"
   ]
  },
  {
   "cell_type": "markdown",
   "metadata": {},
   "source": [
    "统计这一列的个数，是不考虑缺失值的："
   ]
  },
  {
   "cell_type": "code",
   "execution_count": 28,
   "metadata": {},
   "outputs": [
    {
     "data": {
      "text/plain": [
       "10"
      ]
     },
     "execution_count": 28,
     "metadata": {},
     "output_type": "execute_result"
    }
   ],
   "source": [
    "df[\"自由\"].count()"
   ]
  },
  {
   "cell_type": "markdown",
   "metadata": {},
   "source": [
    "计算平均值，也是同样自动忽略缺失值，然后计算的。"
   ]
  },
  {
   "cell_type": "code",
   "execution_count": 30,
   "metadata": {},
   "outputs": [
    {
     "data": {
      "text/plain": [
       "0.8456999999999999"
      ]
     },
     "execution_count": 30,
     "metadata": {},
     "output_type": "execute_result"
    }
   ],
   "source": [
    "df[\"自由\"].mean()"
   ]
  },
  {
   "cell_type": "markdown",
   "metadata": {},
   "source": [
    "## 参考\n",
    "- 分位数计算：https://www.scribbr.com/category/statistics/"
   ]
  },
  {
   "cell_type": "code",
   "execution_count": null,
   "metadata": {},
   "outputs": [],
   "source": []
  }
 ],
 "metadata": {
  "kernelspec": {
   "display_name": "Python 3 (ipykernel)",
   "language": "python",
   "name": "python3"
  },
  "language_info": {
   "codemirror_mode": {
    "name": "ipython",
    "version": 3
   },
   "file_extension": ".py",
   "mimetype": "text/x-python",
   "name": "python",
   "nbconvert_exporter": "python",
   "pygments_lexer": "ipython3",
   "version": "3.9.13"
  },
  "toc-autonumbering": false,
  "toc-showcode": false
 },
 "nbformat": 4,
 "nbformat_minor": 4
}
