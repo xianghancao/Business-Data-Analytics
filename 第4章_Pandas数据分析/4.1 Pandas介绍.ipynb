{
 "cells": [
  {
   "cell_type": "markdown",
   "id": "0301dcac-f458-4b17-94ff-4c24c1bd4b1a",
   "metadata": {},
   "source": [
    "# 数据分析常用库——Pandas库"
   ]
  },
  {
   "cell_type": "markdown",
   "id": "335d88a0-2173-4508-9894-540b20386a60",
   "metadata": {},
   "source": [
    "![pandas](image/pandas.png)"
   ]
  },
  {
   "cell_type": "markdown",
   "id": "1d555538-9cc7-4ea3-9922-101b032fff31",
   "metadata": {},
   "source": [
    "它是一个擅长用来对数据进行收集、清洗和分析的python第三方库。\n",
    "\n",
    "早期多用于时间序列的分析，在金融领域使用较多，目前已经扩展到所有需要对数据进行处理的场景中。"
   ]
  },
  {
   "cell_type": "markdown",
   "id": "072ea0d4-01de-408b-8191-8c0ec11131d7",
   "metadata": {},
   "source": [
    "## 1. Pandas的作者"
   ]
  },
  {
   "cell_type": "markdown",
   "id": "53f9e895-122c-4758-b1c0-7b5a2b6b20c8",
   "metadata": {},
   "source": [
    "作为pandas的主要发明者，韦斯·麦金尼(Wes McKinney)讲述了他的个人经历："
   ]
  },
  {
   "cell_type": "markdown",
   "id": "202ef66f-c252-4994-89d4-093513d9011c",
   "metadata": {},
   "source": [
    "\"I'm an American computer programmer and the Director of Ursa Labs. I studied theoretical mathematics at MIT (graduating in late 2006) before becoming very interested in programming and tools for data analysis, especially for industry use cases, in 2007.\n",
    "\n",
    "From August 2007 to July 2010, I worked on the front office quant research team at AQR Capital Management, a large quantitative investment manager in Greenwich, CT. During this time, I led a very successful effort to migrate research and production model building and research processes to the Python programming language. I started building pandas on April 6, 2008, as part of a skunkworks effort to reproduce some econometric research in Python. As part of my work, we formed a new Research Development team for the global macro group to drive software innovation in the front office.\n",
    "\n",
    "I joined the PhD program in the Statistical Science Department at Duke University before taking leave in Summer 2011 to explore ways to develop open source software (such as pandas) in a sustainable way. I discovered that entrepreneurship often makes more sense than consulting to fund open source with more leverage.\"\n",
    "\n",
    "\n",
    "<img src=\"image/WesMcKinney.png\" alt=\"img\" style=\"zoom:30%;\" />\n",
    "\n",
    "--- Wes McKinney, The creater of Pandas.\n"
   ]
  },
  {
   "cell_type": "markdown",
   "id": "9b63f175-bfc2-44bc-9131-e3ba7bb98b1c",
   "metadata": {},
   "source": [
    "读完之后，你能回答一下问题么：\n",
    "1. pandas是什么时间发明出来的？\n",
    "2. 最早pandas是为了做什么用的？"
   ]
  },
  {
   "cell_type": "markdown",
   "id": "826b6afe-d0bb-42cb-a8d3-109a69d45587",
   "metadata": {},
   "source": [
    "## 2. 你的pandas版本\n"
   ]
  },
  {
   "cell_type": "markdown",
   "id": "84c9dce2-4c18-4896-bbdc-cf5058bd21a4",
   "metadata": {},
   "source": [
    "如何加载pandas呢？想必你已经知道了。\n",
    "```python\n",
    "import pandas as pd\n",
    "```"
   ]
  },
  {
   "cell_type": "markdown",
   "id": "3d2663a2-3974-4d5d-b88d-fc04260ba853",
   "metadata": {},
   "source": [
    "如果需要了解你的pandas的版本号，请输入以下命令：\n",
    "```python\n",
    "pd.__version__\n",
    "```"
   ]
  },
  {
   "cell_type": "markdown",
   "id": "1423bb3a-2587-451e-add8-c84102e8f683",
   "metadata": {},
   "source": [
    "## 3. cheatsheet "
   ]
  },
  {
   "cell_type": "markdown",
   "id": "27c79a40-e676-4379-bd87-c0799906b6fa",
   "metadata": {},
   "source": [
    "在网上搜索关键词\"**cheatsheet** + **pandas**\"，可以搜索到一些制作精良的pandas快速手册，方便随时查找所需的方法和用法。\n",
    "\n",
    "请点击，附录：Pandas-Cheat-Sheet.pdf文件"
   ]
  }
 ],
 "metadata": {
  "kernelspec": {
   "display_name": "Python 3 (ipykernel)",
   "language": "python",
   "name": "python3"
  },
  "language_info": {
   "codemirror_mode": {
    "name": "ipython",
    "version": 3
   },
   "file_extension": ".py",
   "mimetype": "text/x-python",
   "name": "python",
   "nbconvert_exporter": "python",
   "pygments_lexer": "ipython3",
   "version": "3.9.13"
  },
  "widgets": {
   "application/vnd.jupyter.widget-state+json": {
    "state": {},
    "version_major": 2,
    "version_minor": 0
   }
  }
 },
 "nbformat": 4,
 "nbformat_minor": 5
}
