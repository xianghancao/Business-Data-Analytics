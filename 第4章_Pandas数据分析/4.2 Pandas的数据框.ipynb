{
 "cells": [
  {
   "cell_type": "markdown",
   "metadata": {
    "colab_type": "text",
    "id": "view-in-github"
   },
   "source": [
    "# Pandas的数据框"
   ]
  },
  {
   "cell_type": "markdown",
   "metadata": {},
   "source": [
    "DataFrame，中文译为数据框，是一种二维带标签的数据结构。您可以将其视为电子表格或SQL表，或Series对象的字典。它通常是最常用的pandas对象。"
   ]
  },
  {
   "cell_type": "markdown",
   "metadata": {
    "colab_type": "text",
    "id": "7qQ1n2fkx234"
   },
   "source": [
    "## 1. 读取和创建数据框\n",
    "获取数据框可以通过2种方式：读取数据文件、或者创建的方式。读取数据文件的方法如下："
   ]
  },
  {
   "cell_type": "markdown",
   "metadata": {},
   "source": [
    "![0 excel-to-pandas](image/excel-to-pandas.png)"
   ]
  },
  {
   "cell_type": "markdown",
   "metadata": {},
   "source": [
    "DataFrame的对象--基本上是一个数值表，每一行和每一列都有一个标签。上面的CSV文件来自一个音乐流媒体服务的数据，包含4个艺术家及其曲风、粉丝数、播放量这四列。"
   ]
  },
  {
   "cell_type": "markdown",
   "metadata": {},
   "source": [
    "### 练习\n",
    "使用`pd.read_csv()`加载路径下的CSV文件：'datasets/music.csv'"
   ]
  },
  {
   "cell_type": "code",
   "execution_count": null,
   "metadata": {},
   "outputs": [],
   "source": []
  },
  {
   "cell_type": "markdown",
   "metadata": {},
   "source": [
    "\n",
    "如果通过编程的方式创建数据框，那么方法如下："
   ]
  },
  {
   "cell_type": "code",
   "execution_count": 1,
   "metadata": {
    "colab": {},
    "colab_type": "code",
    "id": "yyFj31jcMmH6"
   },
   "outputs": [],
   "source": [
    "import pandas as pd\n",
    "df = pd.DataFrame({'Artist':['Billie Holiday','Jimi Hendrix', 'Miles Davis', 'SIA'],\n",
    "              'Genre': ['Jazz', 'Rock', 'Jazz', 'Pop'],\n",
    "              'Listeners': [1300000, 2700000, 1500000, 2000000],\n",
    "              'Plays': [27000000, 70000000, 48000000, 74000000]})"
   ]
  },
  {
   "cell_type": "markdown",
   "metadata": {
    "colab": {},
    "colab_type": "code",
    "id": "WF4_LVYOO__m"
   },
   "source": [
    "![view_pandas_dataframe](image/view_pandas_dataframe.png)"
   ]
  },
  {
   "cell_type": "markdown",
   "metadata": {
    "colab_type": "text",
    "id": "6LUcXFMKyF6z"
   },
   "source": [
    "## 2. 选择\n",
    "我们可以使用其标签选择任何一列："
   ]
  },
  {
   "cell_type": "markdown",
   "metadata": {
    "colab": {},
    "colab_type": "code",
    "id": "sTNHtQz3Mu_K"
   },
   "source": [
    "![select-column](image/select-column.png)"
   ]
  },
  {
   "cell_type": "markdown",
   "metadata": {
    "colab_type": "text",
    "id": "UeH1ClC3yOJy"
   },
   "source": [
    "我们可以使用它们的编号（包括两个边界行的编号）选择一个或多个行："
   ]
  },
  {
   "cell_type": "markdown",
   "metadata": {
    "colab": {},
    "colab_type": "code",
    "id": "41MpPCPwM0AR"
   },
   "source": [
    "![select-rows.png](image/select-rows.png)"
   ]
  },
  {
   "cell_type": "markdown",
   "metadata": {},
   "source": [
    "### 练习\n",
    "选择第0行"
   ]
  },
  {
   "cell_type": "code",
   "execution_count": null,
   "metadata": {},
   "outputs": [],
   "source": []
  },
  {
   "cell_type": "markdown",
   "metadata": {
    "colab": {},
    "colab_type": "code",
    "id": "fhOMUtTNPnc0"
   },
   "source": [
    "我们可以用列标和行号用`.loc`来选择表格的任何片断（但这里会包括两个边界行号）："
   ]
  },
  {
   "cell_type": "markdown",
   "metadata": {
    "colab": {},
    "colab_type": "code",
    "id": "ov_6TtCvPubJ"
   },
   "source": [
    "![select_column-and-rows.png](image/select_column-and-rows.png)"
   ]
  },
  {
   "cell_type": "markdown",
   "metadata": {},
   "source": [
    "### 练习\n",
    "选择第1和第2行，列名为 \"Artist\" and \"Plays\"的部分。"
   ]
  },
  {
   "cell_type": "code",
   "execution_count": null,
   "metadata": {},
   "outputs": [],
   "source": []
  },
  {
   "cell_type": "markdown",
   "metadata": {
    "colab_type": "text",
    "id": "GeuS62DoyXlJ"
   },
   "source": [
    "## 3. 过滤\n",
    "我们可以很容易地使用特定行的值来过滤行。例如，这里是我们的爵士乐手："
   ]
  },
  {
   "cell_type": "markdown",
   "metadata": {
    "colab": {},
    "colab_type": "code",
    "id": "ax8qDMHfPQmP"
   },
   "source": [
    "![pandas-filter-1](image/pandas-filter-1.png)"
   ]
  },
  {
   "cell_type": "markdown",
   "metadata": {
    "colab": {},
    "colab_type": "code",
    "id": "Surgh6XVRmlT"
   },
   "source": [
    "### 练习\n",
    "选择 Genre 是 \"Rock\"的行\n",
    "\n"
   ]
  },
  {
   "cell_type": "code",
   "execution_count": null,
   "metadata": {},
   "outputs": [],
   "source": []
  },
  {
   "cell_type": "markdown",
   "metadata": {
    "colab_type": "text",
    "id": "a33J488lyeFj"
   },
   "source": [
    "以下是拥有超过180万名听众的艺术家："
   ]
  },
  {
   "cell_type": "markdown",
   "metadata": {
    "colab": {},
    "colab_type": "code",
    "id": "H1Ld-RXQPTLL"
   },
   "source": [
    "![filter](image/filter.png)"
   ]
  },
  {
   "cell_type": "markdown",
   "metadata": {
    "colab": {},
    "colab_type": "code",
    "id": "8XLaLBKORva4"
   },
   "source": [
    "### 练习\n",
    "选择 \"Plays \"小于50,000,000的行\n",
    "\n",
    "\n"
   ]
  },
  {
   "cell_type": "code",
   "execution_count": null,
   "metadata": {},
   "outputs": [],
   "source": []
  },
  {
   "cell_type": "markdown",
   "metadata": {},
   "source": [
    "## 4. 处理缺失值"
   ]
  },
  {
   "cell_type": "markdown",
   "metadata": {},
   "source": [
    "在你的数据科学旅程中，你要处理的许多数据集都有缺失值。比方说，我们的数据框有一个缺失值："
   ]
  },
  {
   "cell_type": "markdown",
   "metadata": {},
   "source": [
    "![set-missing-value](image/set-missing-value.png)"
   ]
  },
  {
   "cell_type": "markdown",
   "metadata": {},
   "source": [
    "Pandas提供了多种方法来处理这个问题。最简单的是直接放弃有缺失值的行："
   ]
  },
  {
   "cell_type": "markdown",
   "metadata": {},
   "source": [
    "![filter-missing-values](image/filter-missing-values.png)"
   ]
  },
  {
   "cell_type": "markdown",
   "metadata": {},
   "source": [
    "另一种方法是用`fillna()`填入缺失的值（例如用0）。"
   ]
  },
  {
   "cell_type": "markdown",
   "metadata": {
    "colab_type": "text",
    "id": "MPeYsXStyuwA"
   },
   "source": [
    "## 5. 分组"
   ]
  },
  {
   "cell_type": "markdown",
   "metadata": {},
   "source": [
    "当你开始用某些标准对行进行分组并汇总它们的数据时，事情就会变得非常有趣。例如，让我们按流派\"Genre\"对我们的数据集进行分组，看看每种流派有多少听众和播放次数："
   ]
  },
  {
   "cell_type": "markdown",
   "metadata": {
    "colab": {},
    "colab_type": "code",
    "id": "qPG_jFSdPMF5"
   },
   "source": [
    "![group-by](image/group-by.png)"
   ]
  },
  {
   "cell_type": "markdown",
   "metadata": {},
   "source": [
    "Pandas将两行 \"Jazz\"爵士乐归为一行，由于我们使用了`sum()`聚合，它将两位爵士乐艺术家的听众和播放次数加在一起，并将总和显示在合并的爵士乐列中。"
   ]
  },
  {
   "cell_type": "markdown",
   "metadata": {},
   "source": [
    "这不仅有趣，而且是一种极其强大的数据分析方法。现在你知道了`groupby()`，你就可以折叠数据集并从中发掘出洞察力。\n",
    "聚合是统计智慧的第一支柱，也是统计学的基础工具之一。"
   ]
  },
  {
   "cell_type": "markdown",
   "metadata": {},
   "source": [
    "除了`sum()`，pandas还提供了多个聚合函数，包括计算平均值的`mean()`，`min()`，`max()`，以及其他多个函数。更多关于`groupyby()`的信息请参见Group By用户指南。"
   ]
  },
  {
   "cell_type": "markdown",
   "metadata": {},
   "source": [
    "如果你充分使用`groupby()`，并且不使用pandas中的其他东西，那么你就会把pandas发挥到极致。但是这个库仍然可以为你提供更多的东西。"
   ]
  },
  {
   "cell_type": "markdown",
   "metadata": {
    "colab": {},
    "colab_type": "code",
    "id": "g2IFgCF4Rg48"
   },
   "source": [
    "### 练习\n",
    "按\"Genre\"分组，使用`mean()`作为聚合函数 "
   ]
  },
  {
   "cell_type": "code",
   "execution_count": null,
   "metadata": {},
   "outputs": [],
   "source": []
  },
  {
   "cell_type": "markdown",
   "metadata": {},
   "source": [
    "## 6. 从现有的列创建新的列"
   ]
  },
  {
   "cell_type": "markdown",
   "metadata": {},
   "source": [
    "在数据分析过程中，我们经常发现自己需要从现有的列中创建新的列。Pandas让这一切变得轻而易举。"
   ]
  },
  {
   "cell_type": "markdown",
   "metadata": {},
   "source": [
    "![create-new-column](image/create-new-column.png)"
   ]
  },
  {
   "cell_type": "markdown",
   "metadata": {},
   "source": [
    "通过告诉Pandas用一列除以另一列，它意识到我们要做的是分别除以各个数值（即每行的 \"Plays \"值除以该行的 \"Listeners \"值）。"
   ]
  },
  {
   "cell_type": "markdown",
   "metadata": {},
   "source": [
    "## 参考\n",
    "- 10 Minutes to pandas: https://pandas.pydata.org/pandas-docs/stable/10min.html\n",
    "- A Gentle Visual Intro to Data Analysis in Python Using Pandas: https://jalammar.github.io/gentle-visual-intro-to-data-analysis-python-pandas/"
   ]
  },
  {
   "cell_type": "code",
   "execution_count": null,
   "metadata": {},
   "outputs": [],
   "source": []
  }
 ],
 "metadata": {
  "colab": {
   "collapsed_sections": [],
   "include_colab_link": true,
   "name": "Pandas Intro.ipynb",
   "provenance": [],
   "version": "0.3.2"
  },
  "kernelspec": {
   "display_name": "Python 3 (ipykernel)",
   "language": "python",
   "name": "python3"
  },
  "language_info": {
   "codemirror_mode": {
    "name": "ipython",
    "version": 3
   },
   "file_extension": ".py",
   "mimetype": "text/x-python",
   "name": "python",
   "nbconvert_exporter": "python",
   "pygments_lexer": "ipython3",
   "version": "3.9.17"
  },
  "toc-showmarkdowntxt": false
 },
 "nbformat": 4,
 "nbformat_minor": 4
}
