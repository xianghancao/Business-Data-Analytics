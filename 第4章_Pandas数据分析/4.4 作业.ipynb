{
 "cells": [
  {
   "cell_type": "markdown",
   "id": "e7a84a57-5217-4920-9266-096b76f0b3ef",
   "metadata": {
    "tags": []
   },
   "source": [
    "# 作业-Pandas"
   ]
  },
  {
   "cell_type": "markdown",
   "id": "808ac88e-2ee7-49cf-b302-67e2a27653a0",
   "metadata": {
    "tags": []
   },
   "source": [
    "## 1.DataFrame的操作（0.25分*4分=1分）\n",
    "要求：\n",
    "\n",
    "\n",
    "<img src=\"image/homework.png\" alt=\"homework\" style=\"zoom:70%;\" />\n",
    "\n",
    "\n"
   ]
  },
  {
   "cell_type": "markdown",
   "id": "b9fb406e-d35a-4136-bd0b-382216c80466",
   "metadata": {},
   "source": [
    "- 创建一个pandas.DataFrame对象，存储以上元素；\n",
    "- 添加一个新列为'd', 对应行1，2，3的值为13, 14, 15；\n",
    "- 使用选取操作，选取'a'和'd'列；\n",
    "- 使用切片操作，选取第0行和第1行；"
   ]
  },
  {
   "cell_type": "code",
   "execution_count": null,
   "id": "8bf5f799-113b-4961-a92c-fd4ef0d9be45",
   "metadata": {},
   "outputs": [],
   "source": []
  },
  {
   "cell_type": "markdown",
   "id": "46f65310-1522-4d0c-aa7e-b56ce8dbfa04",
   "metadata": {},
   "source": [
    "## 2. 描述性统计方法（1分）"
   ]
  },
  {
   "cell_type": "markdown",
   "id": "04578ed5-5348-4edf-9d9b-80ad1f294aec",
   "metadata": {},
   "source": [
    "内容：描述性统计、数据集中度量、数据离散状况。\n",
    "\n",
    "要求：\n",
    "\n",
    "使用pandas.read_csv读取路径\"datasets/world-happiness-report-2021.csv\"文件，对\"East Asia\"东亚地区进行描述性统计分析，包括：\n",
    "   - 最大值\n",
    "   - 最小值\n",
    "   - 均值\n",
    "   - 标准差\n",
    "   - 分位数"
   ]
  },
  {
   "cell_type": "code",
   "execution_count": null,
   "id": "a5e317c0-2e7c-43fe-bb47-72b3b2e25230",
   "metadata": {},
   "outputs": [],
   "source": []
  },
  {
   "cell_type": "markdown",
   "id": "8be47ee1-3017-4ab6-9fde-0850a41a9769",
   "metadata": {},
   "source": [
    "## 3. 商业场景：巧克力品牌的市场占有率（0.5分*4=2分）"
   ]
  },
  {
   "cell_type": "markdown",
   "id": "b26e7d5f-3fe3-4e00-9365-3817e6cad67c",
   "metadata": {},
   "source": [
    "市场份额亦称“市场占有率”。指某企业某一产品（或品类）的销售量（或销售额）在市场同类产品（或品类）中所占比重。它反映企业在市场上的地位，通常市场份额越高，竞争力越强。   \n",
    "\n",
    "市场份额可以通过以下公式计算：\n",
    "$$\n",
    "市场份额 = （企业销售量(额) / 市场总销售量(额)）* 100%\n",
    "$$\n",
    "\n",
    "样本数据文件'Chocolate.csv'从JD平台采集，并清洗后的数据集，包含每个商品的**价格、评价数、品牌、巧克力类别**。\n",
    "因为销量数据涉及到商业机密和合规问题，电商平台只会披露类似“10万+”、“1千+”甚至不提供。  \n",
    "通常这种情况下，可以使用“评价数”这个指标，作为代理变量，表示销量的高低。\n",
    "\n",
    "要求：\n",
    "1. 使用pandas库来读取相关的数据集文件：'datasets/Chocolate.csv'\n",
    "2. 估算德芙巧克力的价格区间（最小值、最大值）\n",
    "3. 估算德芙巧克力的总体市场份额，这里使用'评价数'代表'销量'。\n",
    "4. 计算各个品牌其哪种口味最畅销"
   ]
  },
  {
   "cell_type": "code",
   "execution_count": null,
   "id": "9777aa1d-259b-4a29-b5d4-dcca15a6e677",
   "metadata": {},
   "outputs": [],
   "source": [
    "\n",
    "\n"
   ]
  }
 ],
 "metadata": {
  "kernelspec": {
   "display_name": "Python 3 (ipykernel)",
   "language": "python",
   "name": "python3"
  },
  "language_info": {
   "codemirror_mode": {
    "name": "ipython",
    "version": 3
   },
   "file_extension": ".py",
   "mimetype": "text/x-python",
   "name": "python",
   "nbconvert_exporter": "python",
   "pygments_lexer": "ipython3",
   "version": "3.9.17"
  },
  "toc-showmarkdowntxt": false
 },
 "nbformat": 4,
 "nbformat_minor": 5
}
