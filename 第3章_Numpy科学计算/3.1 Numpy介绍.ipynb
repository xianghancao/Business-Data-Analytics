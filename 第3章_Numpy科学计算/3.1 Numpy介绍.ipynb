{
 "cells": [
  {
   "cell_type": "markdown",
   "id": "8c08771f-5de0-40ea-a26a-9bbf99ef5867",
   "metadata": {},
   "source": [
    "# 数据分析常用库——Numpy库\n",
    "![numpy-logo](image/numpy-logo.png)"
   ]
  },
  {
   "cell_type": "markdown",
   "id": "a11b900b-616c-4aa4-91fd-d7ebcd28b019",
   "metadata": {},
   "source": [
    "## 1. Numpy介绍"
   ]
  },
  {
   "cell_type": "markdown",
   "id": "aa49131a-d7f1-44e5-aa8c-709985d2d042",
   "metadata": {},
   "source": [
    "NumPy是一个开源的Python库，几乎在科学和工程的每个领域都有应用场景。它给如何处理数值型数据提供了一种通用标准。\n",
    "\n",
    "NumPy的用户包括从初级程序员、分析师到从事最先进的科学和工业研究的研究人员。NumPy也被广泛应用其他Python工具中，包括Pandas、SciPy、Matplotlib、scikit-learn等。\n",
    "\n",
    "Numpy主要提供了：\n",
    "- 创建一维到多维数组（矩阵）的方法\n",
    "- 快速操作数组的方法，包括数学、逻辑、形状操作、排序、选择、还有一些基本的统计方法。"
   ]
  },
  {
   "cell_type": "markdown",
   "id": "8f5423c1-8cb4-4129-a9a9-44b2c65dd9a1",
   "metadata": {},
   "source": [
    "## 2.如何加载Numpy呢？\n",
    "Anaconda的python环境预装了Numpy库，我们使用以下方式来加载Numpy到当前运行环境下：\n",
    "```python\n",
    "import numpy as np\n",
    "```"
   ]
  },
  {
   "cell_type": "markdown",
   "id": "09dc0c8d-9186-41bd-9be5-0cceef410da7",
   "metadata": {},
   "source": [
    "使用`as np`是为了增加之后代码的可读性和简易性。这种方式被广泛地采用，你应该会慢慢习惯。"
   ]
  },
  {
   "cell_type": "markdown",
   "id": "69858aeb-8a3c-4960-86a1-d00407eb9e4f",
   "metadata": {},
   "source": [
    "如果import过程中出现失败，显示未找到numpy，可能没有安装。请在jupyter-lab新建一个Terminal（终端）。\n",
    "\n",
    "在终端下，输入命令`pip install numpy --user`。"
   ]
  },
  {
   "cell_type": "markdown",
   "id": "13b7564e-373c-4fee-ac98-828e75264983",
   "metadata": {},
   "source": [
    "## 参考：\n",
    "Numpy官方文档：https://numpy.org/doc/stable/user/absolute_beginners.html  \n",
    "Numpy官方网址：https://numpy.org/doc/stable/index.html"
   ]
  },
  {
   "cell_type": "code",
   "execution_count": null,
   "id": "b8de17f4-98f1-42cc-971f-0e78c41fd008",
   "metadata": {},
   "outputs": [],
   "source": []
  }
 ],
 "metadata": {
  "kernelspec": {
   "display_name": "Python 3 (ipykernel)",
   "language": "python",
   "name": "python3"
  },
  "language_info": {
   "codemirror_mode": {
    "name": "ipython",
    "version": 3
   },
   "file_extension": ".py",
   "mimetype": "text/x-python",
   "name": "python",
   "nbconvert_exporter": "python",
   "pygments_lexer": "ipython3",
   "version": "3.9.13"
  },
  "toc-autonumbering": false,
  "toc-showmarkdowntxt": false
 },
 "nbformat": 4,
 "nbformat_minor": 5
}
