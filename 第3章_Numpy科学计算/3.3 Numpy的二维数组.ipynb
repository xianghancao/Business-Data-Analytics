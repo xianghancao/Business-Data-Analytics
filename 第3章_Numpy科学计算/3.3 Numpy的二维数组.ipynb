{
 "cells": [
  {
   "cell_type": "markdown",
   "id": "a26ea90b-2242-4521-b34c-1c0221064b74",
   "metadata": {},
   "source": [
    "# Numpy的二维数组"
   ]
  },
  {
   "cell_type": "markdown",
   "id": "ae8ac23c-6dac-4042-b58f-eda11557746b",
   "metadata": {},
   "source": [
    "## 1. 创建二维数组"
   ]
  },
  {
   "cell_type": "markdown",
   "id": "bb3be42f-218c-44cb-912a-2d2648f9c2b0",
   "metadata": {},
   "source": [
    "如何创建一个二维数组呢？\n",
    "你可以传递Python列表来创建一个2d数组(或“矩阵”)。"
   ]
  },
  {
   "cell_type": "code",
   "execution_count": 1,
   "id": "27b9311c-8284-4a3e-88e2-ba676293d082",
   "metadata": {},
   "outputs": [
    {
     "data": {
      "text/plain": [
       "array([[1, 2],\n",
       "       [3, 4],\n",
       "       [5, 6]])"
      ]
     },
     "execution_count": 1,
     "metadata": {},
     "output_type": "execute_result"
    }
   ],
   "source": [
    "import numpy as np\n",
    "data = np.array([[1, 2], [3, 4], [5, 6]])\n",
    "data"
   ]
  },
  {
   "cell_type": "markdown",
   "id": "48e6232c-1113-4186-ab2c-740e63862120",
   "metadata": {},
   "source": [
    "![np_create_matrix](image/np_create_matrix.png)"
   ]
  },
  {
   "cell_type": "markdown",
   "id": "a60a4f80-3c5b-4fd4-9d4c-3e87543634cc",
   "metadata": {},
   "source": [
    "在一维数组的创建中，我们已经学会ones()， zeros()和random()，当然也可以使用ones()， zeros()和random()来创建一个2D数组，如果你给他们一个元组来描述矩阵的维数:"
   ]
  },
  {
   "cell_type": "markdown",
   "id": "f026baad-17bc-4a6a-9166-4519aefcbe8a",
   "metadata": {},
   "source": [
    "![np_ones_zeros_matrix](image/numpy-matrix-ones-zeros-random.png)"
   ]
  },
  {
   "cell_type": "markdown",
   "id": "aca13902-ecbe-4671-b7a2-ec43dcfded68",
   "metadata": {},
   "source": [
    "### 1.1 数组的形状和尺寸"
   ]
  },
  {
   "cell_type": "markdown",
   "id": "d30d8e71-f189-4faf-a0d8-3188dbecf22a",
   "metadata": {},
   "source": [
    "`ndarray.ndim` 会告诉你数组的轴数，或者说是维度。\n",
    "\n",
    "`ndarray.size` 会告诉你数组元素的总数。这是数组的形状元素的乘积。\n",
    "\n",
    "`ndarray.shape` 将显示一个整数元组，该元组指示数组每个维度上存储的元素数量。"
   ]
  },
  {
   "cell_type": "code",
   "execution_count": 1,
   "id": "aa5b5439-d154-481d-b0a3-4be9e9ef56ef",
   "metadata": {},
   "outputs": [],
   "source": [
    "# array_example是一个3维数组\n",
    "import numpy as np\n",
    "array_example = np.array([[[0, 1, 2, 3],\n",
    "                           [4, 5, 6, 7]],\n",
    "                          [[0, 1, 2, 3],\n",
    "                           [4, 5, 6, 7]],\n",
    "                          [[0 ,1 ,2, 3],\n",
    "                           [4, 5, 6, 7]]])"
   ]
  },
  {
   "cell_type": "code",
   "execution_count": 2,
   "id": "00b42189-dd01-4610-a750-a6b7695a8516",
   "metadata": {},
   "outputs": [
    {
     "name": "stdout",
     "output_type": "stream",
     "text": [
      "维度: 3\n",
      "尺寸: 24\n",
      "形状: (3, 2, 4)\n"
     ]
    }
   ],
   "source": [
    "print('维度:', array_example.ndim)\n",
    "print('尺寸:', array_example.size)\n",
    "print('形状:', array_example.shape)"
   ]
  },
  {
   "cell_type": "markdown",
   "id": "dd7ab003-1ba9-4f0b-8e6e-46a62649a8a6",
   "metadata": {},
   "source": [
    "猜猜看以下数组的ndim、size、shape"
   ]
  },
  {
   "cell_type": "code",
   "execution_count": 5,
   "id": "5ccb5210-45e2-4a99-a678-f8ddfcb4c2af",
   "metadata": {},
   "outputs": [],
   "source": [
    "# 2维数组\n",
    "array_example = np.array([[0, 1, 2, 3],\n",
    "                          [4, 5, 6, 7],\n",
    "                          [0, 1, 2, 3],\n",
    "                          [4, 5, 6, 7],\n",
    "                          [0 ,1 ,2, 3],\n",
    "                          [4, 5, 6, 7]])"
   ]
  },
  {
   "cell_type": "code",
   "execution_count": 6,
   "id": "9cb67dc6-7cd0-4e9a-b6ba-8e477cd6a957",
   "metadata": {},
   "outputs": [
    {
     "name": "stdout",
     "output_type": "stream",
     "text": [
      "维度: 2\n",
      "尺寸: 24\n",
      "形状: (6, 4)\n"
     ]
    }
   ],
   "source": [
    "print('维度:', array_example.ndim)\n",
    "print('尺寸:', array_example.size)\n",
    "print('形状:', array_example.shape)"
   ]
  },
  {
   "cell_type": "markdown",
   "id": "24c8807f-2733-46f2-8c7b-3d90bf9a7912",
   "metadata": {},
   "source": [
    "## 2. 索引和切片"
   ]
  },
  {
   "cell_type": "markdown",
   "id": "156b831a-465f-4ba8-8dbc-f3d1fc7b77ed",
   "metadata": {},
   "source": [
    "当你在操作矩阵时，索引和切片操作很有用:"
   ]
  },
  {
   "cell_type": "markdown",
   "id": "fe870183-73a6-4ade-b7a9-453dbf0d5cb9",
   "metadata": {},
   "source": [
    "![np_matrix_indexing](image/np_matrix_indexing.png)"
   ]
  },
  {
   "cell_type": "code",
   "execution_count": 6,
   "id": "7d931775-8e92-4d89-b901-62ab00eb74d3",
   "metadata": {},
   "outputs": [
    {
     "data": {
      "text/plain": [
       "2"
      ]
     },
     "execution_count": 6,
     "metadata": {},
     "output_type": "execute_result"
    }
   ],
   "source": [
    "data = np.array([[1, 2], [3, 4], [5, 6]])\n",
    "data[0, 1]"
   ]
  },
  {
   "cell_type": "code",
   "execution_count": 7,
   "id": "73c761ff-65e2-4269-9be7-a4db9b7e20b0",
   "metadata": {},
   "outputs": [
    {
     "data": {
      "text/plain": [
       "array([[3, 4],\n",
       "       [5, 6]])"
      ]
     },
     "execution_count": 7,
     "metadata": {},
     "output_type": "execute_result"
    }
   ],
   "source": [
    "data[1:3]"
   ]
  },
  {
   "cell_type": "code",
   "execution_count": 8,
   "id": "3951b3cf-9da0-443a-882a-bbe4df9a1c77",
   "metadata": {},
   "outputs": [
    {
     "data": {
      "text/plain": [
       "array([1, 3])"
      ]
     },
     "execution_count": 8,
     "metadata": {},
     "output_type": "execute_result"
    }
   ],
   "source": [
    "data[0:2, 0]"
   ]
  },
  {
   "cell_type": "markdown",
   "id": "05be080a-dd73-45c1-9bca-fb1c4231a78d",
   "metadata": {},
   "source": [
    "### 2.1 满足特定条件的切片 "
   ]
  },
  {
   "cell_type": "markdown",
   "id": "c85f5406-6617-431b-971c-530731f83547",
   "metadata": {},
   "source": [
    "如果想从数组中选择满足特定条件的值，使用NumPy很简单。"
   ]
  },
  {
   "cell_type": "code",
   "execution_count": 9,
   "id": "92061dc1-cf9b-4f20-861c-ba9f8ee6b215",
   "metadata": {},
   "outputs": [
    {
     "data": {
      "text/plain": [
       "array([[ 1,  2,  3,  4],\n",
       "       [ 5,  6,  7,  8],\n",
       "       [ 9, 10, 11, 12]])"
      ]
     },
     "execution_count": 9,
     "metadata": {},
     "output_type": "execute_result"
    }
   ],
   "source": [
    "a = np.array([[1 , 2, 3, 4], [5, 6, 7, 8], [9, 10, 11, 12]])\n",
    "a"
   ]
  },
  {
   "cell_type": "markdown",
   "id": "fe2fe660-8dae-418e-a55a-e7e32255faf6",
   "metadata": {},
   "source": [
    "从a中选取小于10的子集："
   ]
  },
  {
   "cell_type": "code",
   "execution_count": 10,
   "id": "e560668e-9a83-4bcc-984d-98e0d794f427",
   "metadata": {},
   "outputs": [
    {
     "data": {
      "text/plain": [
       "array([1, 2, 3, 4, 5, 6, 7, 8, 9])"
      ]
     },
     "execution_count": 10,
     "metadata": {},
     "output_type": "execute_result"
    }
   ],
   "source": [
    "below_five = a[a < 10]\n",
    "below_five"
   ]
  },
  {
   "cell_type": "markdown",
   "id": "62dafb02-6dff-48ba-beed-cee8a699147c",
   "metadata": {},
   "source": [
    "或者是选取可以被2整除的子集："
   ]
  },
  {
   "cell_type": "code",
   "execution_count": 11,
   "id": "5db9ee36-e540-40be-9c68-7d6c6419e747",
   "metadata": {},
   "outputs": [
    {
     "data": {
      "text/plain": [
       "array([ 2,  4,  6,  8, 10, 12])"
      ]
     },
     "execution_count": 11,
     "metadata": {},
     "output_type": "execute_result"
    }
   ],
   "source": [
    "divisible_by_2 = a[a%2==0]            # %整除，求余数\n",
    "divisible_by_2"
   ]
  },
  {
   "cell_type": "markdown",
   "id": "b6acbb0a-525d-47a4-a881-625634baf39c",
   "metadata": {},
   "source": [
    "选取满足多组条件下的子集："
   ]
  },
  {
   "cell_type": "code",
   "execution_count": 12,
   "id": "9be0f1ae-b27b-4dbc-a893-832587b61b68",
   "metadata": {},
   "outputs": [
    {
     "data": {
      "text/plain": [
       "array([ 3,  4,  5,  6,  7,  8,  9, 10])"
      ]
     },
     "execution_count": 12,
     "metadata": {},
     "output_type": "execute_result"
    }
   ],
   "source": [
    "a[(a > 2) & (a < 11)]"
   ]
  },
  {
   "cell_type": "markdown",
   "id": "d83f9db3-15ed-4046-b14f-ca8dbf846767",
   "metadata": {},
   "source": [
    "## 3. 求和、最大值、最小值"
   ]
  },
  {
   "cell_type": "markdown",
   "id": "f4e7e71d-bdbc-4ebe-a586-ff5cbeae9070",
   "metadata": {},
   "source": [
    "和一维数组一样，二维数组的求最大值、最小值和总和，如下："
   ]
  },
  {
   "cell_type": "markdown",
   "id": "ba52ce80-67bd-46b2-a097-9a34ba118756",
   "metadata": {},
   "source": [
    "![np_matrix_aggregation](image/np_matrix_aggregation.png)"
   ]
  },
  {
   "cell_type": "markdown",
   "id": "4096c42b-bc96-470f-8670-1b473400b535",
   "metadata": {},
   "source": [
    "你可以在一个矩阵中聚合所有的值，你可以使用轴参数跨列或跨行聚合它们:"
   ]
  },
  {
   "cell_type": "markdown",
   "id": "a1e6e784-e76b-4968-a0c8-db2996e11763",
   "metadata": {},
   "source": [
    "![np_matrix_aggregation_row](image/np_matrix_aggregation_row.png)"
   ]
  },
  {
   "cell_type": "code",
   "execution_count": 16,
   "id": "932c7069-cbf4-42d5-b87a-b499f7cd3b2e",
   "metadata": {},
   "outputs": [
    {
     "data": {
      "text/plain": [
       "array([5, 6])"
      ]
     },
     "execution_count": 16,
     "metadata": {},
     "output_type": "execute_result"
    }
   ],
   "source": [
    "import numpy as np\n",
    "data = np.array([[1, 2], [5, 3], [4, 6]])\n",
    "data.max(axis=0)"
   ]
  },
  {
   "cell_type": "code",
   "execution_count": 17,
   "id": "9d80fea1-20fb-4512-bc5f-2c450fad0b11",
   "metadata": {},
   "outputs": [
    {
     "data": {
      "text/plain": [
       "array([2, 5, 6])"
      ]
     },
     "execution_count": 17,
     "metadata": {},
     "output_type": "execute_result"
    }
   ],
   "source": [
    "data.max(axis=1)"
   ]
  },
  {
   "cell_type": "markdown",
   "id": "19f93cd6-e1f4-4320-9bda-3e658c743693",
   "metadata": {},
   "source": [
    "一旦你创建了你的矩阵，如果你有两个相同大小的矩阵，你可以使用算术运算符对它们进行相加和相乘"
   ]
  },
  {
   "cell_type": "markdown",
   "id": "e3f52361-e5c1-4765-a08a-0632d8dfab39",
   "metadata": {},
   "source": [
    "![np_matrix_arithmetic](image/np_matrix_arithmetic.png)"
   ]
  },
  {
   "cell_type": "markdown",
   "id": "2ab445c2-fce6-490d-b42a-63e11edee44b",
   "metadata": {},
   "source": [
    "你可以在不同大小的矩阵上做这些算术运算，但只有当一个矩阵只有一列或一行。在本例中，NumPy将使用它的**广播规则**进行操作。"
   ]
  },
  {
   "cell_type": "markdown",
   "id": "b983b104-5b0c-4e01-9101-a4d00d7e3e34",
   "metadata": {},
   "source": [
    "![np_matrix_broadcasting](image/np_matrix_broadcasting.png)"
   ]
  },
  {
   "cell_type": "code",
   "execution_count": 19,
   "id": "dca774b9-ffc6-4d4d-a422-dd7236ff66c5",
   "metadata": {},
   "outputs": [
    {
     "data": {
      "text/plain": [
       "array([[2, 3],\n",
       "       [4, 5],\n",
       "       [6, 7]])"
      ]
     },
     "execution_count": 19,
     "metadata": {},
     "output_type": "execute_result"
    }
   ],
   "source": [
    "data = np.array([[1, 2], [3, 4], [5, 6]])\n",
    "ones_row = np.array([[1, 1]])\n",
    "data + ones_row"
   ]
  },
  {
   "cell_type": "markdown",
   "id": "ca67e695-4e2d-40fd-9287-e73a0371495d",
   "metadata": {
    "tags": []
   },
   "source": [
    "## 4. 转置\n",
    "通常需要对2维数组进行转置。NumPy数组有一个属性T，它允许转置"
   ]
  },
  {
   "cell_type": "markdown",
   "id": "8f8cedb3-9d29-4784-9119-d2fa7fb899c7",
   "metadata": {},
   "source": [
    "![np_transposing_reshaping](image/np_transposing_reshaping.png)"
   ]
  },
  {
   "cell_type": "code",
   "execution_count": 20,
   "id": "ab96f579-2a38-4e07-a28d-23492b0b4794",
   "metadata": {},
   "outputs": [
    {
     "data": {
      "text/plain": [
       "array([[1, 2],\n",
       "       [3, 4],\n",
       "       [5, 6]])"
      ]
     },
     "execution_count": 20,
     "metadata": {},
     "output_type": "execute_result"
    }
   ],
   "source": [
    "data"
   ]
  },
  {
   "cell_type": "code",
   "execution_count": 21,
   "id": "60c519b8-5657-4edf-94b5-9f8976ebd78c",
   "metadata": {},
   "outputs": [
    {
     "data": {
      "text/plain": [
       "array([[1, 3, 5],\n",
       "       [2, 4, 6]])"
      ]
     },
     "execution_count": 21,
     "metadata": {},
     "output_type": "execute_result"
    }
   ],
   "source": [
    "data.T"
   ]
  },
  {
   "cell_type": "markdown",
   "id": "93956975-43e1-49ed-ae2b-1d41ddf4d08c",
   "metadata": {},
   "source": [
    "## 5. 变形"
   ]
  },
  {
   "cell_type": "markdown",
   "id": "86ac4d0f-00e1-425e-b989-caab69ecda05",
   "metadata": {},
   "source": [
    "你可能还需要变换矩阵的维数。例如，当您有一个模型，它需要一个与您的数据集不同的输入形状时，就会发生这种情况。这就是重塑方法可以发挥作用的地方。你只需要传递你想要的矩阵的新维度。"
   ]
  },
  {
   "cell_type": "markdown",
   "id": "b748fb65-bcb8-43f2-a8ab-ecad7b8d7065",
   "metadata": {},
   "source": [
    "![np_reshape](image/np_reshape.png)"
   ]
  },
  {
   "cell_type": "markdown",
   "id": "9a3ae7ad-7ac2-4691-91a4-27cbfb6d2de0",
   "metadata": {},
   "source": [
    "如果想把2维数组变成1维，该如何操作呢？"
   ]
  },
  {
   "cell_type": "code",
   "execution_count": 22,
   "id": "1b05e3b3-1bfa-4b40-89b4-3f92f244ef64",
   "metadata": {},
   "outputs": [],
   "source": [
    "x = np.array([[1 , 2, 3, 4],\n",
    "              [5, 6, 7, 8],\n",
    "              [9, 10, 11, 12]])"
   ]
  },
  {
   "cell_type": "code",
   "execution_count": 23,
   "id": "25355ad9-1f8f-42f4-8159-0509e112fbb9",
   "metadata": {},
   "outputs": [
    {
     "data": {
      "text/plain": [
       "array([ 1,  2,  3,  4,  5,  6,  7,  8,  9, 10, 11, 12])"
      ]
     },
     "execution_count": 23,
     "metadata": {},
     "output_type": "execute_result"
    }
   ],
   "source": [
    "x.flatten()"
   ]
  },
  {
   "cell_type": "markdown",
   "id": "48835c3f-8a62-4ef1-9e9b-93fc3d19d6b5",
   "metadata": {},
   "source": [
    "## 6. 连结两个数组"
   ]
  },
  {
   "cell_type": "code",
   "execution_count": 24,
   "id": "4b56bc85-8df1-4082-b6ae-820f240a8331",
   "metadata": {},
   "outputs": [],
   "source": [
    "a = np.array([1, 2, 3, 4])\n",
    "b = np.array([5, 6, 7, 8])"
   ]
  },
  {
   "cell_type": "markdown",
   "id": "37b0cbf0-a1ef-4c14-a1b0-4ae584d18d02",
   "metadata": {},
   "source": [
    "可以使用np.concatenate()将它们连接起来。"
   ]
  },
  {
   "cell_type": "code",
   "execution_count": 25,
   "id": "dd16575e-76d1-4d8d-b0cd-03d8a4a9414a",
   "metadata": {},
   "outputs": [
    {
     "data": {
      "text/plain": [
       "array([1, 2, 3, 4, 5, 6, 7, 8])"
      ]
     },
     "execution_count": 25,
     "metadata": {},
     "output_type": "execute_result"
    }
   ],
   "source": [
    "np.concatenate((a, b))        #或者使用np.concatenate([a, b])"
   ]
  },
  {
   "cell_type": "markdown",
   "id": "ee231831-b9d4-4625-9247-fc47fd89f1d1",
   "metadata": {},
   "source": [
    "或者是另一个方向，"
   ]
  },
  {
   "cell_type": "code",
   "execution_count": 26,
   "id": "8022e617-746c-44af-b78d-a2d96f53c6e8",
   "metadata": {},
   "outputs": [],
   "source": [
    "x = np.array([[1, 2], [3, 4]])\n",
    "y = np.array([[5, 6]])"
   ]
  },
  {
   "cell_type": "code",
   "execution_count": 27,
   "id": "b9e10e04-2b92-4a43-986c-dead41ea136e",
   "metadata": {},
   "outputs": [
    {
     "data": {
      "text/plain": [
       "array([[1, 2],\n",
       "       [3, 4]])"
      ]
     },
     "execution_count": 27,
     "metadata": {},
     "output_type": "execute_result"
    }
   ],
   "source": [
    "x"
   ]
  },
  {
   "cell_type": "code",
   "execution_count": 28,
   "id": "30d69489-320b-4fee-bd9d-0d2c49a2c1bd",
   "metadata": {},
   "outputs": [
    {
     "data": {
      "text/plain": [
       "array([[5, 6]])"
      ]
     },
     "execution_count": 28,
     "metadata": {},
     "output_type": "execute_result"
    }
   ],
   "source": [
    "y"
   ]
  },
  {
   "cell_type": "markdown",
   "id": "b8a57c47-e8a5-4d1e-a470-b1c214b2eb4a",
   "metadata": {},
   "source": [
    "你把它们拼接在一起"
   ]
  },
  {
   "cell_type": "code",
   "execution_count": 29,
   "id": "6f84c744-273e-4f40-8fee-846fdf525420",
   "metadata": {},
   "outputs": [
    {
     "data": {
      "text/plain": [
       "array([[1, 2],\n",
       "       [3, 4],\n",
       "       [5, 6]])"
      ]
     },
     "execution_count": 29,
     "metadata": {},
     "output_type": "execute_result"
    }
   ],
   "source": [
    "np.concatenate((x, y), axis=0) "
   ]
  },
  {
   "cell_type": "markdown",
   "id": "fd6e4db2-0135-4c4a-af3c-80a0ec47cc26",
   "metadata": {},
   "source": [
    "## 7. 参考：\n",
    "1. NumPy: the absolute basics for beginners, https://numpy.org/doc/stable/user/absolute_beginners.html\n",
    "2. A Visual Intro to NumPy and Data Representation, https://jalammar.github.io/visual-numpy/"
   ]
  },
  {
   "cell_type": "code",
   "execution_count": null,
   "id": "2fde0cd8-e560-4cb4-b132-34e00d814fad",
   "metadata": {},
   "outputs": [],
   "source": []
  }
 ],
 "metadata": {
  "kernelspec": {
   "display_name": "Python 3 (ipykernel)",
   "language": "python",
   "name": "python3"
  },
  "language_info": {
   "codemirror_mode": {
    "name": "ipython",
    "version": 3
   },
   "file_extension": ".py",
   "mimetype": "text/x-python",
   "name": "python",
   "nbconvert_exporter": "python",
   "pygments_lexer": "ipython3",
   "version": "3.9.13"
  },
  "toc-autonumbering": false,
  "toc-showmarkdowntxt": false
 },
 "nbformat": 4,
 "nbformat_minor": 5
}
