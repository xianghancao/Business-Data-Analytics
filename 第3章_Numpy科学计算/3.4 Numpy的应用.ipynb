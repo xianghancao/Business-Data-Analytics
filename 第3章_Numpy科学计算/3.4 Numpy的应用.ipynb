{
 "cells": [
  {
   "cell_type": "markdown",
   "id": "606921c1-91a7-443b-bcc3-4593b23ba6a5",
   "metadata": {},
   "source": [
    "# 3.4 Numpy的应用\n",
    "## 1. 音频数据\n",
    "\n",
    "一个音频文件是一个一维数组的样本。 每个样本都是一个数字，代表一小块音频信号。 CD的音频每秒可能有44,100个样本，每个样本是-32767到32768之间的整数。 这意味着如果您有一个10秒的CD的WAVE文件，您可以将它装入一个长度为441,000（也就是10 * 44,100）的NumPy数组中。 如果想提取音频的第一秒，只需将该文件加载到一个NumPy数组`audio` 中，并使用 `audio[:44100]`即可获取到。\n",
    "\n",
    "下面是一个音频文件的一个切片：\n",
    "\n",
    "![numpy-audio](image/numpy-audio.png)"
   ]
  },
  {
   "cell_type": "markdown",
   "id": "47c43e13-7aac-4fb5-a1df-cf2ff4caef0c",
   "metadata": {},
   "source": [
    "***"
   ]
  },
  {
   "cell_type": "markdown",
   "id": "861885de-f441-4d68-ad94-72c750cb68ff",
   "metadata": {},
   "source": [
    "## 2.图像数据\n",
    "\n",
    "一个图像就是一个像素矩阵，其维度就是高度 x 宽度。\n",
    "- 如果图像是黑白照片，也就是一个灰度图，每个像素可以用一个数字代表（通常是在0（黑）和255（白）之间）。如果想要裁切图像左上角10 x 10像素的部分，只需通过 NumPy 的 `image[:10, :10]` 函数即可获取。\n",
    "\n",
    "下面是一个图片文件的切片：\n",
    "\n",
    "![numpy-grayscale-image](image/numpy-grayscale-image.png)\n",
    "\n"
   ]
  },
  {
   "cell_type": "markdown",
   "id": "b2442aab-e7d7-4442-8bea-5e3acae0d657",
   "metadata": {},
   "source": [
    "\n",
    "- 如果是一个彩色图像，那么每个像素可以用3个数字表示——一个代表红色，一个代表绿色，一个代表蓝色。这种情况下，我们需要一个3维素组（因为每个单元仅可以包含一个数字）。因此，一个彩色图像可以被一个 ndarray 维度表示：（高度 * 宽度 * 3）：\n",
    "\n",
    "![numpy-grayscale-image](image/numpy-color-image.png)"
   ]
  },
  {
   "cell_type": "markdown",
   "id": "c3c2205a-600e-4367-b4ef-e99a8ad0e0f2",
   "metadata": {},
   "source": [
    "## 3.语言"
   ]
  },
  {
   "cell_type": "markdown",
   "id": "6d860b51-d5ce-40b2-a666-8ecce462c333",
   "metadata": {},
   "source": [
    "如果我们处理的是文本的话，情况可能有点不同。要用数值表示一段文本需要构建一个词汇表（模型需要知道的所有的唯一词）以及一个[词嵌入（embedding）](https://jalammar.github.io/illustrated-word2vec/)过程。 让我们看看用数字表示这个谚语的步骤：**”Have the bards who preceded me left any theme unsung?”** *翻译：在我之前的吟游诗人有没有留下任何主题？*"
   ]
  },
  {
   "cell_type": "markdown",
   "id": "5f7a665d-9b76-4642-84ae-17450a3d3e7f",
   "metadata": {},
   "source": [
    "我们可以使用[一个词汇数据集](http://mattmahoney.net/dc/textdata.html)来构建一个词汇表（71,290个单词）："
   ]
  },
  {
   "cell_type": "markdown",
   "id": "0226d992-16e0-44c5-9387-4f170dba7f00",
   "metadata": {},
   "source": [
    "![numpy-nlp-vocabulary](image/numpy-nlp-vocabulary.png)"
   ]
  },
  {
   "cell_type": "markdown",
   "id": "83d7e2df-690e-413d-a801-9ddab017553c",
   "metadata": {},
   "source": [
    "这个句子可以被划分为一系列词：\n",
    "\n",
    "![numpy-nlp-tokenization](image/numpy-nlp-tokenization.png)"
   ]
  },
  {
   "cell_type": "markdown",
   "id": "3cb87b99-8542-4c98-86d7-4b283a5c89a8",
   "metadata": {},
   "source": [
    "然后我们用词汇表中单词的ID来替换它：\n",
    "\n",
    "![numpy-nlp-ids](image/numpy-nlp-ids.png)"
   ]
  },
  {
   "cell_type": "markdown",
   "id": "11a50294-c842-4e61-b9b7-04a4c3efdfb1",
   "metadata": {},
   "source": [
    "然后进一步使用word2vec词嵌入、卷积向量等技术来处理文本，详见：\n",
    "https://jalammar.github.io/illustrated-word2vec/"
   ]
  },
  {
   "cell_type": "markdown",
   "id": "1e94a647-ba47-4c1e-813e-6badb4dd8e43",
   "metadata": {},
   "source": [
    "## 参考：\n",
    "1. Numpy和数据展示的可视化介绍， http://www.junphy.com/wordpress/index.php/2019/10/24/visual-numpy/\n",
    "2. A Visual Intro to NumPy and Data Representation, https://jalammar.github.io/visual-numpy/"
   ]
  }
 ],
 "metadata": {
  "kernelspec": {
   "display_name": "Python 3 (ipykernel)",
   "language": "python",
   "name": "python3"
  },
  "language_info": {
   "codemirror_mode": {
    "name": "ipython",
    "version": 3
   },
   "file_extension": ".py",
   "mimetype": "text/x-python",
   "name": "python",
   "nbconvert_exporter": "python",
   "pygments_lexer": "ipython3",
   "version": "3.9.13"
  }
 },
 "nbformat": 4,
 "nbformat_minor": 5
}
