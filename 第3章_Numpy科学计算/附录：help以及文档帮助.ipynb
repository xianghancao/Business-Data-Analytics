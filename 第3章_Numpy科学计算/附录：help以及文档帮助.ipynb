{
 "cells": [
  {
   "cell_type": "markdown",
   "id": "2b11c3a6-9810-4071-9944-fd4e55946a9f",
   "metadata": {},
   "source": [
    "# help以及文档帮助"
   ]
  },
  {
   "cell_type": "markdown",
   "id": "3761a3bd-7828-4827-848b-0262d9ffb06c",
   "metadata": {},
   "source": [
    "## 1. help()"
   ]
  },
  {
   "cell_type": "markdown",
   "id": "4473a4a0-0dcb-4840-9c1a-81b05fced42a",
   "metadata": {},
   "source": [
    "如果想要了解Python里面变量、函数等未知的信息，Python有一个内置的help()函数，可以帮助您访问这些信息。这意味着几乎在任何需要更多信息的时候，您都可以使用help()来快速查找所需的信息。"
   ]
  },
  {
   "cell_type": "code",
   "execution_count": 4,
   "id": "53456a45-553a-4333-9444-7c2d75fd5d00",
   "metadata": {},
   "outputs": [
    {
     "name": "stdout",
     "output_type": "stream",
     "text": [
      "Help on built-in function max in module builtins:\n",
      "\n",
      "max(...)\n",
      "    max(iterable, *[, default=obj, key=func]) -> value\n",
      "    max(arg1, arg2, *args, *[, key=func]) -> value\n",
      "    \n",
      "    With a single iterable argument, return its biggest item. The\n",
      "    default keyword-only argument specifies an object to return if\n",
      "    the provided iterable is empty.\n",
      "    With two or more arguments, return the largest argument.\n",
      "\n"
     ]
    }
   ],
   "source": [
    "help(max)"
   ]
  },
  {
   "cell_type": "code",
   "execution_count": 6,
   "id": "ed810a48-fa36-497d-b747-e07d7ec9e89a",
   "metadata": {
    "collapsed": true,
    "jupyter": {
     "outputs_hidden": true
    },
    "tags": []
   },
   "outputs": [
    {
     "name": "stdout",
     "output_type": "stream",
     "text": [
      "Help on function amax in module numpy:\n",
      "\n",
      "amax(a, axis=None, out=None, keepdims=<no value>, initial=<no value>, where=<no value>)\n",
      "    Return the maximum of an array or maximum along an axis.\n",
      "    \n",
      "    Parameters\n",
      "    ----------\n",
      "    a : array_like\n",
      "        Input data.\n",
      "    axis : None or int or tuple of ints, optional\n",
      "        Axis or axes along which to operate.  By default, flattened input is\n",
      "        used.\n",
      "    \n",
      "        .. versionadded:: 1.7.0\n",
      "    \n",
      "        If this is a tuple of ints, the maximum is selected over multiple axes,\n",
      "        instead of a single axis or all the axes as before.\n",
      "    out : ndarray, optional\n",
      "        Alternative output array in which to place the result.  Must\n",
      "        be of the same shape and buffer length as the expected output.\n",
      "        See :ref:`ufuncs-output-type` for more details.\n",
      "    \n",
      "    keepdims : bool, optional\n",
      "        If this is set to True, the axes which are reduced are left\n",
      "        in the result as dimensions with size one. With this option,\n",
      "        the result will broadcast correctly against the input array.\n",
      "    \n",
      "        If the default value is passed, then `keepdims` will not be\n",
      "        passed through to the `amax` method of sub-classes of\n",
      "        `ndarray`, however any non-default value will be.  If the\n",
      "        sub-class' method does not implement `keepdims` any\n",
      "        exceptions will be raised.\n",
      "    \n",
      "    initial : scalar, optional\n",
      "        The minimum value of an output element. Must be present to allow\n",
      "        computation on empty slice. See `~numpy.ufunc.reduce` for details.\n",
      "    \n",
      "        .. versionadded:: 1.15.0\n",
      "    \n",
      "    where : array_like of bool, optional\n",
      "        Elements to compare for the maximum. See `~numpy.ufunc.reduce`\n",
      "        for details.\n",
      "    \n",
      "        .. versionadded:: 1.17.0\n",
      "    \n",
      "    Returns\n",
      "    -------\n",
      "    amax : ndarray or scalar\n",
      "        Maximum of `a`. If `axis` is None, the result is a scalar value.\n",
      "        If `axis` is given, the result is an array of dimension\n",
      "        ``a.ndim - 1``.\n",
      "    \n",
      "    See Also\n",
      "    --------\n",
      "    amin :\n",
      "        The minimum value of an array along a given axis, propagating any NaNs.\n",
      "    nanmax :\n",
      "        The maximum value of an array along a given axis, ignoring any NaNs.\n",
      "    maximum :\n",
      "        Element-wise maximum of two arrays, propagating any NaNs.\n",
      "    fmax :\n",
      "        Element-wise maximum of two arrays, ignoring any NaNs.\n",
      "    argmax :\n",
      "        Return the indices of the maximum values.\n",
      "    \n",
      "    nanmin, minimum, fmin\n",
      "    \n",
      "    Notes\n",
      "    -----\n",
      "    NaN values are propagated, that is if at least one item is NaN, the\n",
      "    corresponding max value will be NaN as well. To ignore NaN values\n",
      "    (MATLAB behavior), please use nanmax.\n",
      "    \n",
      "    Don't use `amax` for element-wise comparison of 2 arrays; when\n",
      "    ``a.shape[0]`` is 2, ``maximum(a[0], a[1])`` is faster than\n",
      "    ``amax(a, axis=0)``.\n",
      "    \n",
      "    Examples\n",
      "    --------\n",
      "    >>> a = np.arange(4).reshape((2,2))\n",
      "    >>> a\n",
      "    array([[0, 1],\n",
      "           [2, 3]])\n",
      "    >>> np.amax(a)           # Maximum of the flattened array\n",
      "    3\n",
      "    >>> np.amax(a, axis=0)   # Maxima along the first axis\n",
      "    array([2, 3])\n",
      "    >>> np.amax(a, axis=1)   # Maxima along the second axis\n",
      "    array([1, 3])\n",
      "    >>> np.amax(a, where=[False, True], initial=-1, axis=0)\n",
      "    array([-1,  3])\n",
      "    >>> b = np.arange(5, dtype=float)\n",
      "    >>> b[2] = np.NaN\n",
      "    >>> np.amax(b)\n",
      "    nan\n",
      "    >>> np.amax(b, where=~np.isnan(b), initial=-1)\n",
      "    4.0\n",
      "    >>> np.nanmax(b)\n",
      "    4.0\n",
      "    \n",
      "    You can use an initial value to compute the maximum of an empty slice, or\n",
      "    to initialize it to a different value:\n",
      "    \n",
      "    >>> np.max([[-50], [10]], axis=-1, initial=0)\n",
      "    array([ 0, 10])\n",
      "    \n",
      "    Notice that the initial value is used as one of the elements for which the\n",
      "    maximum is determined, unlike for the default argument Python's max\n",
      "    function, which is only used for empty iterables.\n",
      "    \n",
      "    >>> np.max([5], initial=6)\n",
      "    6\n",
      "    >>> max([5], default=6)\n",
      "    5\n",
      "\n"
     ]
    }
   ],
   "source": [
    "import numpy as np\n",
    "help(np.max)"
   ]
  },
  {
   "cell_type": "markdown",
   "id": "afc29fe2-b714-4613-83e2-56b365eb0aec",
   "metadata": {},
   "source": [
    "## 2. 文档帮助"
   ]
  },
  {
   "cell_type": "markdown",
   "id": "f8be5573-66c2-4ceb-a951-b2384c9ee2ed",
   "metadata": {},
   "source": [
    "有时候我们需要系统性得了解某一个知识点，光是看help()下面的解释已经不够了，这时候需要向这个知识和工具的创造者(creater)求助。这些知识和工具的创造者一般会有博客或者官方网站，提供给使用者参考。"
   ]
  },
  {
   "cell_type": "markdown",
   "id": "6d6428da-3bcb-4cfb-b80d-007652f3f7de",
   "metadata": {},
   "source": [
    "我们以numpy的官方网站为例：\n",
    "https://numpy.org/doc/stable/user/index.html\n",
    "\n",
    "![numpy-site](image/numpy-site.png)"
   ]
  },
  {
   "cell_type": "markdown",
   "id": "0ea7a21d-83bf-4a8e-8c44-427bfb9014ff",
   "metadata": {},
   "source": [
    "点击User Guide用户指南，进入后，能看到关于Numpy的介绍、安装、新手指南和基础知识。"
   ]
  },
  {
   "cell_type": "markdown",
   "id": "6902cb5a-9669-4994-91f9-80c0c44efb3d",
   "metadata": {},
   "source": [
    "如果是想要直接查询Numpy里面的特定函数，请访问API reference。"
   ]
  },
  {
   "cell_type": "markdown",
   "id": "877437dc-7975-40df-9dd9-5a6c731e27f7",
   "metadata": {},
   "source": [
    "![numpy-site-api](image/numpy-site-api.png)"
   ]
  },
  {
   "cell_type": "code",
   "execution_count": null,
   "id": "a9917b9b-fc4c-4bbe-b06d-bc011d2eb4f0",
   "metadata": {},
   "outputs": [],
   "source": []
  }
 ],
 "metadata": {
  "kernelspec": {
   "display_name": "Python 3 (ipykernel)",
   "language": "python",
   "name": "python3"
  },
  "language_info": {
   "codemirror_mode": {
    "name": "ipython",
    "version": 3
   },
   "file_extension": ".py",
   "mimetype": "text/x-python",
   "name": "python",
   "nbconvert_exporter": "python",
   "pygments_lexer": "ipython3",
   "version": "3.9.13"
  }
 },
 "nbformat": 4,
 "nbformat_minor": 5
}
