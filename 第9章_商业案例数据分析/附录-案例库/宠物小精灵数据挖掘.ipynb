{
 "cells": [
  {
   "cell_type": "markdown",
   "id": "74eb2569-7aa9-4b77-b96d-25ac6642ffc8",
   "metadata": {},
   "source": [
    "# **宠物小精灵数据挖掘**\n",
    "\n",
    "对所有游戏玩家来说，这是一个包含来自七代802个 Pokemon的信息数据集。试着回答以下几个问题！\n",
    "\n",
    "- 哪一代宠物小精灵最强？哪代最弱？\n",
    "- 哪种类型神奇宝贝最强？哪种最弱？\n",
    "- 能否建立分类器来识别神奇宝贝？\n",
    "- 身体特征与力量状态（进攻，防守，速度等）之间是否有相关性？\n",
    "\n",
    "![img](图片/1620-20220521141819571.png)\n",
    "\n",
    "数据：数据/宠物小精灵/pokemon.csv\n",
    "\n",
    "案例来源：\n",
    "\n",
    "https://www.kaggle.com/rounakbanik/pokemon"
   ]
  },
  {
   "cell_type": "markdown",
   "id": "4ed05d67-d6dd-4ec2-a916-dc8db6d78a32",
   "metadata": {},
   "source": [
    "这个数据集包含所有7代Pokemon的802个Pokemon的信息。这个数据集包含的信息包括基础统计，相对于其他类型的表现，身高，体重，分类，鸡蛋的步骤，经验点，能力等。这些信息是从http://serebii.net/ 抓取的。\n",
    "\n",
    "数据集属性：\n",
    "\n",
    "- name: The English name of the Pokemon\n",
    "- japanese_name: The Original Japanese name of the Pokemon\n",
    "- pokedex_number: The entry number of the Pokemon in the National Pokedex\n",
    "- percentage_male: The percentage of the species that are male. Blank if the Pokemon is genderless.\n",
    "- type1: The Primary Type of the Pokemon\n",
    "- type2: The Secondary Type of the Pokemon\n",
    "- classification: The Classification of the Pokemon as described by the Sun and Moon Pokedex\n",
    "- height_m: Height of the Pokemon in metres\n",
    "- weight_kg: The Weight of the Pokemon in kilograms\n",
    "- capture_rate: Capture Rate of the Pokemon\n",
    "- baseeggsteps: The number of steps required to hatch an egg of the Pokemon\n",
    "- abilities: A stringified list of abilities that the Pokemon is capable of having\n",
    "- experience_growth: The Experience Growth of the Pokemon\n",
    "- base_happiness: Base Happiness of the Pokemon\n",
    "- against_?: Eighteen features that denote the amount of damage taken against an attack of a particular type\n",
    "- hp: The Base HP of the Pokemon\n",
    "- attack: The Base Attack of the Pokemon\n",
    "- defense: The Base Defense of the Pokemon\n",
    "- sp_attack: The Base Special Attack of the Pokemon\n",
    "- sp_defense: The Base Special Defense of the Pokemon\n",
    "- speed: The Base Speed of the Pokemon\n",
    "- generation: The numbered generation which the Pokemon was first introduced\n",
    "- is_legendary: Denotes if the Pokemon is legendary.\n",
    "\n",
    "\n",
    "《Pokemon》在我心中占据着非常特殊的位置，因为它可能是我10多年来唯一明智地追随的电子游戏。通过这个数据集，我希望能够回答以下问题:\n",
    "\n",
    "- 有没有可能建立一个分类器来识别传说中的口袋妖怪?\n",
    "- Pokemon的身高和体重是如何与它的各种基础属性相关联的?\n",
    "- 什么因素影响体验成长和鸡蛋的步骤?这些量相关吗?\n",
    "- 哪一种是最强的?哪个是最弱的?\n",
    "- 哪一种最有可能成为传奇Pokemon?\n",
    "- 你能组建一支《Pokemon》梦之队吗?一个由6个Pokemon组成的团队能够造成最大的伤害，同时相对不受其他6个Pokemon团队的影响。"
   ]
  }
 ],
 "metadata": {
  "kernelspec": {
   "display_name": "Python 3 (ipykernel)",
   "language": "python",
   "name": "python3"
  },
  "language_info": {
   "codemirror_mode": {
    "name": "ipython",
    "version": 3
   },
   "file_extension": ".py",
   "mimetype": "text/x-python",
   "name": "python",
   "nbconvert_exporter": "python",
   "pygments_lexer": "ipython3",
   "version": "3.9.7"
  },
  "widgets": {
   "application/vnd.jupyter.widget-state+json": {
    "state": {},
    "version_major": 2,
    "version_minor": 0
   }
  }
 },
 "nbformat": 4,
 "nbformat_minor": 5
}
