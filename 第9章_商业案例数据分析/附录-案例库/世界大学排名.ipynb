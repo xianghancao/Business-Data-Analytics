{
 "cells": [
  {
   "cell_type": "markdown",
   "id": "3d05fc64-eb95-4c6a-b4ce-c7f1a261d3f1",
   "metadata": {},
   "source": [
    "# **世界大学排名**\n",
    "\n",
    "你认为你的国家拥有世界上最好的大学吗？成为“最好”大学的衡量标准是什么？该数据集包含三个全球大学排名方式。使用此数据，你是否可以回答以下问题：\n",
    "\n",
    "顶尖的大学都在哪些国家？\n",
    "\n",
    "决定世界排名的主要因素是什么？\n",
    "\n",
    "![img](图片/1620-20220521141819687.png)\n",
    "\n",
    "大学排名是一项困难的、政治化的、有争议的做法。有数百种不同的国内和国际大学排名系统，其中许多彼此不一致。这个数据集包含了三个来自不同地方的全球大学排名。\n",
    "\n",
    "《泰晤士报高等教育》世界大学排名被广泛认为是最具影响力和最受关注的大学指标之一。它于2010年在英国成立，一直因其商业化和削弱非英语教学机构而受到批评。\n",
    "\n",
    "世界大学学术排名，也被称为上海排名，是一个同样有影响力的排名。它于2003年在中国成立，一直被批评专注于原始研究力量，削弱人文和教学质量。\n",
    "\n",
    "世界大学排名中心是一个不太为人所知的榜单，它来自沙特阿拉伯，成立于2012年。\n",
    "\n",
    "**补充数据**\n",
    "\n",
    "为了进一步扩展你的分析，我们还包含了两组补充数据。\n",
    "\n",
    "第一个是一组世界各地教育成就的数据。它来自世界数据银行，包括来自联合国教科文组织统计研究所和Barro-Lee数据集的信息。国家教育成就与每个国家大学的质量有什么关系?\n",
    "\n",
    "第二个补充数据集包含各国公共和私人直接教育支出的信息。这一数据来自国家教育统计中心。它表示支出占国内生产总值的百分比。在教育上的投入越多，大学的国际排名就越好吗?\n",
    "\n",
    "数据集：数据/世界大学排名\n",
    "\n",
    "案例来源：https://www.kaggle.com/mylesoneill/world-university-rankings"
   ]
  }
 ],
 "metadata": {
  "kernelspec": {
   "display_name": "Python 3 (ipykernel)",
   "language": "python",
   "name": "python3"
  },
  "language_info": {
   "codemirror_mode": {
    "name": "ipython",
    "version": 3
   },
   "file_extension": ".py",
   "mimetype": "text/x-python",
   "name": "python",
   "nbconvert_exporter": "python",
   "pygments_lexer": "ipython3",
   "version": "3.9.7"
  },
  "widgets": {
   "application/vnd.jupyter.widget-state+json": {
    "state": {},
    "version_major": 2,
    "version_minor": 0
   }
  }
 },
 "nbformat": 4,
 "nbformat_minor": 5
}
