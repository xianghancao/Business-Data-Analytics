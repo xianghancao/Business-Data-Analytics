{
 "cells": [
  {
   "cell_type": "markdown",
   "id": "d959f7f0-d8ad-4320-8cf9-c90a8ef30bad",
   "metadata": {},
   "source": [
    "# **探索影响预期寿命的因素**\n",
    "\n",
    "世卫组织建立了一段时间内所有国家健康状况的数据集，其中包括预期寿命，成人死亡率等方面的统计数据。使用此数据集，探索各种变量之间的关系，预测对预期寿命的最大影响因素是什么？\n",
    "\n",
    "请尝试回答以下问题：\n",
    "\n",
    "- 最初选择的各种预测因素是否真的影响预期寿命？实际影响预期寿命的预测变量有哪些？\n",
    "- 预期寿命值低于（<65）的国家是否应该增加其医疗保健支出以改善其平均寿命？\n",
    "- 婴儿和成人死亡率如何影响预期寿命？\n",
    "- 预期寿命与饮食习惯，生活方式，运动，吸烟，饮酒等是正相关还是负相关？\n",
    "- 是否接受教育对人类寿命有何影响？\n",
    "- 预期寿命与饮酒是正相关还是负相关？\n",
    "- 人口稠密的国家的预期寿命是否有降低的趋势？\n",
    "- 免疫覆盖率对预期寿命有什么影响？\n",
    "\n",
    "\n",
    "数据集：数据/探索影响预期寿命的因素/Life Expectancy Data.csv\n",
    "\n",
    "案例来源：https://www.kaggle.com/kumarajarshi/life-expectancy-who\n",
    "\n",
    "在本项目中，我们考虑了193个国家2000年至2015年的数据进行进一步分析。单个数据文件已合并到一个数据集中。对数据进行初步目视检查时发现有些值缺失。由于数据集来自世界卫生组织，我们没有发现明显的错误。R软件使用Missmap命令处理缺失数据。结果表明，缺失的数据主要集中在人口、乙肝和国内生产总值。缺失的数据来自不太为人所知的国家，如瓦努阿图、汤加、多哥、佛得角等。很难找到这些国家的所有数据，因此决定将这些国家排除在最终模型数据集之外。最终合并的文件(最终数据集)由22列和2938行组成，这意味着20个预测变量。所有的预测变量被分成几个大类:免疫相关因素、死亡率因素、经济因素和社会因素。"
   ]
  }
 ],
 "metadata": {
  "kernelspec": {
   "display_name": "Python 3 (ipykernel)",
   "language": "python",
   "name": "python3"
  },
  "language_info": {
   "codemirror_mode": {
    "name": "ipython",
    "version": 3
   },
   "file_extension": ".py",
   "mimetype": "text/x-python",
   "name": "python",
   "nbconvert_exporter": "python",
   "pygments_lexer": "ipython3",
   "version": "3.9.7"
  },
  "widgets": {
   "application/vnd.jupyter.widget-state+json": {
    "state": {},
    "version_major": 2,
    "version_minor": 0
   }
  }
 },
 "nbformat": 4,
 "nbformat_minor": 5
}
