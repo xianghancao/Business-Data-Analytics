{
 "cells": [
  {
   "cell_type": "markdown",
   "id": "b671843e-f699-4b4f-991d-a130cd23c595",
   "metadata": {},
   "source": [
    "# 二手车价格影响因素分析"
   ]
  },
  {
   "cell_type": "markdown",
   "id": "6c7be0d7-8719-4e37-ab73-b16c758c85ff",
   "metadata": {},
   "source": [
    "影响二手车价格高低的因素有很多，你能想出哪些因素呢？车龄、车型、品牌...\n",
    "\n",
    "登陆瓜子二手车网址：https://www.guazi.com/buy 。我们能看到很多二手车的挂牌信息，应用我们已经学过的案例分析流程来看看真实的二手车价格背后哪些因素在发挥作用。"
   ]
  },
  {
   "cell_type": "code",
   "execution_count": null,
   "id": "0d88bd71-7a9b-4c6a-bc7b-5dc894ea3a4b",
   "metadata": {},
   "outputs": [],
   "source": []
  }
 ],
 "metadata": {
  "kernelspec": {
   "display_name": "Python 3 (ipykernel)",
   "language": "python",
   "name": "python3"
  },
  "language_info": {
   "codemirror_mode": {
    "name": "ipython",
    "version": 3
   },
   "file_extension": ".py",
   "mimetype": "text/x-python",
   "name": "python",
   "nbconvert_exporter": "python",
   "pygments_lexer": "ipython3",
   "version": "3.9.7"
  },
  "widgets": {
   "application/vnd.jupyter.widget-state+json": {
    "state": {},
    "version_major": 2,
    "version_minor": 0
   }
  }
 },
 "nbformat": 4,
 "nbformat_minor": 5
}
