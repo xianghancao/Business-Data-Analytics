{
 "cells": [
  {
   "cell_type": "markdown",
   "id": "b9e704b0-530c-4298-9f10-ea300db6d440",
   "metadata": {},
   "source": [
    "# 6.1 网页爬虫——软件爬虫"
   ]
  },
  {
   "cell_type": "markdown",
   "id": "5e7ab5c9-ac21-4dc2-aa99-d55b218838ea",
   "metadata": {},
   "source": [
    "## 1. 采集器软件安装"
   ]
  },
  {
   "cell_type": "markdown",
   "id": "14206725-cb99-40a9-a5a9-275b5ae157f9",
   "metadata": {},
   "source": [
    "![bazhuayu](image/bazhuayu.png)"
   ]
  },
  {
   "cell_type": "markdown",
   "id": "319348bf-6718-4e9a-aa3c-d36d2c29af28",
   "metadata": {},
   "source": [
    "这里推荐使用八爪鱼采集器，它是模拟人的采集方式，比如打开网页、点击网页的按钮等对网页上的信息进行全自动提取，提供了一种无需编程就可以爬取数据的方法。"
   ]
  },
  {
   "cell_type": "markdown",
   "id": "40026e27-240c-4cc6-8718-45ca0d215408",
   "metadata": {},
   "source": [
    "安装方法如下：\n",
    "1. 访问网址：https://www.bazhuayu.com\n",
    "2. 安装完成后，注册账号。\n",
    "3. 查看八爪鱼教程：https://www.bazhuayu.com/tutorial8/81zdypz"
   ]
  },
  {
   "cell_type": "markdown",
   "id": "57277ec9-ab0f-4b9f-96fc-a38b37ec0089",
   "metadata": {},
   "source": [
    "### 2. 从JD平台上采集和巧克力相关的数据"
   ]
  },
  {
   "cell_type": "markdown",
   "id": "4dac6892-dd27-4f4b-b164-166c151be2c9",
   "metadata": {},
   "source": [
    "本文通过应用数据采集软件（八爪鱼），从JD平台上采集和巧克力相关的数据。\n",
    "\n",
    "采集方法如下：\n",
    "1. 搜索JD平台，使用关键词“巧克力”，获取到链接地址\n",
    "2. 应用八爪鱼上智能爬取功能，采集第1步的链接地址\n",
    "3. 采集样本数为1000+个样本，并保存为xlsx格式\n",
    "4. 转换xlsx格式文件为csv格式文件"
   ]
  }
 ],
 "metadata": {
  "kernelspec": {
   "display_name": "Python 3 (ipykernel)",
   "language": "python",
   "name": "python3"
  },
  "language_info": {
   "codemirror_mode": {
    "name": "ipython",
    "version": 3
   },
   "file_extension": ".py",
   "mimetype": "text/x-python",
   "name": "python",
   "nbconvert_exporter": "python",
   "pygments_lexer": "ipython3",
   "version": "3.11.5"
  }
 },
 "nbformat": 4,
 "nbformat_minor": 5
}
