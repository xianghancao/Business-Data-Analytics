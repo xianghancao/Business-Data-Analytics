{
 "cells": [
  {
   "cell_type": "markdown",
   "id": "4237dc16-8848-48a4-9546-b38f0664f2d1",
   "metadata": {},
   "source": [
    "### 练习"
   ]
  },
  {
   "cell_type": "markdown",
   "id": "8a46d809-dec2-4b55-b2d3-a75d5a28e17c",
   "metadata": {},
   "source": [
    "给定如下字符串，匹配出字符串'abc', '123', '3de'。"
   ]
  },
  {
   "cell_type": "code",
   "execution_count": 18,
   "id": "ec430e0f-e3ef-41f0-9064-bfdd485a4577",
   "metadata": {},
   "outputs": [],
   "source": [
    "string = \"abc123def\""
   ]
  },
  {
   "cell_type": "code",
   "execution_count": 6,
   "id": "9c967520-c6f6-4b2f-a39d-f711f830826c",
   "metadata": {},
   "outputs": [
    {
     "name": "stdout",
     "output_type": "stream",
     "text": [
      "(0, 3) abc\n"
     ]
    }
   ],
   "source": [
    "import re\n",
    "string = \"abc123def\"\n",
    "pattern ='[a-z]{3}'\n",
    "loc = re.search(pattern, string).span()\n",
    "print(loc, string[loc[0]:loc[1]]) "
   ]
  },
  {
   "cell_type": "code",
   "execution_count": 7,
   "id": "c68b0a19-4ffd-4104-953d-58b87514871d",
   "metadata": {},
   "outputs": [
    {
     "name": "stdout",
     "output_type": "stream",
     "text": [
      "(3, 6) 123\n"
     ]
    }
   ],
   "source": [
    "import re\n",
    "string = \"abc123def\"\n",
    "pattern ='\\d{3}'\n",
    "loc = re.search(pattern, string).span()\n",
    "print(loc, string[loc[0]:loc[1]])"
   ]
  },
  {
   "cell_type": "code",
   "execution_count": 8,
   "id": "567a1cc6-0d0e-4476-9396-914fdeec59e8",
   "metadata": {},
   "outputs": [
    {
     "name": "stdout",
     "output_type": "stream",
     "text": [
      "(5, 8) 3de\n"
     ]
    }
   ],
   "source": [
    "import re\n",
    "string = \"abc123def\"\n",
    "pattern ='\\d[a-z]{2}'\n",
    "loc = re.search(pattern, string).span()\n",
    "print(loc, string[loc[0]:loc[1]])"
   ]
  }
 ],
 "metadata": {
  "kernelspec": {
   "display_name": "Python 3 (ipykernel)",
   "language": "python",
   "name": "python3"
  },
  "language_info": {
   "codemirror_mode": {
    "name": "ipython",
    "version": 3
   },
   "file_extension": ".py",
   "mimetype": "text/x-python",
   "name": "python",
   "nbconvert_exporter": "python",
   "pygments_lexer": "ipython3",
   "version": "3.9.17"
  }
 },
 "nbformat": 4,
 "nbformat_minor": 5
}
