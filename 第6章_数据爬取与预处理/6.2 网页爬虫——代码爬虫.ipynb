{
 "cells": [
  {
   "cell_type": "markdown",
   "id": "d665a208-9942-47e2-acbf-c623a86d5b96",
   "metadata": {},
   "source": [
    "# 网页爬虫"
   ]
  },
  {
   "cell_type": "markdown",
   "id": "4f66d235-ff5d-4d3d-8fee-a861e2d1d84b",
   "metadata": {},
   "source": [
    "不管是商业数据集，还是财经数据集，很多被嵌入到网页的结构和样式中，难以复制，需要使用特殊方法抓取出来。从网页中抽取数据的过程被称为**网络爬虫**。"
   ]
  },
  {
   "cell_type": "markdown",
   "id": "3accd9f5-1ac9-4251-b402-bf635809f787",
   "metadata": {},
   "source": [
    "## 1. 基本概念"
   ]
  },
  {
   "cell_type": "markdown",
   "id": "0c76bf5e-22c3-42f4-bce7-aaeded3cf0f7",
   "metadata": {},
   "source": [
    "客户端(Clients)通常是浏览器（Chrome、Edge、Safari），它们可以是任何类型的程序或设备。  \n",
    "服务器(Servers)最常见的是云端服务器。\n",
    "\n",
    "![clients_server](image/clients_server.png)"
   ]
  },
  {
   "cell_type": "markdown",
   "id": "c8cfdcb7-4f1d-4272-8761-051a878c8c5d",
   "metadata": {},
   "source": [
    "客户端(Clinet)和服务器(Server)之间的通信是通过请求(request)和响应(response)完成的：\n",
    "\n",
    "1. 客户端,通常是浏览器向网络发送一个HTTP请求(request)\n",
    "2. 服务器收到该请求\n",
    "3. 服务器运行一个应用程序来处理该请求\n",
    "4. 服务器向浏览器返回一个HTTP响应（response）\n",
    "5. 浏览器收到该响应"
   ]
  },
  {
   "cell_type": "markdown",
   "id": "79aacf58-f6e7-4667-a042-8479bd287f31",
   "metadata": {},
   "source": [
    "\n",
    "以下是一些和网络爬虫相关，你需要知道的基本概念：\n",
    "\n",
    "|名词|英文全称|概念解释|\n",
    "|---|---|---|\n",
    "|HTTP|Hypertext Transfer Protocol|超文本传输协议（HTTP）是互联网协议套件模型中的一个应用层协议，用于分布式、协作式、超媒体信息系统|\n",
    "|URL|Uniform Resource Locator|它是互联网资源的地址，它包括一个协议，一个域名，有时还包括其他定位信息|\n",
    "|认证|Authentication|它对访问者的身份进行验证，例如验证用户输入的密码是否正确|\n",
    "|重定向|URL Redirections|它是一种网络技术，使一个网页在多个URL地址下可用|\n",
    "|Cookies|HTTP Cookies|它是用户浏览网站时在本地存储的相关信息，包括身份信息、登录信息、购物车和历史记录等|\n"
   ]
  },
  {
   "cell_type": "markdown",
   "id": "3085d150-86dd-4ec5-b833-c8993404cc81",
   "metadata": {},
   "source": [
    "## 2. 使用urllib库抓取网页"
   ]
  },
  {
   "cell_type": "markdown",
   "id": "00a1302b-0e2e-4fe3-bf65-1b728d89ae3c",
   "metadata": {},
   "source": [
    "urllib作为Python的标准库，基本上涵盖了基础的网络请求功能。"
   ]
  },
  {
   "cell_type": "markdown",
   "id": "c05b94e3-4204-4864-ba0f-cb92f03a680e",
   "metadata": {},
   "source": [
    "urllib中，request这个模块主要负责构造和发起网络请求，并在其中加入Headers、Proxy等。它还提供了一个稍微复杂的接口来处理常见的情况--如基本认证、cookies、代理等等。"
   ]
  },
  {
   "cell_type": "markdown",
   "id": "e7e01f8d-3537-4623-b727-1785fe6211f6",
   "metadata": {},
   "source": [
    "使用 urllib.request 的最简单方法如下："
   ]
  },
  {
   "cell_type": "code",
   "execution_count": 76,
   "id": "a4618f85-389e-4870-9b27-242e0ecc4638",
   "metadata": {
    "tags": []
   },
   "outputs": [],
   "source": [
    "from urllib import request\n",
    "resp = request.urlopen('http://www.baidu.com')\n",
    "content = resp.read().decode('utf-8')   #根据网站对于文字的编码类型，进行解码"
   ]
  },
  {
   "cell_type": "markdown",
   "id": "b5f794d8-ce09-477f-bcce-c894aa78ab72",
   "metadata": {},
   "source": [
    "输出content的部分，例如前1000个字符："
   ]
  },
  {
   "cell_type": "code",
   "execution_count": 77,
   "id": "49bfa216-1538-4b8b-ba04-0e71891ef879",
   "metadata": {},
   "outputs": [
    {
     "data": {
      "text/plain": [
       "'<!DOCTYPE html><!--STATUS OK--><html><head><meta http-equiv=\"Content-Type\" content=\"text/html;charset=utf-8\"><meta http-equiv=\"X-UA-Compatible\" content=\"IE=edge,chrome=1\"><meta content=\"always\" name=\"referrer\"><meta name=\"theme-color\" content=\"#ffffff\"><meta name=\"description\" content=\"全球领先的中文搜索引擎、致力于让网民更便捷地获取信息，找到所求。百度超过千亿的中文网页数据库，可以瞬间找到相关的搜索结果。\"><link rel=\"shortcut icon\" href=\"/favicon.ico\" type=\"image/x-icon\" /><link rel=\"search\" type=\"application/opensearchdescription+xml\" href=\"/content-search.xml\" title=\"百度搜索\" /><link rel=\"icon\" sizes=\"any\" mask href=\"//www.baidu.com/img/baidu_85beaf5496f291521eb75ba38eacbd87.svg\"><link rel=\"dns-prefetch\" href=\"//dss0.bdstatic.com\"/><link rel=\"dns-prefetch\" href=\"//dss1.bdstatic.com\"/><link rel=\"dns-prefetch\" href=\"//ss1.bdstatic.com\"/><link rel=\"dns-prefetch\" href=\"//sp0.baidu.com\"/><link rel=\"dns-prefetch\" href=\"//sp1.baidu.com\"/><link rel=\"dns-prefetch\" href=\"//sp2.baidu.com\"/><link rel=\"apple-touch-icon-precomposed\" href=\"https://psstatic.cdn'"
      ]
     },
     "execution_count": 77,
     "metadata": {},
     "output_type": "execute_result"
    }
   ],
   "source": [
    "content[:1000]"
   ]
  },
  {
   "cell_type": "markdown",
   "id": "2d2365b2-0bc6-415f-a397-0d5a2b51569c",
   "metadata": {},
   "source": [
    "上述返回的内容是一个使用HTML语言编写的字符串。HTML是超文本标记语言的缩写，它是网页的标准标记语言。上述内容包含了由<>标签表示的大量HTML元素。"
   ]
  },
  {
   "cell_type": "markdown",
   "id": "74edf333-22c0-4564-8672-83bcb506ab7f",
   "metadata": {},
   "source": [
    "## 3. 使用requests库抓取网页"
   ]
  },
  {
   "cell_type": "markdown",
   "id": "46b3aba5-9c76-4cdb-8faf-82f2de531422",
   "metadata": {},
   "source": [
    "[requests](https://docs.python-requests.org/en/latest/)是一个流行的爬虫工具，它在urllib3上进行封装，使得爬虫变得更加简单。"
   ]
  },
  {
   "cell_type": "markdown",
   "id": "c06f66fa-6dc0-4681-93b0-934cb36ac0ca",
   "metadata": {},
   "source": [
    "我们尝试在JD电商平台上，选择某个商品，例如巧克力。"
   ]
  },
  {
   "cell_type": "markdown",
   "id": "9738761c-7547-404d-8e7a-de1c01c92590",
   "metadata": {},
   "source": [
    "**第一步，使用requests.get()函数获取html文件**"
   ]
  },
  {
   "cell_type": "code",
   "execution_count": 32,
   "id": "3b483d75-affe-4e5d-a7e8-285e58a54c95",
   "metadata": {
    "tags": []
   },
   "outputs": [],
   "source": [
    "import requests\n",
    "headers = { \"User-Agent\": \"Mozilla/5.0 (Macintosh; Intel Mac OS X 10.15; rv:91.0) Gecko/20100101 Firefox/91.0\"}\n",
    "url = 'https://search.jd.com/Search?keyword=%E5%B7%A7%E5%85%8B%E5%8A%9B&enc=utf-8&wq=%E5%B7%A7%E5%85%8B%E5%8A%9B&pvid=2189bd5092fb4ba59b559a5f452ec54e'\n",
    "req = requests.get(url=url, headers=headers)\n",
    "html_doc = req.content.decode(\"utf-8\")"
   ]
  },
  {
   "cell_type": "markdown",
   "id": "0a6cf7f8-952d-4f74-a936-92528e1fb565",
   "metadata": {},
   "source": [
    "**第二步，我们解析图片里面这句话**"
   ]
  },
  {
   "cell_type": "markdown",
   "id": "e6756b02-937f-458c-b625-800a57d6d22f",
   "metadata": {},
   "source": [
    "<center><img src=\"image/JD_requests2.png\" alt=\"image/JD_requests2.png\" width=\"600\"></center>\n"
   ]
  },
  {
   "cell_type": "markdown",
   "id": "e8d0763c-c7d9-418a-b2ca-19ca9dd6c0a2",
   "metadata": {},
   "source": [
    "上图的`“歌帝梵(GODIVA) 臻粹进口”`在html的XPath路径为`“/html/body/div[5]/div[2]/div[2]/div[1]/div/div[2]/ul/li[2]/div/div[3]/a/em”`。  \n",
    "lxml是处理XML和HTML的Python库。使用方法见[官网](https://lxml.de/tutorial.html)。"
   ]
  },
  {
   "cell_type": "markdown",
   "id": "2547ce21-213b-4f2b-9d54-cadc97d54df7",
   "metadata": {},
   "source": [
    "XPath，全称XML Path Language，即XML路径语言，它是一门在XML文档中查找信息的语言，它最初是用来搜寻XML文档的，但是它同样适用于HTML文档的搜索。"
   ]
  },
  {
   "cell_type": "code",
   "execution_count": 33,
   "id": "0463d6a8-91fd-4dd4-9356-a09601830db2",
   "metadata": {},
   "outputs": [
    {
     "data": {
      "text/plain": [
       "'\\n脆香米牛奶'"
      ]
     },
     "execution_count": 33,
     "metadata": {},
     "output_type": "execute_result"
    }
   ],
   "source": [
    "from lxml import etree\n",
    "html_obj = etree.HTML(html_doc)\n",
    "xpath = '/html/body/div[5]/div[2]/div[2]/div[1]/div/div[2]/ul/li[1]/div/div[3]/a/em'\n",
    "xpath = xpath + '/text()'     #加了/text()来获取文本内容\n",
    "context = html_obj.xpath(xpath)[0]\n",
    "context"
   ]
  },
  {
   "cell_type": "markdown",
   "id": "d37b3dea-c4e5-4429-9fe3-e174f7e7d770",
   "metadata": {},
   "source": [
    "**第三步，我们设计一个函数，用来解析html文件里面的元素**\n",
    "\n",
    "提取每一条商品的信息，包含商品名称、价格、店铺等信息。"
   ]
  },
  {
   "cell_type": "code",
   "execution_count": 37,
   "id": "54de4386-1bb1-4a68-a0bb-7167ae63ed14",
   "metadata": {},
   "outputs": [],
   "source": [
    "from lxml import etree\n",
    "def parse_html(html_doc):\n",
    "    \"\"\"\n",
    "    解析html获取数据\n",
    "    \"\"\"\n",
    "    print(\"parse_html ...\")\n",
    "    html_obj = etree.HTML(html_doc)\n",
    "    products_dict = {}\n",
    "    i= 1 \n",
    "    while True:\n",
    "        try:\n",
    "            # 商品名称\n",
    "            xpath = '/html/body/div[5]/div[2]/div[2]/div[1]/div/div[2]/ul/li[%s]/div/div[3]/a/em' %i\n",
    "            xpath = xpath + '/text()'     \n",
    "            title = html_obj.xpath(xpath)[0]\n",
    "            title = title.split('\\n')[1]\n",
    "\n",
    "            # 商品价格\n",
    "            xpath = '/html/body/div[5]/div[2]/div[2]/div[1]/div/div[2]/ul/li[%i]/div/div[2]/strong/i' %i\n",
    "            xpath = xpath + '/text()'     \n",
    "            price = html_obj.xpath(xpath)[0]\n",
    "\n",
    "            # 店铺名称\n",
    "            xpath = '/html/body/div[5]/div[2]/div[2]/div[1]/div/div[2]/ul/li[%i]/div/div[5]/span/a' %i\n",
    "            xpath = xpath + '/text()'     \n",
    "            store = html_obj.xpath(xpath)[0]\n",
    "\n",
    "            products_dict[i] = {\"商品名称\":title,\n",
    "                            \"价格\":price, \n",
    "                            \"店铺\":store}\n",
    "            i += 1\n",
    "        except IndexError:\n",
    "            break\n",
    "    return products_dict"
   ]
  },
  {
   "cell_type": "code",
   "execution_count": 39,
   "id": "0bcd999a-8ed8-47dc-a5ec-7231eda1a714",
   "metadata": {
    "tags": []
   },
   "outputs": [
    {
     "name": "stdout",
     "output_type": "stream",
     "text": [
      "parse_html ...\n"
     ]
    }
   ],
   "source": [
    "p = parse_html(html_doc)"
   ]
  },
  {
   "cell_type": "code",
   "execution_count": 41,
   "id": "3ba9c5f3-0996-4447-a246-cf8b714cff1f",
   "metadata": {
    "tags": []
   },
   "outputs": [
    {
     "data": {
      "text/html": [
       "<div>\n",
       "<style scoped>\n",
       "    .dataframe tbody tr th:only-of-type {\n",
       "        vertical-align: middle;\n",
       "    }\n",
       "\n",
       "    .dataframe tbody tr th {\n",
       "        vertical-align: top;\n",
       "    }\n",
       "\n",
       "    .dataframe thead th {\n",
       "        text-align: right;\n",
       "    }\n",
       "</style>\n",
       "<table border=\"1\" class=\"dataframe\">\n",
       "  <thead>\n",
       "    <tr style=\"text-align: right;\">\n",
       "      <th></th>\n",
       "      <th>商品名称</th>\n",
       "      <th>价格</th>\n",
       "      <th>店铺</th>\n",
       "    </tr>\n",
       "  </thead>\n",
       "  <tbody>\n",
       "    <tr>\n",
       "      <th>1</th>\n",
       "      <td>脆香米牛奶</td>\n",
       "      <td>24.90</td>\n",
       "      <td>德芙京东自营旗舰店</td>\n",
       "    </tr>\n",
       "    <tr>\n",
       "      <th>2</th>\n",
       "      <td>费列罗（FERRERO）榛果威化糖果</td>\n",
       "      <td>139.90</td>\n",
       "      <td>费列罗京东自营旗舰店</td>\n",
       "    </tr>\n",
       "    <tr>\n",
       "      <th>3</th>\n",
       "      <td>士力架花生夹心</td>\n",
       "      <td>56.90</td>\n",
       "      <td>德芙京东自营旗舰店</td>\n",
       "    </tr>\n",
       "    <tr>\n",
       "      <th>4</th>\n",
       "      <td>健达（Kinder）缤纷乐牛奶榛果</td>\n",
       "      <td>22.70</td>\n",
       "      <td>费列罗京东自营旗舰店</td>\n",
       "    </tr>\n",
       "    <tr>\n",
       "      <th>5</th>\n",
       "      <td>德芙（Dove）丝滑牛奶</td>\n",
       "      <td>32.90</td>\n",
       "      <td>德芙京东自营旗舰店</td>\n",
       "    </tr>\n",
       "    <tr>\n",
       "      <th>6</th>\n",
       "      <td>德芙（Dove）什锦碗装三种口味混合249g 休闲零食糖果</td>\n",
       "      <td>32.90</td>\n",
       "      <td>德芙京东自营旗舰店</td>\n",
       "    </tr>\n",
       "    <tr>\n",
       "      <th>7</th>\n",
       "      <td>德芙（Dove）牛奶</td>\n",
       "      <td>52.90</td>\n",
       "      <td>德芙京东自营旗舰店</td>\n",
       "    </tr>\n",
       "    <tr>\n",
       "      <th>8</th>\n",
       "      <td>费列罗（FERRERO）榛果威化</td>\n",
       "      <td>9.90</td>\n",
       "      <td>费列罗京东自营旗舰店</td>\n",
       "    </tr>\n",
       "    <tr>\n",
       "      <th>9</th>\n",
       "      <td>Lindt瑞士莲软心 瑞士进口精选</td>\n",
       "      <td>145.00</td>\n",
       "      <td>瑞士莲京东自营旗舰店</td>\n",
       "    </tr>\n",
       "    <tr>\n",
       "      <th>10</th>\n",
       "      <td>三角（Toblerone）瑞士牛奶</td>\n",
       "      <td>18.90</td>\n",
       "      <td>三角金象巧克力京东自营专区</td>\n",
       "    </tr>\n",
       "    <tr>\n",
       "      <th>11</th>\n",
       "      <td>歌帝梵(GODIVA)醇享系列72%可可黑</td>\n",
       "      <td>41.00</td>\n",
       "      <td>歌帝梵（GODIVA）臻享京东自营旗舰店</td>\n",
       "    </tr>\n",
       "    <tr>\n",
       "      <th>12</th>\n",
       "      <td>诺梵纯黑可可脂</td>\n",
       "      <td>19.90</td>\n",
       "      <td>诺梵京东自营旗舰店</td>\n",
       "    </tr>\n",
       "    <tr>\n",
       "      <th>13</th>\n",
       "      <td>雀巢（Nestle）脆脆鲨 休闲零食</td>\n",
       "      <td>24.90</td>\n",
       "      <td>雀巢休闲食品京东自营官方旗舰店</td>\n",
       "    </tr>\n",
       "    <tr>\n",
       "      <th>14</th>\n",
       "      <td>德芙（Dove）丝滑牛奶</td>\n",
       "      <td>47.90</td>\n",
       "      <td>德芙京东自营旗舰店</td>\n",
       "    </tr>\n",
       "    <tr>\n",
       "      <th>15</th>\n",
       "      <td>费列罗（FERRERO）榛果威化糖果</td>\n",
       "      <td>55.90</td>\n",
       "      <td>费列罗京东自营旗舰店</td>\n",
       "    </tr>\n",
       "    <tr>\n",
       "      <th>16</th>\n",
       "      <td>德芙（Dove）黑</td>\n",
       "      <td>52.90</td>\n",
       "      <td>德芙京东自营旗舰店</td>\n",
       "    </tr>\n",
       "    <tr>\n",
       "      <th>17</th>\n",
       "      <td>费列罗（FERRERO）榛果</td>\n",
       "      <td>68.00</td>\n",
       "      <td>多唯呀礼盒旗舰店</td>\n",
       "    </tr>\n",
       "    <tr>\n",
       "      <th>18</th>\n",
       "      <td>德芙（Dove）榛仁葡萄干</td>\n",
       "      <td>32.90</td>\n",
       "      <td>德芙京东自营旗舰店</td>\n",
       "    </tr>\n",
       "    <tr>\n",
       "      <th>19</th>\n",
       "      <td>士力架花生夹心</td>\n",
       "      <td>15.90</td>\n",
       "      <td>德芙京东自营旗舰店</td>\n",
       "    </tr>\n",
       "    <tr>\n",
       "      <th>20</th>\n",
       "      <td>好时之吻 Kisses 眩彩 多口味糖果</td>\n",
       "      <td>71.90</td>\n",
       "      <td>好时京东自营旗舰店</td>\n",
       "    </tr>\n",
       "    <tr>\n",
       "      <th>21</th>\n",
       "      <td>Lindt瑞士莲软心 意大利进口精选</td>\n",
       "      <td>59.00</td>\n",
       "      <td>瑞士莲京东自营旗舰店</td>\n",
       "    </tr>\n",
       "    <tr>\n",
       "      <th>22</th>\n",
       "      <td>费列罗（Ferrero Rocher）</td>\n",
       "      <td>145.00</td>\n",
       "      <td>莲雅进口食品专营店</td>\n",
       "    </tr>\n",
       "    <tr>\n",
       "      <th>23</th>\n",
       "      <td>德芙（Dove）66%可可脂醇黑香浓</td>\n",
       "      <td>35.90</td>\n",
       "      <td>德芙京东自营旗舰店</td>\n",
       "    </tr>\n",
       "    <tr>\n",
       "      <th>24</th>\n",
       "      <td>歌帝梵(GODIVA)醇享系列90%可可黑</td>\n",
       "      <td>58.00</td>\n",
       "      <td>歌帝梵（GODIVA）臻享京东自营旗舰店</td>\n",
       "    </tr>\n",
       "    <tr>\n",
       "      <th>25</th>\n",
       "      <td>费列罗（FERRERO）榛果威化糖果</td>\n",
       "      <td>119.90</td>\n",
       "      <td>费列罗京东自营旗舰店</td>\n",
       "    </tr>\n",
       "    <tr>\n",
       "      <th>26</th>\n",
       "      <td>KDV紫皮糖俄罗斯进口糖果婚庆喜糖送女友年货</td>\n",
       "      <td>22.90</td>\n",
       "      <td>KDV京东自营旗舰店</td>\n",
       "    </tr>\n",
       "    <tr>\n",
       "      <th>27</th>\n",
       "      <td>歌帝梵(GODIVA) 臻粹进口</td>\n",
       "      <td>140.00</td>\n",
       "      <td>歌帝梵（GODIVA）臻享京东自营旗舰店</td>\n",
       "    </tr>\n",
       "    <tr>\n",
       "      <th>28</th>\n",
       "      <td>歌帝梵（GODIVA）比利时进口</td>\n",
       "      <td>238.00</td>\n",
       "      <td>GODIVA/歌帝梵京东自营专区</td>\n",
       "    </tr>\n",
       "    <tr>\n",
       "      <th>29</th>\n",
       "      <td>歌帝梵（GODIVA）比利时进口</td>\n",
       "      <td>366.00</td>\n",
       "      <td>GODIVA/歌帝梵京东自营专区</td>\n",
       "    </tr>\n",
       "    <tr>\n",
       "      <th>30</th>\n",
       "      <td>费列罗（FERRERO）榛果威化黑巧</td>\n",
       "      <td>109.00</td>\n",
       "      <td>费列罗京东自营旗舰店</td>\n",
       "    </tr>\n",
       "  </tbody>\n",
       "</table>\n",
       "</div>"
      ],
      "text/plain": [
       "                             商品名称      价格                    店铺\n",
       "1                           脆香米牛奶   24.90             德芙京东自营旗舰店\n",
       "2              费列罗（FERRERO）榛果威化糖果  139.90            费列罗京东自营旗舰店\n",
       "3                         士力架花生夹心   56.90             德芙京东自营旗舰店\n",
       "4               健达（Kinder）缤纷乐牛奶榛果   22.70            费列罗京东自营旗舰店\n",
       "5                    德芙（Dove）丝滑牛奶   32.90             德芙京东自营旗舰店\n",
       "6   德芙（Dove）什锦碗装三种口味混合249g 休闲零食糖果   32.90             德芙京东自营旗舰店\n",
       "7                      德芙（Dove）牛奶   52.90             德芙京东自营旗舰店\n",
       "8                费列罗（FERRERO）榛果威化    9.90            费列罗京东自营旗舰店\n",
       "9               Lindt瑞士莲软心 瑞士进口精选  145.00            瑞士莲京东自营旗舰店\n",
       "10              三角（Toblerone）瑞士牛奶   18.90         三角金象巧克力京东自营专区\n",
       "11          歌帝梵(GODIVA)醇享系列72%可可黑   41.00  歌帝梵（GODIVA）臻享京东自营旗舰店\n",
       "12                        诺梵纯黑可可脂   19.90             诺梵京东自营旗舰店\n",
       "13            雀巢（Nestle）脆脆鲨 休闲零食    24.90       雀巢休闲食品京东自营官方旗舰店\n",
       "14                   德芙（Dove）丝滑牛奶   47.90             德芙京东自营旗舰店\n",
       "15             费列罗（FERRERO）榛果威化糖果   55.90            费列罗京东自营旗舰店\n",
       "16                      德芙（Dove）黑   52.90             德芙京东自营旗舰店\n",
       "17                 费列罗（FERRERO）榛果   68.00              多唯呀礼盒旗舰店\n",
       "18                  德芙（Dove）榛仁葡萄干   32.90             德芙京东自营旗舰店\n",
       "19                        士力架花生夹心   15.90             德芙京东自营旗舰店\n",
       "20           好时之吻 Kisses 眩彩 多口味糖果   71.90             好时京东自营旗舰店\n",
       "21             Lindt瑞士莲软心 意大利进口精选   59.00            瑞士莲京东自营旗舰店\n",
       "22            费列罗（Ferrero Rocher）  145.00             莲雅进口食品专营店\n",
       "23             德芙（Dove）66%可可脂醇黑香浓   35.90             德芙京东自营旗舰店\n",
       "24          歌帝梵(GODIVA)醇享系列90%可可黑   58.00  歌帝梵（GODIVA）臻享京东自营旗舰店\n",
       "25             费列罗（FERRERO）榛果威化糖果  119.90            费列罗京东自营旗舰店\n",
       "26         KDV紫皮糖俄罗斯进口糖果婚庆喜糖送女友年货   22.90            KDV京东自营旗舰店\n",
       "27               歌帝梵(GODIVA) 臻粹进口  140.00  歌帝梵（GODIVA）臻享京东自营旗舰店\n",
       "28               歌帝梵（GODIVA）比利时进口  238.00      GODIVA/歌帝梵京东自营专区\n",
       "29               歌帝梵（GODIVA）比利时进口  366.00      GODIVA/歌帝梵京东自营专区\n",
       "30             费列罗（FERRERO）榛果威化黑巧  109.00            费列罗京东自营旗舰店"
      ]
     },
     "execution_count": 41,
     "metadata": {},
     "output_type": "execute_result"
    }
   ],
   "source": [
    "import pandas as pd\n",
    "pd.DataFrame(p).T   #transpose"
   ]
  },
  {
   "cell_type": "markdown",
   "id": "cc1e13f9-8290-4a5f-be1c-82a5f1483a08",
   "metadata": {},
   "source": [
    "### 练习"
   ]
  },
  {
   "cell_type": "markdown",
   "id": "18562cd7-14ba-437b-bd3d-bf55f958f144",
   "metadata": {},
   "source": [
    "使用lxml.etree模块和其解析xpath()方法，访问JD网页，爬取某个商品。"
   ]
  },
  {
   "cell_type": "code",
   "execution_count": 45,
   "id": "99febe3a-a80b-4d5e-bcf4-65ad1a5ef254",
   "metadata": {},
   "outputs": [],
   "source": [
    "\n",
    "\n"
   ]
  },
  {
   "cell_type": "markdown",
   "id": "f38afbc6-40de-402a-a959-cf470b96ae94",
   "metadata": {},
   "source": [
    "## 4.正则表达式的识别"
   ]
  },
  {
   "cell_type": "markdown",
   "id": "04f7a909-1771-4931-a721-865cf7180c2b",
   "metadata": {},
   "source": [
    "正则表达式(Regular Expression)，又称规则表达式，是构成或分解字符串的规则。它使用单个字符串来描述、匹配一系列符合某个句法规则的字符串。"
   ]
  },
  {
   "cell_type": "markdown",
   "id": "5a69666e-2d90-482b-9f22-d447a73f15fa",
   "metadata": {},
   "source": [
    "最常用的方法是`re.search`，其扫描整个字符串并返回第一个成功的匹配。"
   ]
  },
  {
   "cell_type": "code",
   "execution_count": 4,
   "id": "41e0b60c-ea39-4c5a-a4d6-3b1c8309867f",
   "metadata": {},
   "outputs": [
    {
     "name": "stdout",
     "output_type": "stream",
     "text": [
      "(13, 16) www\n"
     ]
    }
   ],
   "source": [
    "import re\n",
    "string = 'www.baidu.comwww'\n",
    "pattern = 'w{3}$'\n",
    "loc = re.search(pattern, string).span()\n",
    "print(loc, string[loc[0]:loc[1]])               "
   ]
  },
  {
   "cell_type": "markdown",
   "id": "3faa0daa-614b-4593-a97c-b08f00a2698b",
   "metadata": {},
   "source": [
    "正则表达式模式如下：\n",
    "\n",
    "![re_rules](image/re_rules.png)"
   ]
  },
  {
   "cell_type": "markdown",
   "id": "3405026f-acf5-42f5-a66a-cabefce2d032",
   "metadata": {},
   "source": [
    "### 练习"
   ]
  },
  {
   "cell_type": "markdown",
   "id": "aaf24c47-a963-4d06-aafa-8907bc4e1e10",
   "metadata": {},
   "source": [
    "给定如下字符串，匹配出字符串'abc', '123', '3de'。"
   ]
  },
  {
   "cell_type": "code",
   "execution_count": 18,
   "id": "4081256f-3021-42e0-a6ca-d478c9926733",
   "metadata": {},
   "outputs": [],
   "source": [
    "string = \"abc123def\"\n",
    "\n",
    "\n"
   ]
  },
  {
   "cell_type": "markdown",
   "id": "ae7f476b-a8dc-45c7-8954-5f369a028591",
   "metadata": {},
   "source": [
    "## 参考\n",
    "- HTTP的概念: https://www.w3schools.com/whatis/whatis_http.asp\n",
    "- Cookies: https://www.kaspersky.com/resource-center/definitions/cookies\n",
    "- urllib官方文档: https://docs.python.org/3/library/urllib.request.html#  \n",
    "- HOWTO Fetch Internet Resources Using The urllib Package:https://docs.python.org/3/howto/urllib2.html#urllib-howto"
   ]
  }
 ],
 "metadata": {
  "kernelspec": {
   "display_name": "Python 3 (ipykernel)",
   "language": "python",
   "name": "python3"
  },
  "language_info": {
   "codemirror_mode": {
    "name": "ipython",
    "version": 3
   },
   "file_extension": ".py",
   "mimetype": "text/x-python",
   "name": "python",
   "nbconvert_exporter": "python",
   "pygments_lexer": "ipython3",
   "version": "3.9.17"
  }
 },
 "nbformat": 4,
 "nbformat_minor": 5
}
