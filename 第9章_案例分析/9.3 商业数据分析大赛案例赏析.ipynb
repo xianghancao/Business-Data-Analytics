{
 "cells": [
  {
   "cell_type": "markdown",
   "id": "fbb82334-38cf-43ba-8be4-25cfebed38b3",
   "metadata": {},
   "source": [
    "# 9.2 商业分析大赛选手作品赏析"
   ]
  },
  {
   "cell_type": "markdown",
   "id": "e8c6ea93-846b-44ce-92c2-cc848c341088",
   "metadata": {},
   "source": [
    "观看下面的大赛选手作品，并对其进行评价：\n",
    "1. 哪些地方是优点？\n",
    "2. 哪些地方是不足？"
   ]
  },
  {
   "cell_type": "markdown",
   "id": "ffca64b1-e19a-4a76-ab9b-92b501b1fee7",
   "metadata": {},
   "source": [
    "美团商业分析大赛选手作品回放方法：\n",
    "1. 使用微信登陆以上链接：链接：https://www.xiong99.com.cn/detail/p_60b762b1e4b07e4d7fdb475d/6\n",
    "2. 再选择以下案例视频观看"
   ]
  },
  {
   "cell_type": "markdown",
   "id": "eee5d056-5581-4176-b834-ab45b086b7d9",
   "metadata": {},
   "source": [
    "## 第1643小组：精宿山水，渝你有约——基于重庆市的民宿热度影响因素分析   \n",
    "链接：https://www.xiong99.com.cn/detail/v_60c07851e4b0c726421dbcf0/3?from=p_60b762b1e4b07e4d7fdb475d&type=6&parent_pro_id=\n",
    "[![第1643小组](image/team-1643.png)](https://www.xiong99.com.cn/detail/v_60c07851e4b0c726421dbcf0/3?from=p_60b762b1e4b07e4d7fdb475d&type=6&parent_pro_id=)"
   ]
  },
  {
   "cell_type": "markdown",
   "id": "4666d689-e187-4c12-ab91-b229666f58ea",
   "metadata": {},
   "source": [
    "## 第1431小组：一片体贴——电商平台卫生巾销量影响因素分析\n",
    "链接：<https://www.xiong99.com.cn/detail/v_60bcbebee4b0c726421cafdd/3?from=p_60b762b1e4b07e4d7fdb475d&type=6&parent_pro_id=>\n",
    "[![第1431小组](image/team-1431.png)](https://www.xiong99.com.cn/detail/v_60bcbebee4b0c726421cafdd/3?from=p_60b762b1e4b07e4d7fdb475d&type=6&parent_pro_id=)"
   ]
  },
  {
   "cell_type": "markdown",
   "id": "0698f1f8-3529-49f1-bb22-253c0bd53577",
   "metadata": {},
   "source": [
    "## 第0840小组：美团助力，密室起飞-美团平台北京市密室逃脱多维度测评及影响因素分析\n",
    "链接：<https://www.xiong99.com.cn/detail/v_60b76998e4b0017651a1553d/3?from=p_60b762b1e4b07e4d7fdb475d&type=6&parent_pro_id=>\n",
    "[![第0840小组](image/team-0840.png)](https://www.xiong99.com.cn/detail/v_60b76998e4b0017651a1553d/3?from=p_60b762b1e4b07e4d7fdb475d&type=6&parent_pro_id=)"
   ]
  },
  {
   "cell_type": "markdown",
   "id": "a7e9aafa-7d9c-4c00-bf28-050a48d09aa9",
   "metadata": {},
   "source": [
    "## 第1827小组：“没有中间商”是创新还是乌托邦？探究北上广深二手车对数价格的主要影响因素\n",
    "链接：<https://www.xiong99.com.cn/detail/v_60bccbe0e4b0c726421cb213/3?from=p_60b762b1e4b07e4d7fdb475d&type=6&parent_pro_id=>\n",
    "[![第1827小组](image/team-1827.png)](https://www.xiong99.com.cn/detail/v_60b76998e4b0017651a1553d/3?from=p_60b762b1e4b07e4d7fdb475d&type=6&parent_pro_id=)"
   ]
  },
  {
   "cell_type": "markdown",
   "id": "245d3e9a-6fad-4b05-b1ec-974ceb53f4a1",
   "metadata": {},
   "source": [
    "观看完上面的大赛选手作品，你是否能够对其进行评价呢，\n",
    "1. 哪些地方是优点？\n",
    "2. 哪些地方是不足？"
   ]
  }
 ],
 "metadata": {
  "kernelspec": {
   "display_name": "Python 3 (ipykernel)",
   "language": "python",
   "name": "python3"
  },
  "language_info": {
   "codemirror_mode": {
    "name": "ipython",
    "version": 3
   },
   "file_extension": ".py",
   "mimetype": "text/x-python",
   "name": "python",
   "nbconvert_exporter": "python",
   "pygments_lexer": "ipython3",
   "version": "3.9.13"
  },
  "widgets": {
   "application/vnd.jupyter.widget-state+json": {
    "state": {},
    "version_major": 2,
    "version_minor": 0
   }
  }
 },
 "nbformat": 4,
 "nbformat_minor": 5
}
