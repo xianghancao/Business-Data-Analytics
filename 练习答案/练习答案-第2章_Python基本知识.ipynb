{
 "cells": [
  {
   "cell_type": "markdown",
   "id": "c377f97c-a66a-4a9d-a440-2e11c28e2fb9",
   "metadata": {},
   "source": [
    "## 2.2 "
   ]
  },
  {
   "cell_type": "markdown",
   "id": "3fa554ce-27c5-4835-a680-77231f0a04f9",
   "metadata": {},
   "source": [
    "### 练习if语句"
   ]
  },
  {
   "cell_type": "markdown",
   "id": "5882ce0c-9dc0-4e5d-b824-cc1c8d1f34ed",
   "metadata": {},
   "source": [
    "如果输入成绩在60分和80分之间，请打印“良好”"
   ]
  },
  {
   "cell_type": "code",
   "execution_count": 66,
   "id": "00238496-1f0b-4fca-a626-33be9f80fd69",
   "metadata": {},
   "outputs": [
    {
     "name": "stdin",
     "output_type": "stream",
     "text": [
      "输入成绩后，按【回车键】确认 70\n"
     ]
    },
    {
     "name": "stdout",
     "output_type": "stream",
     "text": [
      "成绩(70.0) 良好！\n"
     ]
    }
   ],
   "source": [
    "grade = float(input('输入成绩后，按【回车键】确认')) \n",
    "if(60 < grade and grade < 80):                                   \n",
    "    print('成绩(%s) 良好！' %grade)"
   ]
  },
  {
   "cell_type": "markdown",
   "id": "77cda506-8b35-4cdb-b465-a0483a386844",
   "metadata": {},
   "source": [
    "## 练习：计算小明的体重"
   ]
  },
  {
   "cell_type": "code",
   "execution_count": null,
   "id": "2deeb142-4347-43e9-a04e-842bbe106988",
   "metadata": {},
   "outputs": [],
   "source": [
    "height = float(input('输入身高（米）'))\n",
    "weight = float(input('输入体重（Kg）'))\n",
    "BMI = weight/height**2\n",
    "if(BMI<18.5):\n",
    "    print('过轻')\n",
    "elif(BMI>=18.5 and BMI<25):\n",
    "    print('正常')\n",
    "elif(BMI>=25 and BMI<28):\n",
    "    print('过重')\n",
    "elif(BMI>=28 and BMI<32):\n",
    "    print('肥胖')\n",
    "elif(BMI>=32):\n",
    "    print('严重肥胖')"
   ]
  },
  {
   "cell_type": "markdown",
   "id": "cc298e39-0378-48db-8c78-476b003eb31b",
   "metadata": {},
   "source": [
    "## 练习"
   ]
  },
  {
   "cell_type": "markdown",
   "id": "55978efa-f246-4f1a-ab15-f778ea00532f",
   "metadata": {},
   "source": [
    "如何求1，3，5，7，。。99，间隔为2的等差数列的和。"
   ]
  },
  {
   "cell_type": "code",
   "execution_count": 52,
   "id": "80c7690e-cc87-4315-ace1-d6c12a2ddfe0",
   "metadata": {},
   "outputs": [
    {
     "name": "stdout",
     "output_type": "stream",
     "text": [
      "n: 1 s: 1\n",
      "n: 3 s: 4\n",
      "n: 5 s: 9\n",
      "n: 7 s: 16\n",
      "n: 9 s: 25\n",
      "n: 11 s: 36\n",
      "n: 13 s: 49\n",
      "n: 15 s: 64\n",
      "n: 17 s: 81\n",
      "n: 19 s: 100\n",
      "n: 21 s: 121\n",
      "n: 23 s: 144\n",
      "n: 25 s: 169\n",
      "n: 27 s: 196\n",
      "n: 29 s: 225\n",
      "n: 31 s: 256\n",
      "n: 33 s: 289\n",
      "n: 35 s: 324\n",
      "n: 37 s: 361\n",
      "n: 39 s: 400\n",
      "n: 41 s: 441\n",
      "n: 43 s: 484\n",
      "n: 45 s: 529\n",
      "n: 47 s: 576\n",
      "n: 49 s: 625\n",
      "n: 51 s: 676\n",
      "n: 53 s: 729\n",
      "n: 55 s: 784\n",
      "n: 57 s: 841\n",
      "n: 59 s: 900\n",
      "n: 61 s: 961\n",
      "n: 63 s: 1024\n",
      "n: 65 s: 1089\n",
      "n: 67 s: 1156\n",
      "n: 69 s: 1225\n",
      "n: 71 s: 1296\n",
      "n: 73 s: 1369\n",
      "n: 75 s: 1444\n",
      "n: 77 s: 1521\n",
      "n: 79 s: 1600\n",
      "n: 81 s: 1681\n",
      "n: 83 s: 1764\n",
      "n: 85 s: 1849\n",
      "n: 87 s: 1936\n",
      "n: 89 s: 2025\n",
      "n: 91 s: 2116\n",
      "n: 93 s: 2209\n",
      "n: 95 s: 2304\n",
      "n: 97 s: 2401\n",
      "n: 99 s: 2500\n",
      "The sum from 1 to 100 is 2500\n"
     ]
    }
   ],
   "source": [
    "n = 1                          # n负责存储自然数，用于遍历自然数1，2，3，4，5.。。。100\n",
    "s = 0                          # s负责存储求和的结果，初始为0\n",
    "while(n<=100):\n",
    "    s = s + n                  #求和，并保存求和的结果到s\n",
    "    print('n:', n, 's:', s)\n",
    "    n = n + 2                  #让自然数+1，并更新自然数n\n",
    "    \n",
    "print('The sum from 1 to 100 is', s)"
   ]
  }
 ],
 "metadata": {
  "kernelspec": {
   "display_name": "Python 3 (ipykernel)",
   "language": "python",
   "name": "python3"
  },
  "language_info": {
   "codemirror_mode": {
    "name": "ipython",
    "version": 3
   },
   "file_extension": ".py",
   "mimetype": "text/x-python",
   "name": "python",
   "nbconvert_exporter": "python",
   "pygments_lexer": "ipython3",
   "version": "3.9.17"
  }
 },
 "nbformat": 4,
 "nbformat_minor": 5
}
