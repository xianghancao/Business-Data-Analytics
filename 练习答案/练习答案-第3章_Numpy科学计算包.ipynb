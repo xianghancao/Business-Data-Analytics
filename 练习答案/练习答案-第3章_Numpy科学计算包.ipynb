{
 "cells": [
  {
   "cell_type": "markdown",
   "id": "3f17e5b0-8ad3-4953-9553-976d421a58ab",
   "metadata": {},
   "source": [
    "### 练习"
   ]
  },
  {
   "cell_type": "markdown",
   "id": "9bfb106e-8c9f-4159-8b62-55bac97401c8",
   "metadata": {},
   "source": [
    "给定Y（或称为label）序列值为[10.1, 9.8, 10.5, 10.0, 10.3], 其预测的结果，也就是predictions为[10, 10, 10, 10, 10]时，MSE的值是多少？"
   ]
  },
  {
   "cell_type": "code",
   "execution_count": 82,
   "id": "d15500e3-930d-4c93-ac6b-8fb7dbeb63e8",
   "metadata": {},
   "outputs": [],
   "source": [
    "labels=np.array([10.1,9.8,10.5,10.0,10.3])\n",
    "predictions=np.array([10,10,10,10,10])\n",
    "error=(1/5)*np.sum(np.square(predictions-labels))"
   ]
  },
  {
   "cell_type": "code",
   "execution_count": 84,
   "id": "db88130f-81cf-4333-9a26-2ba24b8f399c",
   "metadata": {},
   "outputs": [],
   "source": [
    "def calculate_mse(predictions, labels):\n",
    "    \"\"\"\n",
    "    本函数完成均方误差的计算\n",
    "    predictions - 预测值，np.array\n",
    "    labels - 原始值, np.array\n",
    "    \"\"\"\n",
    "    error=(1/5)*np.sum(np.square(predictions-labels))\n",
    "    return error"
   ]
  },
  {
   "cell_type": "code",
   "execution_count": 85,
   "id": "846aed90-344f-4715-9f3b-b84b743a90b4",
   "metadata": {},
   "outputs": [
    {
     "data": {
      "text/plain": [
       "0.07800000000000001"
      ]
     },
     "execution_count": 85,
     "metadata": {},
     "output_type": "execute_result"
    }
   ],
   "source": [
    "labels=np.array([10.1,9.8,10.5,10.0,10.3])\n",
    "predictions=np.array([10,10,10,10,10])\n",
    "calculate_mse(predictions, labels)"
   ]
  }
 ],
 "metadata": {
  "kernelspec": {
   "display_name": "Python 3",
   "language": "python",
   "name": "python3"
  },
  "language_info": {
   "codemirror_mode": {
    "name": "ipython",
    "version": 3
   },
   "file_extension": ".py",
   "mimetype": "text/x-python",
   "name": "python",
   "nbconvert_exporter": "python",
   "pygments_lexer": "ipython3",
   "version": "3.8.8"
  }
 },
 "nbformat": 4,
 "nbformat_minor": 5
}
