{
 "cells": [
  {
   "cell_type": "markdown",
   "id": "e7a84a57-5217-4920-9266-096b76f0b3ef",
   "metadata": {
    "tags": []
   },
   "source": [
    "# 作业-Pandas"
   ]
  },
  {
   "cell_type": "markdown",
   "id": "808ac88e-2ee7-49cf-b302-67e2a27653a0",
   "metadata": {
    "tags": []
   },
   "source": [
    "## 1.DataFrame的操作（1分+1分+1分+1分=4分）\n",
    "要求：\n",
    "\n",
    "\n",
    "<img src=\"image/homework.png\" alt=\"homework\" style=\"zoom:70%;\" />\n",
    "\n",
    "\n"
   ]
  },
  {
   "cell_type": "markdown",
   "id": "b9fb406e-d35a-4136-bd0b-382216c80466",
   "metadata": {},
   "source": [
    "- 创建一个pandas.DataFrame对象，存储以上元素；\n",
    "- 添加一个新列为'd', 对应行1，2，3的值为13, 14, 15；\n",
    "- 使用选取操作，选取'a'和'd'列；\n",
    "- 使用切片操作，选取第0行和第1行；"
   ]
  },
  {
   "cell_type": "code",
   "execution_count": null,
   "id": "8bf5f799-113b-4961-a92c-fd4ef0d9be45",
   "metadata": {},
   "outputs": [],
   "source": []
  },
  {
   "cell_type": "markdown",
   "id": "46f65310-1522-4d0c-aa7e-b56ce8dbfa04",
   "metadata": {},
   "source": [
    "## 2. 描述性统计方法（2分）"
   ]
  },
  {
   "cell_type": "markdown",
   "id": "04578ed5-5348-4edf-9d9b-80ad1f294aec",
   "metadata": {},
   "source": [
    "内容：描述性统计、数据集中度量、数据离散状况。\n",
    "\n",
    "要求：\n",
    "\n",
    "使用pandas.read_csv读取路径\"datasets/world-happiness-report-2021.csv\"文件，对\"East Asia\"东亚地区进行描述性统计分析，包括：\n",
    "   - 最大值\n",
    "   - 最小值\n",
    "   - 均值\n",
    "   - 标准差\n",
    "   - 分位数"
   ]
  },
  {
   "cell_type": "code",
   "execution_count": null,
   "id": "a5e317c0-2e7c-43fe-bb47-72b3b2e25230",
   "metadata": {},
   "outputs": [],
   "source": []
  },
  {
   "cell_type": "markdown",
   "id": "8be47ee1-3017-4ab6-9fde-0850a41a9769",
   "metadata": {},
   "source": [
    "## 3. 商业场景：巧克力品牌的市场占有率（1分+1分+1分+1分=4分）"
   ]
  },
  {
   "cell_type": "markdown",
   "id": "b26e7d5f-3fe3-4e00-9365-3817e6cad67c",
   "metadata": {},
   "source": [
    "市场份额亦称“市场占有率”。指某企业某一产品（或品类）的销售量（或销售额）在市场同类产品（或品类）中所占比重。\n",
    "反映企业在市场上的地位。通常市场份额越高，竞争力越强。   \n",
    "基本测算方法：  \n",
    "（1）总体市场份额，指某企业销售量（额）在整个行业中所占比重。  \n",
    "（2）目标市场份额，指某企业销售量（额）在其目标市场，即其所服务的市场中所占比重。  \n",
    "（3）相对市场份额，指某企业销售量与市场上最大竞争者销售量之比，若高于1，表明其为这一市场的领导者。\n",
    "\n",
    "样本数据文件'Chocolate.csv'从JD平台采集，并清洗后的数据集，包含每个商品的**价格、评价数、品牌、巧克力类别**。\n",
    "因为销量数据涉及到商业机密和合规问题，电商平台只会披露类似“10万+”、“1千+”甚至不提供。  \n",
    "通常这种情况下，可以使用“评价数”这个指标，作为代理变量，表示销量的高低。\n",
    "\n",
    "要求：\n",
    "1. 使用pandas库来读取相关的数据集文件：'datasets/Chocolate.csv'\n",
    "2. 估算德芙巧克力的价格区间（最小值、最大值）\n",
    "3. 估算德芙巧克力的总体市场份额\n",
    "4. 计算各个品牌其哪种口味最畅销"
   ]
  },
  {
   "cell_type": "code",
   "execution_count": null,
   "id": "9777aa1d-259b-4a29-b5d4-dcca15a6e677",
   "metadata": {},
   "outputs": [],
   "source": []
  },
  {
   "cell_type": "markdown",
   "id": "f9d87d79-6b98-4d79-a104-05541eade7a0",
   "metadata": {},
   "source": [
    "## 3. 金融场景：夏普比率（1分+1分+2分=4分）"
   ]
  },
  {
   "cell_type": "markdown",
   "id": "6fd5c8e6-b9f1-4da3-b550-5a80f3b9e47e",
   "metadata": {},
   "source": [
    "夏普比率（Sharpe Ratio）是用来衡量投资组合表现的指标，它是投资组合超额收益率与风险之间的比率。其公式如下：  \n",
    "\n",
    "$$\n",
    "Sharpe Ratio = (R_p - R_f) / \\sigma_{p}\n",
    "$$\n",
    "\n",
    "其中，$R_p$表示投资组合的平均收益率；$R_f$表示无风险利率；$\\sigma_{p}$表示投资组合收益率的标准差。\n",
    "\n",
    "夏普比率越高，表示投资组合每承担一单位的风险能够获得更高的超额收益，因此更为优秀。需要注意的是，夏普比率只适用于对正态分布收益率的投资组合进行评估，而不适用于对非正态分布的投资组合进行评估。此外，夏普比率也不能作为唯一的评估指标，还应该结合其他指标来全面评估投资组合的表现。"
   ]
  },
  {
   "cell_type": "markdown",
   "id": "58ffd8dd-7fdf-44ec-9c30-52de4457ef28",
   "metadata": {},
   "source": [
    "IBM的股票代码为IBM，标普指数的代码为SP，可口可乐的股票代码是KO，三者的月度收益率序列存储在'datasets/ibmspko.csv'文件中。\n",
    "- 请使用pandas读取收益率序列\n",
    "- 计算持有可口可乐（代码KO）的夏普比率是多少？\n",
    "- 计算持有三者总价值为1,000,000$的股票策略，不考虑无风险利率的情况下，其夏普比率是多少？"
   ]
  },
  {
   "cell_type": "code",
   "execution_count": 21,
   "id": "1fa71739-8b4a-43b4-aada-b222a305d2be",
   "metadata": {
    "tags": []
   },
   "outputs": [
    {
     "data": {
      "text/html": [
       "<div>\n",
       "<style scoped>\n",
       "    .dataframe tbody tr th:only-of-type {\n",
       "        vertical-align: middle;\n",
       "    }\n",
       "\n",
       "    .dataframe tbody tr th {\n",
       "        vertical-align: top;\n",
       "    }\n",
       "\n",
       "    .dataframe thead th {\n",
       "        text-align: right;\n",
       "    }\n",
       "</style>\n",
       "<table border=\"1\" class=\"dataframe\">\n",
       "  <thead>\n",
       "    <tr style=\"text-align: right;\">\n",
       "      <th></th>\n",
       "      <th>ibm</th>\n",
       "      <th>sp</th>\n",
       "      <th>ko</th>\n",
       "    </tr>\n",
       "    <tr>\n",
       "      <th>date</th>\n",
       "      <th></th>\n",
       "      <th></th>\n",
       "      <th></th>\n",
       "    </tr>\n",
       "  </thead>\n",
       "  <tbody>\n",
       "    <tr>\n",
       "      <th>1961-01-31</th>\n",
       "      <td>0.072513</td>\n",
       "      <td>0.063156</td>\n",
       "      <td>0.009331</td>\n",
       "    </tr>\n",
       "    <tr>\n",
       "      <th>1961-02-28</th>\n",
       "      <td>0.062500</td>\n",
       "      <td>0.026870</td>\n",
       "      <td>0.103236</td>\n",
       "    </tr>\n",
       "    <tr>\n",
       "      <th>1961-03-30</th>\n",
       "      <td>0.029630</td>\n",
       "      <td>0.025536</td>\n",
       "      <td>0.012291</td>\n",
       "    </tr>\n",
       "    <tr>\n",
       "      <th>1961-04-28</th>\n",
       "      <td>0.027338</td>\n",
       "      <td>0.003843</td>\n",
       "      <td>-0.050000</td>\n",
       "    </tr>\n",
       "    <tr>\n",
       "      <th>1961-05-31</th>\n",
       "      <td>0.027521</td>\n",
       "      <td>0.019139</td>\n",
       "      <td>0.087719</td>\n",
       "    </tr>\n",
       "    <tr>\n",
       "      <th>...</th>\n",
       "      <td>...</td>\n",
       "      <td>...</td>\n",
       "      <td>...</td>\n",
       "    </tr>\n",
       "    <tr>\n",
       "      <th>2011-08-31</th>\n",
       "      <td>-0.050536</td>\n",
       "      <td>-0.056791</td>\n",
       "      <td>0.035877</td>\n",
       "    </tr>\n",
       "    <tr>\n",
       "      <th>2011-09-30</th>\n",
       "      <td>0.017218</td>\n",
       "      <td>-0.071762</td>\n",
       "      <td>-0.034351</td>\n",
       "    </tr>\n",
       "    <tr>\n",
       "      <th>2011-10-31</th>\n",
       "      <td>0.055813</td>\n",
       "      <td>0.107723</td>\n",
       "      <td>0.011249</td>\n",
       "    </tr>\n",
       "    <tr>\n",
       "      <th>2011-11-30</th>\n",
       "      <td>0.022315</td>\n",
       "      <td>-0.005059</td>\n",
       "      <td>-0.009075</td>\n",
       "    </tr>\n",
       "    <tr>\n",
       "      <th>2011-12-30</th>\n",
       "      <td>-0.021915</td>\n",
       "      <td>0.008533</td>\n",
       "      <td>0.040756</td>\n",
       "    </tr>\n",
       "  </tbody>\n",
       "</table>\n",
       "<p>612 rows × 3 columns</p>\n",
       "</div>"
      ],
      "text/plain": [
       "                 ibm        sp        ko\n",
       "date                                    \n",
       "1961-01-31  0.072513  0.063156  0.009331\n",
       "1961-02-28  0.062500  0.026870  0.103236\n",
       "1961-03-30  0.029630  0.025536  0.012291\n",
       "1961-04-28  0.027338  0.003843 -0.050000\n",
       "1961-05-31  0.027521  0.019139  0.087719\n",
       "...              ...       ...       ...\n",
       "2011-08-31 -0.050536 -0.056791  0.035877\n",
       "2011-09-30  0.017218 -0.071762 -0.034351\n",
       "2011-10-31  0.055813  0.107723  0.011249\n",
       "2011-11-30  0.022315 -0.005059 -0.009075\n",
       "2011-12-30 -0.021915  0.008533  0.040756\n",
       "\n",
       "[612 rows x 3 columns]"
      ]
     },
     "execution_count": 21,
     "metadata": {},
     "output_type": "execute_result"
    }
   ],
   "source": [
    "import pandas as pd\n",
    "df = pd.read_csv('datasets/ibmspko.csv', index_col=0)\n",
    "df"
   ]
  },
  {
   "cell_type": "code",
   "execution_count": null,
   "id": "22804891-2a5b-4417-9bf8-b79f276dc3aa",
   "metadata": {},
   "outputs": [],
   "source": [
    "\n"
   ]
  }
 ],
 "metadata": {
  "kernelspec": {
   "display_name": "Python 3 (ipykernel)",
   "language": "python",
   "name": "python3"
  },
  "language_info": {
   "codemirror_mode": {
    "name": "ipython",
    "version": 3
   },
   "file_extension": ".py",
   "mimetype": "text/x-python",
   "name": "python",
   "nbconvert_exporter": "python",
   "pygments_lexer": "ipython3",
   "version": "3.9.13"
  },
  "toc-showmarkdowntxt": false
 },
 "nbformat": 4,
 "nbformat_minor": 5
}
