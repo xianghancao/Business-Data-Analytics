{
 "cells": [
  {
   "cell_type": "markdown",
   "id": "72383aa4-e3e6-4f20-aa09-b10574d59e95",
   "metadata": {},
   "source": [
    "# Pandas的Series"
   ]
  },
  {
   "cell_type": "markdown",
   "id": "60b3497b-310a-466f-8a47-778e60943d09",
   "metadata": {},
   "source": [
    "Series是Pandas的两个常用的数据结构之一，还有一个是DataFrame。\n",
    "\n",
    "这两个常用数据结构能够解决绝大数在数据处理任务中遇到的问题。\n",
    "\n",
    "那什么是Series呢？\n",
    "> Series is a one-dimensional labeled array capable of holding any data type (integers, strings, floating point numbers, Python objects, etc.). The axis labels are collectively referred to as the index. ————Pandas官方\n",
    "\n",
    "Series是一个一维带标签的数组，可以保存任何数据类型(整数、字符串、浮点数、Python对象等)。轴标签统称为索引。"
   ]
  },
  {
   "cell_type": "markdown",
   "id": "1316738c-303e-4966-8e03-102e3051f51d",
   "metadata": {},
   "source": [
    "## 1.创建Series\n",
    "### 1.1 使用列表进行创建"
   ]
  },
  {
   "cell_type": "markdown",
   "id": "64cfc689-4d2d-4af3-9958-85f1d8c7aba1",
   "metadata": {},
   "source": [
    "使用pandas.Series的方法来创建Series对象，里面包含一个列表，这里Series第一个字母需要大写。例如："
   ]
  },
  {
   "cell_type": "code",
   "execution_count": 1,
   "id": "2b1619e9-1a7d-4453-bc76-abb560471503",
   "metadata": {},
   "outputs": [
    {
     "data": {
      "text/plain": [
       "0    4\n",
       "1    5\n",
       "2    6\n",
       "dtype: int64"
      ]
     },
     "execution_count": 1,
     "metadata": {},
     "output_type": "execute_result"
    }
   ],
   "source": [
    "import pandas as pd\n",
    "s = pd.Series([4, 5, 6])\n",
    "s"
   ]
  },
  {
   "cell_type": "markdown",
   "id": "8cf2ed12-f3f4-4e8f-a4cd-731f1dc6a103",
   "metadata": {},
   "source": [
    "在交互环境里，左边一侧是索引，右边一侧是值。当我们不给Series指定索引时，pandas默认生成的索引是从0到N-1（N是数据长度），这里N是3。\n",
    "\n",
    "通过value和index属性分别获得Series对象的值和属性。"
   ]
  },
  {
   "cell_type": "code",
   "execution_count": 3,
   "id": "72598909-c1df-46c2-9d92-8a3bcd0cb450",
   "metadata": {},
   "outputs": [
    {
     "data": {
      "text/plain": [
       "array([4, 5, 6])"
      ]
     },
     "execution_count": 3,
     "metadata": {},
     "output_type": "execute_result"
    }
   ],
   "source": [
    "s.values"
   ]
  },
  {
   "cell_type": "code",
   "execution_count": 2,
   "id": "c9c2c29b-57e1-431b-afb5-fd38af4975f2",
   "metadata": {},
   "outputs": [
    {
     "data": {
      "text/plain": [
       "RangeIndex(start=0, stop=3, step=1)"
      ]
     },
     "execution_count": 2,
     "metadata": {},
     "output_type": "execute_result"
    }
   ],
   "source": [
    "s.index"
   ]
  },
  {
   "cell_type": "markdown",
   "id": "954b4d3e-f274-4b3d-8c4f-d466ad34ff69",
   "metadata": {},
   "source": [
    "我们使用type看下Series.values的数据类型，如下显示它是一个Numpy数组。"
   ]
  },
  {
   "cell_type": "code",
   "execution_count": 4,
   "id": "ecc28f81-3f41-44ef-9747-6378ea9674c5",
   "metadata": {},
   "outputs": [
    {
     "data": {
      "text/plain": [
       "numpy.ndarray"
      ]
     },
     "execution_count": 4,
     "metadata": {},
     "output_type": "execute_result"
    }
   ],
   "source": [
    "type(s.values)"
   ]
  },
  {
   "cell_type": "markdown",
   "id": "c7c2a7e2-5855-4dd4-9613-ba79d49405f2",
   "metadata": {},
   "source": [
    "### 1.2 添加索引进行创建"
   ]
  },
  {
   "cell_type": "markdown",
   "id": "7add184f-29bf-4b0b-91b7-01d2bfe5fe51",
   "metadata": {},
   "source": [
    "在创建Series的时候，通过指定索引序列，来标识每个值："
   ]
  },
  {
   "cell_type": "code",
   "execution_count": 5,
   "id": "56f2a5c5-fc6e-4ab5-ade9-3f55a789b507",
   "metadata": {},
   "outputs": [
    {
     "data": {
      "text/plain": [
       "a    4\n",
       "b    5\n",
       "c    6\n",
       "dtype: int64"
      ]
     },
     "execution_count": 5,
     "metadata": {},
     "output_type": "execute_result"
    }
   ],
   "source": [
    "s2 = pd.Series([4, 5, 6], index=['a', 'b', 'c'])\n",
    "s2"
   ]
  },
  {
   "cell_type": "markdown",
   "id": "71690563-09c2-4249-996c-0e5ecc68dfd2",
   "metadata": {},
   "source": [
    "当Series拥有索引时，选取数据时可以指定索引：\n"
   ]
  },
  {
   "cell_type": "code",
   "execution_count": 6,
   "id": "f9f4d598-1b92-4f3a-a98f-e0c52a882f5b",
   "metadata": {},
   "outputs": [
    {
     "data": {
      "text/plain": [
       "4"
      ]
     },
     "execution_count": 6,
     "metadata": {},
     "output_type": "execute_result"
    }
   ],
   "source": [
    "s2['a']"
   ]
  },
  {
   "cell_type": "code",
   "execution_count": 7,
   "id": "56db4387-bca3-4bba-8b0a-6bd2f42a9a24",
   "metadata": {},
   "outputs": [
    {
     "data": {
      "text/plain": [
       "b    5\n",
       "a    4\n",
       "dtype: int64"
      ]
     },
     "execution_count": 7,
     "metadata": {},
     "output_type": "execute_result"
    }
   ],
   "source": [
    "s2[['b', 'a']]"
   ]
  },
  {
   "cell_type": "markdown",
   "id": "c4bb0a33-fa06-400d-9833-c16262d73fa2",
   "metadata": {},
   "source": [
    "类似Numpy使用布尔值对数组进行过滤，Series的操作也类似："
   ]
  },
  {
   "cell_type": "code",
   "execution_count": 8,
   "id": "40510393-2635-47aa-96cc-29b758da7df6",
   "metadata": {},
   "outputs": [
    {
     "data": {
      "text/plain": [
       "a    4\n",
       "b    5\n",
       "c    6\n",
       "dtype: int64"
      ]
     },
     "execution_count": 8,
     "metadata": {},
     "output_type": "execute_result"
    }
   ],
   "source": [
    "s2[s2>0]"
   ]
  },
  {
   "cell_type": "code",
   "execution_count": 9,
   "id": "c783e01b-4d88-47e3-8c30-3f80fd54ef48",
   "metadata": {},
   "outputs": [
    {
     "data": {
      "text/plain": [
       "a     8\n",
       "b    10\n",
       "c    12\n",
       "dtype: int64"
      ]
     },
     "execution_count": 9,
     "metadata": {},
     "output_type": "execute_result"
    }
   ],
   "source": [
    "s2 * 2"
   ]
  },
  {
   "cell_type": "code",
   "execution_count": 10,
   "id": "03c241fa-9db4-4ab3-bd6c-1d692288484e",
   "metadata": {},
   "outputs": [
    {
     "data": {
      "text/plain": [
       "a     54.598150\n",
       "b    148.413159\n",
       "c    403.428793\n",
       "dtype: float64"
      ]
     },
     "execution_count": 10,
     "metadata": {},
     "output_type": "execute_result"
    }
   ],
   "source": [
    "import numpy as np\n",
    "np.exp(s2)  "
   ]
  },
  {
   "cell_type": "markdown",
   "id": "c3440142-af98-4431-8624-9caa67c9640c",
   "metadata": {},
   "source": [
    "### 1.3 使用字典来创建"
   ]
  },
  {
   "cell_type": "code",
   "execution_count": 7,
   "id": "3f9caf1b-ff4f-4794-80b8-c3e053c6882e",
   "metadata": {},
   "outputs": [
    {
     "data": {
      "text/plain": [
       "Shanghai     200000\n",
       "Beijing      100000\n",
       "Tianjing     300000\n",
       "Chongqing    400000\n",
       "dtype: int64"
      ]
     },
     "execution_count": 7,
     "metadata": {},
     "output_type": "execute_result"
    }
   ],
   "source": [
    "post_code = {'Shanghai':200000, 'Beijing': 100000, 'Tianjing': 300000, 'Chongqing':400000}\n",
    "s3 = pd.Series(post_code)\n",
    "s3"
   ]
  },
  {
   "cell_type": "markdown",
   "id": "730f9cc8-2019-4d39-850d-7c9d318f54d8",
   "metadata": {},
   "source": [
    "## 2.修改索引"
   ]
  },
  {
   "cell_type": "markdown",
   "id": "434514c5-da93-4048-b83e-7e095067333b",
   "metadata": {},
   "source": [
    "使用以下方法进行Series的索引修改："
   ]
  },
  {
   "cell_type": "code",
   "execution_count": 3,
   "id": "a240498a-38bc-4d2d-af8c-86e29ad97021",
   "metadata": {},
   "outputs": [
    {
     "data": {
      "text/plain": [
       "SH    200000\n",
       "BJ    100000\n",
       "TJ    300000\n",
       "CQ    400000\n",
       "dtype: int64"
      ]
     },
     "execution_count": 3,
     "metadata": {},
     "output_type": "execute_result"
    }
   ],
   "source": [
    "s3.index = [\"SH\", \"BJ\", \"TJ\", \"CQ\"]\n",
    "s3"
   ]
  },
  {
   "cell_type": "markdown",
   "id": "4ea362e4-a367-4a31-b58f-9f458ac1f67e",
   "metadata": {},
   "source": [
    "## 3. 选取元素"
   ]
  },
  {
   "cell_type": "markdown",
   "id": "4a0e23ad-77cf-44f2-8823-9ea963dc6908",
   "metadata": {},
   "source": [
    "我们可以使用以下三种方式来选取某一个元素："
   ]
  },
  {
   "cell_type": "code",
   "execution_count": 8,
   "id": "a4b79efc-04f6-4463-9aae-23dfd33c7a8c",
   "metadata": {},
   "outputs": [
    {
     "data": {
      "text/plain": [
       "200000"
      ]
     },
     "execution_count": 8,
     "metadata": {},
     "output_type": "execute_result"
    }
   ],
   "source": [
    "s3[\"Shanghai\"]"
   ]
  },
  {
   "cell_type": "code",
   "execution_count": 9,
   "id": "d837667a-da94-4a12-bdee-0d0cd11ec116",
   "metadata": {},
   "outputs": [
    {
     "data": {
      "text/plain": [
       "200000"
      ]
     },
     "execution_count": 9,
     "metadata": {},
     "output_type": "execute_result"
    }
   ],
   "source": [
    "s3.loc[\"Shanghai\"]"
   ]
  },
  {
   "cell_type": "code",
   "execution_count": 10,
   "id": "abbd97dd-16a4-4de3-824b-2ce37aeb77ab",
   "metadata": {},
   "outputs": [
    {
     "data": {
      "text/plain": [
       "200000"
      ]
     },
     "execution_count": 10,
     "metadata": {},
     "output_type": "execute_result"
    }
   ],
   "source": [
    "s3.iloc[0]   #使用整数索引[0, 1, 2, 3]"
   ]
  },
  {
   "cell_type": "markdown",
   "id": "73d83093-345f-4967-ab1b-f56773d72cfa",
   "metadata": {},
   "source": [
    "选取多个元素，可以使用：\n"
   ]
  },
  {
   "cell_type": "code",
   "execution_count": 11,
   "id": "396cf30f-ab9f-4a9e-9b0d-7c282ede579d",
   "metadata": {},
   "outputs": [
    {
     "data": {
      "text/plain": [
       "Shanghai    200000\n",
       "Beijing     100000\n",
       "Tianjing    300000\n",
       "dtype: int64"
      ]
     },
     "execution_count": 11,
     "metadata": {},
     "output_type": "execute_result"
    }
   ],
   "source": [
    "s3[['Shanghai', 'Beijing','Tianjing']]"
   ]
  },
  {
   "cell_type": "markdown",
   "id": "1182a37c-81ab-4caf-844a-ff9eccd75d8a",
   "metadata": {},
   "source": [
    "## 4. 切片"
   ]
  },
  {
   "cell_type": "markdown",
   "id": "08df071e-e4ec-4da1-8c66-cf06120c86d4",
   "metadata": {},
   "source": [
    "如果是作切片操作，使用以下方式："
   ]
  },
  {
   "cell_type": "code",
   "execution_count": 12,
   "id": "4982c991-aa57-4327-bf49-6b46f31bc341",
   "metadata": {},
   "outputs": [
    {
     "data": {
      "text/plain": [
       "Shanghai    200000\n",
       "Beijing     100000\n",
       "Tianjing    300000\n",
       "dtype: int64"
      ]
     },
     "execution_count": 12,
     "metadata": {},
     "output_type": "execute_result"
    }
   ],
   "source": [
    "s3.loc[\"Shanghai\":\"Tianjing\"]"
   ]
  },
  {
   "cell_type": "code",
   "execution_count": 13,
   "id": "d24bbbeb-c1d7-41ed-86b0-5490e7d2d875",
   "metadata": {},
   "outputs": [
    {
     "data": {
      "text/plain": [
       "Shanghai    200000\n",
       "Beijing     100000\n",
       "Tianjing    300000\n",
       "dtype: int64"
      ]
     },
     "execution_count": 13,
     "metadata": {},
     "output_type": "execute_result"
    }
   ],
   "source": [
    "s3.iloc[:3]   #使用整数索引[0, 1, 2, 3]  "
   ]
  },
  {
   "cell_type": "markdown",
   "id": "6579f009-94dd-4635-a40b-3712a1fdcc11",
   "metadata": {},
   "source": [
    "## 5.排序"
   ]
  },
  {
   "cell_type": "markdown",
   "id": "98dc8684-b1ea-4410-a4ec-e3cd84019b0a",
   "metadata": {},
   "source": [
    "pandas下面的排序，使用`sort_values`:"
   ]
  },
  {
   "cell_type": "code",
   "execution_count": 20,
   "id": "4e34918a-8311-40c1-8f7d-900908d59f17",
   "metadata": {},
   "outputs": [
    {
     "data": {
      "text/plain": [
       "Beijing      100000\n",
       "Shanghai     200000\n",
       "Tianjing     300000\n",
       "Chongqing    400000\n",
       "dtype: int64"
      ]
     },
     "execution_count": 20,
     "metadata": {},
     "output_type": "execute_result"
    }
   ],
   "source": [
    "s3.sort_values()"
   ]
  },
  {
   "cell_type": "markdown",
   "id": "4f78f3ce-d4f9-4b1b-b569-114608de8fbb",
   "metadata": {},
   "source": [
    "如果是从大到小，使用参数`ascending=False`，ascending表示升序，所以令其等于False"
   ]
  },
  {
   "cell_type": "code",
   "execution_count": 21,
   "id": "9bc677d3-e84a-425d-853f-289926606acf",
   "metadata": {},
   "outputs": [
    {
     "data": {
      "text/plain": [
       "Chongqing    400000\n",
       "Tianjing     300000\n",
       "Shanghai     200000\n",
       "Beijing      100000\n",
       "dtype: int64"
      ]
     },
     "execution_count": 21,
     "metadata": {},
     "output_type": "execute_result"
    }
   ],
   "source": [
    "s3.sort_values(ascending=False)"
   ]
  }
 ],
 "metadata": {
  "kernelspec": {
   "display_name": "Python 3 (ipykernel)",
   "language": "python",
   "name": "python3"
  },
  "language_info": {
   "codemirror_mode": {
    "name": "ipython",
    "version": 3
   },
   "file_extension": ".py",
   "mimetype": "text/x-python",
   "name": "python",
   "nbconvert_exporter": "python",
   "pygments_lexer": "ipython3",
   "version": "3.9.13"
  },
  "toc-autonumbering": false,
  "toc-showcode": false,
  "toc-showmarkdowntxt": false,
  "toc-showtags": false,
  "widgets": {
   "application/vnd.jupyter.widget-state+json": {
    "state": {},
    "version_major": 2,
    "version_minor": 0
   }
  }
 },
 "nbformat": 4,
 "nbformat_minor": 5
}
