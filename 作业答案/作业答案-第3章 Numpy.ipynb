{
 "cells": [
  {
   "cell_type": "markdown",
   "id": "ecad4d66-0932-41d0-bf73-060a3b06898c",
   "metadata": {},
   "source": [
    "# 作业-Numpy"
   ]
  },
  {
   "cell_type": "markdown",
   "id": "965e82a2-54ce-46a0-aa75-1979bb2af358",
   "metadata": {},
   "source": [
    "## 1. 一维数组（0.25分\\*4 = 1分）\n",
    "- 创建一个1维数组，命名为data01，包含100，99，...，1，间隔为1\n",
    "- 对其进行从小到大排序\n",
    "- 将数组data01变形成4行25列的2维数组\n",
    "- 计算总和"
   ]
  },
  {
   "cell_type": "code",
   "execution_count": 3,
   "id": "b24a3a8d-4b1a-4f10-9377-2f4e0e6c3e46",
   "metadata": {},
   "outputs": [
    {
     "data": {
      "text/plain": [
       "array([100,  99,  98,  97,  96,  95,  94,  93,  92,  91,  90,  89,  88,\n",
       "        87,  86,  85,  84,  83,  82,  81,  80,  79,  78,  77,  76,  75,\n",
       "        74,  73,  72,  71,  70,  69,  68,  67,  66,  65,  64,  63,  62,\n",
       "        61,  60,  59,  58,  57,  56,  55,  54,  53,  52,  51,  50,  49,\n",
       "        48,  47,  46,  45,  44,  43,  42,  41,  40,  39,  38,  37,  36,\n",
       "        35,  34,  33,  32,  31,  30,  29,  28,  27,  26,  25,  24,  23,\n",
       "        22,  21,  20,  19,  18,  17,  16,  15,  14,  13,  12,  11,  10,\n",
       "         9,   8,   7,   6,   5,   4,   3,   2,   1])"
      ]
     },
     "execution_count": 3,
     "metadata": {},
     "output_type": "execute_result"
    }
   ],
   "source": [
    "import numpy as np\n",
    "data01 = np.arange(100, 0, -1)\n",
    "data01"
   ]
  },
  {
   "cell_type": "code",
   "execution_count": 4,
   "id": "fb910014-d04a-43bc-9f1c-9b26c316a4ae",
   "metadata": {},
   "outputs": [
    {
     "data": {
      "text/plain": [
       "array([  1,   2,   3,   4,   5,   6,   7,   8,   9,  10,  11,  12,  13,\n",
       "        14,  15,  16,  17,  18,  19,  20,  21,  22,  23,  24,  25,  26,\n",
       "        27,  28,  29,  30,  31,  32,  33,  34,  35,  36,  37,  38,  39,\n",
       "        40,  41,  42,  43,  44,  45,  46,  47,  48,  49,  50,  51,  52,\n",
       "        53,  54,  55,  56,  57,  58,  59,  60,  61,  62,  63,  64,  65,\n",
       "        66,  67,  68,  69,  70,  71,  72,  73,  74,  75,  76,  77,  78,\n",
       "        79,  80,  81,  82,  83,  84,  85,  86,  87,  88,  89,  90,  91,\n",
       "        92,  93,  94,  95,  96,  97,  98,  99, 100])"
      ]
     },
     "execution_count": 4,
     "metadata": {},
     "output_type": "execute_result"
    }
   ],
   "source": [
    "np.sort(data01)"
   ]
  },
  {
   "cell_type": "code",
   "execution_count": 5,
   "id": "9144be5b-c942-4383-b47b-ea836de9c7e7",
   "metadata": {},
   "outputs": [
    {
     "data": {
      "text/plain": [
       "array([[100,  99,  98,  97,  96,  95,  94,  93,  92,  91,  90,  89,  88,\n",
       "         87,  86,  85,  84,  83,  82,  81,  80,  79,  78,  77,  76],\n",
       "       [ 75,  74,  73,  72,  71,  70,  69,  68,  67,  66,  65,  64,  63,\n",
       "         62,  61,  60,  59,  58,  57,  56,  55,  54,  53,  52,  51],\n",
       "       [ 50,  49,  48,  47,  46,  45,  44,  43,  42,  41,  40,  39,  38,\n",
       "         37,  36,  35,  34,  33,  32,  31,  30,  29,  28,  27,  26],\n",
       "       [ 25,  24,  23,  22,  21,  20,  19,  18,  17,  16,  15,  14,  13,\n",
       "         12,  11,  10,   9,   8,   7,   6,   5,   4,   3,   2,   1]])"
      ]
     },
     "execution_count": 5,
     "metadata": {},
     "output_type": "execute_result"
    }
   ],
   "source": [
    "data01.reshape(4, 25)"
   ]
  },
  {
   "cell_type": "code",
   "execution_count": 6,
   "id": "658d4667-6a82-4c77-b0ca-7c965d855a15",
   "metadata": {},
   "outputs": [
    {
     "data": {
      "text/plain": [
       "5050"
      ]
     },
     "execution_count": 6,
     "metadata": {},
     "output_type": "execute_result"
    }
   ],
   "source": [
    "data01.sum()"
   ]
  },
  {
   "cell_type": "markdown",
   "id": "c4e03ba8-ff27-4be7-875b-031e4fb05151",
   "metadata": {},
   "source": [
    "## 2. 评估销售信息（0.5分*2=1分）\n",
    "假设有一个销售数据集：[100, 150, 200, 120, 180, 90, 160, 220, 130, 190]，\n",
    "1. 计算销售数量的总和\n",
    "2. 计算销售数量的平均值\n",
    "3. 计算销售数量的标准差"
   ]
  },
  {
   "cell_type": "code",
   "execution_count": null,
   "id": "607f7a56-e550-4204-95d1-4509a5a3abc6",
   "metadata": {},
   "outputs": [],
   "source": []
  },
  {
   "cell_type": "code",
   "execution_count": null,
   "id": "632f9a11-adda-4786-9214-82a72b176d59",
   "metadata": {},
   "outputs": [],
   "source": [
    "import numpy as np\n",
    "\n",
    "# 假设有一个销售数据集\n",
    "sales_data = np.array([100, 150, 200, 120, 180, 90, 160, 220, 130, 190])\n",
    "\n",
    "# 计算销售数量的总和\n",
    "total_sales = np.sum(sales_data)\n",
    "print(\"总销售数量：\", total_sales)\n",
    "\n",
    "# 计算销售数量的平均值\n",
    "average_sales = np.mean(sales_data)\n",
    "print(\"平均销售数量：\", average_sales)\n"
   ]
  },
  {
   "cell_type": "markdown",
   "id": "5506d2ef-ca3c-4517-881e-bee3d7aad278",
   "metadata": {},
   "source": [
    "## 3.最小最大标准化(1分)"
   ]
  },
  {
   "cell_type": "markdown",
   "id": "5422e3a3-25fc-4a15-8671-b4e8caf7f34d",
   "metadata": {},
   "source": [
    "最小最大标准化（Min-Max Normalization）是一种常用的数据标准化方法，用于将数据缩放到指定的范围内。\n",
    "该方法通过对数据进行线性变换，使其值域被缩放到指定的范围内，通常是 [0,1] 或 [-1,1]。\n",
    "\n",
    "该方法的公式如下：\n",
    "\n",
    "$$\n",
    "X_{norm} = (X - X_{min}) / (X_{max} - X_{min})\n",
    "$$\n",
    "\n",
    "通过最小最大标准化，可以使得不同量纲的数据在同一标度下进行比较，且可以使得数据具有可比性。\n",
    "在机器学习、数据挖掘等领域中，常常需要对数据进行标准化，以提高算法的性能和效果。"
   ]
  },
  {
   "cell_type": "markdown",
   "id": "ce6db5b8-65d1-4011-82ce-08713d07072b",
   "metadata": {},
   "source": [
    "应用上述方法，将序列[16, 46, 33, 90, 64, 34, 91, 33, 24, 32, 30, 91, 85, 58, 77, 35,  1,34, 51, 36]进行最小最大标准化操作，放缩到[0,1]。"
   ]
  },
  {
   "cell_type": "markdown",
   "id": "8f8c3a97-cdc7-4082-aba8-b6ef84ef6d14",
   "metadata": {},
   "source": []
  },
  {
   "cell_type": "markdown",
   "id": "2ffd15f8-995b-4a07-b90b-3ae49c98b049",
   "metadata": {},
   "source": [
    "### 答案："
   ]
  },
  {
   "cell_type": "code",
   "execution_count": null,
   "id": "de9a08ff-8ba7-4dd0-aae5-4445a033d6a4",
   "metadata": {},
   "outputs": [],
   "source": [
    "X = np.array([16, 46, 33, 90, 64, 34, 91, 33, 24, 32, 30, 91, 85, 58, 77, 35, 1,34, 51, 36])\n",
    "X_norm = (X-X.min())/(X.max() - X.min())\n",
    "X_norm"
   ]
  },
  {
   "cell_type": "markdown",
   "id": "a0d9dba0-9260-4fb5-8958-8f5afbfdc6e1",
   "metadata": {},
   "source": [
    "## 4. 数据集划分——固定划分（1分）"
   ]
  },
  {
   "cell_type": "markdown",
   "id": "c0eed63c-8a5d-4fe2-9929-483922d3086b",
   "metadata": {},
   "source": [
    "在机器学习中，样本内和样本外是指数据集中的一部分样本，其中来说，样本内是指用于训练模型、调整模型参数、验证模型性能的数据；样本外是指未在训练过程中使用的数据，通常用于测试模型的性能和泛化能力。"
   ]
  },
  {
   "cell_type": "markdown",
   "id": "b290019a-3c73-4511-9d5a-3446d1811bc8",
   "metadata": {},
   "source": [
    "![fix_split](image/fix_split.png)"
   ]
  },
  {
   "cell_type": "markdown",
   "id": "797dbad0-3c7c-41f5-bf42-c2e76e14c66e",
   "metadata": {},
   "source": [
    "一般将80%的原始数据集的子样本集作为样本内(In-sample, IS)，剩余20%作为样本外(Out-of-sample, OOS)。\n",
    "样本总数为500个，一种简单的切割方法是直接指定前400个样本为IS，后面为OOS。"
   ]
  },
  {
   "cell_type": "code",
   "execution_count": 48,
   "id": "23d72328-bfd8-4e8b-b9c4-ab7e8f388d0e",
   "metadata": {},
   "outputs": [],
   "source": [
    "X = np.array([0.36707772, 0.30442107, 0.09602864, 0.72140911, 0.30727176,\n",
    "       0.30332833, 0.82704939, 0.0547752 , 0.91921485, 0.54352647,\n",
    "       0.45263199, 0.1654269 , 0.42571673, 0.38253443, 0.11461271,\n",
    "       0.56558215, 0.78277293, 0.82637154, 0.48652071, 0.49557472])"
   ]
  },
  {
   "cell_type": "markdown",
   "id": "5d14e5ab-0d09-4765-93c6-b2557b5eb268",
   "metadata": {},
   "source": [
    "如果给定一个X序列，那么其样本内和样本外分别是："
   ]
  },
  {
   "cell_type": "code",
   "execution_count": null,
   "id": "b1f32317-f93f-46f4-9c41-6f5df8c033b6",
   "metadata": {},
   "outputs": [],
   "source": [
    "X_IS = \n",
    "X_OOS = "
   ]
  },
  {
   "cell_type": "markdown",
   "id": "bccf0dc2-1f16-45d5-bc0d-b4564f05ce9d",
   "metadata": {},
   "source": [
    "### 答案："
   ]
  },
  {
   "cell_type": "code",
   "execution_count": null,
   "id": "7a182502-964d-42ef-a405-0d238cf75ce1",
   "metadata": {},
   "outputs": [],
   "source": [
    "X_IS = X[:int(len(X)*0.8)]\n",
    "X_OOS = X[int(len(X)*0.8):]"
   ]
  },
  {
   "cell_type": "markdown",
   "id": "54353923-4e37-44f9-9ec7-a931e6210b66",
   "metadata": {},
   "source": [
    "## 5. 数据集划分——简单随机划分（1分）"
   ]
  },
  {
   "cell_type": "markdown",
   "id": "b613f1d4-e1fb-4e53-a275-a1d8c96fe779",
   "metadata": {},
   "source": [
    "简单随机划分（Simple Random Sampling）：将原始数据集随机划分为训练集和测试集两部分，通常将数据集的 70% 到 80% 作为训练集，剩余部分作为测试集。"
   ]
  },
  {
   "cell_type": "markdown",
   "id": "db3a0ee3-84f1-405a-ab11-9c85e30b1e3f",
   "metadata": {},
   "source": [
    "![random_split](image/random_split.png)"
   ]
  },
  {
   "cell_type": "markdown",
   "id": "7ad3a5df-f68d-4cf2-b908-c37cce09f29d",
   "metadata": {},
   "source": [
    "当我们并不了解原始数据集是不是被刻意排列了，最好的办法是使用随机抽样，即随机抽80%为IS，剩余的20%为OOS。"
   ]
  },
  {
   "cell_type": "code",
   "execution_count": null,
   "id": "0ea6e659-88e0-4ad4-a388-072a22279624",
   "metadata": {},
   "outputs": [],
   "source": [
    "X_random_IS = \n",
    "X_random_OOS = "
   ]
  },
  {
   "cell_type": "markdown",
   "id": "910ede56-9759-47d4-aab4-23d71297c2a5",
   "metadata": {},
   "source": [
    "### 答案\n"
   ]
  },
  {
   "cell_type": "code",
   "execution_count": null,
   "id": "9cfac936-3123-4cc8-a21b-fa7204b8f5a9",
   "metadata": {},
   "outputs": [],
   "source": [
    "arr = np.arange(len(X))\n",
    "np.random.shuffle(arr)\n",
    "X_random_IS = X[arr[:int(len(arr)*0.8)]]\n",
    "X_random_OOS = X[arr[int(len(arr)*0.8):]]"
   ]
  }
 ],
 "metadata": {
  "kernelspec": {
   "display_name": "Python 3 (ipykernel)",
   "language": "python",
   "name": "python3"
  },
  "language_info": {
   "codemirror_mode": {
    "name": "ipython",
    "version": 3
   },
   "file_extension": ".py",
   "mimetype": "text/x-python",
   "name": "python",
   "nbconvert_exporter": "python",
   "pygments_lexer": "ipython3",
   "version": "3.9.17"
  },
  "toc-showmarkdowntxt": false
 },
 "nbformat": 4,
 "nbformat_minor": 5
}
