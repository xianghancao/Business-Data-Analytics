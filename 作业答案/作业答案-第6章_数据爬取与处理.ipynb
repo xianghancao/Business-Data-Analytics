{
 "cells": [
  {
   "cell_type": "markdown",
   "id": "c14ca121-9c7f-4ae9-a8b7-ca137111e47b",
   "metadata": {},
   "source": [
    "# 作业"
   ]
  },
  {
   "cell_type": "markdown",
   "id": "56a75684-8900-4cfa-a6b1-5afd738030ac",
   "metadata": {},
   "source": [
    "## 1. 网页爬虫（5分）"
   ]
  },
  {
   "cell_type": "markdown",
   "id": "b90254ab-23f5-472e-90f0-44521d34c71f",
   "metadata": {},
   "source": [
    "使用爬虫软件爬取JD上某个商品的名称、价格、评价数、店铺等信息，样本为1000条，保存为CSV文件格式，然后和本ipynb文件一起上传提交。"
   ]
  },
  {
   "cell_type": "markdown",
   "id": "7d235e42-fe8a-443d-a4d1-38a587d69dbb",
   "metadata": {},
   "source": [
    "## 2.数据预处理（1分+1分+1分+2分=5分，附加题2分）"
   ]
  },
  {
   "cell_type": "markdown",
   "id": "341ca2e3-15a9-4727-9b3e-a1ab0773ab99",
   "metadata": {},
   "source": [
    "对上述爬取的数据进行预处理：\n",
    "1. 检查是否有重复样本(行)，如果有，去重\n",
    "2. 检查是否有缺失值，如果有，填补缺失值\n",
    "3. 检查是否有异常值，如果有，修正异常值或者删除样本（行）\n",
    "4. 对于数据集进行哑变量处理，即根据商品信息，将品牌、类别等信息从商品名称中提取出来，使用0和1表示这些特征。\n",
    "5. 附加题：将采集的评价数从字符串改成数值。"
   ]
  },
  {
   "cell_type": "markdown",
   "id": "bc48bbbe-de1d-468c-96b7-223c0c862a0c",
   "metadata": {},
   "source": [
    "## 答案"
   ]
  },
  {
   "cell_type": "markdown",
   "id": "82409a9a-849b-4ae8-8deb-75607a025661",
   "metadata": {},
   "source": [
    "4. 对于数据集进行哑变量处理，即根据商品信息，将品牌、类别等信息从商品名称中提取出来，使用0和1表示这些特征。"
   ]
  },
  {
   "cell_type": "code",
   "execution_count": 2,
   "id": "0077666a-98f6-45a1-ad46-f77ff1108920",
   "metadata": {},
   "outputs": [
    {
     "data": {
      "text/html": [
       "<div>\n",
       "<style scoped>\n",
       "    .dataframe tbody tr th:only-of-type {\n",
       "        vertical-align: middle;\n",
       "    }\n",
       "\n",
       "    .dataframe tbody tr th {\n",
       "        vertical-align: top;\n",
       "    }\n",
       "\n",
       "    .dataframe thead th {\n",
       "        text-align: right;\n",
       "    }\n",
       "</style>\n",
       "<table border=\"1\" class=\"dataframe\">\n",
       "  <thead>\n",
       "    <tr style=\"text-align: right;\">\n",
       "      <th></th>\n",
       "      <th>价格</th>\n",
       "      <th>商品名称</th>\n",
       "      <th>评价数</th>\n",
       "    </tr>\n",
       "  </thead>\n",
       "  <tbody>\n",
       "    <tr>\n",
       "      <th>0</th>\n",
       "      <td>30.9</td>\n",
       "      <td>德芙Dove丝滑牛奶巧克力分享碗装 252g 代言人同款 休闲零食婚庆糖果礼品（新旧包装随机发放）</td>\n",
       "      <td>5000000</td>\n",
       "    </tr>\n",
       "    <tr>\n",
       "      <th>1</th>\n",
       "      <td>30.9</td>\n",
       "      <td>德芙Dove香浓黑巧克力分享碗装 252g 代言人同款办可可脂公室零食婚庆喜糖(新旧包装随机发放)</td>\n",
       "      <td>5000000</td>\n",
       "    </tr>\n",
       "    <tr>\n",
       "      <th>2</th>\n",
       "      <td>139.9</td>\n",
       "      <td>费列罗(FERRERO)榛果威化糖果巧克力制品 婚庆喜糖零食伴手礼 节日礼物员工福利 48粒...</td>\n",
       "      <td>2000000</td>\n",
       "    </tr>\n",
       "    <tr>\n",
       "      <th>3</th>\n",
       "      <td>399.0</td>\n",
       "      <td>歌帝梵GODIVA比利时进口夹心巧克力金装25枚万圣节礼物送儿童女友女朋友男朋友生日礼物情人...</td>\n",
       "      <td>20000</td>\n",
       "    </tr>\n",
       "    <tr>\n",
       "      <th>4</th>\n",
       "      <td>41.9</td>\n",
       "      <td>德芙 Dove分享碗装66%可可脂醇黑巧克力 252g 代言人同款糖果巧克力 休闲零食婚庆喜糖</td>\n",
       "      <td>5000000</td>\n",
       "    </tr>\n",
       "  </tbody>\n",
       "</table>\n",
       "</div>"
      ],
      "text/plain": [
       "      价格                                               商品名称      评价数\n",
       "0   30.9  德芙Dove丝滑牛奶巧克力分享碗装 252g 代言人同款 休闲零食婚庆糖果礼品（新旧包装随机发放）  5000000\n",
       "1   30.9  德芙Dove香浓黑巧克力分享碗装 252g 代言人同款办可可脂公室零食婚庆喜糖(新旧包装随机发放)  5000000\n",
       "2  139.9  费列罗(FERRERO)榛果威化糖果巧克力制品 婚庆喜糖零食伴手礼 节日礼物员工福利 48粒...  2000000\n",
       "3  399.0  歌帝梵GODIVA比利时进口夹心巧克力金装25枚万圣节礼物送儿童女友女朋友男朋友生日礼物情人...    20000\n",
       "4   41.9    德芙 Dove分享碗装66%可可脂醇黑巧克力 252g 代言人同款糖果巧克力 休闲零食婚庆喜糖  5000000"
      ]
     },
     "execution_count": 2,
     "metadata": {},
     "output_type": "execute_result"
    }
   ],
   "source": [
    "import pandas as pd\n",
    "df = pd.read_csv('datasets/Chocolate.csv')\n",
    "df.head(5)"
   ]
  },
  {
   "cell_type": "code",
   "execution_count": 14,
   "id": "93aafb69-778d-4ceb-90d4-3de7bffcbf66",
   "metadata": {},
   "outputs": [],
   "source": [
    "# 将以下代码封装成函数\n",
    "def func(data, key_word):\n",
    "    result = []\n",
    "    for i in data['商品名称']:\n",
    "        if key_word in i:\n",
    "            result.append(1)\n",
    "        else:\n",
    "            result.append(0)\n",
    "    return result"
   ]
  },
  {
   "cell_type": "code",
   "execution_count": 15,
   "id": "fbec0d23-8ad6-4adb-bfb4-8b221d096885",
   "metadata": {},
   "outputs": [],
   "source": [
    "data = df[['价格', '评价数']]"
   ]
  },
  {
   "cell_type": "code",
   "execution_count": 16,
   "id": "c1e6ae2c-2b78-4718-8ae3-9e4ab140160b",
   "metadata": {},
   "outputs": [],
   "source": [
    "data['德芙'] = func(df, '德芙')\n",
    "data['好时'] = func(df, '好时')\n",
    "data['费列罗'] = func(df, '费列罗')\n",
    "data['Meiji'] = func(df, 'Meiji')\n",
    "data['歌帝梵'] = func(df, '歌帝梵')\n",
    "data['牛奶巧克力'] = func(df, '牛奶巧克力')\n",
    "data['夹心巧克力'] = func(df, '夹心巧克力')\n",
    "data['黑巧克力'] = func(df, '黑巧克力')\n",
    "data['榛果'] = func(df, '榛果')"
   ]
  },
  {
   "cell_type": "code",
   "execution_count": 17,
   "id": "22c347dd-ff77-4fae-9b94-adfeaaf702c5",
   "metadata": {},
   "outputs": [
    {
     "data": {
      "text/html": [
       "<div>\n",
       "<style scoped>\n",
       "    .dataframe tbody tr th:only-of-type {\n",
       "        vertical-align: middle;\n",
       "    }\n",
       "\n",
       "    .dataframe tbody tr th {\n",
       "        vertical-align: top;\n",
       "    }\n",
       "\n",
       "    .dataframe thead th {\n",
       "        text-align: right;\n",
       "    }\n",
       "</style>\n",
       "<table border=\"1\" class=\"dataframe\">\n",
       "  <thead>\n",
       "    <tr style=\"text-align: right;\">\n",
       "      <th></th>\n",
       "      <th>价格</th>\n",
       "      <th>评价数</th>\n",
       "      <th>德芙</th>\n",
       "      <th>好时</th>\n",
       "      <th>费列罗</th>\n",
       "      <th>Meiji</th>\n",
       "      <th>歌帝梵</th>\n",
       "      <th>牛奶巧克力</th>\n",
       "      <th>夹心巧克力</th>\n",
       "      <th>黑巧克力</th>\n",
       "      <th>榛果</th>\n",
       "    </tr>\n",
       "  </thead>\n",
       "  <tbody>\n",
       "    <tr>\n",
       "      <th>0</th>\n",
       "      <td>30.9</td>\n",
       "      <td>5000000</td>\n",
       "      <td>1</td>\n",
       "      <td>0</td>\n",
       "      <td>0</td>\n",
       "      <td>0</td>\n",
       "      <td>0</td>\n",
       "      <td>1</td>\n",
       "      <td>0</td>\n",
       "      <td>0</td>\n",
       "      <td>0</td>\n",
       "    </tr>\n",
       "    <tr>\n",
       "      <th>1</th>\n",
       "      <td>30.9</td>\n",
       "      <td>5000000</td>\n",
       "      <td>1</td>\n",
       "      <td>0</td>\n",
       "      <td>0</td>\n",
       "      <td>0</td>\n",
       "      <td>0</td>\n",
       "      <td>0</td>\n",
       "      <td>0</td>\n",
       "      <td>1</td>\n",
       "      <td>0</td>\n",
       "    </tr>\n",
       "    <tr>\n",
       "      <th>2</th>\n",
       "      <td>139.9</td>\n",
       "      <td>2000000</td>\n",
       "      <td>0</td>\n",
       "      <td>0</td>\n",
       "      <td>1</td>\n",
       "      <td>0</td>\n",
       "      <td>0</td>\n",
       "      <td>0</td>\n",
       "      <td>0</td>\n",
       "      <td>0</td>\n",
       "      <td>1</td>\n",
       "    </tr>\n",
       "    <tr>\n",
       "      <th>3</th>\n",
       "      <td>399.0</td>\n",
       "      <td>20000</td>\n",
       "      <td>0</td>\n",
       "      <td>0</td>\n",
       "      <td>0</td>\n",
       "      <td>0</td>\n",
       "      <td>1</td>\n",
       "      <td>0</td>\n",
       "      <td>1</td>\n",
       "      <td>0</td>\n",
       "      <td>0</td>\n",
       "    </tr>\n",
       "    <tr>\n",
       "      <th>4</th>\n",
       "      <td>41.9</td>\n",
       "      <td>5000000</td>\n",
       "      <td>1</td>\n",
       "      <td>0</td>\n",
       "      <td>0</td>\n",
       "      <td>0</td>\n",
       "      <td>0</td>\n",
       "      <td>0</td>\n",
       "      <td>0</td>\n",
       "      <td>1</td>\n",
       "      <td>0</td>\n",
       "    </tr>\n",
       "  </tbody>\n",
       "</table>\n",
       "</div>"
      ],
      "text/plain": [
       "      价格      评价数  德芙  好时  费列罗  Meiji  歌帝梵  牛奶巧克力  夹心巧克力  黑巧克力  榛果\n",
       "0   30.9  5000000   1   0    0      0    0      1      0     0   0\n",
       "1   30.9  5000000   1   0    0      0    0      0      0     1   0\n",
       "2  139.9  2000000   0   0    1      0    0      0      0     0   1\n",
       "3  399.0    20000   0   0    0      0    1      0      1     0   0\n",
       "4   41.9  5000000   1   0    0      0    0      0      0     1   0"
      ]
     },
     "execution_count": 17,
     "metadata": {},
     "output_type": "execute_result"
    }
   ],
   "source": [
    "data.head(5)"
   ]
  },
  {
   "cell_type": "markdown",
   "id": "842a040f-ff00-4ab1-89c1-c010c2d349ec",
   "metadata": {},
   "source": [
    "5. 附加题：将采集的评价数从字符串改成数值。"
   ]
  },
  {
   "cell_type": "code",
   "execution_count": 5,
   "id": "ef132710-b18c-4cc2-95c5-50336a49cfcb",
   "metadata": {},
   "outputs": [],
   "source": [
    "import numpy as np\n",
    "result = []\n",
    "for i in data3['评价数']:\n",
    "    if type(i)==str:\n",
    "        s = i.split('条评价')[0]\n",
    "        if '万' in s:\n",
    "            s1 = float(s.split('万')[0])*10000\n",
    "            result.append(s1)\n",
    "        elif '+' in s:\n",
    "            s2 = float(s.split('+')[0])\n",
    "            result.append(s2)\n",
    "        elif '+' not in s:\n",
    "            result.append(float(s))\n",
    "        else:\n",
    "            print(i)\n",
    "    else:\n",
    "        result.append(i)"
   ]
  },
  {
   "cell_type": "code",
   "execution_count": null,
   "id": "a7031673-9f11-432c-bf48-af3b856d660e",
   "metadata": {},
   "outputs": [],
   "source": []
  },
  {
   "cell_type": "code",
   "execution_count": null,
   "id": "b2c7193b-11c4-455e-befe-e1c15875788b",
   "metadata": {},
   "outputs": [],
   "source": []
  }
 ],
 "metadata": {
  "kernelspec": {
   "display_name": "Python 3 (ipykernel)",
   "language": "python",
   "name": "python3"
  },
  "language_info": {
   "codemirror_mode": {
    "name": "ipython",
    "version": 3
   },
   "file_extension": ".py",
   "mimetype": "text/x-python",
   "name": "python",
   "nbconvert_exporter": "python",
   "pygments_lexer": "ipython3",
   "version": "3.9.17"
  }
 },
 "nbformat": 4,
 "nbformat_minor": 5
}
