{
 "cells": [
  {
   "cell_type": "markdown",
   "id": "17481881-44be-4c51-9c36-6e6c91c862b4",
   "metadata": {},
   "source": [
    "# 作业: 数据类型和数据结构"
   ]
  },
  {
   "cell_type": "markdown",
   "id": "6e56f2df-fe55-49db-86a0-8986ed7a4a97",
   "metadata": {},
   "source": [
    "## 1. 定义变量（1分）\n",
    "\n",
    "- 给一个变量名为“year”的变量赋值字符串：'2023'\n",
    "- 给一个变量名为“month”的变量赋值字符串：'09'\n",
    "- 定义一个变量表示日期，赋值字符串：'01'\n",
    "- 拼接上述三个字符串，并使用'/'来连接"
   ]
  },
  {
   "cell_type": "markdown",
   "id": "9c9f5319-b1b6-479b-b8b7-b5282fbf5086",
   "metadata": {},
   "source": [
    "### 答案\n",
    "```python\n",
    "year = '2023'\n",
    "month = '09'\n",
    "date = '01'\n",
    "year + '/' + month + '/' + date\n",
    "```"
   ]
  },
  {
   "cell_type": "markdown",
   "id": "d10fc126-bb08-4a24-b69a-c5232873e202",
   "metadata": {},
   "source": [
    "## 2.创建一个列表（1分）\n",
    "\n",
    "- 请创建一个列表变量，名字叫college，包含以下元素：\"外语学院\"，\"国际交流学院\"，\"教育学院\"，\"传媒学院\"\n",
    "- 使用print语句输出上述列表\n",
    "- 使用append语句在该列表后追加一个新的元素：\"商学院\"\n",
    "\n",
    "\n",
    "提示：在调试代码过程中，如果出现语句错误，如“SyntaxError: invalid character in identifier”，讲中文逗号\"，\"改成英文逗号\",\" 。\n",
    "\n",
    "\n"
   ]
  },
  {
   "cell_type": "markdown",
   "id": "47625619-5d29-4d9b-b1a1-783cdeee23f9",
   "metadata": {},
   "source": [
    "### **答案**\n",
    "\n",
    "```python\n",
    "college = [\"外语学院\", \"国际交流学院\", \"教育学院\", \"传媒学院\"]\n",
    "print(college)\n",
    "college.append(\"商学院\")\n",
    "```"
   ]
  },
  {
   "cell_type": "markdown",
   "id": "25ff67f7-ac20-48a3-8cf3-64d847b7fc48",
   "metadata": {},
   "source": [
    "## 3.创建一个字典（1分）\n",
    "\n",
    "- 使用字典创建一个变量，变量名为account_info，包含账户名：\"user_01\"，和密码\"123456\"，然后打印变量。\n",
    "- 给上面这个字典变量，添加一个新的键-值对，键为“user_02”,值为“654321”。\n",
    "\n",
    "\n",
    "\n"
   ]
  },
  {
   "cell_type": "markdown",
   "id": "a43dadca-9fa5-401b-b293-c5d6cb407c00",
   "metadata": {},
   "source": [
    "\n",
    "### **答案**\n",
    "\n",
    "```python\n",
    "account_info = {'user_01', '123456'}\n",
    "print('account_name:', account_info['user_01'])\n",
    "account_info['user_02'] = '654321'\n",
    "print('account_name:', account_info['user_02'])\n",
    "```\n"
   ]
  },
  {
   "cell_type": "markdown",
   "id": "3de8ee29-39e4-4f46-a70c-247b18682ed8",
   "metadata": {},
   "source": [
    "## 4.计算课程总成绩（1分）"
   ]
  },
  {
   "cell_type": "markdown",
   "id": "a3f0f490-dde8-4c47-a8c3-52910ff3088e",
   "metadata": {},
   "source": [
    "\n",
    "\n",
    "相信很多老师在授课的第一节课都会告诉学生，本学期的考核和成绩评定方式，例如：\n",
    "\n",
    "- 课程总成绩=平时成绩（30%）+测试（70%）\n",
    "- 平时成绩=出勤（10%）+课内作业（20%）\n",
    "- 测试=期中实验报告（10%）+ 期末实验报告（60%）\n",
    "- 出勤不满总出勤周的1/3，无法参加期末考试\n",
    "\n",
    "现在学校要求我们编写一个程序，让学生输入他本学期的16周的出勤次数、平时作业成绩、期中测验分数和期末卷面成绩来计算出他的总成绩。请告知一下同学他的分数：\n",
    "\n",
    "```python\n",
    "student_01 = {'name':'zhangxiaoxian', #姓名\n",
    "              'attendance_numbers': 14, #出勤数\n",
    "             'homework_score': 75,  #平时作业分数\n",
    "             'mid_term_exam_score': 80, #期中考试分数\n",
    "             'final_term_score': 85}  #期末考试分数\n",
    "\n",
    "student_02 = {'name':'wangpeng', \n",
    "              'attendance_numbers': 3, \n",
    "             'homework_score': 80,\n",
    "             'mid_term_exam_score': 90,\n",
    "             'final_term_score': 95}\n",
    "\n",
    "student_03 = {'name':'lifeng', \n",
    "              'attendance_numbers': 12, \n",
    "             'homework_score': 60,\n",
    "             'mid_term_exam_score': 70,\n",
    "             'final_term_score': 75}\n",
    "```\n"
   ]
  },
  {
   "cell_type": "markdown",
   "id": "746a99ed-813e-4a01-9983-7985b750186f",
   "metadata": {},
   "source": [
    "\n",
    "### 答案\n",
    "\n",
    "我们定义以下变量：\n",
    "\n",
    "<style>\n",
    "table th:first-of-type {\n",
    "    width: 10%;\n",
    "}\n",
    "table th:nth-of-type(2) {\n",
    "    width: 20%;\n",
    "}\n",
    "</style>\n",
    "\n",
    "| 中文名词     | 英文变量名称        |\n",
    "| ------------ | ------------------- |\n",
    "| 课程总成绩   | total_score         |\n",
    "| 平时成绩     | regular_score       |\n",
    "| 期末成绩     | final_term_score    |\n",
    "| 出勤次数     | attendance_numbers  |\n",
    "| 出勤率       | attendance_rate     |\n",
    "| 平时作业成绩 | homework_score      |\n",
    "| 期中考试成绩 | mid_term_exam_score |\n",
    "\n",
    "接下来，我们分步骤来完成程序，从最核心的步骤开始：\n",
    "\n",
    "第一步 计算出勤率\n",
    "\n",
    "```python\n",
    "student = {'name':'zhangxiaoxian', #姓名\n",
    "              'attendance_numbers': 14, #出勤数\n",
    "             'homework_score': 75,  #平时作业分数\n",
    "             'mid_term_exam_score': 80, #期中考试分数\n",
    "             'final_term_score': 85}  #期末考试分数\n",
    "attendance_rate = student['attendance_numbers']/16\n",
    "```\n",
    "\n",
    "第二步 计算平时成绩\n",
    "\n",
    "```python\n",
    "homework_score = student['homework_score']\n",
    "mid_term_exam_score = student['mid_term_exam_score'] \n",
    "regular_score = attendance_rate * 100 * 0.1 + homework_score * 0.2 \n",
    "```\n",
    "\n",
    "第二步 计算总成绩\n",
    "\n",
    "```python\n",
    "final_term_score = student['final_term_score'] \n",
    "total_score = regular_score * 0.3 + mid_term_exam_score * 0.1 + final_term_score * 0.6\n",
    "```\n",
    "\n",
    "第三步 打印\n",
    "\n",
    "```python\n",
    "print('Hi, your total score is ', total_score)\n",
    "Hi, your total score is  75.9\n",
    "```\n",
    "\n",
    "第四步 判断\n",
    "\n",
    "```python\n",
    "if attendance_rate < 1/3: # 如果出勤率低于1/3, 重修；大于1/3, 打印总成绩\n",
    "    print('Your attendance rate:', attendance_rate, 'which below 1/3,')\n",
    "    print('Your have failed this course, please retake!')\n",
    "else:\n",
    "    print('Hi, your total score is ', total_score)\n",
    "\n",
    "```\n",
    "\n",
    "将之前几步的代码，合并在一起：\n",
    "\n",
    "```python\n",
    "student = {'name':'zhangxiaoxian', #姓名\n",
    "              'attendance_numbers': 14, #出勤数\n",
    "             'homework_score': 75,  #平时作业分数\n",
    "             'mid_term_exam_score': 80, #期中考试分数\n",
    "             'final_term_score': 85}  #期末考试分数\n",
    "attendance_rate = student['attendance_numbers']/16\n",
    "if attendance_rate < 1/3:\n",
    "    print('Your attendance rate:', attendance_rate, 'which below 1/3,')\n",
    "    print('Your have failed this course, please retake!')\n",
    "else:\n",
    "    homework_score = student['homework_score']\n",
    "    mid_term_exam_score = student['mid_term_exam_score'] \n",
    "    regular_score = attendance_rate * 100 * 0.1 + homework_score * 0.2\n",
    "    final_term_score = student['final_term_score']\n",
    "    total_score = regular_score * 0.3 + mid_term_exam_score * 0.1 + final_term_score * 0.6\n",
    "    print('Hi, your total score is ', total_score)\n",
    "```\n",
    "\n",
    "尝试把student换成student_01, student_02, student_03，看看结果是否符合预期。student_02出勤率不够1/3，程序要告诉他重修。\n",
    "\n",
    "\n"
   ]
  },
  {
   "cell_type": "markdown",
   "id": "4b2633f4-d379-40a4-b02e-7225e0ba1900",
   "metadata": {},
   "source": [
    "## 5. 循环打印（1分）\n",
    "\n",
    "请利用循环for语句和print语句，依次对list中的每个名字打印出`Hello, xxx!`：\n",
    "\n",
    "```python\n",
    "L = ['Bart', 'Lisa', 'Adam']\n",
    "```\n",
    "\n",
    "\n",
    "\n"
   ]
  },
  {
   "cell_type": "markdown",
   "id": "323947c2-5d9e-41f5-b497-7f0247dcd080",
   "metadata": {},
   "source": [
    "### 答案："
   ]
  },
  {
   "cell_type": "code",
   "execution_count": 2,
   "id": "38d05c11",
   "metadata": {},
   "outputs": [
    {
     "name": "stdout",
     "output_type": "stream",
     "text": [
      "Hello, Bart!\n",
      "Hello, Lisa!\n",
      "Hello, Adam!\n"
     ]
    }
   ],
   "source": [
    "L = ['Bart', 'Lisa', 'Adam']\n",
    "for i in L:\n",
    "    print('Hello, %s!' %i)"
   ]
  },
  {
   "cell_type": "code",
   "execution_count": 4,
   "id": "d6004005-a5d7-4359-bb91-58dcb29318eb",
   "metadata": {},
   "outputs": [
    {
     "name": "stdout",
     "output_type": "stream",
     "text": [
      "Hello Bart!\n",
      "Hello Lisa!\n",
      "Hello Adam!\n"
     ]
    }
   ],
   "source": [
    "L = ['Bart', 'Lisa', 'Adam']\n",
    "for i in range(len(L)):\n",
    "    print('Hello %s!' %L[i])"
   ]
  },
  {
   "cell_type": "markdown",
   "id": "e77a9bac-8c91-4fab-bef5-9e25ad8a4dd3",
   "metadata": {},
   "source": [
    "## 6.计算平均值（1分）\n",
    "均值是描述性统计方法中最常见的指标，它主要用来计算全体样本或抽样的平均值。\n",
    "\n",
    "$$\n",
    "\\mu = \\frac{x_1+x_2+\\dots+x_n}{n}\n",
    "$$\n",
    "\n",
    "试用列表list和循环for语句计算数列 [1, 2, 3, 4, 5]的平均值。"
   ]
  },
  {
   "cell_type": "markdown",
   "id": "21cb6514-024f-4866-81d1-f665be2d39c0",
   "metadata": {},
   "source": [
    "### 答案："
   ]
  },
  {
   "cell_type": "code",
   "execution_count": 5,
   "id": "b6c2b7a1-b746-48e2-aa64-75f8a89963cd",
   "metadata": {},
   "outputs": [
    {
     "name": "stdout",
     "output_type": "stream",
     "text": [
      "Average value of [1, 2, 3, 4, 5] is: 3.00\n"
     ]
    }
   ],
   "source": [
    "x = [1,2,3,4,5]\n",
    "s = 0\n",
    "for i in x:\n",
    "    s = s + i\n",
    "avg = s/len(x)\n",
    "print(\"Average value of %s is: %.2f\" %(x, avg))"
   ]
  },
  {
   "cell_type": "markdown",
   "id": "1912d959-b4e8-455f-85c3-dc997b26e710",
   "metadata": {},
   "source": [
    "## 7.计算方差（1分）\n",
    "\n",
    "参照上述平均值的计算方法，进一步计算数列[1, 2, 3, 4, 5]的方差。\n",
    "方差公式为：\n",
    "\n",
    "$$\n",
    "\\sigma^2 = \\frac{(x_1-\\mu)^2+(x_2-\\mu)^2+\\dots+(x_3-\\mu)^2}{n}\n",
    "$$\n",
    "提示：使用列表list和循环for语句，也可使用函数def语句"
   ]
  },
  {
   "cell_type": "markdown",
   "id": "f896b2d4-6131-46a5-b87d-e7f4eee5ba4b",
   "metadata": {},
   "source": [
    "### 答案："
   ]
  },
  {
   "cell_type": "code",
   "execution_count": 6,
   "id": "6698fac8-7252-4ef4-b009-5907f03c5850",
   "metadata": {},
   "outputs": [
    {
     "data": {
      "text/plain": [
       "2.0"
      ]
     },
     "execution_count": 6,
     "metadata": {},
     "output_type": "execute_result"
    }
   ],
   "source": [
    "def mean(x):\n",
    "    \"\"\"\n",
    "    本函数计算给定列表x的平均值\n",
    "    \"\"\"\n",
    "    s = 0\n",
    "    for i in x:\n",
    "        s = s + i\n",
    "    mu = s/len(x)\n",
    "    return mu\n",
    "\n",
    "def variance(x):\n",
    "    \"\"\"\n",
    "    本函数计算给定列表x的方差\n",
    "    \"\"\"\n",
    "    mu = mean(x)\n",
    "    s = 0\n",
    "    for i in x:\n",
    "        s = s + (i - mu)**2\n",
    "    var = s/len(x)\n",
    "    return var\n",
    "\n",
    "x = [1,2,3,4,5]\n",
    "variance(x)"
   ]
  },
  {
   "cell_type": "markdown",
   "id": "39eb86a4-617e-4de8-b9fb-001e302411fd",
   "metadata": {},
   "source": [
    "## 8.计算最大值（1分）\n",
    "试用循环for语句和判断if语句计算数列 [1, 5, 3, 4, 2]中的最大值。"
   ]
  },
  {
   "cell_type": "markdown",
   "id": "83975d5a-f0d9-463a-9a76-4bbfa406bf04",
   "metadata": {},
   "source": [
    "### 答案："
   ]
  },
  {
   "cell_type": "code",
   "execution_count": 7,
   "id": "ad64d056-4afc-4c2d-a0d2-5bb5a000f8b7",
   "metadata": {},
   "outputs": [
    {
     "data": {
      "text/plain": [
       "5"
      ]
     },
     "execution_count": 7,
     "metadata": {},
     "output_type": "execute_result"
    }
   ],
   "source": [
    "l=[1, 5, 3, 4, 2]\n",
    "max_num = 0                \n",
    "for i in l:                \n",
    "    if i > max_num:        \n",
    "        max_num = i        \n",
    "max_num  "
   ]
  },
  {
   "cell_type": "markdown",
   "id": "352e903d-f630-490b-826c-dd7a8e6d2ba5",
   "metadata": {},
   "source": [
    "## 9.设计一个计算均方误差的函数（1分）\n",
    "在回归分析中，均方误差（MSE）是一个常用的指标。\n",
    "\n",
    "它计算的是**预测数据**和**原始数据**对应点误差的平方和的均值，它主要用来评估模型的预测能力。\n",
    "\n",
    "$$\n",
    "MSE = \\frac{1}{n}\\sum^n_{i=1}(\\hat{y}_i-y_i)^2\n",
    "$$\n",
    "\n",
    "这里$\\hat{y}_i$是指模型预测的数据序列，$y_i$是指原始数据序列, $\\sum$是累加符号。\n",
    "\n",
    "设计一个函数名为mse，输入参数为original_y和predicted_y，返回值为计算的结果。\n",
    "\n",
    "请问，当original_y=[10.1, 9.8, 10.5, 10.0, 10.3], predicted_y=[10, 10, 10, 10, 10]时，MSE的值是多少？\n",
    "\n",
    "提示：使用for循环语句、def语句和return语句来设计函数，传入变量可以是列表，然后调用函数"
   ]
  },
  {
   "cell_type": "markdown",
   "id": "2d0f5269-4730-4fdf-a33c-11413711a48e",
   "metadata": {},
   "source": [
    "### 答案："
   ]
  },
  {
   "cell_type": "code",
   "execution_count": 1,
   "id": "2c480bbc-05cf-4780-8d49-18cef70a96b7",
   "metadata": {},
   "outputs": [
    {
     "data": {
      "text/plain": [
       "0.07800000000000001"
      ]
     },
     "execution_count": 1,
     "metadata": {},
     "output_type": "execute_result"
    }
   ],
   "source": [
    "def mse(original_y, predicted_y):\n",
    "    \"\"\"\n",
    "    计算均方误差（MSE）的函数\n",
    "    original_y: 指原始数据序列\n",
    "    predicted_y: 模型预测的数据序列\n",
    "    函数返回MSE的结算结果\n",
    "    \"\"\"\n",
    "    s = 0\n",
    "    for i in range(len(original_y)):\n",
    "        s = s + (predicted_y[i] - original_y[i])**2   \n",
    "    return s/len(original_y)\n",
    "\n",
    "original_y = [10.1,9.8,10.5,10.0,10.3]\n",
    "predicted_y = [10,10,10,10,10]\n",
    "mse(original_y, predicted_y)"
   ]
  },
  {
   "cell_type": "markdown",
   "id": "b575ba91-c35c-4d71-8b54-aac1ae41f3ef",
   "metadata": {},
   "source": [
    "## 10.设计一个返回逆序列表的函数（1分）\n",
    "\n",
    "请设计一个函数，函数名字为reverse，它的输入变量为一个列表，返回这个列表的逆序，例如\n",
    "\n",
    "```python\n",
    ">>> l = [1, 2, 3, 4, 5]\n",
    ">>> reverse(l)\n",
    "[5, 4, 3, 2, 1]\n",
    "```\n"
   ]
  },
  {
   "cell_type": "markdown",
   "id": "dd4938ba-9d85-4211-8941-57f83c0ae0ac",
   "metadata": {},
   "source": [
    "### 答案:\n"
   ]
  },
  {
   "cell_type": "code",
   "execution_count": null,
   "id": "a7c1b408-4fe3-43b9-8721-1ab75411f482",
   "metadata": {},
   "outputs": [],
   "source": [
    "def reverse(l):\n",
    "    result = []\n",
    "    for i in l:\n",
    "        result.insert(0, i)\n",
    "    return result"
   ]
  },
  {
   "cell_type": "markdown",
   "id": "f6abd8a5-adcb-404b-96dc-e701c48528b8",
   "metadata": {},
   "source": [
    "## 加分题：整数编码（1分）\n",
    "在数据挖掘模型中，数据集的属性如果是字符型，需要将其变换为数字，最常用的方法叫<u>整数编码</u>。\n",
    "\n",
    "它有两个步骤：\n",
    "1. 建立一个字符串和整数一一对应的字典。\n",
    "2. 使用循环，遍历所有字符串，将字符串替换为整数。\n",
    "\n",
    "\n",
    "现有有一个西瓜数据集，请按照下面规则对其进行整数编码。\n",
    "```python\n",
    "属性：\n",
    "色泽 1-3代表 浅白 青绿 乌黑 \n",
    "根蒂 1-3代表 稍蜷 蜷缩 硬挺\n",
    "敲声 1-3代表 清脆 浊响 沉闷 \n",
    "纹理 1-3代表 清晰 稍糊 模糊\n",
    "脐部 1-3代表 平坦 稍凹 凹陷 \n",
    "触感 1-2代表 硬滑 软粘\n",
    "标签：\n",
    "好瓜 1代表 是 0 代表 不是\n",
    "```\n"
   ]
  },
  {
   "cell_type": "markdown",
   "id": "144772f0-ba9b-4812-b7da-24f8bd5ae140",
   "metadata": {},
   "source": [
    "任务1："
   ]
  },
  {
   "cell_type": "markdown",
   "id": "c4ba963b-3311-49e4-b131-c9cfc9357860",
   "metadata": {},
   "source": [
    "w = ['青绿', '蜷缩', '浊响', '清晰', '凹陷', '硬滑', '0.697', '0.460', '是']  \n",
    "列表各元素所对应的属性为'色泽', '根蒂', '敲声', '纹理', '脐部', '触感', '密度', '含糖率', '好瓜'\n",
    "1. 建立各个属性的字符为键，整数为值的字典\n",
    "2. 将这个列表的各个元素从字符串转换成数值：[2, 2, 2, 1, 3, 1, 0.697, 0.460, 1]"
   ]
  },
  {
   "cell_type": "markdown",
   "id": "f5f4240f-2a5a-43de-bbce-f2d29c0a9649",
   "metadata": {},
   "source": [
    "任务2："
   ]
  },
  {
   "cell_type": "markdown",
   "id": "d934de4b-0d59-461b-bebf-8c97b404cd0f",
   "metadata": {},
   "source": [
    "如下是一个嵌套的列表，嵌套的第一个列表为属性和标签，每一个列表的第一个元素为序号。  \n",
    "请只转换需要转换的字符串为数值，其他不变。"
   ]
  },
  {
   "cell_type": "code",
   "execution_count": null,
   "id": "584d856b-0d3e-46db-9fc2-1bef353a31dd",
   "metadata": {},
   "outputs": [],
   "source": [
    "w02 = [['编号', '色泽', '根蒂', '敲声', '纹理', '脐部', '触感', '密度', '含糖率', '好瓜'],\n",
    "        ['1', '青绿', '蜷缩', '浊响', '清晰', '凹陷', '硬滑', '0.697', '0.460', '是'],\n",
    "        ['2', '乌黑', '蜷缩', '沉闷', '清晰', '凹陷', '硬滑', '0.774', '0.376', '是'],\n",
    "        ['3', '乌黑', '蜷缩', '浊响', '清晰', '凹陷', '硬滑', '0.634', '0.264', '是'],\n",
    "        ['4', '青绿', '蜷缩', '沉闷', '清晰', '凹陷', '硬滑', '0.608', '0.318', '是'],\n",
    "        ['5', '浅白', '蜷缩', '浊响', '清晰', '凹陷', '硬滑', '0.556', '0.215', '是'],\n",
    "        ['6', '青绿', '稍蜷', '浊响', '清晰', '稍凹', '软粘', '0.403', '0.237', '是'],\n",
    "        ['7', '乌黑', '稍蜷', '浊响', '稍糊', '稍凹', '软粘', '0.481', '0.149', '是'],\n",
    "        ['8', '乌黑', '稍蜷', '浊响', '清晰', '稍凹', '硬滑', '0.437', '0.211', '是'],\n",
    "        ['9', '乌黑', '稍蜷', '沉闷', '稍糊', '稍凹', '硬滑', '0.666', '0.091', '否'],\n",
    "        ['10', '青绿', '硬挺', '清脆', '清晰', '平坦', '软粘', '0.243', '0.267', '否'],\n",
    "        ['11', '浅白', '硬挺', '清脆', '模糊', '平坦', '硬滑', '0.245', '0.057', '否'],\n",
    "        ['12', '浅白', '蜷缩', '浊响', '模糊', '平坦', '软粘', '0.343', '0.099', '否'],\n",
    "        ['13', '青绿', '稍蜷', '浊响', '稍糊', '凹陷', '硬滑', '0.639', '0.161', '否'],\n",
    "        ['14', '浅白', '稍蜷', '沉闷', '稍糊', '凹陷', '硬滑', '0.657', '0.198', '否'],\n",
    "        ['15', '乌黑', '稍蜷', '浊响', '清晰', '稍凹', '软粘', '0.360', '0.370', '否'],\n",
    "        ['16', '浅白', '蜷缩', '浊响', '模糊', '平坦', '硬滑', '0.593', '0.042', '否'],\n",
    "        ['17', '青绿', '蜷缩', '沉闷', '稍糊', '稍凹', '硬滑', '0.719', '0.103', '否']]\n",
    "\n"
   ]
  },
  {
   "cell_type": "markdown",
   "id": "6c53bcb0-156a-4bc4-a881-b100daf881c0",
   "metadata": {},
   "source": [
    "**任务1:**"
   ]
  },
  {
   "cell_type": "code",
   "execution_count": 10,
   "id": "2feff952-f12a-47b3-b4fd-a3e508527e2e",
   "metadata": {},
   "outputs": [
    {
     "data": {
      "text/plain": [
       "[2, 2, 2, 1, 3, 1, 0.697, 0.46, 1]"
      ]
     },
     "execution_count": 10,
     "metadata": {},
     "output_type": "execute_result"
    }
   ],
   "source": [
    "attr_dict = {'青绿': 2, '浅白': 1, '乌黑': 3,\n",
    "             '稍蜷': 1, '蜷缩': 2, '硬挺': 3,\n",
    "             '清脆': 1, '浊响': 2,'沉闷': 3,\n",
    "             '清晰': 1, '稍糊': 2, '模糊': 3,\n",
    "             '平坦': 1, '稍凹': 2, '凹陷': 3,\n",
    "             '硬滑': 1, '软粘': 2,\n",
    "             '是':1,'否':0}\n",
    "\n",
    "w = ['青绿', '蜷缩', '浊响', '清晰', '凹陷', '硬滑',\n",
    "     '0.697', '0.460', '是']\n",
    "\n",
    "for i in range(len(w)):\n",
    "    if w[i] in attr_dict:\n",
    "        w[i] = attr_dict[w[i]]\n",
    "    else:\n",
    "        w[i] = float(w[i])\n",
    "w"
   ]
  },
  {
   "cell_type": "markdown",
   "id": "71082b87-e433-47a5-9408-fab42da1acee",
   "metadata": {},
   "source": [
    "**任务2:**"
   ]
  },
  {
   "cell_type": "code",
   "execution_count": 11,
   "id": "2e098be4-a3af-4446-a209-f8db1494e26b",
   "metadata": {},
   "outputs": [
    {
     "data": {
      "text/plain": [
       "[['编号', '色泽', '根蒂', '敲声', '纹理', '脐部', '触感', '密度', '含糖率', '好瓜'],\n",
       " ['1', 2, 2, 2, 1, 3, 1, 0.697, 0.46, 1],\n",
       " ['2', 3, 2, 3, 1, 3, 1, 0.774, 0.376, 1],\n",
       " ['3', 3, 2, 2, 1, 3, 1, 0.634, 0.264, 1],\n",
       " ['4', 2, 2, 3, 1, 3, 1, 0.608, 0.318, 1],\n",
       " ['5', 1, 2, 2, 1, 3, 1, 0.556, 0.215, 1],\n",
       " ['6', 2, 1, 2, 1, 2, 2, 0.403, 0.237, 1],\n",
       " ['7', 3, 1, 2, 2, 2, 2, 0.481, 0.149, 1],\n",
       " ['8', 3, 1, 2, 1, 2, 1, 0.437, 0.211, 1],\n",
       " ['9', 3, 1, 3, 2, 2, 1, 0.666, 0.091, 0],\n",
       " ['10', 2, 3, 1, 1, 1, 2, 0.243, 0.267, 0],\n",
       " ['11', 1, 3, 1, 3, 1, 1, 0.245, 0.057, 0],\n",
       " ['12', 1, 2, 2, 3, 1, 2, 0.343, 0.099, 0],\n",
       " ['13', 2, 1, 2, 2, 3, 1, 0.639, 0.161, 0],\n",
       " ['14', 1, 1, 3, 2, 3, 1, 0.657, 0.198, 0],\n",
       " ['15', 3, 1, 2, 1, 2, 2, 0.36, 0.37, 0],\n",
       " ['16', 1, 2, 2, 3, 1, 1, 0.593, 0.042, 0],\n",
       " ['17', 2, 2, 3, 2, 2, 1, 0.719, 0.103, 0]]"
      ]
     },
     "execution_count": 11,
     "metadata": {},
     "output_type": "execute_result"
    }
   ],
   "source": [
    "w02 = [['编号', '色泽', '根蒂', '敲声', '纹理', '脐部', '触感', '密度', '含糖率', '好瓜'],\n",
    "        ['1', '青绿', '蜷缩', '浊响', '清晰', '凹陷', '硬滑', '0.697', '0.460', '是'],\n",
    "        ['2', '乌黑', '蜷缩', '沉闷', '清晰', '凹陷', '硬滑', '0.774', '0.376', '是'],\n",
    "        ['3', '乌黑', '蜷缩', '浊响', '清晰', '凹陷', '硬滑', '0.634', '0.264', '是'],\n",
    "        ['4', '青绿', '蜷缩', '沉闷', '清晰', '凹陷', '硬滑', '0.608', '0.318', '是'],\n",
    "        ['5', '浅白', '蜷缩', '浊响', '清晰', '凹陷', '硬滑', '0.556', '0.215', '是'],\n",
    "        ['6', '青绿', '稍蜷', '浊响', '清晰', '稍凹', '软粘', '0.403', '0.237', '是'],\n",
    "        ['7', '乌黑', '稍蜷', '浊响', '稍糊', '稍凹', '软粘', '0.481', '0.149', '是'],\n",
    "        ['8', '乌黑', '稍蜷', '浊响', '清晰', '稍凹', '硬滑', '0.437', '0.211', '是'],\n",
    "        ['9', '乌黑', '稍蜷', '沉闷', '稍糊', '稍凹', '硬滑', '0.666', '0.091', '否'],\n",
    "        ['10', '青绿', '硬挺', '清脆', '清晰', '平坦', '软粘', '0.243', '0.267', '否'],\n",
    "        ['11', '浅白', '硬挺', '清脆', '模糊', '平坦', '硬滑', '0.245', '0.057', '否'],\n",
    "        ['12', '浅白', '蜷缩', '浊响', '模糊', '平坦', '软粘', '0.343', '0.099', '否'],\n",
    "        ['13', '青绿', '稍蜷', '浊响', '稍糊', '凹陷', '硬滑', '0.639', '0.161', '否'],\n",
    "        ['14', '浅白', '稍蜷', '沉闷', '稍糊', '凹陷', '硬滑', '0.657', '0.198', '否'],\n",
    "        ['15', '乌黑', '稍蜷', '浊响', '清晰', '稍凹', '软粘', '0.360', '0.370', '否'],\n",
    "        ['16', '浅白', '蜷缩', '浊响', '模糊', '平坦', '硬滑', '0.593', '0.042', '否'],\n",
    "        ['17', '青绿', '蜷缩', '沉闷', '稍糊', '稍凹', '硬滑', '0.719', '0.103', '否']]\n",
    "\n",
    "attr_dict = {'青绿': 2, '浅白': 1, '乌黑': 3,\n",
    "             '稍蜷': 1, '蜷缩': 2, '硬挺': 3,\n",
    "             '清脆': 1, '浊响': 2,'沉闷': 3,\n",
    "             '清晰': 1, '稍糊': 2, '模糊': 3,\n",
    "             '平坦': 1, '稍凹': 2, '凹陷': 3,\n",
    "             '硬滑': 1, '软粘': 2,\n",
    "             '是':1,'否':0}\n",
    "\n",
    "\n",
    "for i in range(1, len(w02)):\n",
    "    for j in range(1, len(w02[i])):\n",
    "        if w02[i][j] in attr_dict:\n",
    "            w02[i][j] = attr_dict[w02[i][j]]\n",
    "        else:\n",
    "            w02[i][j] = float(w02[i][j])\n",
    "w02"
   ]
  },
  {
   "cell_type": "code",
   "execution_count": null,
   "id": "d971b127-89f0-4967-91a2-59ee1372cc5a",
   "metadata": {},
   "outputs": [],
   "source": []
  }
 ],
 "metadata": {
  "kernelspec": {
   "display_name": "Python 3 (ipykernel)",
   "language": "python",
   "name": "python3"
  },
  "language_info": {
   "codemirror_mode": {
    "name": "ipython",
    "version": 3
   },
   "file_extension": ".py",
   "mimetype": "text/x-python",
   "name": "python",
   "nbconvert_exporter": "python",
   "pygments_lexer": "ipython3",
   "version": "3.9.17"
  },
  "widgets": {
   "application/vnd.jupyter.widget-state+json": {
    "state": {},
    "version_major": 2,
    "version_minor": 0
   }
  }
 },
 "nbformat": 4,
 "nbformat_minor": 5
}
