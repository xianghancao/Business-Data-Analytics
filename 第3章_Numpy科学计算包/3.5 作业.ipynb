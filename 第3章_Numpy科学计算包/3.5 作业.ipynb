{
 "cells": [
  {
   "cell_type": "markdown",
   "id": "ecad4d66-0932-41d0-bf73-060a3b06898c",
   "metadata": {},
   "source": [
    "# 作业-Numpy"
   ]
  },
  {
   "cell_type": "markdown",
   "id": "fdd4e4f5-74a5-4c52-a193-9315f61d1166",
   "metadata": {},
   "source": [
    "运用Numpy1维、2维数组相关的创建、切片、运算等方法解决以下问题："
   ]
  },
  {
   "cell_type": "markdown",
   "id": "80d8b6ec-39e4-427e-9e7b-fee097ce1b50",
   "metadata": {},
   "source": [
    "## 1. 一维数组（0.5分\\*4 = 2分）\n",
    "- 创建一个1维数组，命名为data01，包含100，99，...，1，间隔为1\n",
    "- 对其进行从小到大排序\n",
    "- 将数组data01变形成4行25列的2维数组\n",
    "- 计算总和"
   ]
  },
  {
   "cell_type": "code",
   "execution_count": null,
   "id": "b24a3a8d-4b1a-4f10-9377-2f4e0e6c3e46",
   "metadata": {},
   "outputs": [],
   "source": []
  },
  {
   "cell_type": "markdown",
   "id": "142d177f-a1dd-4a41-91f6-493173cd2afe",
   "metadata": {},
   "source": [
    "## 2.二维数组（0.5分\\*6=3分）\n",
    "- 创建一个大小为3行4列的2维随机数组，数组中的元素维随机数，命名为data02\n",
    "- 选取数组data02后3列，也就是第2列到第4列元素\n",
    "- 求数组data02的元素中的最大值、最小值和总和。\n",
    "- 求数组data02的元素中的每一列求最大值、最小值和总和。\n",
    "- 将data02变形成1维数组。\n",
    "- 将data02变成4行3列的2维数组\n",
    "\n"
   ]
  },
  {
   "cell_type": "code",
   "execution_count": null,
   "id": "e939a1ab-47de-4353-aa73-d7f989909959",
   "metadata": {},
   "outputs": [],
   "source": []
  },
  {
   "cell_type": "markdown",
   "id": "5506d2ef-ca3c-4517-881e-bee3d7aad278",
   "metadata": {},
   "source": [
    "## 3.最小最大标准化(1分)"
   ]
  },
  {
   "cell_type": "markdown",
   "id": "5422e3a3-25fc-4a15-8671-b4e8caf7f34d",
   "metadata": {},
   "source": [
    "最小最大标准化（Min-Max Normalization）是一种常用的数据标准化方法，用于将数据缩放到指定的范围内。\n",
    "该方法通过对数据进行线性变换，使其值域被缩放到指定的范围内，通常是 [0,1] 或 [-1,1]。\n",
    "\n",
    "该方法的公式如下：\n",
    "\n",
    "$$\n",
    "X_{norm} = (X - X_{min}) / (X_{max} - X_{min})\n",
    "$$\n",
    "\n",
    "通过最小最大标准化，可以使得不同量纲的数据在同一标度下进行比较，且可以使得数据具有可比性。\n",
    "在机器学习、数据挖掘等领域中，常常需要对数据进行标准化，以提高算法的性能和效果。"
   ]
  },
  {
   "cell_type": "markdown",
   "id": "ee73d959-cf7c-453d-916b-357d913ac7c3",
   "metadata": {},
   "source": [
    "应用上述方法，将序列[16, 46, 33, 90, 64, 34, 91, 33, 24, 32, 30, 91, 85, 58, 77, 35,  1,34, 51, 36]进行最小最大标准化操作，放缩到[0,1]。"
   ]
  },
  {
   "cell_type": "code",
   "execution_count": null,
   "id": "de9a08ff-8ba7-4dd0-aae5-4445a033d6a4",
   "metadata": {},
   "outputs": [],
   "source": []
  },
  {
   "cell_type": "markdown",
   "id": "a0d9dba0-9260-4fb5-8958-8f5afbfdc6e1",
   "metadata": {},
   "source": [
    "## 4. 数据集划分（2分\\*2=4分）"
   ]
  },
  {
   "cell_type": "markdown",
   "id": "c0eed63c-8a5d-4fe2-9929-483922d3086b",
   "metadata": {},
   "source": [
    "在机器学习中，样本内和样本外是指数据集中的一部分样本，其中来说，样本内是指用于训练模型、调整模型参数、验证模型性能的数据；样本外是指未在训练过程中使用的数据，通常用于测试模型的性能和泛化能力。"
   ]
  },
  {
   "cell_type": "markdown",
   "id": "b290019a-3c73-4511-9d5a-3446d1811bc8",
   "metadata": {},
   "source": [
    "![fix_split](image/fix_split.png)"
   ]
  },
  {
   "cell_type": "markdown",
   "id": "797dbad0-3c7c-41f5-bf42-c2e76e14c66e",
   "metadata": {},
   "source": [
    "一般将80%的原始数据集的子样本集作为样本内(In-sample, IS)，剩余20%作为样本外(Out-of-sample, OOS)。\n",
    "样本总数为500个，一种简单的切割方法是直接指定前400个样本为IS，后面为OOS。"
   ]
  },
  {
   "cell_type": "code",
   "execution_count": 48,
   "id": "23d72328-bfd8-4e8b-b9c4-ab7e8f388d0e",
   "metadata": {},
   "outputs": [],
   "source": [
    "X = np.array([0.36707772, 0.30442107, 0.09602864, 0.72140911, 0.30727176,\n",
    "       0.30332833, 0.82704939, 0.0547752 , 0.91921485, 0.54352647,\n",
    "       0.45263199, 0.1654269 , 0.42571673, 0.38253443, 0.11461271,\n",
    "       0.56558215, 0.78277293, 0.82637154, 0.48652071, 0.49557472])"
   ]
  },
  {
   "cell_type": "markdown",
   "id": "5d14e5ab-0d09-4765-93c6-b2557b5eb268",
   "metadata": {},
   "source": [
    "如果给定一个X序列，那么其样本内和样本外分别是："
   ]
  },
  {
   "cell_type": "code",
   "execution_count": null,
   "id": "7a182502-964d-42ef-a405-0d238cf75ce1",
   "metadata": {},
   "outputs": [],
   "source": [
    "X_IS = \n",
    "X_OOS ="
   ]
  },
  {
   "cell_type": "markdown",
   "id": "b613f1d4-e1fb-4e53-a275-a1d8c96fe779",
   "metadata": {},
   "source": [
    "简单随机划分（Simple Random Sampling）：将原始数据集随机划分为训练集和测试集两部分，通常将数据集的 70% 到 80% 作为训练集，剩余部分作为测试集。"
   ]
  },
  {
   "cell_type": "markdown",
   "id": "db3a0ee3-84f1-405a-ab11-9c85e30b1e3f",
   "metadata": {},
   "source": [
    "![random_split](image/random_split.png)"
   ]
  },
  {
   "cell_type": "markdown",
   "id": "7ad3a5df-f68d-4cf2-b908-c37cce09f29d",
   "metadata": {},
   "source": [
    "当我们并不了解原始数据集是不是被刻意排列了，最好的办法是使用随机抽样，即随机抽80%为IS，剩余的20%为OOS。"
   ]
  },
  {
   "cell_type": "code",
   "execution_count": null,
   "id": "0ea6e659-88e0-4ad4-a388-072a22279624",
   "metadata": {},
   "outputs": [],
   "source": [
    "X_random_IS = \n",
    "X_random_OOS = "
   ]
  }
 ],
 "metadata": {
  "kernelspec": {
   "display_name": "Python 3 (ipykernel)",
   "language": "python",
   "name": "python3"
  },
  "language_info": {
   "codemirror_mode": {
    "name": "ipython",
    "version": 3
   },
   "file_extension": ".py",
   "mimetype": "text/x-python",
   "name": "python",
   "nbconvert_exporter": "python",
   "pygments_lexer": "ipython3",
   "version": "3.9.13"
  },
  "toc-showmarkdowntxt": false
 },
 "nbformat": 4,
 "nbformat_minor": 5
}
