{
 "cells": [
  {
   "cell_type": "markdown",
   "id": "93844a59-5569-4fa5-89b3-ef7498a3926d",
   "metadata": {},
   "source": [
    "# 5.7 饼图"
   ]
  },
  {
   "cell_type": "markdown",
   "id": "8f18e648-77dc-4dc9-82e4-f5eae656e883",
   "metadata": {},
   "source": [
    "饼图（Pie Graph）用于表示不同类别的占比情况，通过弧度大小来对比各种类别。饼图通过将一个圆饼按照类别的占比划分成多个区块，整个圆饼代表数据的总量，每个区块（圆弧）表示该分类占总体的比例大小。饼图可以比较清楚地反映出部分与部分、部分与整体之间的比例关系，易于每个类别相对于总数的大小。但因为对于面积大小的不敏感，某些情况下效果不是很好。\n",
    "pyplot模块中使用pie函数绘制饼图，其使用语法如下。\n"
   ]
  },
  {
   "cell_type": "markdown",
   "id": "45a536bd-d879-4641-bf72-2ee4d4997898",
   "metadata": {},
   "source": [
    "```python\n",
    "matplotlib.pyplot.pie(x, explode=None, labels=None, colors=None,\n",
    "                      autopct=None, pctdistance=0.6, shadow=False,\n",
    "                      labeldistance=1.1, startangle=None, radius=None,\n",
    "                      counterclock=True, wedgeprops=None, textprops=None,\n",
    "                      center=(0, 0), frame=False, hold=None, data=None)\n",
    "```"
   ]
  },
  {
   "cell_type": "markdown",
   "id": "ad02d67d-92f9-46a3-ae8d-5fe11128c84c",
   "metadata": {},
   "source": [
    "pie函数常用参数及其说明如下表所示。\n",
    "\n",
    "|参数名称\t|说明|\n",
    "|---|---|\n",
    "|x\t|接收array。表示用于绘制饼图的数据。无默认值|\n",
    "|explode\t|接收array。表示指定项离饼图圆心为n个半径。默认为None|\n",
    "|labels\t|接收array。指定每一项的名称。默认为None|\n",
    "|color\t|接收特定str或者包含颜色字符串的array。表示饼图颜色。默认为None|\n",
    "|autopct\t|接收特定str。指定数值的显示方式。默认为None|\n",
    "|pctdistance\t|接收float。指定每一项的比例和距离饼图圆心n个半径。默认为0.6|\n",
    "|labeldistance\t|接收float。指定每一项的名称和距离饼图圆心n个半径。默认为1.1|\n",
    "|radius\t|接收float。表示饼图的半径。默认为1|"
   ]
  },
  {
   "cell_type": "code",
   "execution_count": null,
   "id": "35668e1b-6107-44d6-9703-7291fdcff149",
   "metadata": {},
   "outputs": [],
   "source": []
  }
 ],
 "metadata": {
  "kernelspec": {
   "display_name": "Python 3 (ipykernel)",
   "language": "python",
   "name": "python3"
  },
  "language_info": {
   "codemirror_mode": {
    "name": "ipython",
    "version": 3
   },
   "file_extension": ".py",
   "mimetype": "text/x-python",
   "name": "python",
   "nbconvert_exporter": "python",
   "pygments_lexer": "ipython3",
   "version": "3.9.13"
  },
  "widgets": {
   "application/vnd.jupyter.widget-state+json": {
    "state": {},
    "version_major": 2,
    "version_minor": 0
   }
  }
 },
 "nbformat": 4,
 "nbformat_minor": 5
}
