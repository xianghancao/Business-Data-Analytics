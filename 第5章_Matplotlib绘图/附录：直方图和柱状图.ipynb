{
 "cells": [
  {
   "cell_type": "markdown",
   "id": "97f0a85a-f34d-43ac-ae38-e64816c72f87",
   "metadata": {},
   "source": [
    "# 5.5 直方图与柱状图\n",
    "## 直方图"
   ]
  },
  {
   "cell_type": "markdown",
   "id": "d35783a7-d880-4a0e-acdd-4e4100f163a6",
   "metadata": {},
   "source": [
    "直方图（Histogram）又称频数直方图，由一系列宽度相等、长度不等的长方形来展示特征的频数情况。长方形的宽度表示组距（数据范围的间隔），长度表示在给定间隔内的频数（或频率）与组距的比值，以长方形的面积来表示频数（或频率）。由于分组数据具有连续性，直方图的长方形通常是连续排列的。直方图可以比较直观地展现特征内部数据，便于分析其分布情况。\n",
    "pyplot中使用hist函数绘制直方图，其基本使用语法如下。\n"
   ]
  },
  {
   "cell_type": "markdown",
   "id": "703d80ad-fbc3-4c53-ac7d-0dafe9c6ea6a",
   "metadata": {},
   "source": [
    "```python\n",
    "matplotlib.pyplot.hist(x, bins=None, range=None, density=None,\n",
    "                       weights=None, cumulative=False, bottom=None,\n",
    "                       histtype='bar', align='mid', orientation='vertical',\n",
    "                       rwidth=None, log=False, color=None,\n",
    "                       label=None, stacked=False, normed=None,\n",
    "                       hold=None, data=None, **kwargs)\n",
    "```\n"
   ]
  },
  {
   "cell_type": "markdown",
   "id": "810a5bb6-d227-40bd-a882-c9e774fcf4a2",
   "metadata": {},
   "source": [
    "|参数名称\t|说明|\n",
    "|---|---|\n",
    "|x\t|接收array。表示x轴数据。无默认值|\n",
    "|bins\t|接收int或sequence。表示长方形条数。默认为“auto”|\n",
    "|range\t|接收tuple。筛选数据范围。默认为None（最小到最大的取值范围）|\n",
    "|normed\t|接收bool。表示选择频率图还是频数图。默认为True|\n",
    "|rwidth\t|接收0~1。表示长方形的宽度。默认为None|"
   ]
  },
  {
   "cell_type": "code",
   "execution_count": 3,
   "id": "1a4d6850-2337-4c29-a1ba-84461b13f292",
   "metadata": {},
   "outputs": [
    {
     "data": {
      "image/png": "[encoded data removed]",
      "text/plain": [
       "<Figure size 800x400 with 1 Axes>"
      ]
     },
     "metadata": {
      "needs_background": "light"
     },
     "output_type": "display_data"
    }
   ],
   "source": [
    "import numpy as np\n",
    "import matplotlib.pyplot as plt\n",
    "plt.rcParams['font.sans-serif'] = 'SimHei'\n",
    "plt.rcParams['axes.unicode_minus'] = False\n",
    "plt.figure(figsize = (8, 4), dpi = 100)\n",
    "mu = 0\n",
    "sigma = 1\n",
    "x = np.random.normal(mu, sigma, 10000)  # 生成10000个服从标准正态分布数据\n",
    "plt.hist(x, bins = 20, density = True, rwidth = 0.96)  # 绘制直方图\n",
    "plt.title('标准正态分布数据直方图')\n",
    "plt.show()\n"
   ]
  },
  {
   "cell_type": "markdown",
   "id": "9e840eca-17a3-463d-b606-1d7ff7b25000",
   "metadata": {},
   "source": [
    "## 柱状图\n",
    "柱状图，也称条形图（Bar Chart）也是由一系列宽度相等、高度不等的长方形来展示特征的频数情况。但条形图主要展示分类数据，一个长方形代表特征的一个类别，长度代表该类别的频数，宽度没有数学意义。相较于面积，肉眼对于高度要敏感许多，故能很好显示数据间的差距。条形图不同类别之间是有空隙的。\n",
    "pyplot中使用bar函数绘制条形图，其基本使用语法如下。\n"
   ]
  },
  {
   "cell_type": "markdown",
   "id": "a0192b06-a89e-45c7-add6-c3620be081e7",
   "metadata": {},
   "source": [
    "```python\n",
    "matplotlib.pyplot.bar(*args, **kwargs)\n",
    "```\n",
    "bar函数在官方文档中只要求输入不定长参数，但其主要参数如下表所示。\n",
    "\n",
    "\n",
    "|参数名称|\t说明|\n",
    "|---|---|\n",
    "|x\t|接收array。表示x轴的位置序列。无默认值|\n",
    "|height\t|接收array。表示x轴所代表数据的数量（长方形长度）。无默认值|\n",
    "|width\t|接收0~1之间的float。指定直方图宽度。默认为0.8|\n",
    "|color\t|接收特定str或者包含颜色字符串的array。表示直方图颜色。默认为None|"
   ]
  }
 ],
 "metadata": {
  "kernelspec": {
   "display_name": "Python 3 (ipykernel)",
   "language": "python",
   "name": "python3"
  },
  "language_info": {
   "codemirror_mode": {
    "name": "ipython",
    "version": 3
   },
   "file_extension": ".py",
   "mimetype": "text/x-python",
   "name": "python",
   "nbconvert_exporter": "python",
   "pygments_lexer": "ipython3",
   "version": "3.9.13"
  },
  "widgets": {
   "application/vnd.jupyter.widget-state+json": {
    "state": {},
    "version_major": 2,
    "version_minor": 0
   }
  }
 },
 "nbformat": 4,
 "nbformat_minor": 5
}
