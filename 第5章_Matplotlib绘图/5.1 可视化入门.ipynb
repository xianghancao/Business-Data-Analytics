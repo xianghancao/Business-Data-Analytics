{
 "cells": [
  {
   "cell_type": "markdown",
   "id": "a6d96f24-09ff-4737-b064-7d6c1b2e9786",
   "metadata": {},
   "source": [
    "# 5.1 可视化入门\n",
    "俗话说“一图胜千言”， 这恰恰体现了视觉传播的价值和效率。"
   ]
  },
  {
   "cell_type": "markdown",
   "id": "440b20ed-6df5-4a28-9249-0fc37a5d5ec9",
   "metadata": {},
   "source": [
    "\n",
    "\n",
    "## 1. 可视化的科学\n",
    "### 1.1 视觉中枢\n",
    "研究发现，大脑的一大任务就是视觉处理，几乎半个大脑都是直接或间接用来处理视觉功能的，详见[1]。\n",
    "\n",
    "涉及这项活动的细胞、神经元、纤维的数量非常庞大。\n",
    "仅眼睛内部的视网膜就由超过1.5亿个细胞构成，它实际上是大脑的延伸部分。\n",
    "另外，大脑中与视觉相关的神经元占了很大的比重，将近30%的脑灰质由这些神经元组成。\n",
    "相比之下，与触觉和听觉有关的神经元只占了8%和3%，参见[2]。\n",
    "\n",
    "### 1.2 视觉利于理解\n",
    "基于这些视觉“网络”，我们不难理解，比起单纯文本，大脑处理信息图会更加省力。\n",
    "\n",
    "单词中的每一个字母都代表一个符号。\n",
    "在阅读文本的时候，大脑首先对其解码，将这些字母与记忆中存储的形状相匹配，进一步理解这些字母如何组成单词，\n",
    "单词再组成句子，句子最后组成段落。尽管这一解读过程只需瞬间完成，但与大脑处理图像的方式相比，还是需要消耗更多的脑力，参见[3]。\n",
    "\n",
    "有时，我们无法直观的理解数据，就像下图，如果不将数字进行编码和着色，我们永远猜不到图片里隐藏了一位女士。\n",
    "\n",
    "![MonaLisa](image/MonaLisa.png)"
   ]
  },
  {
   "cell_type": "markdown",
   "id": "9c120f3f-8037-4a6e-9c95-7d770187c729",
   "metadata": {},
   "source": [
    "## 2. 可视化的图类型\n",
    "\n"
   ]
  },
  {
   "cell_type": "markdown",
   "id": "0be1e182-7d95-4b67-878f-8ba9fafbac54",
   "metadata": {},
   "source": [
    "数据可视化，主要体现对于数据的呈现方式。比如使用线条、饼状、柱状、条状、环状、地理图等等来呈现数据。"
   ]
  },
  {
   "cell_type": "markdown",
   "id": "ecda7b97-9f02-4ab3-8d50-5d6344f78070",
   "metadata": {},
   "source": [
    "![business_visual](image/business_visual.png)"
   ]
  },
  {
   "cell_type": "markdown",
   "id": "5431456f-9c0a-4303-b678-c4c85f9d0127",
   "metadata": {},
   "source": [
    "## 3. 可视化与Python\n",
    "Python科学可视化领域是巨大的(见下图)。它由无数的工具组成，从最通用和广泛使用的到更专业和精密的。其中一些工具是基于社区的，而另一些则由公司开发。有些是专门为网页制作的，有些只针对桌面，有些处理3D和大数据，而有些则针对完美的2D渲染。\n",
    "\n",
    "![PythonVisual](image/PythonVisual.png)"
   ]
  },
  {
   "cell_type": "markdown",
   "id": "6485d58a-ba95-40dc-86ac-d8a5376b26f9",
   "metadata": {},
   "source": [
    "选择很多造成了很难找到最适合你需要的库，只是因为您可能甚至没有意识到这个或那个库的存在。为了帮助你做出选择，你可以先问自己几个问题:\n",
    "- 你的目标是桌面渲染还是网页渲染?\n",
    "- 你需要复杂的3D渲染吗?\n",
    "- 你需要出版质量吗?\n",
    "- 你有非常大的数据吗?\n",
    "- 是否有活跃的社区?\n",
    "- 是否有文档和教程?"
   ]
  },
  {
   "cell_type": "markdown",
   "id": "366b1b2e-06be-408e-85d9-cee3692e19bd",
   "metadata": {},
   "source": [
    "根据你的答案，你可能能够决定使用哪个Python库，并投入一些时间来学习它。例如，如果你需要在浏览器中与Jupyter无缝集成的交互式可视化，[bokeh](https://bokeh.org/)可能是一个答案。如果你有非常大的数据，需要在桌面上使用3D, [vispy](https://vispy.org)或[mayavi](https://docs.enthought.com/mayavi/mayavi/)可能是一个选择。如果你对一个非常直观的工具感兴趣，快速展示漂亮的统计信息，那么[seaborn](https://seaborn.pydata.org/)和[altair](https://altair-viz.github.io/)是你的朋友。然而，如果你从事的是地球科学，那么你就不能忽视[cartopy](https://scitools.org.uk/cartopy/docs/latest/index.html)等。pyviz网站是一个很好的信息来源，它提供了许多可视化库的列表。"
   ]
  },
  {
   "cell_type": "markdown",
   "id": "2dc0dc89-a31f-4d1e-9d8d-1b40cd7908ab",
   "metadata": {},
   "source": [
    "|可视化库|官网|可交互|擅长|\n",
    "|---|---|---|---|\n",
    "|matplotlib|[https://matplotlib.org/stable/index.html](https://matplotlib.org/stable/index.html) |否|基础绘图库|\n",
    "|seaborn| [https://seaborn.pydata.org](https://seaborn.pydata.org) | 否| 统计数据可视化|\n",
    "|bokeh | [https://bokeh.org](https://bokeh.org) |是|-|\n",
    "|altair|[https://altair-viz.github.io/gallery/index.html](https://altair-viz.github.io/gallery/index.html)| 是|-|"
   ]
  },
  {
   "cell_type": "markdown",
   "id": "98fe461b-d1d5-4d97-8074-3b3a1e8eb99b",
   "metadata": {},
   "source": [
    "## 4. 一些有趣的应用\n",
    "### 4.1 金融投资组合优化\n",
    "链接：https://portfolio-optimizer.pyviz.demo.anaconda.com/portfolio\n",
    "![portfolio](image/portfolio.png)\n"
   ]
  },
  {
   "cell_type": "markdown",
   "id": "588430d2-cc4d-451f-a688-f552987fa711",
   "metadata": {},
   "source": [
    "### 4.2 动态显示各个国家的生育率\n",
    "链接：https://demo.bokeh.org/gapminder\n",
    "![BirthRates](image/BirthRates.png)\n"
   ]
  },
  {
   "cell_type": "markdown",
   "id": "73e7fa26-ce7e-4ede-aca4-e01a60016da9",
   "metadata": {},
   "source": [
    "## 参考\n",
    "1. MIT Research - Brain Processing of Visual Information, http://bit.ly/smIcH0\n",
    "2. 参见Denise Grady发表在Discover杂志的文章：“The Vision Thing: Mainly in the Brain”，http://bit.ly/upYVBr\n",
    "3. “Show Me! What Brain Research Says About Visuals in PowerPoint”，链接为：http://bitly.com/s3lseP”\n",
    "4.  Mark Smiciklas,《视不可挡：信息图与可视化传播》, 人民邮电出版社\n",
    "5. Nicolas P.Rougier, Scientific Visualization: Pyhon  & Matplotlib[M], https://github.com/rougier/scientific-visualization-book/\n",
    "6. pyviz, 帮助用户根据自己的目的决定最好的开源(OSS) Python数据可视化工具，提供链接、概述、比较和示例, https://pyviz.org/overviews/index.html\n",
    "7. 高维空间可视化: https://www.youtube.com/watch?v=wvsE8jm1GzE&t=30s\n",
    "8. 使用matplotlib和pandas的绘图示例代码，https://www.python-graph-gallery.com"
   ]
  }
 ],
 "metadata": {
  "kernelspec": {
   "display_name": "Python 3 (ipykernel)",
   "language": "python",
   "name": "python3"
  },
  "language_info": {
   "codemirror_mode": {
    "name": "ipython",
    "version": 3
   },
   "file_extension": ".py",
   "mimetype": "text/x-python",
   "name": "python",
   "nbconvert_exporter": "python",
   "pygments_lexer": "ipython3",
   "version": "3.9.13"
  },
  "widgets": {
   "application/vnd.jupyter.widget-state+json": {
    "state": {},
    "version_major": 2,
    "version_minor": 0
   }
  }
 },
 "nbformat": 4,
 "nbformat_minor": 5
}
