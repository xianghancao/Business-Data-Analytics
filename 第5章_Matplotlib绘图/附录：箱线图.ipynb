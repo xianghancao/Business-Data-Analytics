{
 "cells": [
  {
   "cell_type": "markdown",
   "id": "5be39fc2-154e-4e9b-999c-81f26c7328f6",
   "metadata": {},
   "source": [
    "# 5.6 箱线图\n",
    "\n",
    "箱形图由以下组成：\n",
    "- QL称为下四分位数\n",
    "- QU称为上四分位数\n",
    "- IQR称为四分位区间，也即是上四分位数和下四分位数之差。\n",
    "- 上限：QU+1.5IQR\n",
    "- 下限：QL-1.5IQR\n",
    "- 异常值被定义为小于QL-1.5IQR或大于QU+1.5IQR的值。\n",
    "\n",
    "![boxplot](image/boxplot.png)\n",
    "\n"
   ]
  },
  {
   "cell_type": "markdown",
   "id": "7d8c0e08-ed6f-452c-86b6-9862b9749bc9",
   "metadata": {},
   "source": [
    "```python\n",
    "matplotlib.pyplot.boxplot(x, notch=None, sym=None, vert=None,\n",
    "                          whis=None, positions=None, widths=None,\n",
    "                          patch_artist=None, bootstrap=None, usermedians=None,\n",
    "                          conf_intervals=None, meanline=None, showmeans=None,\n",
    "                          showcaps=None, showbox=None, showfliers=None,\n",
    "                          boxprops=None, labels=None, flierprops=None,\n",
    "                          medianprops=None, meanprops=None, capprops=None,\n",
    "                          whiskerprops=None, manage_xticks=True, autorange=False,\n",
    "                          zorder=None, hold=None, data=None)\n",
    "```"
   ]
  },
  {
   "cell_type": "markdown",
   "id": "6192e6db-7250-45c9-b705-7a805da0cf79",
   "metadata": {},
   "source": [
    "boxplot函数常用参数及其说明如下表所示:\n",
    "\n",
    "|参数名称\t|说明|\n",
    "|---|---|\n",
    "|x\t|接收array。表示用于绘制箱线图的数据。无默认值|\n",
    "|notch\t|接收bool。表示中间箱体是否有缺口。默认为None|\n",
    "|sym\t|接收特定sting。指定异常点形状。默认为None|\n",
    "|vert\t|接收bool。表示图形是横向纵向或者横向。默认为None|\n",
    "|positions\t|接收array。表示图形位置。默认为None|\n",
    "|widths\t|接收scalar或者array。表示每个箱体的宽度。默认为None|\n",
    "|labels\t|接收array。指定每一个箱线图的标签。默认为None|\n",
    "|meanline\t|接收bool。表示是否显示均值线。默认为False|"
   ]
  },
  {
   "cell_type": "code",
   "execution_count": 1,
   "id": "8f1087b0-1057-45e8-bb0b-1244bd74911a",
   "metadata": {},
   "outputs": [
    {
     "data": {
      "image/png": "[encoded data removed]",
      "text/plain": [
       "<Figure size 432x288 with 1 Axes>"
      ]
     },
     "metadata": {
      "needs_background": "light"
     },
     "output_type": "display_data"
    }
   ],
   "source": [
    "# step1\n",
    "import numpy as np\n",
    "import matplotlib.pyplot as plt\n",
    "\n",
    "# step2\n",
    "Z = np.random.normal(0, 1, (100,3))\n",
    "\n",
    "# step3\n",
    "fig, ax = plt.subplots()\n",
    "ax.boxplot(Z)\n",
    "plt.show()"
   ]
  }
 ],
 "metadata": {
  "kernelspec": {
   "display_name": "Python 3 (ipykernel)",
   "language": "python",
   "name": "python3"
  },
  "language_info": {
   "codemirror_mode": {
    "name": "ipython",
    "version": 3
   },
   "file_extension": ".py",
   "mimetype": "text/x-python",
   "name": "python",
   "nbconvert_exporter": "python",
   "pygments_lexer": "ipython3",
   "version": "3.9.13"
  },
  "widgets": {
   "application/vnd.jupyter.widget-state+json": {
    "state": {},
    "version_major": 2,
    "version_minor": 0
   }
  }
 },
 "nbformat": 4,
 "nbformat_minor": 5
}
