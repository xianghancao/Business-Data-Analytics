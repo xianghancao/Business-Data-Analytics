{
 "cells": [
  {
   "cell_type": "markdown",
   "id": "3b05b4bb-9122-4842-850e-c9b4d3a1bfa5",
   "metadata": {},
   "source": [
    "# 作业"
   ]
  },
  {
   "cell_type": "markdown",
   "id": "ca6fa8d9-8cfa-4978-88ad-fd7dd0bb9c8d",
   "metadata": {},
   "source": [
    "## 金融场景：绘制收益率的折线图（1分+2分+1分+2分+2分+2分=10分）\n",
    "IBM的股票代码为IBM，标普指数的代码为SP，可口可乐的股票代码是KO，三者的月度收益率序列存储在'datasets/ibmspko.csv'文件中。\n",
    "1. 请使用pandas读取收益率序列\n",
    "2. 绘制可口可乐的收益率序列的频率分布图，bins参数为50\n",
    "3. 使用`pd.DataFrame.cumsum()`计算可口可乐的收益率序列的**累积收益率**序列\n",
    "4. 绘制可口可乐的收益率序列的**累积收益率**折线图\n",
    "5. 在一个坐标轴中，绘制3个（IBM、SP，KO）的累积收益折线图，分别使用3种marker（\"^\"，\"o\",  \"x\"）,显示图例legend\n",
    "6. 绘制一个图形，包含3个子图，每个子图中分别绘制3个（IBM、SP，KO）的累积收益折线图，分别使用3种marker（\"^\"，\"o\",  \"x\"）,显示图例legend\n"
   ]
  },
  {
   "cell_type": "code",
   "execution_count": null,
   "id": "f2ccbe48-20cc-4427-bcd3-4a134c6c470f",
   "metadata": {},
   "outputs": [],
   "source": []
  },
  {
   "cell_type": "markdown",
   "id": "7eb7fbbe-c5a0-4e09-a2d9-5a55448b12e5",
   "metadata": {
    "tags": []
   },
   "source": [
    "## 商业场景：巧克力市场的可视化（1分+1分+2分+2分+2分+2分=10分）\n",
    "巧克力是以可可制品(包括可可脂、可可粉或可可浆)和糖为主要原材料制成的一种甜食，口感细腻甜美，并伴随一股浓郁的香气，是休闲零食的一大品类。\n",
    "\n",
    "2010年以来，全球巧克力产品销售规模稳步增长，Statista数据显示，2019年全球巧克力产品销售规模达1186.2亿美元，同比2018年增长4.4%，预计2020年全年销售额可达1237.0亿美元，到2023年全球销售额将超过1350亿美元。按照消费量计，2019年全球巧克力产品消费量达1042.4万吨，同比2018年增长1.8%，预计2020年全年消费量可达1060.1万吨，到2023年全球消费量将超过1100万吨。\n",
    "\n",
    "按照产品中使用代可可脂及是否添加辅料，可将巧克力产品进一步细分。常见的纯巧克力有黑巧克力、白巧克力、牛奶巧克力等，巧克力制品则有果仁巧克力、夹心巧克力、威化巧克力、酒心巧克力等。\n",
    "\n",
    "因为某些原因，JD平台不披露商品的销量信息，我们使用“评价数”作为销量的代理变量。\n",
    "\n",
    "完成以下任务：\n",
    "1. 读取'datasets/Chocolate.csv'里的数据\n",
    "2. 绘制价格的频数图，描述样本的价格分布\n",
    "3. 绘制箱型图，进一步了解价格的分位数（例如50%、75%分位数）\n",
    "4. 绘制饼状图，观察德芙、好时和费列罗等品牌的市场占有率\n",
    "5. 绘制饼状图，观察牛奶巧克力、黑巧克力、夹心巧克力、榛果等不同口味的市场占有率\n",
    "6. 绘制散点图，观察价格和销量之间的关系"
   ]
  },
  {
   "cell_type": "markdown",
   "id": "fc722266-6db9-4a67-ab2c-42dc1db77ca9",
   "metadata": {},
   "source": [
    "下述代码可以激活图片中使用中文字体："
   ]
  },
  {
   "cell_type": "code",
   "execution_count": null,
   "id": "31d7331c-a698-44e7-a2bf-47ba38e46c7d",
   "metadata": {},
   "outputs": [],
   "source": [
    "import matplotlib.pyplot as plt\n",
    "plt.rcParams['font.sans-serif'] = 'SimHei'"
   ]
  },
  {
   "cell_type": "code",
   "execution_count": null,
   "id": "30c9f6e0-3365-40f7-b0e1-60e1909a9cb2",
   "metadata": {},
   "outputs": [],
   "source": []
  }
 ],
 "metadata": {
  "kernelspec": {
   "display_name": "Python 3 (ipykernel)",
   "language": "python",
   "name": "python3"
  },
  "language_info": {
   "codemirror_mode": {
    "name": "ipython",
    "version": 3
   },
   "file_extension": ".py",
   "mimetype": "text/x-python",
   "name": "python",
   "nbconvert_exporter": "python",
   "pygments_lexer": "ipython3",
   "version": "3.9.13"
  },
  "widgets": {
   "application/vnd.jupyter.widget-state+json": {
    "state": {},
    "version_major": 2,
    "version_minor": 0
   }
  }
 },
 "nbformat": 4,
 "nbformat_minor": 5
}
