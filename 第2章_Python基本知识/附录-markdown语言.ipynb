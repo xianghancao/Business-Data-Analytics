{
 "cells": [
  {
   "cell_type": "markdown",
   "metadata": {},
   "source": [
    "# Markdown语言\n",
    "Markdown是一种轻量级的「标记语言」，通常为程序员群体所用，目前它已是全球最大的技术分享网站 GitHub 和技术问答网站 StackOverFlow 的御用书写格式。\n",
    "\n",
    "\n",
    "## 1. markdown的文字编写 \n",
    "或者我们看下面这个例子，上面是markdown语言，下面是这门语言的运行后的效果：\n",
    "```\n",
    "## 这是一个二级标题\n",
    "### 这是一个三级标题\n",
    "```\n",
    "## 这是一个二级标题\n",
    "### 这是一个三级标题\n",
    "\n",
    "## 2. mardown对数学公式的支持\n",
    "markdown除了支持文字，还支持Latex数学公式的编写：\n",
    "```\n",
    "这是一个数学函数f(x) = \\sum\\frac{\\alpha}{\\beta}\n",
    "```\n",
    "这是一个数学函数$f(x) = \\sum\\frac{\\alpha}{\\beta}$\n",
    "\n",
    "\n",
    "顺便提一下，本在线文档的内容，也是使用Markdown这门标记型语言来书写的。\n",
    "\n"
   ]
  },
  {
   "cell_type": "markdown",
   "metadata": {
    "tags": []
   },
   "source": [
    "\n",
    "## 3. 有哪些语法教程\n",
    "\n",
    "有以下中文的Markdown文档可供参考：\n",
    "\n",
    "1. [官方基本语法](https://www.markdownguide.org/basic-syntax/)\n",
    "2. [Markdown语法教程](https://markdown.com.cn)\n",
    "3. [runoob网站的markdown教程](https://www.runoob.com/markdown/md-advance.html)\n",
    "\n",
    "\n",
    "\n",
    "\n"
   ]
  },
  {
   "cell_type": "markdown",
   "metadata": {},
   "source": [
    "课件使用文字和代码混排的方式，在jupyter notebook中用到了markdown模式和代码模式。"
   ]
  },
  {
   "cell_type": "markdown",
   "metadata": {},
   "source": [
    "## 4. 如何在jupyter中使用markdown？"
   ]
  },
  {
   "cell_type": "markdown",
   "metadata": {},
   "source": [
    "第一步，确认光标在你要修改成markdown模式的格子"
   ]
  },
  {
   "cell_type": "markdown",
   "metadata": {},
   "source": [
    "![step1](image/step1.png)"
   ]
  },
  {
   "cell_type": "markdown",
   "metadata": {},
   "source": [
    "第二步，将code模式切换成Markdown"
   ]
  },
  {
   "cell_type": "markdown",
   "metadata": {},
   "source": [
    "![step2](image/step2.png)"
   ]
  },
  {
   "cell_type": "markdown",
   "metadata": {},
   "source": [
    "第三步，点击运行按钮"
   ]
  },
  {
   "cell_type": "markdown",
   "metadata": {},
   "source": [
    "![step3](image/step3.png)"
   ]
  },
  {
   "cell_type": "markdown",
   "metadata": {},
   "source": [
    "\n",
    "\n",
    "## 参考\n",
    "1. 官方网站：https://markdown.com.cn"
   ]
  },
  {
   "cell_type": "code",
   "execution_count": null,
   "metadata": {},
   "outputs": [],
   "source": []
  }
 ],
 "metadata": {
  "kernelspec": {
   "display_name": "Python 3 (ipykernel)",
   "language": "python",
   "name": "python3"
  },
  "language_info": {
   "codemirror_mode": {
    "name": "ipython",
    "version": 3
   },
   "file_extension": ".py",
   "mimetype": "text/x-python",
   "name": "python",
   "nbconvert_exporter": "python",
   "pygments_lexer": "ipython3",
   "version": "3.9.13"
  },
  "widgets": {
   "application/vnd.jupyter.widget-state+json": {
    "state": {},
    "version_major": 2,
    "version_minor": 0
   }
  }
 },
 "nbformat": 4,
 "nbformat_minor": 4
}
