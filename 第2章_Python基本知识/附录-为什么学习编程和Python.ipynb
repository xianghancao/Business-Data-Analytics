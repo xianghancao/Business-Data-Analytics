{
 "cells": [
  {
   "cell_type": "markdown",
   "id": "278a6374-143c-42f9-905e-ded020574f58",
   "metadata": {},
   "source": [
    "# 为什么学习编程和Python？\n",
    "\n",
    "\n",
    "## A. 为什么要学习编程？\n",
    "\n",
    "几乎每个人都知道如何使用电脑，但很少有人采取下一步，学习如何控制它。如果你用了别人的软件，你最会被别人设计好的功能所限制，这个限制就是“别人认为你想做什么”。那写你自己的软件，唯一的束缚将是你自己的想象力。编程会让你变得更有创造性，它让你的思维变得严谨，教会你有逻辑的分析和解决问题。\n",
    "\n",
    "## B. 为什么是Python？\n",
    "\n",
    "作为2020年最受工程师欢迎的语言，Python到底有多火？\n",
    "\n",
    "后端开发、前端开发、爬虫开发、人工智能、金融量化分析、大数据、物联网等，Python应用无处不在，搜索引擎Google的核心代码是Python完成的、迪士尼公司动画生成的Unix版本都内建了Python环境支持、国内知名的豆瓣网是用Python技术建立......\n",
    "\n",
    "TIOBE编程社区指数（The TIOBE Programming Community index）是编程语言流行度的指标，该榜单每月更新一次，指数基于全球技术工程师、课程和第三方供应商的数量。包括流行的搜索引擎，如谷歌、必应、雅虎、维基百科、亚马逊、YouTube和百度都用于指数计算。\n",
    "\n",
    "\n",
    "\n",
    "**TIOBE2020年12月排行榜前20名**：\n",
    "\n",
    "![Screen Shot 2021-03-19 at 8.58.15 PM](image/python_rank.png)\n",
    "\n",
    "\n",
    "\n",
    "从2002年以来，Python在众多语言中，稳步上升。\n",
    "\n",
    "![img](image/1000-20210319194235117.png)\n",
    "\n",
    "\n",
    "\n",
    "**Python的定位是“优雅”、“明确”、“简单”**，所以Python程序看上去总是简单易懂，初学者学Python，不但入门容易，而且将来深入下去，可以编写那些非常非常复杂的程序。\n",
    "\n",
    "\n",
    "\n",
    "**Python在另一种意义上是免费的，因为它是开源的。**Python项目直到最近仍由其创建者GuidovanRossum领导。它完全是开源和GPL兼容的。\n",
    "\n",
    "\n",
    "\n",
    "\n"
   ]
  }
 ],
 "metadata": {
  "kernelspec": {
   "display_name": "Python 3 (ipykernel)",
   "language": "python",
   "name": "python3"
  },
  "language_info": {
   "codemirror_mode": {
    "name": "ipython",
    "version": 3
   },
   "file_extension": ".py",
   "mimetype": "text/x-python",
   "name": "python",
   "nbconvert_exporter": "python",
   "pygments_lexer": "ipython3",
   "version": "3.9.13"
  },
  "widgets": {
   "application/vnd.jupyter.widget-state+json": {
    "state": {},
    "version_major": 2,
    "version_minor": 0
   }
  }
 },
 "nbformat": 4,
 "nbformat_minor": 5
}
