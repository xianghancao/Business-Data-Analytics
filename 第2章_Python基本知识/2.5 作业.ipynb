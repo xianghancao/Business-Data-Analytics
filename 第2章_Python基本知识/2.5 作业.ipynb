{
 "cells": [
  {
   "cell_type": "markdown",
   "id": "17481881-44be-4c51-9c36-6e6c91c862b4",
   "metadata": {},
   "source": [
    "# 作业"
   ]
  },
  {
   "cell_type": "markdown",
   "id": "6e56f2df-fe55-49db-86a0-8986ed7a4a97",
   "metadata": {},
   "source": [
    "## 1. 定义变量（1分）\n",
    "\n",
    "- 给一个变量名为“year”的变量赋值字符串：'2023'\n",
    "- 给一个变量名为“month”的变量赋值字符串：'09'\n",
    "- 定义一个变量表示日期，赋值字符串：'01'\n",
    "- 拼接上述三个字符串，并使用'/'来连接"
   ]
  },
  {
   "cell_type": "code",
   "execution_count": null,
   "id": "38011f99-4f6b-4dd1-ad60-3bab85fb623a",
   "metadata": {},
   "outputs": [],
   "source": [
    "\n",
    "\n"
   ]
  },
  {
   "cell_type": "markdown",
   "id": "d10fc126-bb08-4a24-b69a-c5232873e202",
   "metadata": {},
   "source": [
    "## 2.创建一个列表（1分）\n",
    "\n",
    "- 请创建一个列表变量，名字叫college，包含以下元素：\"外语学院\"，\"国际交流学院\"，\"教育学院\"，\"传媒学院\"\n",
    "- 使用print语句输出上述列表\n",
    "- 使用append语句在该列表后追加一个新的元素：\"商学院\"\n",
    "\n",
    "\n",
    "提示：在调试代码过程中，如果出现语句错误，如“SyntaxError: invalid character in identifier”，讲中文逗号\"，\"改成英文逗号\",\" 。\n",
    "\n",
    "\n"
   ]
  },
  {
   "cell_type": "code",
   "execution_count": null,
   "id": "ae585777-e40f-4ccb-beb5-cc66e34227f2",
   "metadata": {},
   "outputs": [],
   "source": [
    "\n",
    "\n"
   ]
  },
  {
   "cell_type": "markdown",
   "id": "25ff67f7-ac20-48a3-8cf3-64d847b7fc48",
   "metadata": {},
   "source": [
    "## 3.创建一个字典（1分）\n",
    "\n",
    "- 使用字典创建一个变量，变量名为account_info，包含账户名：\"user_01\"，和密码\"123456\"，然后打印变量。\n",
    "- 给上面这个字典变量，添加一个新的键-值对，键为“user_02”,值为“654321”。\n",
    "\n",
    "\n",
    "\n"
   ]
  },
  {
   "cell_type": "code",
   "execution_count": null,
   "id": "75442610-f2e7-4fbc-9e93-af677ab9fc11",
   "metadata": {},
   "outputs": [],
   "source": [
    "\n",
    "\n"
   ]
  },
  {
   "cell_type": "markdown",
   "id": "3de8ee29-39e4-4f46-a70c-247b18682ed8",
   "metadata": {},
   "source": [
    "## 4.计算课程总成绩（1分）"
   ]
  },
  {
   "cell_type": "markdown",
   "id": "a3f0f490-dde8-4c47-a8c3-52910ff3088e",
   "metadata": {},
   "source": [
    "\n",
    "\n",
    "相信很多老师在授课的第一节课都会告诉学生，本学期的考核和成绩评定方式，例如：\n",
    "\n",
    "- 课程总成绩=平时成绩（30%）+测试（70%）\n",
    "- 平时成绩=出勤（10%）+课内作业（20%）\n",
    "- 测试=期中实验报告（10%）+ 期末实验报告（60%）\n",
    "\n",
    "现在学校要求我们编写一个程序，让学生输入他本学期的16周的出勤次数、平时作业成绩、期中测验分数和期末卷面成绩来计算出他的总成绩。请告知一下同学他的分数：\n",
    "\n",
    "```python\n",
    "student_01 = {'name':'zhangxiaoxian', #姓名\n",
    "              'attendance_numbers': 14, #出勤数\n",
    "             'homework_score': 75,  #平时作业分数\n",
    "             'mid_term_exam_score': 80, #期中考试分数\n",
    "             'final_term_score': 85}  #期末考试分数\n",
    "\n",
    "student_02 = {'name':'wangpeng', \n",
    "              'attendance_numbers': 3, \n",
    "             'homework_score': 80,\n",
    "             'mid_term_exam_score': 90,\n",
    "             'final_term_score': 95}\n",
    "\n",
    "student_03 = {'name':'lifeng', \n",
    "              'attendance_numbers': 12, \n",
    "             'homework_score': 60,\n",
    "             'mid_term_exam_score': 70,\n",
    "             'final_term_score': 75}\n",
    "```\n"
   ]
  },
  {
   "cell_type": "code",
   "execution_count": null,
   "id": "ce8533f5-4dbc-48b4-b0cf-fa5b6386296f",
   "metadata": {},
   "outputs": [],
   "source": [
    "\n",
    "\n"
   ]
  },
  {
   "cell_type": "markdown",
   "id": "4b2633f4-d379-40a4-b02e-7225e0ba1900",
   "metadata": {},
   "source": [
    "## 5. 循环打印（1分）\n",
    "\n",
    "请利用循环for语句和print语句，依次对list中的每个名字打印出`Hello, xxx!`：\n",
    "\n",
    "```python\n",
    "L = ['Bart', 'Lisa', 'Adam']\n",
    "```\n",
    "\n",
    "\n",
    "\n"
   ]
  },
  {
   "cell_type": "code",
   "execution_count": null,
   "id": "5bba0105-8aba-4455-958f-92e82b306937",
   "metadata": {},
   "outputs": [],
   "source": [
    "\n",
    "\n"
   ]
  },
  {
   "cell_type": "markdown",
   "id": "e77a9bac-8c91-4fab-bef5-9e25ad8a4dd3",
   "metadata": {},
   "source": [
    "## 6.计算平均值（1分）\n",
    "均值是描述性统计方法中最常见的指标，它主要用来计算全体样本或抽样的平均值。\n",
    "\n",
    "$$\n",
    "\\mu = \\frac{x_1+x_2+\\dots+x_n}{n}\n",
    "$$\n",
    "\n",
    "试用变量、列表list和循环for语句计算数列 [1, 2, 3, 4, 5]的平均值。"
   ]
  },
  {
   "cell_type": "code",
   "execution_count": null,
   "id": "6336ae9a-3f4d-4eb0-ad1b-beef04037c39",
   "metadata": {},
   "outputs": [],
   "source": [
    "\n",
    "\n"
   ]
  },
  {
   "cell_type": "markdown",
   "id": "1912d959-b4e8-455f-85c3-dc997b26e710",
   "metadata": {},
   "source": [
    "## 7.计算方差（1分）\n",
    "\n",
    "参照上述平均值的计算方法，进一步计算数列[1, 2, 3, 4, 5]的方差。\n",
    "方差公式为：\n",
    "\n",
    "$$\n",
    "\\sigma^2 = \\frac{(x_1-\\mu)^2+(x_2-\\mu)^2+\\dots+(x_3-\\mu)^2}{n}\n",
    "$$\n",
    "提示：使用变量、列表list和循环for语句，也可使用函数def语句"
   ]
  },
  {
   "cell_type": "code",
   "execution_count": null,
   "id": "9613c07d-aae3-4c1a-b3d0-f9b7e1fa5e04",
   "metadata": {},
   "outputs": [],
   "source": [
    "\n",
    "\n"
   ]
  },
  {
   "cell_type": "markdown",
   "id": "39eb86a4-617e-4de8-b9fb-001e302411fd",
   "metadata": {},
   "source": [
    "## 8.计算最大值（1分）\n",
    "试用变量、循环for语句和判断if语句计算数列 [1, 5, 3, 4, 2]中的最大值。"
   ]
  },
  {
   "cell_type": "code",
   "execution_count": null,
   "id": "ffe06327-3218-47b9-a05e-e8b26477067d",
   "metadata": {},
   "outputs": [],
   "source": [
    "\n",
    "\n"
   ]
  },
  {
   "cell_type": "markdown",
   "id": "352e903d-f630-490b-826c-dd7a8e6d2ba5",
   "metadata": {},
   "source": [
    "## 9.设计一个计算均方误差的函数（1分）\n",
    "在回归分析中，均方误差（MSE）是一个常用的指标。\n",
    "\n",
    "它计算的是**预测数据**和**原始数据**对应点误差的平方和的均值，它主要用来评估模型的预测能力。\n",
    "\n",
    "$$\n",
    "MSE = \\frac{1}{n}\\sum^n_{i=1}(\\hat{y}_i-y_i)^2\n",
    "$$\n",
    "\n",
    "这里$\\hat{y}_i$是指模型预测的数据序列，$y_i$是指原始数据序列, $\\sum$是累加符号。\n",
    "\n",
    "设计一个函数名为mse，输入参数为original_y和predicted_y，返回值为计算的结果。\n",
    "\n",
    "请问，当original_y=[10.1, 9.8, 10.5, 10.0, 10.3], predicted_y=[10, 10, 10, 10, 10]时，MSE的值是多少？\n",
    "\n",
    "提示：使用变量、for循环语句、def语句和return语句来设计函数，传入变量是两个列表，然后调用并测试函数是否成功运行"
   ]
  },
  {
   "cell_type": "code",
   "execution_count": null,
   "id": "1eb17893-a5df-4cac-bf2c-682a086a2738",
   "metadata": {},
   "outputs": [],
   "source": [
    "\n",
    "\n"
   ]
  },
  {
   "cell_type": "markdown",
   "id": "b575ba91-c35c-4d71-8b54-aac1ae41f3ef",
   "metadata": {},
   "source": [
    "## 10.设计一个返回逆序列表的函数（1分）\n",
    "\n",
    "请设计一个函数，函数名字为reverse，它的输入变量为一个列表，返回这个列表的逆序，例如\n",
    "\n",
    "```python\n",
    ">>> l = [1, 2, 3, 4, 5]\n",
    ">>> reverse(l)\n",
    "[5, 4, 3, 2, 1]\n",
    "```\n"
   ]
  },
  {
   "cell_type": "code",
   "execution_count": null,
   "id": "bf25357c-bcf0-4598-b552-65b96cefa423",
   "metadata": {},
   "outputs": [],
   "source": [
    "\n",
    "\n"
   ]
  },
  {
   "cell_type": "markdown",
   "id": "f6abd8a5-adcb-404b-96dc-e701c48528b8",
   "metadata": {},
   "source": [
    "## 加分题：整数编码（1分 * 2 = 2分）\n",
    "在数据挖掘模型中，数据集的属性如果是字符型，需要将其变换为数字，最常用的方法叫<u>整数编码</u>。\n",
    "\n",
    "它有两个步骤：\n",
    "1. 建立一个字符串和整数一一对应的字典。\n",
    "2. 使用循环，遍历所有字符串，将字符串替换为整数。\n",
    "\n",
    "\n",
    "现有有一个西瓜数据集，请按照下面规则对其进行整数编码。\n",
    "```python\n",
    "属性：\n",
    "色泽 1-3代表 浅白 青绿 乌黑 \n",
    "根蒂 1-3代表 稍蜷 蜷缩 硬挺\n",
    "敲声 1-3代表 清脆 浊响 沉闷 \n",
    "纹理 1-3代表 清晰 稍糊 模糊\n",
    "脐部 1-3代表 平坦 稍凹 凹陷 \n",
    "触感 1-2代表 硬滑 软粘\n",
    "标签：\n",
    "好瓜 1代表 是 0 代表 不是\n",
    "```\n"
   ]
  },
  {
   "cell_type": "markdown",
   "id": "144772f0-ba9b-4812-b7da-24f8bd5ae140",
   "metadata": {},
   "source": [
    "任务1："
   ]
  },
  {
   "cell_type": "markdown",
   "id": "c4ba963b-3311-49e4-b131-c9cfc9357860",
   "metadata": {},
   "source": [
    "w = ['青绿', '蜷缩', '浊响', '清晰', '凹陷', '硬滑', '0.697', '0.460', '是']  \n",
    "列表各元素所对应的属性为'色泽', '根蒂', '敲声', '纹理', '脐部', '触感', '密度', '含糖率', '好瓜'\n",
    "1. 建立各个属性的字符为键，整数为值的字典\n",
    "2. 将这个列表的各个元素从字符串转换成数值：[2, 2, 2, 1, 3, 1, 0.697, 0.460, 1]"
   ]
  },
  {
   "cell_type": "code",
   "execution_count": null,
   "id": "2842b97f-56ad-4b00-ac14-0ece8adfe21c",
   "metadata": {},
   "outputs": [],
   "source": [
    "\n",
    "\n",
    "\n",
    "\n"
   ]
  },
  {
   "cell_type": "markdown",
   "id": "f5f4240f-2a5a-43de-bbce-f2d29c0a9649",
   "metadata": {},
   "source": [
    "任务2："
   ]
  },
  {
   "cell_type": "markdown",
   "id": "d934de4b-0d59-461b-bebf-8c97b404cd0f",
   "metadata": {},
   "source": [
    "如下是一个嵌套的列表，嵌套的第一个列表为属性和标签，每一个列表的第一个元素为序号。  \n",
    "请只转换需要转换的字符串为数值，其他不变。"
   ]
  },
  {
   "cell_type": "code",
   "execution_count": null,
   "id": "584d856b-0d3e-46db-9fc2-1bef353a31dd",
   "metadata": {},
   "outputs": [],
   "source": [
    "w02 = [['编号', '色泽', '根蒂', '敲声', '纹理', '脐部', '触感', '密度', '含糖率', '好瓜'],\n",
    "        ['1', '青绿', '蜷缩', '浊响', '清晰', '凹陷', '硬滑', '0.697', '0.460', '是'],\n",
    "        ['2', '乌黑', '蜷缩', '沉闷', '清晰', '凹陷', '硬滑', '0.774', '0.376', '是'],\n",
    "        ['3', '乌黑', '蜷缩', '浊响', '清晰', '凹陷', '硬滑', '0.634', '0.264', '是'],\n",
    "        ['4', '青绿', '蜷缩', '沉闷', '清晰', '凹陷', '硬滑', '0.608', '0.318', '是'],\n",
    "        ['5', '浅白', '蜷缩', '浊响', '清晰', '凹陷', '硬滑', '0.556', '0.215', '是'],\n",
    "        ['6', '青绿', '稍蜷', '浊响', '清晰', '稍凹', '软粘', '0.403', '0.237', '是'],\n",
    "        ['7', '乌黑', '稍蜷', '浊响', '稍糊', '稍凹', '软粘', '0.481', '0.149', '是'],\n",
    "        ['8', '乌黑', '稍蜷', '浊响', '清晰', '稍凹', '硬滑', '0.437', '0.211', '是'],\n",
    "        ['9', '乌黑', '稍蜷', '沉闷', '稍糊', '稍凹', '硬滑', '0.666', '0.091', '否'],\n",
    "        ['10', '青绿', '硬挺', '清脆', '清晰', '平坦', '软粘', '0.243', '0.267', '否'],\n",
    "        ['11', '浅白', '硬挺', '清脆', '模糊', '平坦', '硬滑', '0.245', '0.057', '否'],\n",
    "        ['12', '浅白', '蜷缩', '浊响', '模糊', '平坦', '软粘', '0.343', '0.099', '否'],\n",
    "        ['13', '青绿', '稍蜷', '浊响', '稍糊', '凹陷', '硬滑', '0.639', '0.161', '否'],\n",
    "        ['14', '浅白', '稍蜷', '沉闷', '稍糊', '凹陷', '硬滑', '0.657', '0.198', '否'],\n",
    "        ['15', '乌黑', '稍蜷', '浊响', '清晰', '稍凹', '软粘', '0.360', '0.370', '否'],\n",
    "        ['16', '浅白', '蜷缩', '浊响', '模糊', '平坦', '硬滑', '0.593', '0.042', '否'],\n",
    "        ['17', '青绿', '蜷缩', '沉闷', '稍糊', '稍凹', '硬滑', '0.719', '0.103', '否']]"
   ]
  },
  {
   "cell_type": "code",
   "execution_count": null,
   "id": "d971b127-89f0-4967-91a2-59ee1372cc5a",
   "metadata": {},
   "outputs": [],
   "source": [
    "\n",
    "\n",
    "\n",
    "\n"
   ]
  }
 ],
 "metadata": {
  "kernelspec": {
   "display_name": "Python 3 (ipykernel)",
   "language": "python",
   "name": "python3"
  },
  "language_info": {
   "codemirror_mode": {
    "name": "ipython",
    "version": 3
   },
   "file_extension": ".py",
   "mimetype": "text/x-python",
   "name": "python",
   "nbconvert_exporter": "python",
   "pygments_lexer": "ipython3",
   "version": "3.9.17"
  },
  "widgets": {
   "application/vnd.jupyter.widget-state+json": {
    "state": {},
    "version_major": 2,
    "version_minor": 0
   }
  }
 },
 "nbformat": 4,
 "nbformat_minor": 5
}
