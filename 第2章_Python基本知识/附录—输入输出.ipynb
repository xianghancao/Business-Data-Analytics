{
 "cells": [
  {
   "cell_type": "markdown",
   "id": "2b015350-7aba-4d67-b40c-08c72d3f1f03",
   "metadata": {},
   "source": [
    "# 附录——输入输出\n",
    "\n",
    "任何计算机程序都是为了执行一个特定的任务，有了输入，用户才能告诉计算机程序所需的信息，有了输出，程序运行后才能告诉用户计算机执行的结果。\n",
    "\n",
    "输入是Input，输出是Output，因此，我们把输入输出统称为Input/Output，或者简写为IO。\n",
    "\n",
    "\n",
    "## 1. 输出print()函数\n",
    "\n",
    "用`print()`在括号中加上字符串，就可以向屏幕上输出指定的文字。比如输出`'hello, world'`，用代码实现如下：\n",
    "\n",
    "```python\n",
    ">>> print('hello, world')\n",
    "```\n",
    "\n",
    "![image](image/image1.png)\n",
    "\n",
    "\n",
    "`print()`函数也可以接受多个字符串，用逗号“,”隔开，就可以连成一串输出：\n",
    "\n",
    "```python\n",
    ">>> print('The quick brown fox', 'jumps over', 'the lazy dog')\n",
    "The quick brown fox jumps over the lazy dog\n",
    "```\n",
    "\n",
    "`print()`会依次打印每个字符串，遇到逗号“,”会输出一个空格，因此，输出的字符串是这样拼起来的：\n",
    "\n",
    "![image](image/image.png)\n",
    "\n",
    "\n",
    "\n",
    "`print()`也可以打印整数，或者计算结果：\n",
    "\n",
    "```python\n",
    ">>> print(300)\n",
    "300\n",
    ">>> print(100 + 200)\n",
    "300\n",
    "```\n",
    "\n",
    "因此，我们可以把计算`100 + 200`的结果打印得更漂亮一点：\n",
    "\n",
    "```python\n",
    ">>> print('100 + 200 =', 100 + 200)\n",
    "100 + 200 = 300\n",
    "```\n",
    "\n",
    "注意，对于`100 + 200`，Python解释器自动计算出结果`300`，但是，`'100 + 200 ='`是字符串而非数学公式，Python把它视为字符串，请自行解释上述打印结果。\n",
    "\n",
    "\n"
   ]
  },
  {
   "cell_type": "markdown",
   "id": "a033430d-504d-4292-b18c-b8923c019f5b",
   "metadata": {},
   "source": [
    "当然，print语句还可以被用来做一些有趣的工具，例如使用print语句设计一个进度条，"
   ]
  },
  {
   "cell_type": "code",
   "execution_count": 1,
   "id": "80ae2bbe-3095-4d75-b7b9-37919d2d8b1e",
   "metadata": {},
   "outputs": [
    {
     "name": "stdout",
     "output_type": "stream",
     "text": [
      "进度 100%:  ▓▓▓▓▓▓▓▓▓▓▓▓▓▓▓▓▓▓▓▓▓▓▓▓▓▓▓▓▓▓▓▓▓▓▓▓▓▓▓▓▓▓▓▓▓▓▓▓▓▓"
     ]
    }
   ],
   "source": [
    "import time\n",
    "for i in range(1, 101):\n",
    "    \"\"\"\n",
    "    别的功能\n",
    "    \"\"\"\n",
    "    print(\"\\r\", end=\"\")    \n",
    "    print(\"进度 {}%: \".format(i), \"▓\" * (i // 2), end=\"\")\n",
    "    time.sleep(0.05)"
   ]
  },
  {
   "cell_type": "markdown",
   "id": "61569858-1988-41cf-84d0-e56f2ca96f83",
   "metadata": {},
   "source": [
    "## 2. 输入input()函数\n",
    "\n",
    "在Python中，`input()`是一个内置函数，用于从用户获取输入。它允许程序在运行时向用户提出问题或接收用户的输入，并将输入作为字符串返回给程序。\n",
    "\n",
    "`input()`函数的基本语法如下：\n",
    "```python\n",
    "variable = input(prompt)\n",
    "```\n",
    "其中，`prompt`是一个可选参数，用于向用户显示提示信息，告诉用户需要输入什么。当程序执行到`input()`函数时，它会暂停并等待用户输入。用户输入的内容以字符串的形式返回，并可以赋值给变量`variable`。\n",
    "\n",
    "以下是一个简单的示例，演示了如何使用`input()`函数获取用户输入并进行处理：\n",
    "```python\n",
    "name = input(\"请输入您的姓名：\")\n",
    "print(\"您好，\" + name + \"！欢迎使用Python。\")\n",
    "```\n",
    "在上面的示例中，程序会向用户显示提示信息\"请输入您的姓名：\"，然后等待用户输入。用户输入的内容将被赋值给变量`name`，然后程序会打印出一条欢迎消息，其中包含用户输入的姓名。\n",
    "\n",
    "需要注意的是，`input()`函数返回的是字符串类型的数据。如果需要将输入解析为其他类型（如整数或浮点数），可以使用相应的类型转换函数（如`int()`或`float()`）对输入进行转换。\n"
   ]
  },
  {
   "cell_type": "markdown",
   "id": "e99ea13b-c9c1-4dc5-bf39-e898fcf9faef",
   "metadata": {},
   "source": [
    "## 练习：输入学生信息，并输出到屏幕\n",
    "\n",
    "使用input()让用户依次输入姓名、性别、年龄和城市，并使用print()输出到屏幕上。\n",
    "\n",
    "\n",
    "使用语句：\n",
    "- input()\n",
    "- print()\n",
    "\n",
    "\n",
    "\n",
    "\n",
    "\n",
    "\n"
   ]
  },
  {
   "cell_type": "code",
   "execution_count": null,
   "id": "de1b3326-40bf-4245-827a-e12488ed9711",
   "metadata": {},
   "outputs": [],
   "source": [
    "# 从这里开始\n",
    "\n"
   ]
  },
  {
   "cell_type": "markdown",
   "id": "c7e69dbc-24a1-4689-9a5b-5eedda52ac91",
   "metadata": {},
   "source": [
    "\n",
    "### **答案**\n",
    "\n",
    "```python\n",
    "name = input('please enter your name:')\n",
    "print('Your name:', name)\n",
    "gender = input('please enter your gender:')\n",
    "print('Your gender:', gender)\n",
    "age = input('please enter your age:')\n",
    "print('Your age:', age)\n",
    "city = input('please enter your city:')\n",
    "print('Your city:', city)\n",
    "```\n",
    "\n",
    "\n",
    "\n",
    "\n"
   ]
  }
 ],
 "metadata": {
  "kernelspec": {
   "display_name": "Python 3 (ipykernel)",
   "language": "python",
   "name": "python3"
  },
  "language_info": {
   "codemirror_mode": {
    "name": "ipython",
    "version": 3
   },
   "file_extension": ".py",
   "mimetype": "text/x-python",
   "name": "python",
   "nbconvert_exporter": "python",
   "pygments_lexer": "ipython3",
   "version": "3.9.17"
  },
  "widgets": {
   "application/vnd.jupyter.widget-state+json": {
    "state": {},
    "version_major": 2,
    "version_minor": 0
   }
  }
 },
 "nbformat": 4,
 "nbformat_minor": 5
}
