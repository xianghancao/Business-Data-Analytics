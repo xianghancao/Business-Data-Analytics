{
 "cells": [
  {
   "cell_type": "markdown",
   "metadata": {},
   "source": [
    "# Python介绍"
   ]
  },
  {
   "cell_type": "markdown",
   "metadata": {},
   "source": [
    "就像我们平时说话，人和人沟通是通过语言，我们称之为自然语言。"
   ]
  },
  {
   "cell_type": "markdown",
   "metadata": {},
   "source": [
    "人和计算机沟通也需要语言，我们称之为计算机语言。Python和我们听说的C语言，Java语言一样，也是一门计算机语言。"
   ]
  },
  {
   "cell_type": "markdown",
   "metadata": {},
   "source": [
    "## 1. python语言的优势"
   ]
  },
  {
   "cell_type": "markdown",
   "metadata": {},
   "source": [
    "《Introduction to Python for Econometrics, Statistics and Data Analysis》描述了Python语言的优势：\n",
    "\n",
    "> Python是一种流行的通用编程语言，它非常适合于各种各样的问题。\n",
    ">你需要一种可以作为端到端解决方案的语言，以便从访问基于web的服务、数据库、数据处理和统计计算。这些都可以用同一种语言完成。\n",
    ">- 数据处理和操作——特别是清洗和格式化\n",
    ">- 在数据集的采集和构造上实质上比R或MATLAB更有优势。\n",
    ">- 性能是一个问题，但不是最重要的。\n",
    ">- 免费是一个重要的考虑因素——Python可以自由部署，甚至可以部署到100个服务器上计算集群或云(例如Amazon Web Services或Azure)。\n",
    ">- Python，作为通用语言，是R/MATLAB/Ox/GAUSS/Julia的补充。"
   ]
  },
  {
   "cell_type": "markdown",
   "metadata": {},
   "source": [
    "## 2. 我的职业经验"
   ]
  },
  {
   "cell_type": "markdown",
   "metadata": {},
   "source": [
    "我开始接触python的时候，我就被她深深的吸引了。她拥有我之前学习过的编程语言绝大多数的优点，同时无需在多个语言上切换。"
   ]
  },
  {
   "cell_type": "markdown",
   "metadata": {},
   "source": [
    "我在之前的工作中，使用Python开发：\n",
    "- 网络数据的采集\n",
    "- 数据分析\n",
    "- 数据的可视化与建模\n",
    "\n",
    "\n",
    "所以，python在数据分析，系统开发和网站开发等都是可以胜任的，无需掌握过多的计算机语言。"
   ]
  },
  {
   "cell_type": "markdown",
   "metadata": {},
   "source": [
    "## 3. python的库"
   ]
  },
  {
   "cell_type": "markdown",
   "metadata": {},
   "source": [
    "**库**，英文叫Library，它是具有相关功能模块的集合。python的库，包括标准库和第三方库。"
   ]
  },
  {
   "cell_type": "markdown",
   "metadata": {},
   "source": [
    "### 3.1 标准库\n",
    "标准库是python安装文件内置的满足日常编程使用的库，它包含以下模块，见下表。这里只列举了部分，更多模块请见官方文档: [链接](https://docs.python.org/zh-cn/3/library/index.html#library-index) 我们在计量经济学实训过程中会用到以下库：\n",
    "\n",
    "| 库名                                                      | 功能                                                   |\n",
    "| ------------------------------------------------------------ | ------------------------------------------------------ |\n",
    "| `numpy` | 提供了数组、矩阵和数值计算功能                        |\n",
    "| `pandas` | 提供了强大、便捷的数据分析工具         |\n",
    "| `scipy` | 提供了科学计算、统计等相关工具                     |\n",
    "| `statistics` | 模块计算数值数据的基本统计属性（均值，中位数，方差等） |\n",
    "|`statsmodels` |提供了多元回归和分析的工具|\n",
    "| `sklearn` | 提供了机器学习、数据挖掘模型                           |\n",
    "\n",
    "\n",
    "&nbsp;\n"
   ]
  },
  {
   "cell_type": "markdown",
   "metadata": {},
   "source": [
    "### 3.2 加载库"
   ]
  },
  {
   "cell_type": "markdown",
   "metadata": {},
   "source": [
    "在程序里，当使用库或者模块时，我们以关键字`import`开头，加上库或者模块的名字。我们以datetime模块为例，\n",
    "\n",
    "```python\n",
    "import datetime\n",
    "```\n",
    "\n",
    "datetime模块，提供当日的日期，试运行以下代码：\n",
    "\n",
    "```python\n",
    "datetime.datetime.today()\n",
    "```\n",
    "\n"
   ]
  },
  {
   "cell_type": "markdown",
   "metadata": {},
   "source": [
    "### 3.3 安装第三方库\n",
    "\n",
    "除了内置的库外，Python还有大量的第三方库，也就是别人开发的，供你直接使用的东西。当然，如果你开发的代码通过很好的封装，也可以作为第三方库给别人使用。\n",
    "\n",
    "我们使用**pip**这个工具安装第三方库，在shell命令行环境下，输入：\n",
    "\n",
    "```bash\n",
    "% pip3 install 库名\n",
    "```\n",
    "\n",
    "显示库信息：\n",
    "\n",
    "```bash\n",
    "% pip3 show 库名\n",
    "```\n",
    "\n",
    "更新库：\n",
    "\n",
    "```\n",
    "% pip3 install --upgrade 库名\n",
    "```\n",
    "\n",
    "更新库到指定版本：\n",
    "\n",
    "```\n",
    "% pip3 install --upgrade 库名==版本号\n",
    "```\n",
    "\n",
    "\n",
    "我们访问pypi网站[链接](https://pypi.org)，在搜索栏中输入你想要的关键字，找到心仪的，然后使用**pip**工具在你的电脑shell命令行下安装就可以了。"
   ]
  }
 ],
 "metadata": {
  "kernelspec": {
   "display_name": "Python 3 (ipykernel)",
   "language": "python",
   "name": "python3"
  },
  "language_info": {
   "codemirror_mode": {
    "name": "ipython",
    "version": 3
   },
   "file_extension": ".py",
   "mimetype": "text/x-python",
   "name": "python",
   "nbconvert_exporter": "python",
   "pygments_lexer": "ipython3",
   "version": "3.9.17"
  },
  "widgets": {
   "application/vnd.jupyter.widget-state+json": {
    "state": {},
    "version_major": 2,
    "version_minor": 0
   }
  }
 },
 "nbformat": 4,
 "nbformat_minor": 4
}
