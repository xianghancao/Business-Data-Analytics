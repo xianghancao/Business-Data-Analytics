{
 "cells": [
  {
   "cell_type": "markdown",
   "metadata": {},
   "source": [
    "# Python介绍"
   ]
  },
  {
   "cell_type": "markdown",
   "metadata": {},
   "source": [
    "就像我们平时说话，人和人沟通是通过语言，我们称之为自然语言。"
   ]
  },
  {
   "cell_type": "markdown",
   "metadata": {},
   "source": [
    "人和计算机沟通也需要语言，我们称之为计算机语言。Python和我们听说的C语言，Java语言一样，也是一门计算机语言。"
   ]
  },
  {
   "cell_type": "markdown",
   "metadata": {},
   "source": [
    "## 1. python语言的优势"
   ]
  },
  {
   "cell_type": "markdown",
   "metadata": {},
   "source": [
    "《Introduction to Python for Econometrics, Statistics and Data Analysis》描述了Python语言的优势：\n",
    "\n",
    "> Python是一种流行的通用编程语言，它非常适合于各种各样的问题。\n",
    ">你需要一种可以作为端到端解决方案的语言，以便从访问基于web的服务、数据库、数据处理和统计计算。这些都可以用同一种语言完成。\n",
    ">- 数据处理和操作——特别是清洗和格式化\n",
    ">- 在数据集的采集和构造上实质上比R或MATLAB更有优势。\n",
    ">- 性能是一个问题，但不是最重要的。\n",
    ">- 免费是一个重要的考虑因素——Python可以自由部署，甚至可以部署到100个服务器上计算集群或云(例如Amazon Web Services或Azure)。\n",
    ">- Python，作为通用语言，是R/MATLAB/Ox/GAUSS/Julia的补充。"
   ]
  },
  {
   "cell_type": "markdown",
   "metadata": {},
   "source": [
    "## 2. 我的职业经验"
   ]
  },
  {
   "cell_type": "markdown",
   "metadata": {},
   "source": [
    "我开始接触python的时候，我就被她深深的吸引了。她拥有我之前学习过的编程语言绝大多数的优点，同时无需在多个语言上切换。"
   ]
  },
  {
   "cell_type": "markdown",
   "metadata": {},
   "source": [
    "我在之前的工作中，使用Python开发：\n",
    "- 网络数据的采集\n",
    "- 数据分析\n",
    "- 数据的可视化与建模\n",
    "\n",
    "\n",
    "所以，python在数据分析，系统开发和网站开发等都是可以胜任的，无需掌握过多的计算机语言。"
   ]
  },
  {
   "cell_type": "markdown",
   "metadata": {},
   "source": [
    "## 3. 安装Python"
   ]
  },
  {
   "cell_type": "markdown",
   "metadata": {},
   "source": [
    "### 3.1 安装miniconda\n",
    "要通过安装Miniconda来安装Python，你可以按照以下步骤进行操作：\n",
    "\n",
    "1. 下载miniconda：首先，访问Miniconda官方网站[https://docs.conda.io/projects/miniconda/en/latest/](https://docs.conda.io/projects/miniconda/en/latest/) 并下载适用于你操作系统的Anaconda发行版。选择正确的版本，如Windows、macOS或Linux。\n",
    "\n",
    "![miniconda](image/miniconda.png)\n",
    "\n",
    "2. 执行安装程序：一旦下载完成，找到下载的安装程序并运行它。根据安装向导的指示，选择安装选项和安装目录。通常情况下，建议保持默认选项，并勾选设置“Add Anaconda to my PATH environment variable”选项，这样Miniconda的命令行工具和Python都可以直接在命令行中使用。\n",
    "\n",
    "3. 完成安装：按照安装程序的指示进行安装，等待安装过程完成。\n"
   ]
  },
  {
   "cell_type": "markdown",
   "metadata": {},
   "source": [
    "## 4. 激活Python编程环境Jupyterlab"
   ]
  },
  {
   "cell_type": "markdown",
   "metadata": {},
   "source": [
    "### 4.1 进入命令行环境\n"
   ]
  },
  {
   "cell_type": "markdown",
   "metadata": {},
   "source": [
    "#### 4.1.1 如果你是Windows用户\n",
    "在系统菜单里找到并启动Anaconda PowerShell或者Anaconda PowerShell Prompt应用，打开\n",
    "\n",
    "![anaconda_powershell](image/anaconda_powershell2.png)\n"
   ]
  },
  {
   "cell_type": "markdown",
   "metadata": {},
   "source": [
    "#### 4.1.2 如果你是macOS用户"
   ]
  },
  {
   "cell_type": "markdown",
   "metadata": {},
   "source": [
    "如果你是macOS用户，找到并启动Terminal终端应用\n",
    "\n",
    "![Terminal](image/Terminal.png)\n"
   ]
  },
  {
   "cell_type": "markdown",
   "metadata": {},
   "source": [
    "### 4.2 安装jupyterlab"
   ]
  },
  {
   "cell_type": "markdown",
   "metadata": {},
   "source": [
    "在以上的命令行环境下，输入以下命令来安装jupyterlab：\n",
    "```shell\n",
    "conda install jupyterlab\n",
    "```\n",
    "输入完命令后，按回车键。\n",
    "\n",
    "如果提示是否继续(Y/N)，可以按回车键继续。"
   ]
  },
  {
   "cell_type": "markdown",
   "metadata": {},
   "source": [
    "然后，在以上的命令行环境下，输入以下命令来安装**jupyterlab环境的中文包**：\n",
    "\n",
    "```bash\n",
    "pip install jupyterlab-language-pack-zh-CN\n",
    "```"
   ]
  },
  {
   "cell_type": "markdown",
   "metadata": {},
   "source": [
    "### 4.3 进入Jupyter编程环境\n",
    "在以上命令行环境下，输入以下命令，并按回车键。\n",
    "\n",
    "```shell\n",
    "jupyter-lab\n",
    "```"
   ]
  },
  {
   "cell_type": "markdown",
   "metadata": {},
   "source": [
    "### 4.3.2 激活中文\n",
    "启动jupyterlab后，点击settings，dian jilanguage，选择中文简体\n",
    "\n",
    "![jupyterlab-zh-cn3](image/jupyterlab-zh-cn3.png)"
   ]
  },
  {
   "cell_type": "markdown",
   "metadata": {},
   "source": [
    "然后，页面提示，点击change and reload\n",
    "\n",
    "![jupyterlab-zh-cn2](image/jupyterlab-zh-cn2.png)"
   ]
  },
  {
   "cell_type": "markdown",
   "metadata": {},
   "source": [
    "### 4.4 下载本课程课件"
   ]
  },
  {
   "cell_type": "markdown",
   "metadata": {},
   "source": [
    "在学习通上下载课件压缩包，压缩包格式为“.zip”为后缀的格式。\n",
    "\n",
    "建议将压缩包拖拽到桌面进行解压缩。\n",
    "\n",
    "![zip](image/zip.png)"
   ]
  },
  {
   "cell_type": "markdown",
   "metadata": {},
   "source": [
    "使用本地解压缩软件，解压缩该zip格式压缩包。\n",
    "\n",
    "如果没有解压缩软件，可以下载**7zip**软件。"
   ]
  },
  {
   "cell_type": "markdown",
   "metadata": {},
   "source": [
    "### 4.5 用jupyter打开课件"
   ]
  },
  {
   "cell_type": "markdown",
   "metadata": {},
   "source": [
    "在桌面上新建一个文件夹【商务数据分析课件】，将刚才下载并解压缩后的文件夹放入此文件夹中。\n",
    "\n",
    "返回jupyter lab界面，找到desktop路径下的【商务数据分析课件】\n",
    "\n",
    "之后我们所有章节的课件，都可以通过以上方法，下载、解压缩、在jupyter-lab中打开。"
   ]
  },
  {
   "cell_type": "markdown",
   "metadata": {},
   "source": [
    "![documents2](image/documents2.png)"
   ]
  }
 ],
 "metadata": {
  "kernelspec": {
   "display_name": "Python 3 (ipykernel)",
   "language": "python",
   "name": "python3"
  },
  "language_info": {
   "codemirror_mode": {
    "name": "ipython",
    "version": 3
   },
   "file_extension": ".py",
   "mimetype": "text/x-python",
   "name": "python",
   "nbconvert_exporter": "python",
   "pygments_lexer": "ipython3",
   "version": "3.9.17"
  },
  "widgets": {
   "application/vnd.jupyter.widget-state+json": {
    "state": {},
    "version_major": 2,
    "version_minor": 0
   }
  }
 },
 "nbformat": 4,
 "nbformat_minor": 4
}
