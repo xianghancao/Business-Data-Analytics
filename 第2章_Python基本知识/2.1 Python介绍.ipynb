{
 "cells": [
  {
   "cell_type": "markdown",
   "metadata": {},
   "source": [
    "# Python介绍"
   ]
  },
  {
   "cell_type": "markdown",
   "metadata": {},
   "source": [
    "就像我们平时说话，人和人沟通是通过语言，我们称之为自然语言。"
   ]
  },
  {
   "cell_type": "markdown",
   "metadata": {},
   "source": [
    "人和计算机沟通也需要语言，我们称之为计算机语言。Python和我们听说的C语言，Java语言一样，也是一门计算机语言。"
   ]
  },
  {
   "cell_type": "markdown",
   "metadata": {},
   "source": [
    "## 1. python语言的优势"
   ]
  },
  {
   "cell_type": "markdown",
   "metadata": {},
   "source": [
    "《Introduction to Python for Econometrics, Statistics and Data Analysis》描述了Python语言的优势：\n",
    "\n",
    "> Python是一种流行的通用编程语言，它非常适合于各种各样的问题。\n",
    ">你需要一种可以作为端到端解决方案的语言，以便从访问基于web的服务、数据库、数据处理和统计计算。这些都可以用同一种语言完成。\n",
    ">- 数据处理和操作——特别是清洗和格式化\n",
    ">- 在数据集的采集和构造上实质上比R或MATLAB更有优势。\n",
    ">- 性能是一个问题，但不是最重要的。\n",
    ">- 免费是一个重要的考虑因素——Python可以自由部署，甚至可以部署到100个服务器上计算集群或云(例如Amazon Web Services或Azure)。\n",
    ">- Python，作为通用语言，是R/MATLAB/Ox/GAUSS/Julia的补充。"
   ]
  },
  {
   "cell_type": "markdown",
   "metadata": {},
   "source": [
    "## 2. 我的职业经验"
   ]
  },
  {
   "cell_type": "markdown",
   "metadata": {},
   "source": [
    "我开始接触python的时候，我就被她深深的吸引了。她拥有我之前学习过的编程语言绝大多数的优点，同时无需在多个语言上切换。"
   ]
  },
  {
   "cell_type": "markdown",
   "metadata": {},
   "source": [
    "我在之前的工作中，使用Python开发：\n",
    "- 网络数据的采集\n",
    "- 数据分析\n",
    "- 数据的可视化与建模\n",
    "\n",
    "\n",
    "所以，python在数据分析，系统开发和网站开发等都是可以胜任的，无需掌握过多的计算机语言。"
   ]
  },
  {
   "cell_type": "markdown",
   "metadata": {},
   "source": [
    "## 3. 安装Python"
   ]
  },
  {
   "cell_type": "markdown",
   "metadata": {},
   "source": [
    "要通过安装Anaconda来安装Python，你可以按照以下步骤进行操作：\n",
    "\n",
    "1. 下载Anaconda：首先，访问Anaconda官方网站（https://www.anaconda.com/products/individual）并下载适用于你操作系统的Anaconda发行版。选择正确的版本，如Windows、macOS或Linux。\n",
    "\n",
    "2. 执行安装程序：一旦下载完成，找到下载的安装程序并运行它。根据安装向导的指示，选择安装选项和安装目录。通常情况下，建议保持默认选项，并勾选设置“Add Anaconda to my PATH environment variable”选项，这样Anaconda的命令行工具和Python都可以直接在命令行中使用。\n",
    "3. 完成安装：按照安装程序的指示进行安装，等待安装过程完成。\n",
    "4. 开始使用Anaconda：安装完成后，你就可以使用Anaconda中包含的Python版本和工具了。你可以在命令行中运行Python或使用Anaconda Navigator等界面工具来管理软件包和环境。\n"
   ]
  }
 ],
 "metadata": {
  "kernelspec": {
   "display_name": "Python 3 (ipykernel)",
   "language": "python",
   "name": "python3"
  },
  "language_info": {
   "codemirror_mode": {
    "name": "ipython",
    "version": 3
   },
   "file_extension": ".py",
   "mimetype": "text/x-python",
   "name": "python",
   "nbconvert_exporter": "python",
   "pygments_lexer": "ipython3",
   "version": "3.9.17"
  },
  "widgets": {
   "application/vnd.jupyter.widget-state+json": {
    "state": {},
    "version_major": 2,
    "version_minor": 0
   }
  }
 },
 "nbformat": 4,
 "nbformat_minor": 4
}
