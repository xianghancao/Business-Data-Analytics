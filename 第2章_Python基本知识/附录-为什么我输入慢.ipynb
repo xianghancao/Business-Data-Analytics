{
 "cells": [
  {
   "cell_type": "markdown",
   "metadata": {},
   "source": [
    "# 为什么我输入这么慢？\n",
    "\n",
    "刚学习编程时，我们会遇到输入代码很慢，也就是打字比较慢的情况：\n",
    "\n",
    "**手指好像不听使唤，眼睛又要盯着屏幕，又要盯着自己的手指，脑子没有很累，脖子已经很酸了**\n",
    "\n",
    "\n",
    "\n",
    "## 如何提高打字速度呢？\n",
    "\n",
    "影响打字速度有很多因素：\n",
    "\n",
    "- 手指对键盘上字母的位置不熟悉，需要眼睛偶尔看下键盘，无法盲打\n",
    "- 平时打字呢，中文打得多，英文打得少，而编程恰恰都是在打英文单词\n",
    "\n",
    "解决这两个问题，最快最有效的方法，是把自己写过的代码，反复拿出来，重新敲上一遍，这是最省时间，最不费脑力的练习方法。\n",
    "\n",
    "\n",
    "所以，练习编程，不仅仅要练习大脑里神经元的联结，也需要练习手指肌肉的记忆。这样，手和脑配合默契的话，慢慢就会有编程的愉悦感。\n",
    "\n",
    "## 其他一些建议\n",
    "\n",
    "当然，还有一些其他的Tips，可以帮助到我们提高打字速度和舒适程度，比如：\n",
    "\n",
    "- 不要留过长的指甲，定期剪指甲\n",
    "- 眼睛不要盯着键盘，尝试盲打，并保持盲打的好习惯\n",
    "- 坐直腰板，调节电脑的屏幕高度，调节键盘的高度，让左右两臂自然下垂，肩膀保持水平姿态\n",
    "- 给自己配一个敲击起来比较舒适的键盘\n",
    "- 最后，练习编程的时间久了，记得多喝水，站起来活动身体。\n",
    "\n"
   ]
  },
  {
   "cell_type": "code",
   "execution_count": null,
   "metadata": {},
   "outputs": [],
   "source": []
  }
 ],
 "metadata": {
  "kernelspec": {
   "display_name": "Python 3 (ipykernel)",
   "language": "python",
   "name": "python3"
  },
  "language_info": {
   "codemirror_mode": {
    "name": "ipython",
    "version": 3
   },
   "file_extension": ".py",
   "mimetype": "text/x-python",
   "name": "python",
   "nbconvert_exporter": "python",
   "pygments_lexer": "ipython3",
   "version": "3.9.13"
  },
  "widgets": {
   "application/vnd.jupyter.widget-state+json": {
    "state": {},
    "version_major": 2,
    "version_minor": 0
   }
  }
 },
 "nbformat": 4,
 "nbformat_minor": 4
}
