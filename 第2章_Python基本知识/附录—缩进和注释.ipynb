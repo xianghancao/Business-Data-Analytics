{
 "cells": [
  {
   "cell_type": "markdown",
   "id": "2e1eceba-a83f-4200-ae07-ef972759f1ff",
   "metadata": {},
   "source": [
    "# 附录——缩进和注释\n",
    "## 1. 缩进\n",
    "Python是一种计算机编程语言，它和我们日常使用的语言，有很多相似之处。它有语法和语句块，对应我们自然语言的主谓宾，段落等概念。中文的书面语，每段开头的规则是空两格；而Python则是语句块第二行空4格，这就是“缩进”。\n",
    "\n",
    "```python\n",
    "# print absolute value of an integer:\n",
    "a = 100\n",
    "if a >= 0:\n",
    "    print(a)\n",
    "else:\n",
    "    print(-a)\n",
    "```\n",
    "\n",
    "缩进有利有弊。好处是强迫你写出格式化的代码，但没有规定缩进是几个空格还是Tab。按照约定俗成的惯例，应该始终坚持使用**4个空格**的缩进。\n",
    "\n",
    "![tab4](image/tab4.png)\n",
    "\n",
    "\n",
    "Python的缩进规则如下：\n",
    "- 使用空格或制表符进行缩进，但不要混合使用两者。\n",
    "- 推荐使用四个空格进行缩进，这也是官方推荐的缩进风格。\n",
    "- 每一级缩进都应该增加一个缩进层次。\n",
    "- 缩进的空格数必须在同一个代码块中保持一致。\n",
    "\n",
    "下面是一些示例代码，展示了Python中缩进的使用：\n",
    "\n",
    "```python\n",
    "if x > 0:\n",
    "    print(\"x 是正数\")\n",
    "    print(\"这是 if 代码块的一部分\")\n",
    "else:\n",
    "    print(\"x 是负数或零\")\n",
    "    print(\"这是 else 代码块的一部分\")\n",
    "print(\"这是 if-else 语句之外的代码\")\n",
    "\n",
    "def greet(name):\n",
    "    print(\"Hello, \" + name)\n",
    "    print(\"欢迎使用 Python\")\n",
    "```\n",
    "\n",
    "在上面的示例中，`if`语句和`else`语句的代码块都使用了缩进，它们是根据条件执行的不同代码分支。同样，函数`greet`的定义也使用了缩进。\n",
    "\n",
    "请注意，Python对缩进非常敏感，正确的缩进是保证代码能够正常运行的关键。如果缩进不正确，可能会导致语法错误或逻辑错误。\n"
   ]
  },
  {
   "cell_type": "markdown",
   "id": "b32745a5-2482-4187-a101-a65270be9bf1",
   "metadata": {},
   "source": [
    "## 2. 注释\n",
    "\n",
    "在Python中，注释是用来解释代码的文本，它们对于理解代码和提供说明非常重要。Python支持两种类型的注释：\n",
    "\n",
    "1. 单行注释：以井号符号 \"#\" 开头，后面跟着注释内容。单行注释只在同一行有效，用于解释该行代码的作用或提供相关说明。例如：\n",
    "\n",
    "```python\n",
    "# 这是一个单行注释，用于解释下面这行代码的作用\n",
    "x = 10  # 将值10赋给变量x\n",
    "```\n",
    "\n",
    "2. 多行注释：以三个连续的引号（单引号或双引号）开始和结束，可以跨越多行。多行注释通常用于提供更详细的解释、函数或类的文档字符串（docstring）等。例如：\n",
    "\n",
    "```python\n",
    "\"\"\"\n",
    "这是一个多行注释的示例，可以用来提供更详细的代码解释和说明。\n",
    "这里可以写多行的注释内容，可以跨越多行。\n",
    "\"\"\"\n",
    "```\n",
    "\n",
    "多行注释也可以使用单引号来表示，例如：`'''注释内容'''`。\n",
    "\n",
    "请注意，注释不会被解释器执行，它们只是用来提供说明和解释代码的作用。编写清晰、明确的注释可以帮助他人理解您的代码，并使代码更易于维护和修改。\n",
    "\n"
   ]
  }
 ],
 "metadata": {
  "kernelspec": {
   "display_name": "Python 3 (ipykernel)",
   "language": "python",
   "name": "python3"
  },
  "language_info": {
   "codemirror_mode": {
    "name": "ipython",
    "version": 3
   },
   "file_extension": ".py",
   "mimetype": "text/x-python",
   "name": "python",
   "nbconvert_exporter": "python",
   "pygments_lexer": "ipython3",
   "version": "3.9.17"
  }
 },
 "nbformat": 4,
 "nbformat_minor": 5
}
