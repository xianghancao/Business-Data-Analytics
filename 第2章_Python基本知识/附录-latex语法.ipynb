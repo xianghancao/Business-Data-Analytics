{
 "cells": [
  {
   "cell_type": "markdown",
   "metadata": {},
   "source": [
    "# LaTeX语法"
   ]
  },
  {
   "cell_type": "markdown",
   "metadata": {},
   "source": [
    "## 1. 什么是LaTeX？\n",
    "> LaTeX is a high-quality typesetting system; it includes features designed for the production of technical and scientific documentation. LaTeX is the de facto standard for the communication and publication of scientific documents. \n",
    "https://www.latex-project.org\n",
    "\n",
    "markdown支持LaTeX的语法格式，在jupyter的markdown模式下，通过输入LaTeX语法，来实现数学公式。"
   ]
  },
  {
   "cell_type": "markdown",
   "metadata": {},
   "source": [
    "## 2. 如何在jupyter下输入latex公式？\n",
    "在jupyter选择markdown模式下，想要在文字中混排数学符号$\\alpha$可以输入以下：\n",
    "```\n",
    "在jupyter选择markdown模式下，想要在文字中混排数学符号$\\alpha$可以输入以下：\n",
    "```\n",
    "一对美元符号\\\\$，中间为Latex的公式符号，运行之后，就可以显示出$\\alpha$。"
   ]
  },
  {
   "cell_type": "markdown",
   "metadata": {},
   "source": [
    "如果想要单独一行输入\n",
    "$$\n",
    "\\frac{\\alpha}{\\beta}\n",
    "$$\n",
    "可以输入：\n",
    "\n",
    "```\n",
    "$$\n",
    "\\frac{\\alpha}{\\beta}\n",
    "$$\n",
    "```"
   ]
  },
  {
   "cell_type": "markdown",
   "metadata": {
    "jp-MarkdownHeadingCollapsed": true,
    "tags": []
   },
   "source": [
    "## 3. 几种复杂的公式表示方式\n",
    "*公式等号对齐*\n",
    "```\n",
    "\\begin{align*}\n",
    "||Ax-b||^2 &= (Ax-b)(Ax-b)\\\\\n",
    "           &= (Ax-b)^T(ax-b)\\\\\n",
    "           &= (x^TA^T-b^T)(Ax-b)\\\\\n",
    "           &= (x^TATAx-2b^TAx+b^Tb)\n",
    "\\end{align*}\n",
    "```\n",
    "\n",
    "$$\n",
    "\\begin{align*}\n",
    "||Ax-b||^2 &= (Ax-b)(Ax-b)\\\\\n",
    "           &= (Ax-b)^T(ax-b)\\\\\n",
    "           &= (x^TA^T-b^T)(Ax-b)\\\\\n",
    "           &= (x^TATAx-2b^TAx+b^Tb)\n",
    "\\end{align*}\n",
    "$$\n"
   ]
  },
  {
   "cell_type": "markdown",
   "metadata": {},
   "source": [
    "## 4. LaTeX符号表"
   ]
  },
  {
   "cell_type": "markdown",
   "metadata": {},
   "source": [
    "下面为LaTeX的公式符号表：\n",
    "1. 希腊(Greek)和希伯来语(Hebrew)字母对照\n",
    "2. Latex数学公式构造方法\n",
    "3. 分隔符\n",
    "4. 可变大小的符号\n",
    "5. 标准函数名称\n",
    "6. 二元运算\n",
    "7. 箭头符号 \n",
    "8. 杂项符号(miscellaneous symbols)\n",
    "9. 数学发音\n",
    "10. 数组缓解\n",
    "11. 字体大小\n",
    "12. 其他符号\n",
    "13. 文字发音"
   ]
  },
  {
   "cell_type": "markdown",
   "metadata": {},
   "source": [
    "![latex](image/latex01.png)"
   ]
  },
  {
   "cell_type": "markdown",
   "metadata": {},
   "source": [
    "![latex](image/latex02.png)"
   ]
  },
  {
   "cell_type": "markdown",
   "metadata": {},
   "source": [
    "![latex](image/latex03.png)"
   ]
  },
  {
   "cell_type": "markdown",
   "metadata": {},
   "source": [
    "![latex](image/latex04.png)"
   ]
  }
 ],
 "metadata": {
  "kernelspec": {
   "display_name": "Python 3 (ipykernel)",
   "language": "python",
   "name": "python3"
  },
  "language_info": {
   "codemirror_mode": {
    "name": "ipython",
    "version": 3
   },
   "file_extension": ".py",
   "mimetype": "text/x-python",
   "name": "python",
   "nbconvert_exporter": "python",
   "pygments_lexer": "ipython3",
   "version": "3.9.17"
  },
  "widgets": {
   "application/vnd.jupyter.widget-state+json": {
    "state": {},
    "version_major": 2,
    "version_minor": 0
   }
  }
 },
 "nbformat": 4,
 "nbformat_minor": 4
}
