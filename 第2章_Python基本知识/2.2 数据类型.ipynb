{
 "cells": [
  {
   "cell_type": "markdown",
   "id": "43bc58e9-4cce-4c2e-a1a9-67e1f5da68a0",
   "metadata": {},
   "source": [
    "# 数据类型"
   ]
  },
  {
   "cell_type": "markdown",
   "id": "84cafd95-cca6-45bc-a95c-2f29bb338eea",
   "metadata": {},
   "source": [
    "## 1. 关键字与标识符"
   ]
  },
  {
   "cell_type": "markdown",
   "id": "c102a4b6-d140-4da8-b875-bca58caee8fb",
   "metadata": {},
   "source": [
    "### （一) 关键字"
   ]
  },
  {
   "cell_type": "markdown",
   "id": "631645ed-8aeb-443d-91fe-c59810901364",
   "metadata": {},
   "source": [
    "关键字（Keyword），是Python语言预设的具有特殊用途的专用词汇。Python的常见关键字如下："
   ]
  },
  {
   "cell_type": "markdown",
   "id": "c2f1e68f-457d-4af5-9ba4-61d209a4c05a",
   "metadata": {},
   "source": [
    "|关键词| | | | | |\n",
    "|---|---|---|---|---|---|\n",
    "|and|del|from|not|while|as|elif|for|\n",
    "|global|or|with|assert|else|if|pass|lambda|\n",
    "|yield|break|except|import|print|class|exec|try|\n",
    "|in|raise|continue|finally|is|return|def|"
   ]
  },
  {
   "cell_type": "markdown",
   "id": "1bb80d14-b5f5-4cae-8ba3-e0db5a7bcf06",
   "metadata": {},
   "source": [
    "### 练习\n",
    "使用print('')语句，输出 “Hello, World!”"
   ]
  },
  {
   "cell_type": "code",
   "execution_count": null,
   "id": "5c415522-3b11-47fe-9725-9b95eecd5d84",
   "metadata": {},
   "outputs": [],
   "source": []
  },
  {
   "cell_type": "markdown",
   "id": "74720882-31e8-4b7d-b4a6-aff92ca635f8",
   "metadata": {},
   "source": [
    "### （二）标识符"
   ]
  },
  {
   "cell_type": "markdown",
   "id": "51ba9f9b-db5e-4e3b-8a09-0bb6d9ae8054",
   "metadata": {},
   "source": [
    "标识符（Identifier）是Python中用于变量、常量、函数、语句块等命名的一串字符。"
   ]
  },
  {
   "cell_type": "markdown",
   "id": "3cb1e149-64e8-4d27-82b9-957768562dab",
   "metadata": {},
   "source": [
    "命名标识符须遵循以下规则：\n",
    "1. 标识符由字母、数字、下划线“_”或美元符号“$”等组合构成；\n",
    "2. 标识符的首个字符不能是数字；\n",
    "3. 不能使用关键字；\n",
    "4. 标识符大小写敏感"
   ]
  },
  {
   "cell_type": "markdown",
   "id": "10d100d1-35b5-458a-979b-183e84746049",
   "metadata": {},
   "source": [
    "例如gduf2020、_gduf2020都是合法标识符，而2020gduf不是标识符。\n",
    "由于Python严格区分字符的大小写，所以Pi和pi是两个不同的标识符。  \n",
    "为了提高程序的可读性，标识符命名要尽可能“见其名而知其意”。"
   ]
  },
  {
   "cell_type": "markdown",
   "id": "c9aa2387-cb4e-42e6-9032-b8ab4b768cd8",
   "metadata": {},
   "source": [
    "### 练习\n",
    "请设计一个变量的名称，用来表示学生的姓名、学生的年龄、学生的专业"
   ]
  },
  {
   "cell_type": "code",
   "execution_count": null,
   "id": "e03ca989-3ccb-4088-9c68-ad29c53aabf9",
   "metadata": {},
   "outputs": [],
   "source": []
  },
  {
   "cell_type": "markdown",
   "id": "86471fc3-bc74-4005-8066-b7d2bf55ebf6",
   "metadata": {},
   "source": [
    "## 2. 变量与赋值"
   ]
  },
  {
   "cell_type": "markdown",
   "id": "7c215e62-6ffa-49ba-8bbc-051b11a89636",
   "metadata": {},
   "source": [
    "变量（Variable）是计算机语言中能记忆数据的抽象概念。程序通过变量名（标识符表示）来访问变量。  \n",
    "在程序执行过程中，一个变量名代表其记忆的数据所存储的内存区域。\n",
    "Python程序通过变量名使用该变量指代的内存区域，从该内存区域读取数据或将某项数据保存到该区域中。  \n",
    "例如anInteger=100语句表示将整数100保存到变量anInteger所指代的内存区域。"
   ]
  },
  {
   "cell_type": "code",
   "execution_count": 1,
   "id": "8bc88ef0-f792-40e9-848d-2f4bbb4657dd",
   "metadata": {
    "tags": []
   },
   "outputs": [],
   "source": [
    "anInteger = 100 # 一个整数型数据\n",
    "aFloat = 999.99 # 一个浮点型数据\n",
    "aString = 'Hello, world!' # 一个字符串"
   ]
  },
  {
   "cell_type": "code",
   "execution_count": 2,
   "id": "40c875dc-80f7-4e3a-8d37-fb3c20c1cacf",
   "metadata": {
    "tags": []
   },
   "outputs": [
    {
     "name": "stdout",
     "output_type": "stream",
     "text": [
      "100\n",
      "999.99\n",
      "Hello, world!\n",
      "anInteger= 100 ,aFloat= 999.99 ,aString= Hello, world!\n",
      "anInteger= 100, aFloat= 999.99, aString= Hello, world!\n"
     ]
    }
   ],
   "source": [
    "print(anInteger)\n",
    "print(aFloat)\n",
    "print(aString)\n",
    "print('anInteger=', anInteger, ',aFloat=', aFloat, ',aString=', aString)\n",
    "print('anInteger= %s, aFloat= %s, aString= %s' %(anInteger, aFloat, aString))"
   ]
  },
  {
   "cell_type": "markdown",
   "id": "ffa372b9-4673-456f-b7e4-dd1bd5b454e5",
   "metadata": {},
   "source": [
    "以#开头的语句是注释，注释是给人看的，可以是任意内容，解释器会忽略掉注释。"
   ]
  },
  {
   "cell_type": "markdown",
   "id": "cf476b62-12fe-4c51-88d9-d0f8c2ffda4b",
   "metadata": {},
   "source": [
    "### 练习\n",
    "1. 定义一个变量表示学生的姓名，并赋值给它\"John\"\n",
    "2. 定义一个变量表示学生的年龄，并赋值给它\"21\"\n",
    "3. 定义一个变量表示学生的专业，并赋值给它\"Math\"\n",
    "4. 使用print语句打印上面的三个变量"
   ]
  },
  {
   "cell_type": "code",
   "execution_count": null,
   "id": "6f7eb827-67da-4f7d-8f93-26fbb7de242a",
   "metadata": {},
   "outputs": [],
   "source": []
  },
  {
   "cell_type": "markdown",
   "id": "f7c413da-bd32-4486-bbdd-50f74919548b",
   "metadata": {},
   "source": [
    "## 3. 常用数据类型\n",
    "计算机顾名思义就是可以做数学计算的机器，因此，计算机程序理所当然地可以处理各种数值。\n",
    "\n",
    "但是，计算机能处理的远不止数值，还可以处理文本、图形、音频、视频、网页等各种各样的数据，不同的数据，需要定义不同的数据类型。在Python中，能够直接处理的数据类型有以下几种：\n",
    "\n",
    "### （一）整数\n",
    "\n",
    "Python可以处理任意大小的整数，当然包括负整数，在程序中的表示方法和数学上的写法一模一样，例如：`1`，`100`，`-8080`，`0`，等等。\n",
    "\n",
    "计算机由于使用二进制，所以，有时候用十六进制表示整数比较方便，十六进制用`0x`前缀和0-9，a-f表示，例如：`0xff00`，`0xa5b4c3d2`，等等。\n",
    "\n",
    "对于很大的数，例如`10000000000`，很难数清楚0的个数。Python允许在数字中间以`_`分隔，因此，写成`10_000_000_000`和`10000000000`是完全一样的。十六进制数也可以写成`0xa1b2_c3d4`。\n"
   ]
  },
  {
   "cell_type": "markdown",
   "id": "b0473fd1-3f0b-4d49-9166-cf380775e226",
   "metadata": {},
   "source": [
    "### （二）浮点数\n",
    "\n",
    "浮点数也就是小数，之所以称为浮点数，是因为按照科学记数法表示时，一个浮点数的小数点位置是可变的，比如，$1.23\\times10^9$ 和 $12.3\\times10^8$ 是完全相等的。\n",
    "\n",
    "浮点数可以用数学写法，如`1.23`，`3.14`，`-9.01`，等等。但是对于很大或很小的浮点数，就必须用科学计数法表示，把10用e替代，$1.23\\times10^9$就是`1.23e9`，或者`12.3e8`，0.000012可以写成`1.2e-5`，等等。\n",
    "\n",
    "整数和浮点数在计算机内部存储的方式是不同的，整数运算永远是精确的，而浮点数运算则可能会有四舍五入的误差。\n",
    "\n"
   ]
  },
  {
   "cell_type": "markdown",
   "id": "990d734e-d11a-467d-9a5b-083924f69297",
   "metadata": {},
   "source": [
    "\n",
    "### （三） 字符串\n",
    "\n",
    "字符串是以单引号`'`或双引号`\"`括起来的任意文本，比如`'abc'`，`\"xyz\"`等等。请注意，`''`或`\"\"`本身只是一种表示方式，不是字符串的一部分，因此，字符串`'abc'`只有`a`，`b`，`c`这3个字符。如果`'`本身也是一个字符，那就可以用`\"\"`括起来，比如`\"I'm OK\"`包含的字符是`I`，`'`，`m`，空格，`O`，`K`这6个字符。\n",
    "\n",
    "如果需要拼接字符串，可以使用`+`号，例如拼接'abc'和'xyz'这两个字符串：\n"
   ]
  },
  {
   "cell_type": "code",
   "execution_count": 3,
   "id": "aa4939cc-0243-4ac6-ae55-8e3759cc213c",
   "metadata": {
    "tags": []
   },
   "outputs": [
    {
     "data": {
      "text/plain": [
       "'abcxyz'"
      ]
     },
     "execution_count": 3,
     "metadata": {},
     "output_type": "execute_result"
    }
   ],
   "source": [
    "'abc' + 'xyz'"
   ]
  },
  {
   "cell_type": "markdown",
   "id": "fd2cfb16-6723-4fea-a87f-7ef114569f5e",
   "metadata": {},
   "source": [
    "### 练习\n",
    "请拼接如下三个字符串：'123', '456', '789'为一个字符串。"
   ]
  },
  {
   "cell_type": "code",
   "execution_count": null,
   "id": "5506d3af-fe8f-4831-a495-29c1aa815af2",
   "metadata": {},
   "outputs": [],
   "source": []
  },
  {
   "cell_type": "markdown",
   "id": "1408d3da-b943-43a8-b394-3cc8bc87b7b7",
   "metadata": {},
   "source": [
    "### （四）列表\n",
    "\n",
    "列表（List）是python语言编程使用最多的一种数据结构。  \n",
    "它是一种**有序**的集合，可以随时添加和删除其中的元素。"
   ]
  },
  {
   "cell_type": "code",
   "execution_count": 4,
   "id": "eda5b732-6f55-4374-bdf9-0343027df13c",
   "metadata": {
    "tags": []
   },
   "outputs": [],
   "source": [
    "l = [6, 3.2, '苹果']"
   ]
  },
  {
   "cell_type": "markdown",
   "id": "9b9c5d1c-8dc6-47df-9140-b48ba7106623",
   "metadata": {},
   "source": [
    "列表是一个可变的有序表，所以，可以往列表中追加元素到末尾："
   ]
  },
  {
   "cell_type": "code",
   "execution_count": 5,
   "id": "aa9a0151-2b3d-4489-9d04-ae0c8e179e81",
   "metadata": {
    "tags": []
   },
   "outputs": [
    {
     "data": {
      "text/plain": [
       "[6, 3.2, '苹果', '香蕉']"
      ]
     },
     "execution_count": 5,
     "metadata": {},
     "output_type": "execute_result"
    }
   ],
   "source": [
    "l.append('香蕉')\n",
    "l"
   ]
  },
  {
   "cell_type": "markdown",
   "id": "c8ed4eb7-6442-4579-9e13-c3f1cf3fbec7",
   "metadata": {},
   "source": [
    "要删除指定位置的元素，用`pop(i)`方法，其中`i`是索引位置：\n"
   ]
  },
  {
   "cell_type": "code",
   "execution_count": 6,
   "id": "ad3401a7-13fe-4408-97f6-ea028c44ef3f",
   "metadata": {
    "tags": []
   },
   "outputs": [
    {
     "data": {
      "text/plain": [
       "[6, '苹果', '香蕉']"
      ]
     },
     "execution_count": 6,
     "metadata": {},
     "output_type": "execute_result"
    }
   ],
   "source": [
    "l.pop(1)\n",
    "l"
   ]
  },
  {
   "cell_type": "markdown",
   "id": "2de018f5-9809-447a-94e4-44ced99b9585",
   "metadata": {},
   "source": [
    "要把某个元素替换成别的元素，可以直接赋值给对应的索引位置：\n"
   ]
  },
  {
   "cell_type": "code",
   "execution_count": 7,
   "id": "e1c18fb6-8e5c-4c73-987e-405c0816f967",
   "metadata": {
    "tags": []
   },
   "outputs": [
    {
     "data": {
      "text/plain": [
       "[6, 1.9, '香蕉']"
      ]
     },
     "execution_count": 7,
     "metadata": {},
     "output_type": "execute_result"
    }
   ],
   "source": [
    "l[1] = 1.9\n",
    "l"
   ]
  },
  {
   "cell_type": "markdown",
   "id": "0e0b63e2-b1d1-4808-a8ab-d7be63e58534",
   "metadata": {},
   "source": [
    "列表中的元素的索引位置是从0开始，直到列表的长度-1结束。"
   ]
  },
  {
   "cell_type": "markdown",
   "id": "fc15b53f-5b8d-4f71-89b0-58b70475640c",
   "metadata": {},
   "source": [
    "\n",
    "列表元素也可以是另一个列表，比如：\n"
   ]
  },
  {
   "cell_type": "code",
   "execution_count": 8,
   "id": "36eb1ad3-8a35-45e0-b81e-49a758e9c298",
   "metadata": {
    "tags": []
   },
   "outputs": [
    {
     "data": {
      "text/plain": [
       "3"
      ]
     },
     "execution_count": 8,
     "metadata": {},
     "output_type": "execute_result"
    }
   ],
   "source": [
    "l = [6, 1.9, ['苹果', '香蕉']]  #这种称之为嵌套\n",
    "len(l)"
   ]
  },
  {
   "cell_type": "markdown",
   "id": "0b6d42bb-0c3b-4aaf-badb-3ad758ef804a",
   "metadata": {},
   "source": [
    "\n",
    "如果一个列表中一个元素也没有，就是一个空的列表，它的长度为0：\n"
   ]
  },
  {
   "cell_type": "code",
   "execution_count": 9,
   "id": "9eb2b4ca-959c-4cb7-a1bd-4d92e679b611",
   "metadata": {
    "tags": []
   },
   "outputs": [
    {
     "data": {
      "text/plain": [
       "0"
      ]
     },
     "execution_count": 9,
     "metadata": {},
     "output_type": "execute_result"
    }
   ],
   "source": [
    "l = []\n",
    "len(l)"
   ]
  },
  {
   "cell_type": "markdown",
   "id": "110756bf-0f39-48ad-8694-c892aed01572",
   "metadata": {},
   "source": [
    "**列表的常用方法**\n",
    "\n",
    "列表支持以下方法：\n",
    "\n",
    "| 语法                   | 描述                                                         |\n",
    "| --- | --- |\n",
    "| L.append(x)            | 将元素x追加到列表L的尾部                                 |\n",
    "| L.count(x)             | 返回元素x在列表L中出现的次数                             |\n",
    "| L.extend(m)            | 将列表m的项追加到L的结尾处，操作符+=完成同样的功能      |\n",
    "| L.index(x, start, end) | 返回元素x在列表L中(或L的start:end分片中)最左边出现的索引位置，否则会产生一个ValueError异常 |\n",
    "| L.insert(i, x)  | 在索引位置i处将元素x插入列表L                        |\n",
    "| L.pop()           | 返回并移除list L最右边的元素                             |\n",
    "| L.pop(i)          | 返回并移除L中索引位置int i处的元素                       |\n",
    "| L.remove(x)       | 从list L中移除最左边出现的元素x，如果找不到x就产生ValueError异常 |\n"
   ]
  },
  {
   "cell_type": "markdown",
   "id": "0418454e-2331-41f5-8bb7-0efbf03fc20b",
   "metadata": {},
   "source": [
    "### 练习\n",
    "1. 创建一个列表包含元素：'100'和'hoffman', 然后在列表后面追加一个新元素70。\n",
    "2. 计算上述列表的长度"
   ]
  },
  {
   "cell_type": "code",
   "execution_count": null,
   "id": "7b4d0cc4-6908-4407-9949-7139989e384e",
   "metadata": {},
   "outputs": [],
   "source": []
  },
  {
   "cell_type": "markdown",
   "id": "08332a2a-5dc7-478e-8fe5-29ea981abb51",
   "metadata": {},
   "source": [
    "### （五）元祖\n",
    "另一种有序列表叫元组：tuple。\n",
    "\n",
    "> 这个单词怎么读呢？ Python之父吉多·范罗苏姆在 [Twitter](https://twitter.com/gvanrossum/status/86144775731941376) 上说：“ 每周的一三五我会把 tuple 念作 **too-pull**，而二四六我喜欢念作 **tub-pull**。至于礼拜天嘛，我从不会讨论这些。:)”  \n",
    ">\n",
    "> 引自《Python语言及其应用》\n",
    "\n"
   ]
  },
  {
   "cell_type": "markdown",
   "id": "dc236d42-1b27-4165-bbbb-9ef0312d1169",
   "metadata": {},
   "source": [
    "元祖和列表非常类似，但是tuple一旦初始化就不能修改，比如：\n",
    "\n",
    "```python\n",
    ">>> t = (6, 1.9,  '香蕉')\n",
    ">>> type(t) # 看看它的类型\n",
    "```\n",
    "\n",
    "\n",
    "现在，这个元祖不能变了，它也没有append()，insert()这样的方法。其他获取元素的方法和列表是一样的，你可以正常地使用`t[0]`，`train[-1]`，但不能赋值成另外的元素。\n",
    "通常我们使用元祖来存储一些无法被修改的安全信息。"
   ]
  },
  {
   "cell_type": "markdown",
   "id": "e459e9aa-8ac2-4607-82d0-a5093ad35c8f",
   "metadata": {},
   "source": [
    "### 练习\n",
    "创建一个元祖变量名称为account_info, 其中包含两个元素'John', '123456'，  \n",
    "然后尝试令account_info[1] = '654321'。"
   ]
  },
  {
   "cell_type": "code",
   "execution_count": null,
   "id": "f39b401d-159f-452f-ab16-6cc9b2f1cce5",
   "metadata": {},
   "outputs": [],
   "source": []
  },
  {
   "cell_type": "markdown",
   "id": "d668d423-6100-48c8-beae-396f4ea294ad",
   "metadata": {},
   "source": [
    "### （六）字典\n",
    "我们要学习的第三个数据结构是字典（dict）全称dictionary。它是Python中唯一的映射类型的数据结构。\n",
    "\n",
    "举个例子，假设要根据同学的名字查找对应的成绩，如果用列表实现，需要两个列表：\n",
    "\n",
    "```python\n",
    "names = ['Michael', 'Bob', 'Tracy']\n",
    "scores = [95, 75, 85]\n",
    "```\n",
    "\n",
    "给定一个名字，要查找对应的成绩，就先要在names中找到对应的位置，再从scores取出对应的成绩，列表越长，耗时越长。\n",
    "\n",
    "如果用字典实现，只需要一个“名字”-“成绩”的对照表，直接根据名字查找成绩，无论这个表有多大，查找速度都不会变慢。用Python写一个字典如下：\n",
    "\n",
    "```python\n",
    ">>> d = {'Michael': 95, 'Bob': 75, 'Tracy': 85}\n",
    ">>> d['Michael']\n",
    "95\n",
    "```\n"
   ]
  },
  {
   "cell_type": "markdown",
   "id": "d8d97d6b-99af-43bb-92bf-7ebd630d9109",
   "metadata": {},
   "source": [
    "请务必注意，字典内部存放的顺序和键放入的顺序是没有关系的。\n",
    "\n",
    "和列表比较，字典有以下几个特点：\n",
    "\n",
    "1. 查找和插入的速度极快，不会随着key的增加而变慢；\n",
    "2. 需要占用大量的内存，内存浪费多。\n",
    "\n",
    "而列表相反：\n",
    "\n",
    "1. 查找和插入的时间随着元素的增加而增加；\n",
    "2. 占用空间小，浪费内存很少。\n",
    "\n",
    "所以，字典是用空间来换取时间的一种方法。\n",
    "\n",
    "字典可以用在需要高速查找的很多地方，在Python代码中几乎无处不在，正确使用字典非常重要，需要牢记的第一条就是字典的key必须是**不可变对象**。\n",
    "\n"
   ]
  },
  {
   "cell_type": "markdown",
   "id": "d9738a33-3f48-4a93-8111-e15ffcb6c2d2",
   "metadata": {},
   "source": [
    "字典有如下方法：\n",
    "\n",
    "| 语法                | 描述                                                         |\n",
    "| --- | --- |\n",
    "| d.clear()           | 从字典d中移除所有项                                         |\n",
    "| d.copy()            | 返回字典d的浅拷贝                                           |\n",
    "| d.fromkeys(s, v)  | 返回一个dict，该字典的键为序列s中的项，值为None或v(如果给定 了参数v) |\n",
    "| d.get(k)            | 返回键k相关联的值，如果k不在字典d中就返回None               |\n",
    "| d.get(k, v)         | 返回键k相关联的值，如果k不在字典d中就返回v                  |\n",
    "| d.items()           | 返回字典d中所有(key, value)对的视图                     |\n",
    "| d.keys()            | 返回字典d中所有键的视图                                 |\n",
    "| d.pop(k)            | 返回键k相关联的值，并移除键为k的项，如果k不包含在d中就产生KeyError异常|\n",
    "| d.pop(k, v)               | 返回键k相关联的值，并移除键为k的项，如果k不包含在d中就返回v  |\n",
    "| d.popitem()               | 返回并移除字典d中一个任意的(key, value)对，如果d为空就产 生KeyError异常 |\n",
    "| d.setdefault(k, v)  | 与dict.get()方法一样，不同之处在于，如果k没有包含在字典d中 就插入一个键为k的新项，其值为None或v(如果给定了参数v) |\n",
    "| d.update(a)               | 将a中每个尚未包含在字典d中的(key, value)对添加到d，对同时 包含在d与a中的每个键，使用a中对应的值替换d中对应的值——a可以是 字典，也可以是(key, value)对的一个iterable，或关键字参数 |\n",
    "| d.values()                | 返回字典d中所有值的视图[*]                                  |\n",
    "\n",
    "&nbsp;\n",
    "\n",
    "\n",
    "\n",
    "\n",
    "\n",
    "\n"
   ]
  },
  {
   "cell_type": "markdown",
   "id": "702f67a7-b80d-402b-bd77-38abb6355ffb",
   "metadata": {},
   "source": [
    "### 练习\n",
    "创建一个字典变量，名为student_info, 包含三个键-值对：\n",
    "\n",
    "- 'name': 'John'\n",
    "- 'age': 21\n",
    "- 'major':'math'"
   ]
  },
  {
   "cell_type": "code",
   "execution_count": null,
   "id": "de9bf64f-7fb3-4094-a83f-7142c4129fec",
   "metadata": {},
   "outputs": [],
   "source": []
  },
  {
   "cell_type": "markdown",
   "id": "a9931367-d11b-4208-85d6-59408f849e0a",
   "metadata": {},
   "source": [
    "## 4. 运算符与表达式"
   ]
  },
  {
   "cell_type": "markdown",
   "id": "6c7633b3-fcca-42fc-beb5-914336613129",
   "metadata": {},
   "source": [
    "运算符包括算术运算符、关系运算符、逻辑运算符、赋值运算符欧等等。  \n",
    "我们先来看看逻辑运算符：and、or和not，逻辑运算符的操作数是逻辑值True（真）和False（假）。not属于一元运算符，只有一个操作数；or和and属于二元运算符，有两个操作数。"
   ]
  },
  {
   "cell_type": "markdown",
   "id": "40793f3b-6aeb-4918-966d-4fcb75a15e16",
   "metadata": {},
   "source": [
    "<center>表 逻辑运算符的运算法则</center>\n",
    "\n",
    "|操作数X|操作数Y|X and Y|X or Y| not X|\n",
    "|---|---|---|---|---|\n",
    "|True|True|True|True|False|\n",
    "|True|False|False|True|False|\n",
    "|False|True|False|True|True|\n",
    "|False|False|False|False|True|"
   ]
  },
  {
   "cell_type": "markdown",
   "id": "ec4918ee-e717-4d0e-864e-c2e8d316500c",
   "metadata": {},
   "source": [
    "表达式是由变量、对象、方法调用和操作符等元素组成的式子。例如`a+b`, `a>b`, `a and b`都为表达式。\n",
    "\n",
    "**当表达式出现多个运算符时，Python将按照运算符的优先次序从高到低进行计算**。"
   ]
  },
  {
   "cell_type": "markdown",
   "id": "de1d881a-7c5b-4b32-9681-166acc83960d",
   "metadata": {},
   "source": [
    "<center>运算符的优先次序</center>\n",
    "\n",
    "|运算符|描述（优先次序从高到低）|\n",
    "|---|---|\n",
    "|**|指数|\n",
    "|~, + , -|按位翻转，正号，负号|\n",
    "|*, /, %, //|乘、除、取模和取整除|\n",
    "|+, -|加法、减法|\n",
    "|>>, <<|右移|\n",
    "|&,|位与|\n",
    "|^, \\||位运算符|\n",
    "|<,<=,>,>=,!=,==|比较运算符|\n",
    "|is, is not|身份运算符|\n",
    "|in, not in|成员运算符|\n",
    "|not, or, and|逻辑运算符|"
   ]
  },
  {
   "cell_type": "markdown",
   "id": "5329fbc4-de4c-4e9e-8eef-532d5ebac789",
   "metadata": {},
   "source": [
    "### 练习\n",
    "以下表达式的运行结果是多少？  \n",
    "\n",
    "- 1 + 2\\**2\n",
    "- 2>1 and 3<2\n",
    "- not 2>1\n",
    "- 2 == 2\n",
    "- 3 != 2\n",
    "- a = True; (a is False) or (a is not True) or (a is not False)\n",
    "- a = [1,2,3,4,5,6]; not (3 not in a)\n",
    "- a=[2+2\\**4,3+2\\**1,4+1\\**5,4]; ((not(5 not in a) and (10 in a)) is False) == (not(5 not in a) and (10 in a) is False)\n",
    "\n",
    "可以粘贴并运行。"
   ]
  },
  {
   "cell_type": "code",
   "execution_count": null,
   "id": "c04ef2d9-3e09-4b5f-9e2c-dfae85392034",
   "metadata": {},
   "outputs": [],
   "source": []
  }
 ],
 "metadata": {
  "kernelspec": {
   "display_name": "Python 3 (ipykernel)",
   "language": "python",
   "name": "python3"
  },
  "language_info": {
   "codemirror_mode": {
    "name": "ipython",
    "version": 3
   },
   "file_extension": ".py",
   "mimetype": "text/x-python",
   "name": "python",
   "nbconvert_exporter": "python",
   "pygments_lexer": "ipython3",
   "version": "3.9.17"
  }
 },
 "nbformat": 4,
 "nbformat_minor": 5
}
