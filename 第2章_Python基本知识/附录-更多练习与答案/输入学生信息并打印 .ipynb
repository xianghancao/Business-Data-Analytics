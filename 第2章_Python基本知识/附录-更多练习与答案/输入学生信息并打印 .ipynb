{
 "cells": [
  {
   "cell_type": "markdown",
   "id": "f515bfe9-9e38-4f01-9b5a-36dcf92a9cc5",
   "metadata": {},
   "source": [
    "# 练习：输入学生信息，并输出到屏幕\n",
    "\n",
    "使用input()让用户依次输入姓名、性别、年龄和城市，并使用print()输出到屏幕上。\n",
    "\n",
    "\n",
    "使用语句：\n",
    "- input()\n",
    "- print()\n",
    "\n",
    "\n",
    "\n",
    "\n",
    "\n",
    "\n"
   ]
  },
  {
   "cell_type": "code",
   "execution_count": null,
   "id": "a9cd913b-8dc4-49b6-a0d2-30ef789ca0ce",
   "metadata": {},
   "outputs": [],
   "source": [
    "# 从这里开始\n",
    "\n"
   ]
  },
  {
   "cell_type": "markdown",
   "id": "bc0fdb7f-cdf3-4935-a0d8-b2a8c2cc87a8",
   "metadata": {},
   "source": [
    "\n",
    "## **答案**\n",
    "\n",
    "```python\n",
    "name = input('please enter your name:')\n",
    "print('Your name:', name)\n",
    "gender = input('please enter your gender:')\n",
    "print('Your gender:', gender)\n",
    "age = input('please enter your age:')\n",
    "print('Your age:', age)\n",
    "city = input('please enter your city:')\n",
    "print('Your city:', city)\n",
    "```\n",
    "\n",
    "\n",
    "\n",
    "\n"
   ]
  }
 ],
 "metadata": {
  "kernelspec": {
   "display_name": "Python 3 (ipykernel)",
   "language": "python",
   "name": "python3"
  },
  "language_info": {
   "codemirror_mode": {
    "name": "ipython",
    "version": 3
   },
   "file_extension": ".py",
   "mimetype": "text/x-python",
   "name": "python",
   "nbconvert_exporter": "python",
   "pygments_lexer": "ipython3",
   "version": "3.9.17"
  },
  "widgets": {
   "application/vnd.jupyter.widget-state+json": {
    "state": {},
    "version_major": 2,
    "version_minor": 0
   }
  }
 },
 "nbformat": 4,
 "nbformat_minor": 5
}
