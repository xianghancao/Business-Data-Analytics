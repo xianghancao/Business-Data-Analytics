{
 "cells": [
  {
   "cell_type": "markdown",
   "id": "faf56f1f-dfc1-48a3-8d3d-4a86a0a92439",
   "metadata": {},
   "source": [
    "# 函数与模块"
   ]
  },
  {
   "cell_type": "markdown",
   "id": "59c7818b-9e1f-4b3d-b777-ca8ab41d10d0",
   "metadata": {},
   "source": [
    "## 一、函数"
   ]
  },
  {
   "cell_type": "markdown",
   "id": "0a3fdff4-13ed-409a-8d4b-617931ec3668",
   "metadata": {},
   "source": [
    "在Python中，定义一个函数要使用`def`语句，依次写出函数名、括号、括号中的参数和冒号`:`，然后，在缩进块中编写函数体，函数的返回值用`return`语句返回。\n",
    "\n",
    "```python\n",
    "def 函数名(参数1, 参数2, ···):   # 注意冒号是语法必备元素\n",
    "    函数语句块                  # 缩进表明语句块内的所有语句都在本函数作用域下\n",
    "    [return 表达式].           # 方括号表示可能有返回值，也可能没有返回值\n",
    "```"
   ]
  },
  {
   "cell_type": "markdown",
   "id": "f4705dc8-f732-4702-9986-0c5410d39a29",
   "metadata": {},
   "source": [
    "我们以自定义一个求绝对值的`my_abs`函数为例：\n",
    "\n"
   ]
  },
  {
   "cell_type": "code",
   "execution_count": 1,
   "id": "6c48a335-ffe4-49c1-81f7-cc70c6a48956",
   "metadata": {},
   "outputs": [],
   "source": [
    "def my_abs(x):\n",
    "    if x >= 0:\n",
    "        return x\n",
    "    else:\n",
    "        return -x"
   ]
  },
  {
   "cell_type": "markdown",
   "id": "b156fe2f-c6a0-443f-a97d-c6521e9d8320",
   "metadata": {},
   "source": [
    "现在我们调用它看看："
   ]
  },
  {
   "cell_type": "code",
   "execution_count": 3,
   "id": "5adb6569-7b67-40bc-98cb-f2062edcadbc",
   "metadata": {},
   "outputs": [
    {
     "data": {
      "text/plain": [
       "99"
      ]
     },
     "execution_count": 3,
     "metadata": {},
     "output_type": "execute_result"
    }
   ],
   "source": [
    "my_abs(-99)"
   ]
  },
  {
   "cell_type": "markdown",
   "id": "f947af0a-460a-4f48-9b98-a848e754cd96",
   "metadata": {},
   "source": [
    "### 练习\n",
    "请设计一个比较大小的函数，compare(x, y)，使用return语句返回两者中较大的值。"
   ]
  },
  {
   "cell_type": "code",
   "execution_count": null,
   "id": "9a637f05-6ae9-41e1-9827-04866e81de4a",
   "metadata": {},
   "outputs": [],
   "source": []
  },
  {
   "cell_type": "markdown",
   "id": "50caa994-6c7b-4061-bcca-2562b99d89a0",
   "metadata": {},
   "source": [
    "## 二、模块"
   ]
  },
  {
   "cell_type": "markdown",
   "id": "b7275b4d-247a-4e3f-85a2-40f3441f6995",
   "metadata": {},
   "source": [
    "Python最高级别的代码组织单元是模块（Module）。Python可以将实现某种特定功能的代码分离出来，定义成函数，并放在模块文件里。"
   ]
  },
  {
   "cell_type": "markdown",
   "id": "a1e2adb2-0a4a-46f0-97fb-ddfd388c349f",
   "metadata": {},
   "source": [
    "每个以.py为后缀名的Python源代码文件就是一个模块，Python模块可以通过import语句导入另一个模块中。"
   ]
  },
  {
   "cell_type": "markdown",
   "id": "a2eff2db-c49b-45c3-aa72-3c1cc891e65f",
   "metadata": {},
   "source": [
    "模块分为标准库模块，第三方模块和自定义模块。"
   ]
  },
  {
   "cell_type": "markdown",
   "id": "b1b0c549-c10f-4684-bf30-07ce829265a0",
   "metadata": {},
   "source": [
    "标准库是python安装文件内置的满足日常编程使用的库，它包含以下模块，见下表。这里只列举了部分，更多模块请见官方文档: [链接](https://docs.python.org/zh-cn/3/library/index.html#library-index)\n",
    "\n",
    "| 模块                                                         | 功能                                                   |\n",
    "| ------------------------------------------------------------ | ------------------------------------------------------ |\n",
    "| [`os`](https://docs.python.org/zh-cn/3/library/os.html#module-os) | 提供了许多与操作系统交互的函数                         |\n",
    "| [`datetime`](https://docs.python.org/zh-cn/3/library/datetime.html#module-datetime) | 模块提供了以简单和复杂的方式操作日期和时间的类         |\n",
    "| [`re`](https://docs.python.org/zh-cn/3/library/re.html#module-re) | 为高级字符串处理提供正则表达式工具                     |\n",
    "| [`random`](https://docs.python.org/zh-cn/3/library/random.html#module-random) | 模块提供了进行随机选择的工具                           |\n",
    "| [`doctest`](https://docs.python.org/zh-cn/3/library/doctest.html#module-doctest) | 用于扫描模块并验证程序文档字符串中嵌入的测试           |\n",
    "\n"
   ]
  },
  {
   "cell_type": "markdown",
   "id": "cdcb9562-1846-41ef-bf85-45539f768162",
   "metadata": {},
   "source": [
    "第三方模块是有第三方组织和个人提供的实现特定功能的模块。\n",
    "| 模块                                                      | 功能                                                   |\n",
    "| ------------------------------------------------------------ | ------------------------------------------------------ |\n",
    "| `numpy` | 提供了数组、矩阵和数值计算功能                        |\n",
    "| `pandas` | 提供了强大、便捷的数据分析工具         |\n",
    "| `scipy` | 提供了科学计算、统计等相关工具                     |\n",
    "| `statistics` | 模块计算数值数据的基本统计属性（均值，中位数，方差等） |\n",
    "|`statsmodels` |提供了多元回归和分析的工具|\n",
    "| `sklearn` | 提供了机器学习、数据挖掘模型                           |\n",
    "\n",
    "\n"
   ]
  },
  {
   "cell_type": "markdown",
   "id": "1429dca3-df4a-4416-b05d-2b88905dd04a",
   "metadata": {},
   "source": [
    "### （一）import 模块名"
   ]
  },
  {
   "cell_type": "markdown",
   "id": "02423e97-3d2c-4590-b423-ec4aa802af2b",
   "metadata": {},
   "source": [
    "在程序里，当使用模块时，我们以关键字`import`开头，加上模块的名字。我们以datetime模块为例，datetime模块，提供当日的日期，试运行以下代码：\n"
   ]
  },
  {
   "cell_type": "code",
   "execution_count": 4,
   "id": "88a3434e-13c0-447d-9e37-e2ec13536b74",
   "metadata": {},
   "outputs": [],
   "source": [
    "import datetime"
   ]
  },
  {
   "cell_type": "code",
   "execution_count": 5,
   "id": "97d0b72d-0531-4cef-903c-d48c8cee2cdc",
   "metadata": {},
   "outputs": [
    {
     "data": {
      "text/plain": [
       "datetime.datetime(2023, 3, 5, 21, 42, 36, 159372)"
      ]
     },
     "execution_count": 5,
     "metadata": {},
     "output_type": "execute_result"
    }
   ],
   "source": [
    "datetime.datetime.today()"
   ]
  },
  {
   "cell_type": "markdown",
   "id": "46a297ac-9619-4f32-ac5f-5865c277bc32",
   "metadata": {},
   "source": [
    "### （二）from 模块名 import 函数名"
   ]
  },
  {
   "cell_type": "markdown",
   "id": "1314e95a-6fb4-4991-a3a0-520f47de531b",
   "metadata": {},
   "source": [
    "有些情况下，程序并不需导入整个模块，而是仅仅导入程序要用到的函数，此时可以使用以下方式导入具体的函数。"
   ]
  },
  {
   "cell_type": "code",
   "execution_count": 6,
   "id": "e82970ae-3216-40cb-a083-3985bc5f5366",
   "metadata": {},
   "outputs": [
    {
     "data": {
      "text/plain": [
       "1.4142135623730951"
      ]
     },
     "execution_count": 6,
     "metadata": {},
     "output_type": "execute_result"
    }
   ],
   "source": [
    "from math import sqrt\n",
    "sqrt(2)"
   ]
  },
  {
   "cell_type": "markdown",
   "id": "d387570c-d0d9-4714-8fb0-f1d152810428",
   "metadata": {},
   "source": [
    "### 练习\n",
    "1. 在当前目录下，点击右上方蓝色➕号，新建一个Python文件\n",
    "2. 在文件中放入上一练习的函数compare(x, y)，保存文件名称为my_func.py\n",
    "3. 在下方空格处，导入该文件中的compare函数\n",
    "4. 调用compare函数，比较2的33次方和3的22次方的大小。"
   ]
  },
  {
   "cell_type": "code",
   "execution_count": null,
   "id": "1da8ee0a-ef1b-4477-adba-880a98c895f2",
   "metadata": {},
   "outputs": [],
   "source": []
  },
  {
   "cell_type": "markdown",
   "id": "c07e48aa-f5e5-469e-acaa-d974d008474a",
   "metadata": {},
   "source": [
    "## 三、包的概念\n",
    "什么是**包**(Package)呢？简单来说，**包**是包含模块的文件夹。**模块**是我们的以`.py`为后缀的python文件。\n",
    "\n",
    "以下图为例子，这是一个和游戏相关的程序，它的文件结构如下：\n",
    "\n",
    "![package](image/package.png)\n",
    "\n",
    "这里Game文件夹叫包（Package），Sound、Image和Level这三个文件夹叫子包(Sub-package)。它们各自包含自己的`.py`文件，这些文件叫模块。\n",
    "\n",
    "从这里我们可以看到，包是一个有层次的文件目录结构，它定义了由n个模块或n个子包组成的python应用程序执行环境。通俗一点：包是一个包含__init__.py 文件的目录，该目录下一定得有这个__init__.py文件和其它模块或子包。\n",
    "\n",
    "注意，每一个包中的`__init__.py`文件是必须存在的，否则，Python就会把这个目录当成普通目录(文件夹)，而不是一个包。`__init__.py`可以是空文件，也可以有Python代码，因为`__init__.py`本身就是一个模块，而它的模块名就是对应包的名字。\n",
    "\n",
    "\n"
   ]
  }
 ],
 "metadata": {
  "kernelspec": {
   "display_name": "Python 3",
   "language": "python",
   "name": "python3"
  },
  "language_info": {
   "codemirror_mode": {
    "name": "ipython",
    "version": 3
   },
   "file_extension": ".py",
   "mimetype": "text/x-python",
   "name": "python",
   "nbconvert_exporter": "python",
   "pygments_lexer": "ipython3",
   "version": "3.8.8"
  }
 },
 "nbformat": 4,
 "nbformat_minor": 5
}
