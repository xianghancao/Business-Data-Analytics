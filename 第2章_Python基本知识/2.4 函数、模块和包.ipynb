{
 "cells": [
  {
   "cell_type": "markdown",
   "id": "faf56f1f-dfc1-48a3-8d3d-4a86a0a92439",
   "metadata": {},
   "source": [
    "# 函数与模块"
   ]
  },
  {
   "cell_type": "markdown",
   "id": "59c7818b-9e1f-4b3d-b777-ca8ab41d10d0",
   "metadata": {},
   "source": [
    "## 一、函数"
   ]
  },
  {
   "cell_type": "markdown",
   "id": "8c2155db-3e56-47cf-af2c-a88776dd1297",
   "metadata": {},
   "source": [
    "在Python语言中，函数是一段可重复使用的代码块，用于完成特定的功能。函数可以接受输入参数并返回结果。\n",
    "\n",
    "函数的主要优点是代码的可重用性和模块化。通过将代码封装在函数中，可以在程序中多次调用函数，避免重复编写相同的代码。函数还可以提高代码的可读性和维护性，因为它们将复杂的逻辑划分为较小的、可理解的部分。\n",
    "\n",
    "以下是一个简单的Python函数的示例："
   ]
  },
  {
   "cell_type": "code",
   "execution_count": 1,
   "id": "38550dfc-d4f4-4263-af4d-85297d59b175",
   "metadata": {
    "tags": []
   },
   "outputs": [
    {
     "name": "stdout",
     "output_type": "stream",
     "text": [
      "Hello, Alice!\n",
      "Hello, Bob!\n"
     ]
    }
   ],
   "source": [
    "def greet(name):\n",
    "    \"\"\"打招呼的函数\"\"\"\n",
    "    print(\"Hello, \" + name + \"!\")\n",
    "\n",
    "# 调用函数\n",
    "greet(\"Alice\")\n",
    "greet(\"Bob\")"
   ]
  },
  {
   "cell_type": "markdown",
   "id": "c31e1211-cd63-4661-a3e6-fc59ced6868b",
   "metadata": {},
   "source": [
    "在上面的示例中，greet函数接受一个参数name，并在函数体中打印出相应的问候语。通过调用函数并传递不同的参数，可以多次执行问候的操作。"
   ]
  },
  {
   "cell_type": "markdown",
   "id": "17d4b7d7-c565-4295-9a96-7bc4fe4a09f1",
   "metadata": {},
   "source": [
    "### 1.1 函数如何定义"
   ]
  },
  {
   "cell_type": "markdown",
   "id": "0a3fdff4-13ed-409a-8d4b-617931ec3668",
   "metadata": {},
   "source": [
    "在Python中，定义一个函数要使用`def`语句，依次写出函数名、括号、括号中的参数和冒号`:`，然后，在缩进块中编写函数体，函数的返回值用`return`语句返回。\n",
    "```python\n",
    "def 函数名(参数1, 参数2, ···):    # 注意冒号是语法必备元素\n",
    "    \"\"\"本函数的介绍\"\"\"            # 函数的注释\n",
    "    函数语句块                   # 缩进表明语句块内的所有语句都在本函数作用域下\n",
    "    或称函数体                   # 函数体中的代码可以是任意有效的Python代码，包括变量声明、条件语句、循环语句、函数调用等。\n",
    "    return 表达式               # 如果函数没有指定返回值，它将默认返回None\n",
    "```"
   ]
  },
  {
   "cell_type": "markdown",
   "id": "3d0d3857-f3d5-4b6a-a568-688fc0204b88",
   "metadata": {},
   "source": [
    "函数可以接受零个或多个参数。参数是函数定义中用于接受输入值的变量。在函数调用时，可以向函数传递实际的参数值。"
   ]
  },
  {
   "cell_type": "markdown",
   "id": "f4705dc8-f732-4702-9986-0c5410d39a29",
   "metadata": {},
   "source": [
    "我们以自定义一个求绝对值的`my_abs`函数为例：\n",
    "\n"
   ]
  },
  {
   "cell_type": "code",
   "execution_count": 2,
   "id": "6c48a335-ffe4-49c1-81f7-cc70c6a48956",
   "metadata": {
    "tags": []
   },
   "outputs": [],
   "source": [
    "def my_abs(x):\n",
    "    \"\"\"这是一个求绝对值的函数\"\"\"\n",
    "    if x >= 0:\n",
    "        return x\n",
    "    else:\n",
    "        return -x"
   ]
  },
  {
   "cell_type": "markdown",
   "id": "b156fe2f-c6a0-443f-a97d-c6521e9d8320",
   "metadata": {},
   "source": [
    "现在我们调用它看看，给其传入一个负数，例如-99："
   ]
  },
  {
   "cell_type": "code",
   "execution_count": 3,
   "id": "5adb6569-7b67-40bc-98cb-f2062edcadbc",
   "metadata": {
    "tags": []
   },
   "outputs": [
    {
     "data": {
      "text/plain": [
       "99"
      ]
     },
     "execution_count": 3,
     "metadata": {},
     "output_type": "execute_result"
    }
   ],
   "source": [
    "my_abs(-99)"
   ]
  },
  {
   "cell_type": "markdown",
   "id": "f947af0a-460a-4f48-9b98-a848e754cd96",
   "metadata": {},
   "source": [
    "### 练习\n",
    "请设计一个比较大小的函数，compare(x, y)，使用return语句返回两者中较大的值。"
   ]
  },
  {
   "cell_type": "code",
   "execution_count": null,
   "id": "9a637f05-6ae9-41e1-9827-04866e81de4a",
   "metadata": {},
   "outputs": [],
   "source": [
    "\n",
    "\n"
   ]
  },
  {
   "cell_type": "markdown",
   "id": "50caa994-6c7b-4061-bcca-2562b99d89a0",
   "metadata": {},
   "source": [
    "## 二、模块"
   ]
  },
  {
   "cell_type": "markdown",
   "id": "19a6f1a1-cd12-4999-b786-bd424fc2109b",
   "metadata": {},
   "source": [
    "在Python中，**模块（module）**是指一个包含了 Python 代码的文件。模块可以包含函数、变量和类等定义，以及可执行的代码。\n",
    "\n",
    "模块的主要目的是将相关的代码组织在一起，以便在需要时进行重复使用。通过将代码分解为模块，可以提高代码的可维护性、可读性和重用性。\n",
    "\n",
    "要创建一个模块，只需创建一个以.py为扩展名的Python脚本文件，并在其中编写相应的代码。"
   ]
  },
  {
   "cell_type": "markdown",
   "id": "a9563eae-69b3-4f46-836a-bf75c8164c8e",
   "metadata": {},
   "source": [
    "### 2.1 import 模块名\n",
    "当您使用import语句加载模块时，可以直接指定模块的名称，例如：\n",
    "\n",
    "```python\n",
    "import module_name\n",
    "```\n",
    "这将加载名为module_name的模块，并使其在当前代码中可用。您可以使用模块中定义的函数、变量和类等。"
   ]
  },
  {
   "cell_type": "markdown",
   "id": "39d1ede3-f74f-4f1d-b17a-718645550584",
   "metadata": {},
   "source": [
    "我们以datetime模块为例，datetime模块，提供当日的日期，试运行以下代码：\n"
   ]
  },
  {
   "cell_type": "code",
   "execution_count": 4,
   "id": "88a3434e-13c0-447d-9e37-e2ec13536b74",
   "metadata": {
    "tags": []
   },
   "outputs": [],
   "source": [
    "import datetime"
   ]
  },
  {
   "cell_type": "code",
   "execution_count": 5,
   "id": "97d0b72d-0531-4cef-903c-d48c8cee2cdc",
   "metadata": {
    "tags": []
   },
   "outputs": [
    {
     "name": "stdout",
     "output_type": "stream",
     "text": [
      "2023-09-17 18:21:48.763584\n"
     ]
    }
   ],
   "source": [
    "now = datetime.datetime.today()\n",
    "print(now)"
   ]
  },
  {
   "cell_type": "markdown",
   "id": "db4d547b-a975-487a-8e90-fdf25fcb4aa6",
   "metadata": {},
   "source": [
    "### 2.2 from 模块名 import 函数名"
   ]
  },
  {
   "cell_type": "markdown",
   "id": "899e65ca-b59f-4a70-8bae-f55aae67f206",
   "metadata": {},
   "source": [
    "\n",
    "此外，还可以使用from关键字结合import语句来选择性地加载模块或包中的特定内容。例如：\n",
    "\n",
    "```python\n",
    "from module_name import function_name\n",
    "```\n",
    "这将从module_name模块中加载function_name函数，并使其在当前代码中可用。\n",
    "\n",
    "例如，"
   ]
  },
  {
   "cell_type": "code",
   "execution_count": 6,
   "id": "e82970ae-3216-40cb-a083-3985bc5f5366",
   "metadata": {
    "tags": []
   },
   "outputs": [
    {
     "data": {
      "text/plain": [
       "1.4142135623730951"
      ]
     },
     "execution_count": 6,
     "metadata": {},
     "output_type": "execute_result"
    }
   ],
   "source": [
    "from math import sqrt\n",
    "sqrt(2)"
   ]
  },
  {
   "cell_type": "markdown",
   "id": "d387570c-d0d9-4714-8fb0-f1d152810428",
   "metadata": {},
   "source": [
    "### 练习\n",
    "1. 在当前目录下，点击右上方蓝色➕号，新建一个Python文件\n",
    "2. 在文件中放入上一练习的函数compare(x, y)，保存文件名称为my_func.py\n",
    "3. 在下方空格处，导入该文件中的compare函数\n",
    "4. 调用compare函数，比较2的3次方和3的2次方的大小。"
   ]
  },
  {
   "cell_type": "code",
   "execution_count": null,
   "id": "ccfacaea-4d1e-4c84-94d2-c3288816ee1b",
   "metadata": {},
   "outputs": [],
   "source": [
    "\n",
    "\n"
   ]
  },
  {
   "cell_type": "markdown",
   "id": "c07e48aa-f5e5-469e-acaa-d974d008474a",
   "metadata": {},
   "source": [
    "## 三、包\n"
   ]
  },
  {
   "cell_type": "markdown",
   "id": "2c53ab60-e14e-4895-b23d-dde59a39deb4",
   "metadata": {},
   "source": [
    "### 3.1 包的概念\n",
    "**Package（包）**是一个包含多个模块的目录。包用于组织和管理相关的模块，可以形成层次结构。包目录中通常包含一个特殊的__init__.py文件，用于标识该目录为一个包。\n",
    "\n",
    "例如，您可以创建一个名为my_package的包，其中包含多个模块文件:\n",
    "\n",
    "```bash\n",
    "my_package/\n",
    "    __init__.py\n",
    "    module1.py\n",
    "    module2.py\n",
    "```"
   ]
  },
  {
   "cell_type": "markdown",
   "id": "76ab9dc1-085b-4e17-9ba3-1d55f30695ab",
   "metadata": {},
   "source": [
    "可以通过导入包和其中的模块来使用其中的功能：\n",
    "```python\n",
    "import my_package.module1\n",
    "import my_package.module2\n",
    "\n",
    "my_package.module1.function1()\n",
    "my_package.module2.function2()\n",
    "```\n",
    "Python中的import语句既可以用于加载模块（module），也可以用于加载包（package）。您也可以从包中加载特定的模块或其他内容。例如：\n",
    "```python\n",
    "from package_name import module1\n",
    "```\n",
    "这将从package_name包中加载module1模块，并使其在当前代码中可用。"
   ]
  },
  {
   "cell_type": "markdown",
   "id": "ee0b4b3b-2190-4180-ada0-e63682bd1e1a",
   "metadata": {},
   "source": [
    "### 3.2 包的结构"
   ]
  },
  {
   "cell_type": "markdown",
   "id": "6f4081e6-3ab1-445a-8f4a-1ffbf863d22c",
   "metadata": {},
   "source": [
    "\n",
    "以下图为例子，这是一个和游戏相关的程序，它的文件结构如下：\n",
    "\n",
    "![package](image/package.png)\n",
    "\n",
    "这里Game文件夹叫包（Package），Sound、Image和Level这三个文件夹叫子包(Sub-package)。它们各自包含自己的`.py`文件，这些文件叫模块。\n",
    "\n",
    "从这里我们可以看到，包是一个有层次的文件目录结构，它定义了由n个模块或n个子包组成的python应用程序执行环境。通俗一点：包是一个包含__init__.py 文件的目录，该目录下一定得有这个__init__.py文件和其它模块或子包。\n",
    "\n",
    "注意，每一个包中的`__init__.py`文件是必须存在的，否则，Python就会把这个目录当成普通目录(文件夹)，而不是一个包。`__init__.py`可以是空文件，也可以有Python代码，因为`__init__.py`本身就是一个模块，而它的模块名就是对应包的名字。\n",
    "\n",
    "\n"
   ]
  },
  {
   "cell_type": "markdown",
   "id": "609661b1-b3af-43bf-93d9-c5750fa28a36",
   "metadata": {},
   "source": [
    "### 3.3 Python的标准库"
   ]
  },
  {
   "cell_type": "markdown",
   "id": "9ffc9c63-546b-4682-a8c4-b9910ae38e50",
   "metadata": {},
   "source": [
    "Python的标准库是一组预先安装在Python解释器中的模块和包，它们提供了广泛的功能和工具，可用于各种常见的任务和应用程序开发。\n",
    "\n",
    "Python的标准库既包含模块，也包含包。标准库中的一些功能是通过单个模块提供的，例如`math`模块用于数学计算，`random`模块用于生成随机数，`datetime`模块用于处理日期和时间等。您可以使用`import`语句来加载这些模块，并在您的代码中使用它们提供的功能。\n",
    "\n",
    "另一方面，标准库中的一些功能是通过包的形式组织的。包是一个包含多个模块的目录，通常还包括一个特殊的__init__.py文件来标识该目录为一个包。这些包提供了一组相关的模块，用于解决特定的问题或提供特定的功能。例如，`os`包提供了与操作系统交互的功能，`re`包提供了正则表达式操作的功能。您可以使用`import`语句加载这些包，并使用包中的模块和功能。\n"
   ]
  },
  {
   "cell_type": "markdown",
   "id": "369fcd56-c407-4d88-a64d-edad6fd5605a",
   "metadata": {},
   "source": [
    "这里只列举了部分，更多请见官方文档: [链接](https://docs.python.org/zh-cn/3/library/index.html#library-index)\n",
    "\n",
    "| 模块或包                                                         | 功能                                                   |\n",
    "| ------------------------------------------------------------ | ------------------------------------------------------ |\n",
    "| [`os`](https://docs.python.org/zh-cn/3/library/os.html#module-os) | 提供了许多与操作系统交互的函数                         |\n",
    "| [`datetime`](https://docs.python.org/zh-cn/3/library/datetime.html#module-datetime) | 模块提供了以简单和复杂的方式操作日期和时间的类         |\n",
    "| [`re`](https://docs.python.org/zh-cn/3/library/re.html#module-re) | 为高级字符串处理提供正则表达式工具                     |\n",
    "| [`random`](https://docs.python.org/zh-cn/3/library/random.html#module-random) | 模块提供了进行随机选择的工具                           |\n",
    "| [`doctest`](https://docs.python.org/zh-cn/3/library/doctest.html#module-doctest) | 用于扫描模块并验证程序文档字符串中嵌入的测试           |\n",
    "\n"
   ]
  },
  {
   "cell_type": "markdown",
   "id": "efe43558-a0d3-4afa-8e10-58dad4b4ebf9",
   "metadata": {},
   "source": [
    "### 3.4 Python的第三方包"
   ]
  },
  {
   "cell_type": "markdown",
   "id": "b32124a4-7c0f-4a96-8e63-91b72f8b4618",
   "metadata": {},
   "source": [
    "Python的第三方包是由Python社区开发并提供的，不属于Python标准库的软件包。这些包通常由第三方开发者创建和维护，并提供了各种额外的功能和工具，可以扩展Python的能力。\n",
    "\n",
    "第三方包可以用于各种用途，例如数据处理、网络通信、Web开发、科学计算、机器学习、图像处理等。它们提供了高级功能和库，使开发人员能够更快速、更高效地开发应用程序。\n",
    "\n",
    "Python的第三方包可以通过包管理工具（如pip）进行安装。安装这些包后，您可以在自己的Python项目中使用它们。常见的第三方包有：\n",
    "\n",
    "| Python的第三方包   | 功能     |\n",
    "| --- | --- |\n",
    "| `Numpy` | 提供了数组、矩阵和数值计算功能    |\n",
    "| `Pandas` | 提供了强大、便捷的数据分析工具    |\n",
    "|`Matplotlib`|用于绘制图表和可视化数据的库 |\n",
    "| `Scipy` | 提供了科学计算、统计等相关工具     |\n",
    "|`Statsmodels` |提供了多元回归和分析的工具|\n",
    "|`Requests`|用于发送HTTP请求的库   |\n",
    "|`Django`|用于构建Web应用程序的高级框架    |\n",
    "|`Flask`|用于构建轻量级Web应用程序的框架    |\n",
    "|`TensorFlow`|用于机器学习和深度学习的库    |\n",
    "|`Scikit-learn`|提供了各种机器学习算法和工具    |\n",
    "|`BeautifulSoup`|用于解析和提取HTML/XML数据的库    |\n",
    "\n",
    "这只是一小部分常见的第三方包示例，Python社区有数以千计的第三方包可供选择，覆盖了各种不同的领域和用途。\n",
    "\n",
    "通过使用第三方包，您可以利用Python生态系统中其他开发者的工作成果，加快开发速度，避免重复造轮子，并且能够更加便捷地实现复杂的功能。"
   ]
  },
  {
   "cell_type": "markdown",
   "id": "e14126ae-002e-4a64-b784-f277c4798b8a",
   "metadata": {},
   "source": [
    "### 3.5 pip包管理器\n",
    "在Python中，pip是一个用于管理和安装第三方包的包管理工具。它是[Python Package Index（PyPI）](https://pypi.org/)的默认包管理器。\n",
    "\n",
    "使用pip，您可以轻松地搜索、安装、升级和卸载Python包。\n",
    "\n",
    "以下是一些常用的pip命令示例，在shell命令行环境下，输入\n",
    "\n",
    "1. 安装包：\n",
    "```shell\n",
    "pip install package_name\n",
    "```\n",
    "   该命令会从PyPI下载并安装指定的包。\n",
    "\n",
    "如果网速比较慢，可以打断以上命令，使用`ctrl+c`。然后指定pypi镜像地址：`https://mirrors.aliyun.com/pypi/simple`，输入命令如下：\n",
    "```bash\n",
    "pip install package_name -i https://mirrors.aliyun.com/pypi/simple\n",
    "```\n",
    "\n",
    "\n",
    "2. 升级包：\n",
    "```shell\n",
    "pip install --upgrade package_name\n",
    "```\n",
    "\n",
    "   该命令会升级已安装的包到最新版本。\n",
    "\n",
    "3. 卸载包：\n",
    "```shell\n",
    "pip uninstall package_name\n",
    "```\n",
    "\n",
    "   该命令会卸载指定的包。\n",
    "\n",
    "4. 列出已安装的包：\n",
    "```\n",
    "pip list\n",
    "```\n",
    "\n",
    "   该命令会列出当前环境中已安装的所有包。\n",
    "\n",
    "pip还支持其他一些命令和选项，您可以使用`pip --help`命令或查阅pip的文档来获取更多信息。\n",
    "\n",
    "需要注意的是，pip默认安装包到Python的全局环境中，如果你想安装到本用户下，在命令中追加使用'-u'参数。如果您使用虚拟环境（virtual environment），您可以在虚拟环境中使用pip来管理包，以避免与全局环境中的包冲突。"
   ]
  },
  {
   "cell_type": "markdown",
   "id": "9e8948b8-3fa1-471a-9f04-1b199cacee38",
   "metadata": {},
   "source": []
  }
 ],
 "metadata": {
  "kernelspec": {
   "display_name": "Python 3 (ipykernel)",
   "language": "python",
   "name": "python3"
  },
  "language_info": {
   "codemirror_mode": {
    "name": "ipython",
    "version": 3
   },
   "file_extension": ".py",
   "mimetype": "text/x-python",
   "name": "python",
   "nbconvert_exporter": "python",
   "pygments_lexer": "ipython3",
   "version": "3.9.17"
  }
 },
 "nbformat": 4,
 "nbformat_minor": 5
}
