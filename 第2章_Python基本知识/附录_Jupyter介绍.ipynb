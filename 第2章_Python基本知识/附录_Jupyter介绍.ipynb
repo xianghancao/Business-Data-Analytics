{
 "cells": [
  {
   "cell_type": "markdown",
   "id": "3c0e28c8-5daa-4ed7-a828-c9bbea50d493",
   "metadata": {},
   "source": [
    "# 运行Jupyter Lab编程环境\n",
    "Jupyter是一个免费的、符合开源标准的、可交互式计算的跨多种语言的网络服务软件。\n"
   ]
  },
  {
   "cell_type": "markdown",
   "id": "9e34c75d-88a3-4e5d-9e54-e7e09af3b7d5",
   "metadata": {},
   "source": [
    "在线版本的jupyterlab:\n",
    "- jupyterlite: https://jupyterlite.readthedocs.io/en/latest/"
   ]
  },
  {
   "cell_type": "markdown",
   "id": "67a344ff-c4d9-4efd-8861-46dd20ad5485",
   "metadata": {},
   "source": [
    "\n",
    "\n",
    "## 1. 如何启动jupyter lab？\n",
    "\n",
    "在安装了Anaconda套件的电脑上，可以找到anaconda应用中，选择jupyter lab。\n",
    "\n",
    "![image](image/anaconda_jupyter.png)\n",
    "\n",
    "\n",
    "\n",
    "点击进入：\n",
    "\n",
    "![image2](image/jupyter-lab.png)\n",
    "\n",
    "&nbsp;\n",
    "## 2. 如何使用jupyter lab？\n",
    "\n",
    "我们先了解它的选项栏：\n",
    "\n",
    "![jupyter1](image/jupyter1.png)\n",
    "\n",
    "最左边是他的文件栏：\n",
    "\n",
    "![jupyter2](image/jupyter2.png)\n",
    "\n",
    "点击➕号，创建我们的第一个notebook：\n",
    "\n",
    "![jupyter3](image/jupyter3.png)\n",
    "\n",
    "还记得我们上节课学的hello world代码么，我们把它输入到框框里，然后点击一个长得像播放的按钮，就可以运行了，让我们看看结果：\n",
    "\n",
    "![jupyter4](image/jupyter4.png)\n",
    "\n",
    "除此之外，按住键盘的“shift”按钮，再点击回车键，也能完成同样的运行功能。\n",
    "\n",
    "遇到一下情况：\n",
    "\n",
    "1）代码长时间运行，想要中断，可以点击“中断”按钮。\n",
    "\n",
    "2）如果界面无反应，称之为“假死”，可以点击“重启”按钮，不用担心代码都还在。\n",
    "\n",
    "![jupyter5](image/jupyter5.png)\n",
    "\n",
    "### 如何显示行号？\n",
    "\n",
    "在view --> 点击 Toggle Line Numbers\n",
    "\n",
    "![jupyter6](image/jupyter6.png)\n",
    "\n",
    "\n",
    "\n",
    "\n",
    "\n",
    "\n",
    "\n",
    "### 练习：启动，创建，运行，重启\n",
    "\n",
    "请完成一下练习：\n",
    "\n",
    "1） 启动jupyter notebook\n",
    "\n",
    "2）创建一个notebook\n",
    "\n",
    "3）敲入，并运行这行代码\n",
    "\n",
    "```python\n",
    "print('Hello World!')\n",
    "```\n",
    "\n",
    "4）试着重启notebook\n",
    "\n",
    "\n",
    "\n",
    "\n",
    "\n",
    "\n",
    "***\n",
    "\n",
    "\n"
   ]
  },
  {
   "cell_type": "markdown",
   "id": "46654ec7-0a09-433f-9303-6be29c922892",
   "metadata": {},
   "source": [
    "### 3. 给jupyter-lab 安装中文界面\n",
    "点击jupyter lab左上角的➕号，然后找到并打开terminal：\n",
    "![terminal](image/terminal.png)\n",
    "\n",
    "在terminal里输入以下命令，来查看你的jupyter-lab版本\n",
    "\n",
    "```\n",
    "jupyter-lab --version\n",
    "```\n",
    "\n",
    "输入以下命令来安装中文包：\n",
    "\n",
    "```bash\n",
    "pip install jupyterlab-language-pack-zh-CN\n",
    "```\n",
    "\n",
    "安装完成后，刷新或者重新启动当前浏览器页面。\n",
    "\n",
    "然后再启动jupyterlab，点击settings--->language，选择中文简体。然后就会页面变成中文了。\n",
    "\n",
    "![img](image/img.png)\n"
   ]
  },
  {
   "cell_type": "markdown",
   "id": "96e1c8e5-42ae-41b1-b71a-fd79187bff4a",
   "metadata": {},
   "source": [
    "## 附录：pip下载第三方库速度慢\n",
    "\n",
    "若要把 pip 源换成国内的，只需要把上面的代码改成下图这样（下图以清华大学源为例）：\n",
    "\n",
    "```text\n",
    "pip install markdown -i https://pypi.tuna.tsinghua.edu.cn/simple\n",
    "```\n",
    "\n",
    "![img](https://pic2.zhimg.com/80/v2-cfc8ee29213ff52ee39d831f14b05f89_1440w.jpg)\n",
    "\n",
    "这样我们就从清华大学源成功安装了markdown模块，速度会比过pip默认的国外源快很多。\n",
    "\n",
    "上述做法是临时改成国内源，如果不想每次用 pip 都加上 -i [https://pypi.tuna.tsinghua.edu.cn/simple](https://link.zhihu.com/?target=https%3A//pypi.tuna.tsinghua.edu.cn/simple)，那么可以把国内源设为默认，做法是：\n",
    "\n",
    "```bash\n",
    "# 清华源\n",
    "pip config set global.index-url https://pypi.tuna.tsinghua.edu.cn/simple\n",
    "\n",
    "# 或：\n",
    "# 阿里源\n",
    "pip config set global.index-url https://mirrors.aliyun.com/pypi/simple/\n",
    "# 腾讯源\n",
    "pip config set global.index-url http://mirrors.cloud.tencent.com/pypi/simple\n",
    "# 豆瓣源\n",
    "pip config set global.index-url http://pypi.douban.com/simple/\n",
    "```"
   ]
  },
  {
   "cell_type": "markdown",
   "id": "87fc376d-83c7-442a-81c0-7100a5f719b2",
   "metadata": {},
   "source": [
    "## 附录：解决JupyterLab或者Jupyter Notebook无法跳转到浏览器的问题\n",
    "参见：https://blog.csdn.net/feriman/article/details/101480867"
   ]
  },
  {
   "cell_type": "markdown",
   "id": "a07dd4e3-c1ef-4e65-a005-f1af183d7091",
   "metadata": {},
   "source": [
    "## 参考\n",
    "1. 官网 https://jupyterlab.readthedocs.io/en/stable/user/toc.html"
   ]
  },
  {
   "cell_type": "code",
   "execution_count": null,
   "id": "1cf11d64-9871-430a-8fe4-0aa7f00c5990",
   "metadata": {},
   "outputs": [],
   "source": []
  }
 ],
 "metadata": {
  "kernelspec": {
   "display_name": "Python 3 (ipykernel)",
   "language": "python",
   "name": "python3"
  },
  "language_info": {
   "codemirror_mode": {
    "name": "ipython",
    "version": 3
   },
   "file_extension": ".py",
   "mimetype": "text/x-python",
   "name": "python",
   "nbconvert_exporter": "python",
   "pygments_lexer": "ipython3",
   "version": "3.9.13"
  },
  "widgets": {
   "application/vnd.jupyter.widget-state+json": {
    "state": {},
    "version_major": 2,
    "version_minor": 0
   }
  }
 },
 "nbformat": 4,
 "nbformat_minor": 5
}
