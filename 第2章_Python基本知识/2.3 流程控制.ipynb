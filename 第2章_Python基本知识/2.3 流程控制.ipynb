{
 "cells": [
  {
   "cell_type": "markdown",
   "id": "f819b9dc-2e02-460e-a7c4-1d206ef74021",
   "metadata": {},
   "source": [
    "# 流程控制"
   ]
  },
  {
   "cell_type": "markdown",
   "id": "67c89f5b-db40-490e-a1d3-04b3788d61d3",
   "metadata": {},
   "source": [
    "流程是指程序运行时语句的执行次序。Python包含了三种基本流程控制结构：`顺序结构`、`分支结构`、`循环结构`。  \n",
    "`顺序结构`是从上往下的顺序逐剧执行的结构，先执行位置在前的语句、后执行位置在后的语句。"
   ]
  },
  {
   "cell_type": "markdown",
   "id": "fc4a9a81-f014-4906-b7cc-36cd5b3bfa7d",
   "metadata": {},
   "source": [
    "## 一、分支结构"
   ]
  },
  {
   "cell_type": "markdown",
   "id": "c054a32c-2d05-4a27-af01-d28effe1ee14",
   "metadata": {},
   "source": [
    "分支结构又称选择结构，它是一种在两条或更多条执行路径中**选择一条执行**的语句控制结构。"
   ]
  },
  {
   "cell_type": "markdown",
   "id": "cd299a2c-9b2f-438a-a889-d3224106b297",
   "metadata": {},
   "source": [
    "### （一）单分支结构\n"
   ]
  },
  {
   "cell_type": "markdown",
   "id": "56a5a948-fe18-4b72-8543-8084f7b141de",
   "metadata": {},
   "source": [
    "if 语句单分支结构的语法形式为：\n",
    "```python\n",
    "if(条件表达式):\n",
    "    语句块\n",
    "```"
   ]
  },
  {
   "cell_type": "markdown",
   "id": "072ae540-fd6d-47a6-8722-c567f3e13179",
   "metadata": {},
   "source": [
    "![process01](image/process01.png)"
   ]
  },
  {
   "cell_type": "markdown",
   "id": "86f10e05-66c9-4a69-8e43-8e2479fee2eb",
   "metadata": {},
   "source": [
    "若`条件表达式`的逻辑值为True则执行`语句块`，否则不执行`语句块`。**if语句的条件表达式之后需要添加冒号（:），语句块内的每行语句均需要通过缩进表示同属一个语句块。**"
   ]
  },
  {
   "cell_type": "markdown",
   "id": "41953c0e-ff8b-4734-9465-11224e74731d",
   "metadata": {},
   "source": [
    "运行下述例子："
   ]
  },
  {
   "cell_type": "code",
   "execution_count": 58,
   "id": "924df39d-782c-4759-a3f6-511d5e12079a",
   "metadata": {},
   "outputs": [
    {
     "name": "stdin",
     "output_type": "stream",
     "text": [
      "输入成绩后，按【回车键】确认 59.5\n"
     ]
    },
    {
     "name": "stdout",
     "output_type": "stream",
     "text": [
      "很不幸，你挂科了！\n"
     ]
    }
   ],
   "source": [
    "grade = int(input('输入成绩后，按【回车键】确认')) #Python键盘输入默认为字符串，这里做类型转换，把字符串转成整数\n",
    "if(grade < 60):                                   # 如果输入小数，也就是浮点数，使用float()来转换\n",
    "    print('很不幸，你挂科了！')"
   ]
  },
  {
   "cell_type": "markdown",
   "id": "71872263-012b-4b0b-aad4-a1ca48462949",
   "metadata": {},
   "source": [
    "### 练习if语句"
   ]
  },
  {
   "cell_type": "markdown",
   "id": "8d5d1735-d07a-4465-ab77-fda461507f41",
   "metadata": {},
   "source": [
    "如果输入成绩在60分和80分之间，请打印“良好”"
   ]
  },
  {
   "cell_type": "code",
   "execution_count": null,
   "id": "6204d3b8-dffd-4ce3-a437-5274af7e6456",
   "metadata": {},
   "outputs": [],
   "source": []
  },
  {
   "cell_type": "markdown",
   "id": "741c49b8-01f3-4489-bd3a-23fc4e8d6b1f",
   "metadata": {},
   "source": [
    "### （二）双分支结构"
   ]
  },
  {
   "cell_type": "markdown",
   "id": "09bbb673-e39b-4bed-9784-c3ff91a94194",
   "metadata": {},
   "source": [
    "if 语句双分支结构的语法形式为：\n",
    "```python\n",
    "if(条件表达式):\n",
    "    语句块1\n",
    "else:\n",
    "    语句块2\n",
    "```"
   ]
  },
  {
   "cell_type": "markdown",
   "id": "6f5792f6-c2f0-4c50-8338-55668ac35fa8",
   "metadata": {},
   "source": [
    "![process02](image/process02.png)"
   ]
  },
  {
   "cell_type": "markdown",
   "id": "d828c43e-5330-4163-b1c7-68149e8b9280",
   "metadata": {},
   "source": [
    "若`条件表达式`的逻辑值为True，则执行`语句块1`；否则执行`语句块2`。"
   ]
  },
  {
   "cell_type": "code",
   "execution_count": null,
   "id": "568cbccf-4766-4949-8128-0cb3529762da",
   "metadata": {},
   "outputs": [],
   "source": [
    "grade = int(input('输入成绩后，按【回车键】确认'))\n",
    "if(grade < 60):\n",
    "    print('很不幸，你挂科了！')\n",
    "else:                                         # 注意else与if对齐\n",
    "    print('恭喜！通过考试')"
   ]
  },
  {
   "cell_type": "markdown",
   "id": "20ab18d6-e9ce-4a3b-91d4-e9628175479c",
   "metadata": {},
   "source": [
    "### （三）多分支结构"
   ]
  },
  {
   "cell_type": "markdown",
   "id": "0541f491-034f-4e48-87b5-54311402d651",
   "metadata": {},
   "source": [
    "if语句多分支结构的语法如下："
   ]
  },
  {
   "cell_type": "markdown",
   "id": "7a3f84ce-a52f-4911-9378-a82c408fb3ad",
   "metadata": {},
   "source": [
    "```python\n",
    "if(条件表达式1):\n",
    "    语句块1\n",
    "elif(条件表达式2):\n",
    "    语句块2\n",
    "    ...\n",
    "elif(条件表达式n):\n",
    "    语句块n\n",
    "else:\n",
    "    语句块n+1\n",
    "```"
   ]
  },
  {
   "cell_type": "markdown",
   "id": "9c3e7380-2808-4a33-8bbc-0430d16caac1",
   "metadata": {},
   "source": [
    "![process03](image/process03.png)"
   ]
  },
  {
   "cell_type": "code",
   "execution_count": 68,
   "id": "e950df6f-fc8f-4348-8ff1-aaa6aca1c7a7",
   "metadata": {},
   "outputs": [
    {
     "name": "stdin",
     "output_type": "stream",
     "text": [
      "输入成绩后，按【回车键】确认 90\n"
     ]
    },
    {
     "name": "stdout",
     "output_type": "stream",
     "text": [
      "优秀！\n"
     ]
    }
   ],
   "source": [
    "grade = int(input('输入成绩后，按【回车键】确认'))\n",
    "if(grade < 60):\n",
    "    print('很不幸，你挂科了！')\n",
    "elif(grade >= 60 and grade < 80):                          # 注意elif与if对齐\n",
    "    print('你及格了！')\n",
    "elif(grade >= 80 and grade < 90):                          # 注意elif与if对齐\n",
    "    print('表现不错！')\n",
    "elif(grade >= 90 and grade<=100):                          # 注意elif与if对齐\n",
    "    print('优秀！')\n",
    "else:\n",
    "    print('您输入的成绩有误！')"
   ]
  },
  {
   "cell_type": "markdown",
   "id": "97f4fb76-2a02-473d-b70a-ba7d7bb69c8c",
   "metadata": {},
   "source": [
    "### 练习：计算小明的体重"
   ]
  },
  {
   "cell_type": "markdown",
   "id": "f57445c2-faa1-48f7-a5e5-fea925334d55",
   "metadata": {},
   "source": [
    "小明身高1.75米，体重80.5kg。请根据BMI公式（体重除以身高的平方）帮小明计算他的BMI指数，并根据BMI指数：\n",
    "\n",
    "- 低于18.5：过轻\n",
    "- 18.5-25：正常\n",
    "- 25-28：过重\n",
    "- 28-32：肥胖\n",
    "- 高于32：严重肥胖\n",
    "\n",
    "Tips：\n",
    "    用`if-elif`判断并打印结果"
   ]
  },
  {
   "cell_type": "code",
   "execution_count": null,
   "id": "1289b31a-3c02-4a08-8b24-648a7c886387",
   "metadata": {},
   "outputs": [],
   "source": []
  },
  {
   "cell_type": "markdown",
   "id": "3d4f3c39-4296-4629-9acd-5965a01d3eed",
   "metadata": {},
   "source": [
    "## 二、循环结构"
   ]
  },
  {
   "cell_type": "markdown",
   "id": "4f8692c8-e7ce-4db4-bc42-c9a7490b5332",
   "metadata": {},
   "source": [
    "循环结构是在满足一定条件下**反复执行某一段语句块**的流程控制结构。反复被执行的语句块被称为**循环体**。"
   ]
  },
  {
   "cell_type": "markdown",
   "id": "341cbc08-b622-442b-afcb-07c3f77d5b9d",
   "metadata": {},
   "source": [
    "### （一）while循环"
   ]
  },
  {
   "cell_type": "markdown",
   "id": "2e67d83d-70d8-4141-91e8-994386ef880e",
   "metadata": {},
   "source": [
    "while循环语句的语法形式为：\n",
    "```python\n",
    "while(条件表达式):\n",
    "    循环体\n",
    "```"
   ]
  },
  {
   "cell_type": "markdown",
   "id": "0c917e27-c830-4035-9665-b2c3f4deb146",
   "metadata": {},
   "source": [
    "while语句的执行过程是先判断`条件表达式`的值，若值为True，则执行`循环体`，否则将跳过`循环体`，执行while语句后面的语句。\n",
    "每次`循环体`执行完毕后，再转到`条件表达式`判断真假，以决定是否再次执行`循环体`。"
   ]
  },
  {
   "cell_type": "markdown",
   "id": "a3dc9bea-1558-45bc-bf5b-616485aa2d74",
   "metadata": {},
   "source": [
    "![loop01](image/loop01.png)"
   ]
  },
  {
   "cell_type": "markdown",
   "id": "dbe87b7f-7889-45ee-8bc0-e0eddd7437da",
   "metadata": {},
   "source": [
    "这个例子是计算1到100的自然数的和。"
   ]
  },
  {
   "cell_type": "code",
   "execution_count": 51,
   "id": "8a4d5084-72f6-4590-ab9b-7eb11c66b963",
   "metadata": {
    "collapsed": true,
    "jupyter": {
     "outputs_hidden": true
    },
    "tags": []
   },
   "outputs": [
    {
     "name": "stdout",
     "output_type": "stream",
     "text": [
      "n: 1 s: 1\n",
      "n: 2 s: 3\n",
      "n: 3 s: 6\n",
      "n: 4 s: 10\n",
      "n: 5 s: 15\n",
      "n: 6 s: 21\n",
      "n: 7 s: 28\n",
      "n: 8 s: 36\n",
      "n: 9 s: 45\n",
      "n: 10 s: 55\n",
      "n: 11 s: 66\n",
      "n: 12 s: 78\n",
      "n: 13 s: 91\n",
      "n: 14 s: 105\n",
      "n: 15 s: 120\n",
      "n: 16 s: 136\n",
      "n: 17 s: 153\n",
      "n: 18 s: 171\n",
      "n: 19 s: 190\n",
      "n: 20 s: 210\n",
      "n: 21 s: 231\n",
      "n: 22 s: 253\n",
      "n: 23 s: 276\n",
      "n: 24 s: 300\n",
      "n: 25 s: 325\n",
      "n: 26 s: 351\n",
      "n: 27 s: 378\n",
      "n: 28 s: 406\n",
      "n: 29 s: 435\n",
      "n: 30 s: 465\n",
      "n: 31 s: 496\n",
      "n: 32 s: 528\n",
      "n: 33 s: 561\n",
      "n: 34 s: 595\n",
      "n: 35 s: 630\n",
      "n: 36 s: 666\n",
      "n: 37 s: 703\n",
      "n: 38 s: 741\n",
      "n: 39 s: 780\n",
      "n: 40 s: 820\n",
      "n: 41 s: 861\n",
      "n: 42 s: 903\n",
      "n: 43 s: 946\n",
      "n: 44 s: 990\n",
      "n: 45 s: 1035\n",
      "n: 46 s: 1081\n",
      "n: 47 s: 1128\n",
      "n: 48 s: 1176\n",
      "n: 49 s: 1225\n",
      "n: 50 s: 1275\n",
      "n: 51 s: 1326\n",
      "n: 52 s: 1378\n",
      "n: 53 s: 1431\n",
      "n: 54 s: 1485\n",
      "n: 55 s: 1540\n",
      "n: 56 s: 1596\n",
      "n: 57 s: 1653\n",
      "n: 58 s: 1711\n",
      "n: 59 s: 1770\n",
      "n: 60 s: 1830\n",
      "n: 61 s: 1891\n",
      "n: 62 s: 1953\n",
      "n: 63 s: 2016\n",
      "n: 64 s: 2080\n",
      "n: 65 s: 2145\n",
      "n: 66 s: 2211\n",
      "n: 67 s: 2278\n",
      "n: 68 s: 2346\n",
      "n: 69 s: 2415\n",
      "n: 70 s: 2485\n",
      "n: 71 s: 2556\n",
      "n: 72 s: 2628\n",
      "n: 73 s: 2701\n",
      "n: 74 s: 2775\n",
      "n: 75 s: 2850\n",
      "n: 76 s: 2926\n",
      "n: 77 s: 3003\n",
      "n: 78 s: 3081\n",
      "n: 79 s: 3160\n",
      "n: 80 s: 3240\n",
      "n: 81 s: 3321\n",
      "n: 82 s: 3403\n",
      "n: 83 s: 3486\n",
      "n: 84 s: 3570\n",
      "n: 85 s: 3655\n",
      "n: 86 s: 3741\n",
      "n: 87 s: 3828\n",
      "n: 88 s: 3916\n",
      "n: 89 s: 4005\n",
      "n: 90 s: 4095\n",
      "n: 91 s: 4186\n",
      "n: 92 s: 4278\n",
      "n: 93 s: 4371\n",
      "n: 94 s: 4465\n",
      "n: 95 s: 4560\n",
      "n: 96 s: 4656\n",
      "n: 97 s: 4753\n",
      "n: 98 s: 4851\n",
      "n: 99 s: 4950\n",
      "n: 100 s: 5050\n",
      "The sum from 1 to 100 is 5050\n"
     ]
    }
   ],
   "source": [
    "n = 1                          # n负责存储自然数，用于遍历自然数1，2，3，4，5.。。。100\n",
    "s = 0                          # s负责存储求和的结果，初始为0\n",
    "while(n<=100):\n",
    "    s = s + n                  #求和，并保存求和的结果到s\n",
    "    print('n:', n, 's:', s)\n",
    "    n = n + 1                  #让自然数+1，并更新自然数n\n",
    "    \n",
    "print('The sum from 1 to 100 is', s)"
   ]
  },
  {
   "cell_type": "markdown",
   "id": "7596dcaa-9ac3-4f7b-9308-d00efd153ad3",
   "metadata": {},
   "source": [
    "## 练习"
   ]
  },
  {
   "cell_type": "markdown",
   "id": "1bb8901f-ee9f-4f79-9a4f-215c2f15f287",
   "metadata": {},
   "source": [
    "如何求1，3，5，7，。。99，间隔为2的等差数列的和。"
   ]
  },
  {
   "cell_type": "code",
   "execution_count": null,
   "id": "0814c42f-9a54-4dc6-ba4d-c4d307a88749",
   "metadata": {},
   "outputs": [],
   "source": []
  },
  {
   "cell_type": "markdown",
   "id": "005740d3-fe6e-4d13-ac82-6562dd93268a",
   "metadata": {},
   "source": [
    "### （二）for循环"
   ]
  },
  {
   "cell_type": "markdown",
   "id": "e484b02a-8386-4078-b0b9-a96e691e5a5b",
   "metadata": {},
   "source": [
    "for语句通常用来遍历字符串、列表、元祖等序列数据类型中的元素。对序列中的每个元素执行一次相关的循环体。for语句的语法形式如下：\n",
    "```python\n",
    "for 变量 in 序列:\n",
    "    循环体\n",
    "```"
   ]
  },
  {
   "cell_type": "markdown",
   "id": "706b6978-97a0-43bf-a502-2765a416ddb7",
   "metadata": {},
   "source": [
    "下面这个例子使用for语句循环输出列表list1中的所有元素。"
   ]
  },
  {
   "cell_type": "code",
   "execution_count": 11,
   "id": "ac763b7e-31b5-4008-8068-a95d9d5c07bb",
   "metadata": {},
   "outputs": [
    {
     "name": "stdout",
     "output_type": "stream",
     "text": [
      "1\n",
      "2\n",
      "3\n",
      "4\n",
      "5\n"
     ]
    }
   ],
   "source": [
    "list1 = [1,2,3,4,5]\n",
    "for x in list1:\n",
    "    print(x)"
   ]
  },
  {
   "cell_type": "markdown",
   "id": "3c004eb1-e9cd-48ed-b469-115f6b2b39f3",
   "metadata": {},
   "source": [
    "此外，for语句经常使用range/xrange函数生成序列。"
   ]
  },
  {
   "cell_type": "code",
   "execution_count": 12,
   "id": "a52b718b-3b26-49ad-ab17-7d182b939396",
   "metadata": {},
   "outputs": [
    {
     "name": "stdout",
     "output_type": "stream",
     "text": [
      "1\n",
      "2\n",
      "3\n",
      "4\n"
     ]
    }
   ],
   "source": [
    "for i in range(1,5):\n",
    "    print(i)"
   ]
  },
  {
   "cell_type": "markdown",
   "id": "f8ac4e8e-82fe-4a82-bc73-cb4a6066e7bb",
   "metadata": {},
   "source": [
    "使用range函数生成序列，请注意它的起止范围。函数range(1,5)生成序列[1,2,3,4]。"
   ]
  },
  {
   "cell_type": "markdown",
   "id": "5977168b-4e09-42b2-9703-794653290422",
   "metadata": {},
   "source": [
    "### （三）break语句"
   ]
  },
  {
   "cell_type": "markdown",
   "id": "34c3a459-1d7a-4369-b0fa-dca4ca7903d8",
   "metadata": {},
   "source": [
    "break语句用于控制程序提前结束循环而执行`循环体`后面的语句。"
   ]
  },
  {
   "cell_type": "code",
   "execution_count": 16,
   "id": "ed5286a0-f26b-41d2-b328-8eb3b509534c",
   "metadata": {},
   "outputs": [
    {
     "name": "stdin",
     "output_type": "stream",
     "text": [
      "请输入数据（当输入-1时结束）: 1\n",
      "请输入数据（当输入-1时结束）: 2\n",
      "请输入数据（当输入-1时结束）: 3\n",
      "请输入数据（当输入-1时结束）: -1\n"
     ]
    },
    {
     "name": "stdout",
     "output_type": "stream",
     "text": [
      "[1, 2, 3]\n"
     ]
    }
   ],
   "source": [
    "list2 = []                                      # 定义一个空的列表 \n",
    "while(True):\n",
    "    x = int(input('请输入数据（当输入-1时结束）:'))\n",
    "    if x == -1:                     \n",
    "        break                                   # 当输入=-1时，则跳出循环\n",
    "    else:\n",
    "        list2 = list2 + [x]\n",
    "print(list2)"
   ]
  },
  {
   "cell_type": "markdown",
   "id": "7973e058-9859-4925-a970-58f51e9499e7",
   "metadata": {},
   "source": [
    "### （四）continue语句"
   ]
  },
  {
   "cell_type": "markdown",
   "id": "43a183a2-2c53-4890-9fd9-8dbf4f866f28",
   "metadata": {},
   "source": [
    "continue语句用于结束本次循环，重新判断条件表达式真假，若为True，则继续循环，否则，结束循环。"
   ]
  },
  {
   "cell_type": "code",
   "execution_count": 18,
   "id": "680a9603-fbd9-4640-bd20-32850f091a5c",
   "metadata": {},
   "outputs": [
    {
     "name": "stdout",
     "output_type": "stream",
     "text": [
      "2\n",
      "4\n",
      "6\n",
      "8\n",
      "10\n"
     ]
    }
   ],
   "source": [
    "i=0\n",
    "while(i<=10):\n",
    "    i=i+1\n",
    "    if i%2 != 0:       # 如果i是奇数，则continue，跳至while语句，不执行后面的print\n",
    "        continue\n",
    "    print(i)           # 注意此语句的锁进与上面的if对齐，表示其仍在while内"
   ]
  },
  {
   "cell_type": "markdown",
   "id": "8274e960-c4de-47bd-b59e-0abe019d26d4",
   "metadata": {},
   "source": [
    "### 练习：高斯小时候的故事\n",
    "高斯小时候非常淘气，一次数学课上，老师为了让他们安静下来，给他们列了一道很难的算式，让他们一个小时内算出1+2+3+4+5+6+……+100的得数。\n",
    "\n",
    "`range(101)`就可以生成0-100的整数序列，计算如下："
   ]
  },
  {
   "cell_type": "code",
   "execution_count": null,
   "id": "7c2f9dec-34ad-40c8-8084-3688221dff4b",
   "metadata": {},
   "outputs": [],
   "source": []
  },
  {
   "cell_type": "markdown",
   "id": "f5afe73d-4cdb-4760-834b-53d6145e8afb",
   "metadata": {},
   "source": [
    "\n",
    "\n",
    "## **总结**\n",
    "\n",
    "1. 循环是让计算机做重复任务的有效的方法。\n",
    "\n",
    "2. `break`语句可以在循环过程中直接退出循环，而`continue`语句可以提前结束本轮循环，并直接开始下一轮循环。这两个语句通常都*必须*配合`if`语句使用。\n",
    "\n",
    "3. *要特别注意*，不要滥用`break`和`continue`语句。`break`和`continue`会造成代码执行逻辑分叉过多，容易出错。大多数循环并不需要用到`break`和`continue`语句，上面的两个例子，都可以通过改写循环条件或者修改循环逻辑，去掉`break`和`continue`语句。\n",
    "\n",
    "4. 有些时候，如果代码写得有问题，会让程序陷入“死循环”，也就是永远循环下去。在命令行模式下用`Ctrl+C`退出程序，或者在Jupyter里点击打断内核或者重启内核。\n",
    "\n",
    "\n",
    "\n",
    "\n",
    "\n",
    "\n"
   ]
  }
 ],
 "metadata": {
  "kernelspec": {
   "display_name": "Python 3",
   "language": "python",
   "name": "python3"
  },
  "language_info": {
   "codemirror_mode": {
    "name": "ipython",
    "version": 3
   },
   "file_extension": ".py",
   "mimetype": "text/x-python",
   "name": "python",
   "nbconvert_exporter": "python",
   "pygments_lexer": "ipython3",
   "version": "3.8.8"
  }
 },
 "nbformat": 4,
 "nbformat_minor": 5
}
