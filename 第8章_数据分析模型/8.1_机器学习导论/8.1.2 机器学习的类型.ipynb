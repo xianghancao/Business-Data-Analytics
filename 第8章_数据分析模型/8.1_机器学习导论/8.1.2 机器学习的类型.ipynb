{
 "cells": [
  {
   "cell_type": "markdown",
   "id": "3585976b-4e20-42f5-8bb1-3860f5083f5d",
   "metadata": {},
   "source": [
    "# 机器学习类型"
   ]
  },
  {
   "cell_type": "markdown",
   "id": "077e2f26-750e-4bb0-9457-4da55ddfbe81",
   "metadata": {},
   "source": [
    " 机器学习有多种类型，可以根据如下规则进行分类：\n",
    "\n",
    "- 是否在人类监督下进行学习**（监督，非监督，半监督和强化学习）**\n",
    "- 是否可以动态渐进学习**（在线学习 vs 批量学习）**\n",
    "- 它们是否只是通过简单地比较新的数据点和已知的数据点，还是在训练数据中进行模式识别，以建立一个预测模型，就像科学家所做的那样**（基于实例学习 vs 基于模型学习）**"
   ]
  },
  {
   "cell_type": "markdown",
   "id": "4ca59a15-6eb7-47fa-a078-58bd6dff5539",
   "metadata": {},
   "source": [
    "## 1. 监督/非监督学习\n",
    "\n",
    "机器学习可以根据训练时监督的量和类型进行分类。主要有四类：监督学习、非监督学习、半监督学习和强化学习。\n",
    "\n",
    "### 监督学习\n",
    "在监督学习中，用来训练算法的训练数据包含了答案，称为标签。\n",
    "\n",
    "一个典型的监督学习任务是分类。垃圾邮件过滤器就是一个很好的例子：用许多带有归类（垃圾邮件或普通邮件）的邮件样本进行训练，过滤器必须还能对新邮件进行分类。\n",
    "![supervised-email](image/supervised-email.png)\n",
    "<center>图1 - 邮件分类</center>"
   ]
  },
  {
   "cell_type": "markdown",
   "id": "2280ae17-214f-47e8-9588-23b73732a16b",
   "metadata": {},
   "source": [
    "\n",
    "另一个典型任务是预测目标数值，例如给出一些特征（里程数、车龄、品牌等等）称作预测值，来预测一辆二手汽车的价格。这类任务称作回归。要训练这个系统，你需要给出大量汽车样本，包括它们的预测值和标签（即，它们的价格）。\n",
    "\n",
    "![supervised-regression](image/supervised-regression.png)\n",
    "<center>图2 特征与样本</center>\n"
   ]
  },
  {
   "cell_type": "markdown",
   "id": "68697b02-8b7c-4ba8-86a1-1a8629319531",
   "metadata": {},
   "source": [
    "下面是一些重要的监督学习算法：\n",
    "- K 近邻算法\n",
    "- 线性回归\n",
    "- 逻辑回归\n",
    "- 支持向量机（SVM）\n",
    "- 决策树和随机森林\n",
    "- 神经网络\n",
    "\n"
   ]
  },
  {
   "cell_type": "markdown",
   "id": "86d82ee7-8fcc-402a-9eae-bd25b8564bf9",
   "metadata": {},
   "source": [
    "### 无监督（非监督）学习\n",
    "在非监督学习中，你可能猜到了，训练数据是没有加标签的。系统在没有老师监督和指导的条件下进行学习。\n",
    "![unsupervised_learning](image/unsupervised_learning.png)\n",
    "<center>图3 无监督学习</center>\n"
   ]
  },
  {
   "cell_type": "markdown",
   "id": "64b2cd8c-77aa-42e9-89b3-7583c764ca45",
   "metadata": {},
   "source": [
    "下面是一些最重要的非监督学习算法：\n",
    "- **聚类**  \n",
    "    K 均值  \n",
    "    层次聚类分析（Hierarchical Cluster Analysis，HCA）  \n",
    "    期望最大值  \n",
    "- **可视化和降维**  \n",
    "    主成分分析（Principal Component Analysis，PCA）  \n",
    "    核主成分分析  \n",
    "    局部线性嵌入（Locally-Linear Embedding，LLE）  \n",
    "    t-分布邻域嵌入算法（t-distributed Stochastic Neighbor Embedding，t-SNE）  \n",
    "- **关联性规则学习**  \n",
    "    Apriori 算法  \n",
    "    Eclat 算法  "
   ]
  },
  {
   "cell_type": "markdown",
   "id": "0a9aeab9-7537-4b9b-85ae-f2be265d9cdb",
   "metadata": {},
   "source": [
    "例如，假设你有一份关于你的微博访客的大量数据。你想运行一个聚类算法，检测相似访客的分组。你不会告诉算法某个访客属于哪一类：它需要自己找出关系，无需帮助。例如，模型可能注意到 40% 的访客是喜欢电影的男性，通常是晚上访问，20% 是爱好者，他们是在周末访问等等。如果你使用层次聚类分析，它可能还会细分每个分组为更小的组。"
   ]
  },
  {
   "cell_type": "markdown",
   "id": "e0960faa-88fb-4eef-8841-a9a618a412a2",
   "metadata": {},
   "source": [
    "![cluster](image/cluster.png)\n",
    "<center> 图4 一种聚类算法</center>"
   ]
  },
  {
   "cell_type": "markdown",
   "id": "027a382d-21d8-4b18-bd6d-883189fa1639",
   "metadata": {},
   "source": [
    "可视化算法也是极佳的非监督学习案例：给算法大量复杂的且不加标签的数据，算法输出数据的 2D 或 3D 图像。算法会试图保留数据的结构（即尝试保留输入的独立聚类，避免在图像中重叠），这样就可以明白数据是如何组织起来的，也许还能发现隐藏的规律。\n",
    "\n",
    "![t-sne](image/t-sne.png)\n",
    "<center>图 5 t-SNE 可视化案例，突出了聚类（注：注意动物是与汽车分开的，马和鹿很近、与鸟距离远，以此类推）</center>\n",
    "\n",
    "与此有关联的任务是降维，降维的目的是简化数据、但是不能失去大部分信息。做法之一是合并若干相关的特征。例如，汽车的里程数与车龄高度相关，降维算法就会将它们合并成一个，表示汽车的磨损。这叫做特征提取。\n"
   ]
  },
  {
   "cell_type": "markdown",
   "id": "da623f6d-572d-470a-8d38-421eeee4c713",
   "metadata": {},
   "source": [
    "## 2. 预测精度VS解释能力\n",
    "不管是在监督和不监督下，都能够让机器挑战更难的数据集，或是在已有的数据集里学的更快、更好，学术界不断探索和发明了大量的模型。\n",
    "\n",
    "下图从右向左，分别是线性回归、逻辑回归、决策树、简单神经网络、支持向量机、随机森林、集成学习、深度神经网络。可以看到模型复杂度在上升，用来适应信噪比（signal-to-noise）更低的数据集，获得更好的学习效果（学习效果，用prediction accuracy指标来衡量）。\n",
    "\n",
    "但是模型学习能力(Prediction Accuracy)越来越强，但是解释能力(Model Explainability)却下降了。"
   ]
  },
  {
   "cell_type": "markdown",
   "id": "e6cd79b9-c748-43e4-ae10-67e19368623d",
   "metadata": {},
   "source": [
    "![precision_explain](image/precision_explain.png)\n",
    "<center>图6 预测精度VS解释能力</center>"
   ]
  },
  {
   "cell_type": "markdown",
   "id": "6d569e45-c200-4ed2-b521-01683ae77c57",
   "metadata": {},
   "source": [
    "## 3. 基本术语\n",
    "以下是机器学习（数据挖掘领域）的基本术语："
   ]
  },
  {
   "cell_type": "markdown",
   "id": "a750da26-2c66-4311-a6ca-4af3d1af25eb",
   "metadata": {},
   "source": [
    "|基本术语|解释|\n",
    "|---|---|\n",
    "|学习（训练）|从数据中学得模型的过程|\n",
    "|训练集|参与模型训练的样本拟合|\n",
    "|测试|学得模型后，使用其样本进行预测的过程|\n",
    "|测试集|被预测的样本集合|\n",
    "|假设|学得模型对应的关于数据的某种潜在规律|\n",
    "|分类|输出结果是离散值|\n",
    "|回归|输出结果是连续值|\n",
    "|监督学习|训练样本有标记|\n",
    "|无监督学习|训练样本无标记|"
   ]
  },
  {
   "cell_type": "markdown",
   "id": "fc1761ed-fc57-423a-a075-7bb3b7299c64",
   "metadata": {},
   "source": [
    "## 参考\n",
    "\n",
    "1.《Hands-On Machine Learning with Scikit-Learn, Keras, and Tensorflow》, Aurelien Geron, OREILLY，中文版在线阅读：https://hands1ml.apachecn.org/#/"
   ]
  }
 ],
 "metadata": {
  "kernelspec": {
   "display_name": "Python 3 (ipykernel)",
   "language": "python",
   "name": "python3"
  },
  "language_info": {
   "codemirror_mode": {
    "name": "ipython",
    "version": 3
   },
   "file_extension": ".py",
   "mimetype": "text/x-python",
   "name": "python",
   "nbconvert_exporter": "python",
   "pygments_lexer": "ipython3",
   "version": "3.9.17"
  },
  "widgets": {
   "application/vnd.jupyter.widget-state+json": {
    "state": {},
    "version_major": 2,
    "version_minor": 0
   }
  }
 },
 "nbformat": 4,
 "nbformat_minor": 5
}
