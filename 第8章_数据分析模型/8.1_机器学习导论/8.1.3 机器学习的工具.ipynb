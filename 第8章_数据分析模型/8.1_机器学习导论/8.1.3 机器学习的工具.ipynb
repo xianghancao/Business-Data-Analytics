{
 "cells": [
  {
   "cell_type": "markdown",
   "id": "c7be0cce-cc18-4968-8423-318156864db1",
   "metadata": {},
   "source": [
    "# 机器学习的工具\n"
   ]
  },
  {
   "cell_type": "markdown",
   "id": "a95157a5-0e7f-4eaa-b65b-5618b92e3016",
   "metadata": {},
   "source": [
    "## 1. 开源的数据库\n",
    "学习机器学习时，最好使用真实数据，而不是人工数据集。幸运的是，有上千个开源数据集可以进行选择，涵盖多个领域。以下是一些可以查找的数据的地方：\n",
    "\n",
    "- 流行的开源数据仓库：  \n",
    "UC Irvine Machine Learning Repository  \n",
    "Kaggle datasets  \n",
    "Amazon's AWS datasets  \n",
    "- 准入口（提供开源数据列表）  \n",
    "http://dataportals.org/  \n",
    "http://opendatamonitor.eu/  \n",
    "http://quandl.com/  \n",
    "https://github.com/awesomedata/awesome-public-datasets\n",
    "- 其它列出流行开源数据仓库的网页：  \n",
    "Wikipedia's list of Machine Learning datasets  \n",
    "Quora.com question  \n",
    "Datasets subreddit  \n",
    "\n"
   ]
  },
  {
   "cell_type": "markdown",
   "id": "876b6253-515d-4430-abb4-f27c84f94409",
   "metadata": {},
   "source": [
    "## 2. 和Python相关的库\n"
   ]
  },
  {
   "cell_type": "markdown",
   "id": "74852541-a14f-4d93-918a-edea3eae9354",
   "metadata": {},
   "source": [
    "![sklearn](image/sklearn.png)\n",
    "\n",
    "链接：[scikit-learn.org](https://scikit-learn.org/stable/index.html)\n",
    "\n",
    "sklearn提供基于Python语言的包含监督学习、无监督学习相关的机器学习模型，以及数据预处理方法等。"
   ]
  },
  {
   "cell_type": "markdown",
   "id": "13ed3082-285d-456c-a81d-65a851ed7a5b",
   "metadata": {},
   "source": [
    "## 3. 机器学习的社区\n",
    "![kaggle2](image/kaggle2.png)\n",
    "\n",
    "Kaggle是全球最大的数据科学社区，提供了数据科学相关的竞赛和数据集[8]。很多著名企业，例如，在Kaggle平台上发布企业的数据和商业需求，并附带奖金。众多数据科学爱好者在网站上提交自己的解决方案，已赢取排名和奖金。此外，个人用户也可以上传和公开自己的数据集，开放给其他用户使用。这种竞争、开放和分享的氛围，让Kaggle在数据科学领域具有良好的口碑。\n",
    "链接：[kaggle.com](kaggle.com)"
   ]
  }
 ],
 "metadata": {
  "kernelspec": {
   "display_name": "Python 3 (ipykernel)",
   "language": "python",
   "name": "python3"
  },
  "language_info": {
   "codemirror_mode": {
    "name": "ipython",
    "version": 3
   },
   "file_extension": ".py",
   "mimetype": "text/x-python",
   "name": "python",
   "nbconvert_exporter": "python",
   "pygments_lexer": "ipython3",
   "version": "3.9.17"
  },
  "toc-autonumbering": false,
  "widgets": {
   "application/vnd.jupyter.widget-state+json": {
    "state": {},
    "version_major": 2,
    "version_minor": 0
   }
  }
 },
 "nbformat": 4,
 "nbformat_minor": 5
}
