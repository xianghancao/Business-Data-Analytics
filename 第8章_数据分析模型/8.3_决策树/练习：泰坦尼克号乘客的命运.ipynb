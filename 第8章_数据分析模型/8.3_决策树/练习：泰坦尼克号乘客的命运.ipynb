{
 "cells": [
  {
   "cell_type": "markdown",
   "metadata": {},
   "source": [
    "# 作业：泰坦尼克号乘客的命运\n",
    "\n",
    "<center><img src=\"image/titanic.jpeg\" alt=\"image/titanic.jpeg\" width=\"300\" height=\"228\"></center>"
   ]
  },
  {
   "cell_type": "markdown",
   "metadata": {},
   "source": [
    "\n",
    "\n",
    "1912年4月15日，被广泛认为“永不沉没”的皇家邮轮泰坦尼克号在处女航中撞上冰山沉没。不幸的是，船上没有足够的救生艇，导致2224名乘客和船员中1502人死亡。\n",
    "\n",
    "虽然在生存中有一些运气因素，但似乎有些群体的人比其他群体更有可能生存下来。\n",
    "\n",
    "在这个挑战中，我们要求你建立一个预测模型来回答这个问题:“什么样的人更有可能存活?”\n",
    "\n",
    "使用乘客数据(如姓名、年龄、性别、社会经济阶层等)。"
   ]
  },
  {
   "cell_type": "markdown",
   "metadata": {},
   "source": [
    "## 要求\n",
    "在本次案例中，您将获得两个类似的数据集，其中包括姓名、年龄、性别、社会经济阶层等乘客信息。\n",
    "\n",
    "数据集：\n",
    "1. [train.csv](datasets/泰坦尼克数据集/train.csv)\n",
    "1. [test.csv](datasets/泰坦尼克数据集/test.csv)\n",
    "1. [gender_submission.csv](datasets/泰坦尼克数据集/gender_submission.csv)\n",
    "\n",
    "一个数据集是train.csv，另一个数据集是test.csv。train.csv将包含机上乘客(准确地说是891人)的详细信息，更重要的是，它将揭示他们是否幸存，也被称为“真相”。\n",
    "\n",
    "而test.csv数据集包含类似的信息，但没有披露每名乘客的“真实情况”。预测这些结果是你的工作。\n",
    "\n",
    "使用您在train.csv数据中找到的模型，预测其他418名乘客是否幸存(在test.csv中找到)。\n"
   ]
  },
  {
   "cell_type": "markdown",
   "metadata": {},
   "source": [
    "属性  | 定义 \n",
    "------|------\n",
    "pclass  | 舱位（“1st”为一等舱，“2nd”为二等舱，“3rd”为三等舱）  \n",
    "survived  | 是否生存（1为生存，0为未生存）      \n",
    "name | 乘客姓名      \n",
    "sex  | 性别      \n",
    "age  | 年龄      \n",
    "sibsp  | 在船上的配偶和兄弟姐妹数量      \n",
    "parch  | 在船上的父母和子女数量      \n",
    "ticket  | 船票号码      \n",
    "fare  | 票价      \n",
    "cabin  | 房间号      \n",
    "embarked  | 登船地点           "
   ]
  },
  {
   "cell_type": "code",
   "execution_count": null,
   "metadata": {},
   "outputs": [],
   "source": []
  }
 ],
 "metadata": {
  "kernelspec": {
   "display_name": "Python 3 (ipykernel)",
   "language": "python",
   "name": "python3"
  },
  "language_info": {
   "codemirror_mode": {
    "name": "ipython",
    "version": 3
   },
   "file_extension": ".py",
   "mimetype": "text/x-python",
   "name": "python",
   "nbconvert_exporter": "python",
   "pygments_lexer": "ipython3",
   "version": "3.9.17"
  },
  "widgets": {
   "application/vnd.jupyter.widget-state+json": {
    "state": {},
    "version_major": 2,
    "version_minor": 0
   }
  }
 },
 "nbformat": 4,
 "nbformat_minor": 4
}
