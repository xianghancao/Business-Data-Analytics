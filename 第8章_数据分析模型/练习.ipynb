{
 "cells": [
  {
   "cell_type": "markdown",
   "id": "2218c66d-5fd7-45a3-a5e3-8368d4e4a55f",
   "metadata": {},
   "source": [
    "## 练习1：加州房屋价格预测"
   ]
  },
  {
   "cell_type": "markdown",
   "id": "299acd04-be80-4863-bfa0-c9462e3ebbab",
   "metadata": {},
   "source": [
    "数据集来源：  \n",
    "https://www.kaggle.com/datasets/fedesoriano/california-housing-prices-data-extra-features\n",
    "\n",
    "数据集位置：  \n",
    "'数据/California_Houses.csv'"
   ]
  },
  {
   "cell_type": "markdown",
   "id": "10aa8fbf-379b-4da1-8fea-5427802f5965",
   "metadata": {},
   "source": [
    "数据集描述：\n",
    "\n",
    "This is the dataset is a modified version of the California Housing Data used in the paper Pace, R. Kelley, and Ronald Barry. \"Sparse spatial autoregressions.\" Statistics & Probability Letters 33.3 (1997): 291-297.. It serves as an excellent introduction to implementing machine learning algorithms because it requires rudimentary data cleaning, has an easily understandable list of variables and sits at an optimal size between being too toyish and too cumbersome.\n",
    "\n",
    "The data contains information from the 1990 California census. So although it may not help you with predicting current housing prices like the Zillow Zestimate dataset, it does provide an accessible introductory dataset for teaching people about the basics of machine learning.\n",
    "\n",
    "Modifications with respect to the original data\n",
    "\n",
    "This dataset includes 5 extra features defined by me: \"Distance to coast\", \"Distance to Los Angeles\", \"Distance to San Diego\", \"Distance to San Jose\", and \"Distance to San Francisco\". These extra features try to account for the distance to the nearest coast and the distance to the centre of the largest cities in California.\n",
    "\n",
    "The distances were calculated using the Haversine formula with the Longitude and Latitude:\n",
    "\n",
    "\n",
    "\n",
    "where:\n",
    "\n",
    "phi_1 and phi_2 are the Latitudes of point 1 and point 2, respectively\n",
    "lambda_1 and lambda_2 are the Longitudes of point 1 and point 2, respectively\n",
    "r is the radius of the Earth (6371km)\n",
    "Content\n",
    "\n",
    "The data pertains to the houses found in a given California district and some summary stats about them based on the 1990 census data. The columns are as follows, their names are pretty self-explanatory:\n",
    "\n",
    "1) Median House Value: Median house value for households within a block (measured in US Dollars) [$]\n",
    "2) Median Income: Median income for households within a block of houses (measured in tens of thousands of US Dollars) [10k$]\n",
    "3) Median Age: Median age of a house within a block; a lower number is a newer building [years]\n",
    "4) Total Rooms: Total number of rooms within a block\n",
    "5) Total Bedrooms: Total number of bedrooms within a block\n",
    "6) Population: Total number of people residing within a block\n",
    "7) Households: Total number of households, a group of people residing within a home unit, for a block\n",
    "8) Latitude: A measure of how far north a house is; a higher value is farther north [°]\n",
    "9) Longitude: A measure of how far west a house is; a higher value is farther west [°]\n",
    "10) Distance to coast: Distance to the nearest coast point [m]\n",
    "11) Distance to Los Angeles: Distance to the centre of Los Angeles [m]\n",
    "12) Distance to San Diego: Distance to the centre of San Diego [m]\n",
    "13) Distance to San Jose: Distance to the centre of San Jose [m]\n",
    "14) Distance to San Francisco: Distance to the centre of San Francisco [m]\n",
    "\n",
    "Source\n",
    "\n",
    "This data was entirely modified and cleaned by me. The original data (without the distance features) was initially featured in the following paper:\n",
    "Pace, R. Kelley, and Ronald Barry. \"Sparse spatial autoregressions.\" Statistics & Probability Letters 33.3 (1997): 291-297.\n",
    "\n",
    "The original dataset can be found under the following link: https://www.dcc.fc.up.pt/~ltorgo/Regression/cal_housing.html"
   ]
  },
  {
   "cell_type": "code",
   "execution_count": null,
   "id": "1032fa43-937e-4785-8d85-7918b29defe0",
   "metadata": {},
   "outputs": [],
   "source": []
  }
 ],
 "metadata": {
  "kernelspec": {
   "display_name": "Python 3 (ipykernel)",
   "language": "python",
   "name": "python3"
  },
  "language_info": {
   "codemirror_mode": {
    "name": "ipython",
    "version": 3
   },
   "file_extension": ".py",
   "mimetype": "text/x-python",
   "name": "python",
   "nbconvert_exporter": "python",
   "pygments_lexer": "ipython3",
   "version": "3.9.17"
  },
  "widgets": {
   "application/vnd.jupyter.widget-state+json": {
    "state": {},
    "version_major": 2,
    "version_minor": 0
   }
  }
 },
 "nbformat": 4,
 "nbformat_minor": 5
}
