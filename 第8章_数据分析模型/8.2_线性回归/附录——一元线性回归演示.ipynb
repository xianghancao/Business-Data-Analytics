{
 "cells": [
  {
   "cell_type": "markdown",
   "id": "653c1813-ed28-434c-97d5-5c2770308a6a",
   "metadata": {},
   "source": [
    "# 一元线性回归动态演示（请自上而下运行一遍）"
   ]
  },
  {
   "cell_type": "markdown",
   "id": "4cb8f3bf-50fb-4f8e-84ce-25f2b37f2cd2",
   "metadata": {},
   "source": [
    "某公司计划研究销售人员数量对于新产品销售额的影响。\n",
    "\n",
    "从其下属多家公司中随机抽取10个子公司，这10个子公司当你新产品销售额和销售人员数量统计数据在路径\"数据/销售人员和销售量.csv\"。\n",
    "\n",
    "下面的代码演示了，通过调节斜率和截距这两个参数，可以观察$R^2$和$SER$这个评价回归效果的指标的变化。"
   ]
  },
  {
   "cell_type": "markdown",
   "id": "aad40f2d-fc53-4c12-9094-1541fab0c2b1",
   "metadata": {},
   "source": [
    "## 读取数据"
   ]
  },
  {
   "cell_type": "code",
   "execution_count": 2,
   "id": "ebda650c-2f6c-4f9e-bac6-8b5076bf7c62",
   "metadata": {},
   "outputs": [],
   "source": [
    "import pandas as pd\n",
    "data = pd.read_csv(\"数据/销售人员和销售量.csv\")\n",
    "x = data[\"销售人员数量/人\"]\n",
    "y = data[\"新产品销售额/万元\"]"
   ]
  },
  {
   "cell_type": "markdown",
   "id": "a368e566-1865-41ab-a013-d6a9e02e18e7",
   "metadata": {},
   "source": [
    "## 回归参数估计"
   ]
  },
  {
   "cell_type": "code",
   "execution_count": 3,
   "id": "43e4db6d-84ae-4e68-bff2-aca9785826fa",
   "metadata": {},
   "outputs": [
    {
     "data": {
      "text/plain": [
       "LinregressResult(slope=12.230986303255557, intercept=176.2952026980522, rvalue=0.969906207108702, pvalue=3.4603114770030177e-06, stderr=1.0855453862397284, intercept_stderr=27.326866769281782)"
      ]
     },
     "execution_count": 3,
     "metadata": {},
     "output_type": "execute_result"
    }
   ],
   "source": [
    "import scipy.stats as stats\n",
    "result = stats.linregress(x, y)\n",
    "result"
   ]
  },
  {
   "cell_type": "markdown",
   "id": "fba47a02-5c9c-4877-9618-fcad366cfea7",
   "metadata": {},
   "source": [
    "## 计算R2和SER的函数"
   ]
  },
  {
   "cell_type": "code",
   "execution_count": 4,
   "id": "cadb2557-5b31-427c-aad2-8ae28e625e17",
   "metadata": {},
   "outputs": [],
   "source": [
    "def SER(y_test, y_pred):\n",
    "    return np.sqrt(np.mean((y_test - y_pred) ** 2))\n",
    " \n",
    "def R2(y_test, y_pred):\n",
    "    #print(y_test)\n",
    "    TSS=np.sum((y_test-np.mean(y_test))**2)\n",
    "    SSR=np.sum((y_test-y_pred)**2)\n",
    "    ESS = np.sum((y_pred-np.mean(y_test))**2)\n",
    "    r2=1-SSR/TSS\n",
    "    return r2"
   ]
  },
  {
   "cell_type": "markdown",
   "id": "8a60f674-9cb1-46c1-ae0e-5348eef05779",
   "metadata": {},
   "source": [
    "## 使用ipywidgets来动态绘图"
   ]
  },
  {
   "cell_type": "code",
   "execution_count": 6,
   "id": "1d762f28-3788-47d2-85d1-4869f3a6e4ef",
   "metadata": {
    "tags": []
   },
   "outputs": [
    {
     "data": {
      "application/vnd.jupyter.widget-view+json": {
       "model_id": "c331e333616c4b50bb4b5353d0d6fa27",
       "version_major": 2,
       "version_minor": 0
      },
      "text/plain": [
       "interactive(children=(FloatSlider(value=12.230986303255557, description='slope', max=24.461972606511114, step=…"
      ]
     },
     "metadata": {},
     "output_type": "display_data"
    }
   ],
   "source": [
    "%matplotlib inline\n",
    "from ipywidgets import interactive\n",
    "import matplotlib.pyplot as plt\n",
    "import numpy as np\n",
    "import scipy.stats as stats\n",
    "\n",
    "R2_record = []\n",
    "SER_record = []\n",
    "def regress(slope=result.slope, intercept=result.intercept):\n",
    "    plt.figure(figsize=(10, 6))\n",
    "    plt.scatter(x, y, marker='o',c='b', label='original data')\n",
    "    plt.plot(x, intercept + slope*x, c='r', label='fitted line')\n",
    "    R2_record.append(R2(y, intercept + slope*x))\n",
    "    SER_record.append(SER(y, intercept + slope*x))\n",
    "    print(\"拟合优度R2[接近1最好] 目前值: %.2f\" %(R2_record[-1]))\n",
    "    print(\"SER[越小越好] 目前值: %.2f\" %SER_record[-1])\n",
    "    plt.legend()\n",
    "    plt.show\n",
    "\n",
    "    plt.figure(figsize=(10, 1.5))\n",
    "    f = plt.plot(R2_record, label=\"R2\")\n",
    "    plt.ylabel('R2')\n",
    "    plt.legend()\n",
    "\n",
    "    plt.figure(figsize=(10, 1.5))\n",
    "    plt.plot(SER_record, label=\"SER\")\n",
    "    plt.ylabel('SER')\n",
    "    plt.legend()\n",
    "    plt.show()\n",
    "\n",
    "interactive_plot = interactive(regress, slope=(0, 2*result.slope, 0.2), intercept=(0, result.intercept*2, 5))\n",
    "output = interactive_plot.children[-1]\n",
    "output.layout.height = '650px'\n",
    "interactive_plot"
   ]
  },
  {
   "cell_type": "code",
   "execution_count": null,
   "id": "1f0da4c7-dd39-4f82-8c7d-2624e4f2dcce",
   "metadata": {},
   "outputs": [],
   "source": []
  },
  {
   "cell_type": "code",
   "execution_count": null,
   "id": "8075ddb4-97a0-41e6-80c0-d449bd8df337",
   "metadata": {},
   "outputs": [],
   "source": []
  }
 ],
 "metadata": {
  "kernelspec": {
   "display_name": "Python 3 (ipykernel)",
   "language": "python",
   "name": "python3"
  },
  "language_info": {
   "codemirror_mode": {
    "name": "ipython",
    "version": 3
   },
   "file_extension": ".py",
   "mimetype": "text/x-python",
   "name": "python",
   "nbconvert_exporter": "python",
   "pygments_lexer": "ipython3",
   "version": "3.9.13"
  },
  "widgets": {
   "application/vnd.jupyter.widget-state+json": {
    "state": {},
    "version_major": 2,
    "version_minor": 0
   }
  }
 },
 "nbformat": 4,
 "nbformat_minor": 5
}
