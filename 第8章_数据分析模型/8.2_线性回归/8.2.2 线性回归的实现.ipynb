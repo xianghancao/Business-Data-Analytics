{
 "cells": [
  {
   "cell_type": "markdown",
   "id": "a3d35350-29d5-44ba-b589-ede7f3a61e71",
   "metadata": {},
   "source": [
    "# 线性回归的Python实现"
   ]
  },
  {
   "cell_type": "markdown",
   "id": "4e05e1e6-c929-4511-ae6f-10f1769ed048",
   "metadata": {},
   "source": [
    "## 1. 相关性系数的实现"
   ]
  },
  {
   "cell_type": "markdown",
   "id": "6ea2654b-6abe-488a-b4db-b651b021cf38",
   "metadata": {},
   "source": [
    "调用scipy.stats.pearsonr计算相关系数：\n",
    "```python\n",
    "import scipy.stats as stats\n",
    "r = stats.pearsonr(x1, x2)\n",
    "```"
   ]
  },
  {
   "cell_type": "markdown",
   "id": "8127508a-db81-4f12-a74f-884cfa6cd6c8",
   "metadata": {},
   "source": [
    "也可以使用`pd.DataFrame.corr()`来计算相关系数矩阵，然后绘制图形，详细见下一节。\n",
    "```python\n",
    "df = pd.DataFrame([(.2, .3), (.0, .6), (.6, .0), (.2, .1)],\n",
    "                                columns=['dogs', 'cats'])\n",
    "df.corr(method='pearson')\n",
    "      dogs  cats\n",
    "dogs   1.0   0.3\n",
    "cats   0.3   1.0\n",
    "```"
   ]
  },
  {
   "cell_type": "markdown",
   "id": "d7533714-5837-447c-b02e-48091097f7d8",
   "metadata": {},
   "source": [
    "## 2. 线性回归的实现"
   ]
  },
  {
   "cell_type": "markdown",
   "id": "0c346308-0836-4d94-9e4b-53df4a2ba605",
   "metadata": {},
   "source": [
    "线性回归的Python实现主要使用sklearn机器学习库linear_model模块下的LinearRegression类。\n",
    "```python\n",
    "class sklearn.linear_model.LinearRegression(*, fit_intercept=True, copy_X=True, n_jobs=None, positive=False)[source]¶\n",
    "```"
   ]
  },
  {
   "cell_type": "markdown",
   "id": "1e1d23ef-0ba4-454b-852b-a8aec7497700",
   "metadata": {},
   "source": [
    "|类别|名称|含义|\n",
    "|---|---|---|\n",
    "|**参数**|**fit_intercept**|默认为True，是否计算模型的截距，如果设为False，是指数据是以原点为中心的，不会计算截距。|\n",
    "|**属性**|**coef_**|线性回归问题的估计系数。|\n",
    "||**intercept_**|线性模型中的独立项，也就是截距|\n",
    "|**方法**|**fit(X, y)**|训练模型（或称估计器、学习器）|\n",
    "||**predict(X)**|在训练后，使用模型预测|\n",
    "||**score(X, y)**|用来计算模型的精度|\n",
    "||**get_params()**|获得模型的参数|"
   ]
  },
  {
   "cell_type": "markdown",
   "id": "818345fd-6055-4c34-975c-a849513237bb",
   "metadata": {},
   "source": [
    "### 模型输入X和y"
   ]
  },
  {
   "cell_type": "markdown",
   "id": "299b1e51-7783-4b0e-be1c-6b336f3868f9",
   "metadata": {},
   "source": [
    "上述回归模型中使用$X$和$y$的数据结构如下，$X$包含多个样本，以及每个样本的属性，也就是自变量，和X的每个样本对应的就是我们的预测目标$y$，也就是因变量。\n",
    "\n",
    "在实际编程中，一般使用pd.DataFrame来表示$X$和$y$。"
   ]
  },
  {
   "cell_type": "markdown",
   "id": "ff2c8d57-6ca4-449a-a6d2-3c79ee4183b3",
   "metadata": {},
   "source": [
    "![X&y](image/X&y.png)"
   ]
  },
  {
   "cell_type": "markdown",
   "id": "af359226-66cd-48b8-9af2-c89e28cce561",
   "metadata": {},
   "source": [
    "### 实现流程\n",
    "针对于多元回归分析，其一般化的流程如下：\n",
    "![regression_steps](image/regression_steps.jpg)"
   ]
  },
  {
   "cell_type": "markdown",
   "id": "f897dd04-0545-42b1-b97c-4cdfc2d5aa51",
   "metadata": {},
   "source": [
    "1）创建学习器，也就是初始化线性回归模型\n",
    "```python\n",
    "from sklearn.linear_model import LinearRegression\n",
    "model = LinearRegression()\n",
    "```"
   ]
  },
  {
   "cell_type": "markdown",
   "id": "0874a47a-6d87-474d-ad37-ceef0dfdae24",
   "metadata": {},
   "source": [
    "也可以这样表述：\n",
    "```python\n",
    "from sklearn import linear_model\n",
    "model = linear_model.LinearRegression()\n",
    "```"
   ]
  },
  {
   "cell_type": "markdown",
   "id": "b6294004-e148-444f-99f4-3421848ed939",
   "metadata": {},
   "source": [
    "2）训练模型\n",
    "```python\n",
    "model.fit(X, y)\n",
    "```"
   ]
  },
  {
   "cell_type": "markdown",
   "id": "746c3026-c540-4449-b8cb-439257f71203",
   "metadata": {},
   "source": [
    "3）生成预测结果\n",
    "```python\n",
    "predicted_y = model.predict(X)\n",
    "```"
   ]
  },
  {
   "cell_type": "markdown",
   "id": "8ae28ca5-e173-4689-bc14-60ff8c8cba3b",
   "metadata": {},
   "source": [
    "4）计算模型预测精度和拟合优度$R^2$\n",
    "```python\n",
    "precision = model.score(X, y)\n",
    "```\n",
    "```python\n",
    "from sklearn.metrics import r2_score\n",
    "r2 = r2_score(predicted_y, y)\n",
    "```"
   ]
  },
  {
   "cell_type": "markdown",
   "id": "9a988ea4-21e9-428f-8842-97c2f20bd540",
   "metadata": {},
   "source": [
    "5）生成汇总信息（summary）\n",
    "```python\n",
    "print(\"系数: %s\" %model.coef_)\n",
    "print(\"截距: %.4f\" %model.intercept_)\n",
    "print(\"样本内(IS)训练集精度:%.2f\" %precision)\n",
    "print(\"拟合优度R-squared: %.2f\" % r2)\n",
    "```"
   ]
  },
  {
   "cell_type": "markdown",
   "id": "3a42ddfb-12b8-4100-bba4-b1dd7fd6c8c5",
   "metadata": {},
   "source": [
    "## 参考\n",
    "1. sklearn官网：[链接](https://scikit-learn.org/stable/modules/generated/sklearn.linear_model.LinearRegression.html#sklearn.linear_model.LinearRegression)"
   ]
  }
 ],
 "metadata": {
  "kernelspec": {
   "display_name": "Python 3 (ipykernel)",
   "language": "python",
   "name": "python3"
  },
  "language_info": {
   "codemirror_mode": {
    "name": "ipython",
    "version": 3
   },
   "file_extension": ".py",
   "mimetype": "text/x-python",
   "name": "python",
   "nbconvert_exporter": "python",
   "pygments_lexer": "ipython3",
   "version": "3.11.5"
  },
  "widgets": {
   "application/vnd.jupyter.widget-state+json": {
    "state": {},
    "version_major": 2,
    "version_minor": 0
   }
  }
 },
 "nbformat": 4,
 "nbformat_minor": 5
}
