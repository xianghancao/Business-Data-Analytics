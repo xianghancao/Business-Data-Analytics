{
 "cells": [
  {
   "cell_type": "markdown",
   "id": "3b05b4bb-9122-4842-850e-c9b4d3a1bfa5",
   "metadata": {},
   "source": [
    "# 作业"
   ]
  },
  {
   "cell_type": "markdown",
   "id": "7eb7fbbe-c5a0-4e09-a2d9-5a55448b12e5",
   "metadata": {
    "tags": []
   },
   "source": [
    "## 商业场景：巧克力市场的可视化（0.5分*6=3分）\n",
    "巧克力是以可可制品(包括可可脂、可可粉或可可浆)和糖为主要原材料制成的一种甜食，口感细腻甜美，并伴随一股浓郁的香气，是休闲零食的一大品类。\n",
    "\n",
    "2010年以来，全球巧克力产品销售规模稳步增长，Statista数据显示，2019年全球巧克力产品销售规模达1186.2亿美元，同比2018年增长4.4%，预计2020年全年销售额可达1237.0亿美元，到2023年全球销售额将超过1350亿美元。按照消费量计，2019年全球巧克力产品消费量达1042.4万吨，同比2018年增长1.8%，预计2020年全年消费量可达1060.1万吨，到2023年全球消费量将超过1100万吨。\n",
    "\n",
    "按照产品中使用代可可脂及是否添加辅料，可将巧克力产品进一步细分。常见的纯巧克力有黑巧克力、白巧克力、牛奶巧克力等，巧克力制品则有果仁巧克力、夹心巧克力、威化巧克力、酒心巧克力等。\n",
    "\n",
    "由于京东(JD)平台不披露商品的销量信息，我们使用“评价数”作为销量的代理变量。\n",
    "\n",
    "完成以下任务：\n",
    "1. 读取'datasets/Chocolate.csv'里的数据\n",
    "2. 绘制价格的频数图，描述样本的价格分布\n",
    "3. 绘制箱型图，进一步了解价格的分位数（例如50%、75%分位数）\n",
    "4. 绘制饼状图，观察德芙、好时和费列罗等品牌的市场占有率\n",
    "5. 绘制饼状图，观察牛奶巧克力、黑巧克力、夹心巧克力、榛果等不同口味的市场占有率\n",
    "6. 绘制散点图，观察价格和销量之间的关系"
   ]
  },
  {
   "cell_type": "markdown",
   "id": "fc722266-6db9-4a67-ab2c-42dc1db77ca9",
   "metadata": {},
   "source": [
    "下述代码可以激活图片中使用中文字体："
   ]
  },
  {
   "cell_type": "code",
   "execution_count": null,
   "id": "31d7331c-a698-44e7-a2bf-47ba38e46c7d",
   "metadata": {},
   "outputs": [],
   "source": [
    "import matplotlib.pyplot as plt\n",
    "plt.rcParams['font.sans-serif'] = 'SimHei'\n",
    "\n",
    "\n",
    "\n"
   ]
  }
 ],
 "metadata": {
  "kernelspec": {
   "display_name": "Python 3 (ipykernel)",
   "language": "python",
   "name": "python3"
  },
  "language_info": {
   "codemirror_mode": {
    "name": "ipython",
    "version": 3
   },
   "file_extension": ".py",
   "mimetype": "text/x-python",
   "name": "python",
   "nbconvert_exporter": "python",
   "pygments_lexer": "ipython3",
   "version": "3.9.17"
  },
  "widgets": {
   "application/vnd.jupyter.widget-state+json": {
    "state": {},
    "version_major": 2,
    "version_minor": 0
   }
  }
 },
 "nbformat": 4,
 "nbformat_minor": 5
}
