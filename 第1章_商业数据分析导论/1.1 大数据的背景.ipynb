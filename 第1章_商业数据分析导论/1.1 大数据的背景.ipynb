{
 "cells": [
  {
   "cell_type": "markdown",
   "id": "4b5271ea-171c-4939-8a4e-cb0766b8e659",
   "metadata": {},
   "source": [
    "# 大数据的背景\n",
    "提到大数据你的头脑里会想到哪些画面或者词语呢？\n",
    "\n",
    "我们从几个视频来了解下这个行业目前的发展现状。"
   ]
  },
  {
   "cell_type": "markdown",
   "id": "a89653ef-1c40-4685-a262-7b0a805899e2",
   "metadata": {},
   "source": [
    "## 1. 行业的发展现状"
   ]
  },
  {
   "cell_type": "markdown",
   "id": "c86d530c-0781-42bd-9dc2-66cb70dda6bb",
   "metadata": {},
   "source": [
    "### 1.1 谷歌数据中心\n",
    "![google](image/google2.png)\n",
    "\n",
    "[谷歌数据中心一日游视频链接](https://www.bilibili.com/video/BV1rt411a7pd?from=search&seid=6576904493755639849&spm_id_from=333.337.0.0)  \n",
    "\n",
    "谷歌数据中心是谷歌公司的核心基础设施，用于存储、处理和管理海量数据。分布在全球，规模庞大，拥有先进的技术和创新设计。它们支撑着谷歌的各项服务，包括搜索、电子邮件和云计算。谷歌数据中心注重可持续性和安全性，采用可再生能源和严格的安全措施。它们是谷歌为用户提供高效、可靠服务的关键基础。"
   ]
  },
  {
   "cell_type": "markdown",
   "id": "5c47e42e-16a2-4ea6-946e-edfbd2913fbe",
   "metadata": {},
   "source": [
    "### 1.3 Tesla无人驾驶\n",
    "![tesla](image/tesla2.png)\n",
    "\n",
    "[Tesla无人驾驶视频链接](https://www.bilibili.com/video/BV1q741147ji?from=search&seid=18154093602552124181&spm_id_from=333.337.0.0)  \n",
    "\n",
    "Tesla的无人驾驶技术是一项革命性的创新，利用先进的传感器、计算机视觉和人工智能技术实现自动驾驶。它能够识别道路、车辆和行人，自主决策并控制车辆行驶。无人驾驶技术提供更安全、更高效的驾驶体验，减少交通事故和交通堵塞。Tesla不断改进和更新其自动驾驶系统，使其逐步向完全自动驾驶的目标迈进。"
   ]
  },
  {
   "cell_type": "markdown",
   "id": "e2ae8393-c98a-469c-8c0d-9648dea14e7e",
   "metadata": {},
   "source": [
    "### 1.4 ChatGPT\n",
    "![chatgpt](image/chatgpt.png)\n",
    "\n",
    "[ChatGPT是什么？视频链接](https://www.bilibili.com/video/BV11m4y1B7ur/?share_source=copy_web&vd_source=d0c42095e40138f74b31b46a7ecb58cd)\n",
    "\n",
    "ChatGPT是一种基于人工智能的语言模型，它被训练用于进行对话和回答各种问题。它是OpenAI开发的一种强大的自然语言处理工具。ChatGPT可以理解和生成自然语言文本，它可以与用户进行实时对话，并提供有用的回答和建议。ChatGPT在许多领域都有广泛的应用，包括客户服务、虚拟助手、教育和娱乐等。它可以帮助用户解决问题、获取信息、提供建议和进行闲聊。ChatGPT的目标是提供一个交互式、智能的对话体验，以满足用户的各种需求。"
   ]
  },
  {
   "cell_type": "markdown",
   "id": "4ee0f237-50f6-465b-a094-697b8d9ce490",
   "metadata": {},
   "source": [
    "## 2. 大数据的核心概念\n",
    "\n",
    "### 2.1 极速膨胀的数据量\n",
    "2000年以后到目前，大数据经历了爆炸性的增长，数据量和增长速度都呈现出惊人的规模。根据国际数据公司（IDC）的报告，全球数据量从2000年到2020年增长了约40倍。在2000年，全球大约产生了2.8千亿GB（gigabytes）的数据，而到2020年，这个数字增长到了175千亿GB，也就是175 zettabytes（ZB）。\n",
    "\n",
    "大数据的增长速度是指每年产生的数据量的增长率。根据IDC的估计，全球数据量的年增长率约为30％至40％。这意味着每年新增的数据量都非常庞大。\n",
    "\n",
    "大数据的增长涉及各个领域和行业，互联网、社交媒体、传感器网络、移动设备、金融交易、医疗健康等领域都是数据增长的主要来源。"
   ]
  },
  {
   "cell_type": "markdown",
   "id": "4727036b-5fb9-4d67-be2a-39f48d09978b",
   "metadata": {},
   "source": [
    "### 练习\n",
    "你能列举几个你所熟悉的数据来源么"
   ]
  },
  {
   "cell_type": "code",
   "execution_count": null,
   "id": "336f1b4a-2f6a-4dba-92ce-99db0398db3c",
   "metadata": {
    "tags": []
   },
   "outputs": [],
   "source": [
    "\n",
    "\n"
   ]
  },
  {
   "cell_type": "markdown",
   "id": "eb81ed15-0149-486d-a852-d80f5b8d3d6e",
   "metadata": {},
   "source": [
    "### 2.2 商业价值的实现\n",
    "\n",
    "大数据具有巨大的商业潜力。通过分析大量的数据，企业可以发现趋势、模式和洞察力，从而预测市场趋势、改进产品和服务、提高运营效率、优化供应链和提升客户体验等。大数据分析已经成为企业决策和战略规划的重要依据。\n",
    "\n"
   ]
  },
  {
   "cell_type": "markdown",
   "id": "775bc5ed-ad9c-43fa-a7c4-7a392e087d1a",
   "metadata": {},
   "source": [
    "### 练习\n",
    "你能认为具体谈谈某些数据产生的商业价值么？"
   ]
  },
  {
   "cell_type": "code",
   "execution_count": null,
   "id": "bb37cb00-9d28-442f-9199-0d7e15e6a9d0",
   "metadata": {},
   "outputs": [],
   "source": [
    "\n",
    "\n"
   ]
  },
  {
   "cell_type": "markdown",
   "id": "1ec1e82a-9058-4b61-9c2e-26851715f1f7",
   "metadata": {},
   "source": [
    "### 2.3 技术和工具的进步\n",
    "\n",
    "大数据分析技术和工具不断推出和发展。例如，云计算、分布式计算、机器学习和人工智能等技术的进步提供了更好的数据处理和分析能力。数据科学家和分析师使用各种编程语言（如Python和R）和分析工具（如Hadoop和Spark）来处理和分析大规模数据集。"
   ]
  },
  {
   "cell_type": "markdown",
   "id": "b27d5cec-4817-410d-8f0e-ce6b1d093d63",
   "metadata": {},
   "source": [
    "### 练习\n",
    "你了解过哪些编程语言？"
   ]
  },
  {
   "cell_type": "code",
   "execution_count": null,
   "id": "5983f685-19bf-4acb-b49d-6a7257eeb41d",
   "metadata": {},
   "outputs": [],
   "source": [
    "\n",
    "\n"
   ]
  },
  {
   "cell_type": "markdown",
   "id": "b386b2cf-c542-43e4-8ba1-b734ee570060",
   "metadata": {},
   "source": [
    "### 2.4 数据隐私和安全\n",
    "随着大数据的规模增长，数据隐私和安全变得更加重要。组织需要确保数据的安全性和合规性，并采取适当措施保护用户隐私。法规和政策的制定也在不断加强，以保护个人数据的使用和处理。\n"
   ]
  },
  {
   "cell_type": "markdown",
   "id": "e8f8488a-e999-48df-8305-a46251222eb1",
   "metadata": {},
   "source": [
    "### 练习\n",
    "保护个人数据，你有哪些主意？"
   ]
  },
  {
   "cell_type": "markdown",
   "id": "867b79db-a58d-4ec8-a465-1a80dff61e3a",
   "metadata": {},
   "source": [
    "\n",
    "\n"
   ]
  },
  {
   "cell_type": "markdown",
   "id": "fe8404b1-3d57-4e3b-baeb-da1c7ef01483",
   "metadata": {},
   "source": [
    "## 3. 大数据的特点"
   ]
  },
  {
   "cell_type": "markdown",
   "id": "b511fdae-45c3-4226-865a-65bdaf3961aa",
   "metadata": {},
   "source": [
    "![4V](image/4V-2.png)"
   ]
  },
  {
   "cell_type": "markdown",
   "id": "a9ac8eab-8b43-4434-9a52-ac1cd17a777f",
   "metadata": {},
   "source": [
    "大数据的4V特点是指Volume（数据量）、Variety（数据种类）、Velocity（数据处理速度）和Value（数据价值）。\n",
    "\n",
    "**Volume** 指数据量大，数据来源广泛、数据量不断增加，并且需要使用分布式存储和处理技术来处理这些数据。\n",
    "\n",
    "**Variety** 指数据种类多，数据类型多样化，包括结构化数据和非结构化数据，如文本、音频、视频、传感器数据等。\n",
    "\n",
    "**Velocity** 指数据处理速度快，数据产生和处理的速度越来越快，需要采用实时数据处理和分析技术来及时处理数据。\n",
    "\n",
    "**Value** 指数据价值高，通过对数据进行分析和挖掘，可以发现隐藏的模式、趋势和关联性，从而提高业务决策的质量，增加商业价值。\n",
    "\n",
    "这些4V特点是大数据的核心特征，也是大数据应用与传统数据处理的主要区别。"
   ]
  },
  {
   "cell_type": "markdown",
   "id": "7fb82a9f-336e-468b-8581-b2c80a0558ec",
   "metadata": {},
   "source": [
    "这些4V特点最早由IBM的Doug Laney在2001年提出，并在随后的几年内逐渐被大数据领域广泛采用。这些特点被认为是大数据处理和管理的核心要素，也是大数据应用和传统数据处理的主要区别。虽然4V特点最初由Laney提出，但随着大数据的快速发展和不断演变，许多其他学者和机构也对这些特点进行了扩展和细化。"
   ]
  }
 ],
 "metadata": {
  "kernelspec": {
   "display_name": "Python 3 (ipykernel)",
   "language": "python",
   "name": "python3"
  },
  "language_info": {
   "codemirror_mode": {
    "name": "ipython",
    "version": 3
   },
   "file_extension": ".py",
   "mimetype": "text/x-python",
   "name": "python",
   "nbconvert_exporter": "python",
   "pygments_lexer": "ipython3",
   "version": "3.9.17"
  },
  "toc-autonumbering": false
 },
 "nbformat": 4,
 "nbformat_minor": 5
}
