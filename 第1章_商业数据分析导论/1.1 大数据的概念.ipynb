{
 "cells": [
  {
   "cell_type": "markdown",
   "id": "4b5271ea-171c-4939-8a4e-cb0766b8e659",
   "metadata": {},
   "source": [
    "# 大数据的概念\n",
    "提到大数据你会想到很多相关的词，例如云计算、人工智能、超级计算机等等。\n",
    "\n",
    "我们从几个视频来了解下这个行业目前的发展现状。"
   ]
  },
  {
   "cell_type": "markdown",
   "id": "3147bb15-73b1-48ba-877e-d470a4e8a31a",
   "metadata": {},
   "source": [
    "## 1. 行业的发展现状"
   ]
  },
  {
   "cell_type": "markdown",
   "id": "2ddffa80-38f1-4e9b-b319-cfcd21750053",
   "metadata": {},
   "source": [
    "## 数据中心"
   ]
  },
  {
   "cell_type": "markdown",
   "id": "c86d530c-0781-42bd-9dc2-66cb70dda6bb",
   "metadata": {},
   "source": [
    "[谷歌数据中心一日游视频链接](https://www.bilibili.com/video/BV1rt411a7pd?from=search&seid=6576904493755639849&spm_id_from=333.337.0.0)\n",
    "<center><img src=\"image/google2.png\" alt=\"image/google2.png\" width=\"800\" height=\"228\"></center>"
   ]
  },
  {
   "cell_type": "markdown",
   "id": "5c47e42e-16a2-4ea6-946e-edfbd2913fbe",
   "metadata": {},
   "source": [
    "## 无人驾驶\n",
    "[Tesla无人驾驶视频链接](https://www.bilibili.com/video/BV1q741147ji?from=search&seid=18154093602552124181&spm_id_from=333.337.0.0)\n",
    "<center><img src=\"image/tesla2.png\" alt=\"image/tesla2.png\" width=\"800\" height=\"228\"></center>\n"
   ]
  },
  {
   "cell_type": "markdown",
   "id": "e2ae8393-c98a-469c-8c0d-9648dea14e7e",
   "metadata": {},
   "source": [
    "## Chatgpt\n",
    "由OpenAI开发的人工智能语言模型，登陆需要科学上网工具，由教师演示。"
   ]
  },
  {
   "cell_type": "markdown",
   "id": "fe8404b1-3d57-4e3b-baeb-da1c7ef01483",
   "metadata": {},
   "source": [
    "## 2. 大数据的特点"
   ]
  },
  {
   "cell_type": "markdown",
   "id": "a9ac8eab-8b43-4434-9a52-ac1cd17a777f",
   "metadata": {},
   "source": [
    "大数据的4V特点是指Volume（数据量）、Variety（数据种类）、Velocity（数据处理速度）和Value（数据价值）。\n",
    "\n",
    "**Volume** 指数据量大，数据来源广泛、数据量不断增加，并且需要使用分布式存储和处理技术来处理这些数据。\n",
    "\n",
    "**Variety** 指数据种类多，数据类型多样化，包括结构化数据和非结构化数据，如文本、音频、视频、传感器数据等。\n",
    "\n",
    "**Velocity** 指数据处理速度快，数据产生和处理的速度越来越快，需要采用实时数据处理和分析技术来及时处理数据。\n",
    "\n",
    "**Value** 指数据价值高，通过对数据进行分析和挖掘，可以发现隐藏的模式、趋势和关联性，从而提高业务决策的质量，增加商业价值。\n",
    "\n",
    "这些4V特点是大数据的核心特征，也是大数据应用与传统数据处理的主要区别。"
   ]
  },
  {
   "cell_type": "markdown",
   "id": "7fb82a9f-336e-468b-8581-b2c80a0558ec",
   "metadata": {},
   "source": [
    "这些4V特点最早由IBM的Doug Laney在2001年提出，并在随后的几年内逐渐被大数据领域广泛采用。这些特点被认为是大数据处理和管理的核心要素，也是大数据应用和传统数据处理的主要区别。虽然4V特点最初由Laney提出，但随着大数据的快速发展和不断演变，许多其他学者和机构也对这些特点进行了扩展和细化。"
   ]
  },
  {
   "cell_type": "markdown",
   "id": "b511fdae-45c3-4226-865a-65bdaf3961aa",
   "metadata": {},
   "source": [
    "![4V](image/4V-2.png)"
   ]
  },
  {
   "cell_type": "markdown",
   "id": "80dbe09e-28e0-4071-b254-e11d5b37fbe9",
   "metadata": {},
   "source": [
    "虽然最初的4V特点是由IBM的Doug Laney在2001年提出，但随着大数据的快速发展和不断演变，许多其他学者和机构也对这些特点进行了扩展和细化，因此出现了许多不同版本的4V特点。例如，有些版本将Veracity（数据的准确性和可靠性）作为第五个特点，有些版本将Visualization（数据可视化）作为第五个特点，还有一些版本将Variability（数据的多变性和不确定性）作为第五个特点。此外，一些学者和机构还提出了不同的特点，例如Volatility（数据的易变性）和Validity（数据的有效性），以更好地描述和解释大数据的不同方面。因此，不同的版本和扩展版本的4V特点都有其独特的价值和适用性，可以根据不同的需求和背景来选择使用。"
   ]
  }
 ],
 "metadata": {
  "kernelspec": {
   "display_name": "Python 3 (ipykernel)",
   "language": "python",
   "name": "python3"
  },
  "language_info": {
   "codemirror_mode": {
    "name": "ipython",
    "version": 3
   },
   "file_extension": ".py",
   "mimetype": "text/x-python",
   "name": "python",
   "nbconvert_exporter": "python",
   "pygments_lexer": "ipython3",
   "version": "3.9.17"
  }
 },
 "nbformat": 4,
 "nbformat_minor": 5
}
