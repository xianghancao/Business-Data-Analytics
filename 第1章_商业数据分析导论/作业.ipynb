{
 "cells": [
  {
   "cell_type": "markdown",
   "id": "47dd8069-63d2-461c-8f1d-fa13a149baf9",
   "metadata": {},
   "source": [
    "## 作业：电商平台上某品牌手机销售量的影响因素有哪些？（5分*2=10分）"
   ]
  },
  {
   "cell_type": "markdown",
   "id": "032d51c9-b0e8-4049-a23f-e30bef9f6d7e",
   "metadata": {},
   "source": [
    "在电商平台上分析某品牌手机销售量的影响因素，应该采集哪些相关的数据信息？这些信息如何影响手机的销量？"
   ]
  },
  {
   "cell_type": "code",
   "execution_count": null,
   "id": "edfc9d84-1485-4de7-bd74-8c3bae91b7ab",
   "metadata": {},
   "outputs": [],
   "source": [
    "\n",
    "\n"
   ]
  }
 ],
 "metadata": {
  "kernelspec": {
   "display_name": "Python 3 (ipykernel)",
   "language": "python",
   "name": "python3"
  },
  "language_info": {
   "codemirror_mode": {
    "name": "ipython",
    "version": 3
   },
   "file_extension": ".py",
   "mimetype": "text/x-python",
   "name": "python",
   "nbconvert_exporter": "python",
   "pygments_lexer": "ipython3",
   "version": "3.9.17"
  }
 },
 "nbformat": 4,
 "nbformat_minor": 5
}
