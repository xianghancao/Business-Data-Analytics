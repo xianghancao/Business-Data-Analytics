{
 "cells": [
  {
   "cell_type": "markdown",
   "id": "47dd8069-63d2-461c-8f1d-fa13a149baf9",
   "metadata": {},
   "source": [
    "# 作业\n",
    "\n",
    "## 1. 简述一种大数据技术，并阐述其商业价值（2.5分*2=5分）"
   ]
  },
  {
   "cell_type": "code",
   "execution_count": null,
   "id": "6c6ee598-6a3a-453c-901a-64f97e0e2936",
   "metadata": {},
   "outputs": [],
   "source": [
    "\n",
    "\n"
   ]
  },
  {
   "cell_type": "markdown",
   "id": "ca80f41e-27f5-4421-9d7a-64bc18846b51",
   "metadata": {},
   "source": [
    "## 2.观看电影《点球成金》（5分）\n",
    "谈谈电影中数据分析技术扮演了什么角色？（100字）"
   ]
  },
  {
   "cell_type": "code",
   "execution_count": null,
   "id": "336fcf5a-2cf9-47c7-83ce-ab986f3e53a4",
   "metadata": {},
   "outputs": [],
   "source": [
    "\n",
    "\n"
   ]
  }
 ],
 "metadata": {
  "kernelspec": {
   "display_name": "Python 3 (ipykernel)",
   "language": "python",
   "name": "python3"
  },
  "language_info": {
   "codemirror_mode": {
    "name": "ipython",
    "version": 3
   },
   "file_extension": ".py",
   "mimetype": "text/x-python",
   "name": "python",
   "nbconvert_exporter": "python",
   "pygments_lexer": "ipython3",
   "version": "3.9.17"
  }
 },
 "nbformat": 4,
 "nbformat_minor": 5
}
