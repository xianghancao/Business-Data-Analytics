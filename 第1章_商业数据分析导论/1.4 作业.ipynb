{
 "cells": [
  {
   "cell_type": "markdown",
   "id": "47dd8069-63d2-461c-8f1d-fa13a149baf9",
   "metadata": {},
   "source": [
    "# 作业\n",
    "\n",
    "## 1. 手机销售量的背后因素（2.5分*2=5分）"
   ]
  },
  {
   "cell_type": "markdown",
   "id": "032d51c9-b0e8-4049-a23f-e30bef9f6d7e",
   "metadata": {},
   "source": [
    "分析电商平台上某品牌手机销售量：  \n",
    "- 哪些因素会影响销售量，或者说应该采集哪些相关的数据信息？  \n",
    "- 这些信息是如何影响手机的销售量的？"
   ]
  },
  {
   "cell_type": "markdown",
   "id": "5a7da4a3-7cd9-412c-8f87-22d519c20c0f",
   "metadata": {},
   "source": [
    "\n",
    "\n"
   ]
  },
  {
   "cell_type": "markdown",
   "id": "ca80f41e-27f5-4421-9d7a-64bc18846b51",
   "metadata": {},
   "source": [
    "## 2.观看电影《点球成金》（5分）\n",
    "谈谈电影中数据分析技术扮演了什么角色？（100字）"
   ]
  },
  {
   "cell_type": "markdown",
   "id": "295e756c-a933-471d-b118-d3d958acedb9",
   "metadata": {},
   "source": [
    "\n",
    "\n"
   ]
  },
  {
   "cell_type": "markdown",
   "id": "8d8afdb4-17c9-414d-bdb8-fcd03205c9e7",
   "metadata": {},
   "source": [
    "\n",
    "\n"
   ]
  },
  {
   "cell_type": "markdown",
   "id": "bd942bb0-4df4-4966-9f52-f3f5b93c48d1",
   "metadata": {},
   "source": [
    "\n",
    "\n"
   ]
  }
 ],
 "metadata": {
  "kernelspec": {
   "display_name": "Python 3 (ipykernel)",
   "language": "python",
   "name": "python3"
  },
  "language_info": {
   "codemirror_mode": {
    "name": "ipython",
    "version": 3
   },
   "file_extension": ".py",
   "mimetype": "text/x-python",
   "name": "python",
   "nbconvert_exporter": "python",
   "pygments_lexer": "ipython3",
   "version": "3.9.17"
  }
 },
 "nbformat": 4,
 "nbformat_minor": 5
}
