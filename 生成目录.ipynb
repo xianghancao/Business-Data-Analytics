{
 "cells": [
  {
   "cell_type": "markdown",
   "id": "7964bc39-32ee-440a-be5a-9729efcdb84a",
   "metadata": {},
   "source": [
    "# 生成目录"
   ]
  },
  {
   "cell_type": "code",
   "execution_count": 1,
   "id": "536b066c-6040-4bb5-a88e-42ae9f4500ca",
   "metadata": {},
   "outputs": [],
   "source": [
    "import os\n",
    "import yaml\n",
    "from pathlib import Path\n",
    "\n",
    "def generate_toc(folder_path):\n",
    "    folder_path = os.path.join(folder_path, 'docs')\n",
    "    # Initialize the TOC structure\n",
    "    toc = {\n",
    "        \"format\": \"jb-book\",\n",
    "        \"root\": \"Home\",\n",
    "        \"chapters\": []\n",
    "    }\n",
    "    \n",
    "    # Walk through the folder\n",
    "    folder_path = Path(folder_path)\n",
    "    for subdir in sorted(folder_path.iterdir()):\n",
    "        if subdir.name == \".ipynb_checkpoints\": continue\n",
    "        if subdir.is_dir():\n",
    "            # Create chapter entry\n",
    "            chapter = {\n",
    "                \"file\": f\"{subdir.name}/目录\",\n",
    "                \"sections\": []\n",
    "            }\n",
    "            \n",
    "            # Find all .ipynb files in the subdirectory\n",
    "            for file in sorted(subdir.glob(\"*.ipynb\")):\n",
    "                # Add file to sections without the .ipynb extension\n",
    "                if file.stem == '目录': continue \n",
    "                section_path = f\"{subdir.name}/{file.stem}\"\n",
    "                chapter[\"sections\"].append({\"file\": section_path})\n",
    "            \n",
    "            # Only add chapter if it has sections\n",
    "            if chapter[\"sections\"]:\n",
    "                toc[\"chapters\"].append(chapter)\n",
    "    \n",
    "    # Write to _toc.yml\n",
    "    output_file = os.path.join(folder_path, \"_toc.yml\")\n",
    "    with open(output_file, \"w\") as f:\n",
    "        yaml.safe_dump(toc, f, sort_keys=False, allow_unicode=True)\n",
    "\n"
   ]
  },
  {
   "cell_type": "code",
   "execution_count": 2,
   "id": "377ec965-6ffc-4838-acfe-90cd02d88ffb",
   "metadata": {},
   "outputs": [
    {
     "name": "stdout",
     "output_type": "stream",
     "text": [
      "_toc.yml has been generated in the current directory.\n"
     ]
    }
   ],
   "source": [
    "folder_path = '/Users/hans/Documents/Library/JBook/[JBook] Business-Data-Analytics/'\n",
    "generate_toc(folder_path)\n",
    "print(f\"_toc.yml has been generated in the current directory.\")"
   ]
  },
  {
   "cell_type": "code",
   "execution_count": 3,
   "id": "bf9f3289-a316-4d83-b4b4-283db0148ccc",
   "metadata": {},
   "outputs": [
    {
     "data": {
      "text/plain": [
       "'/Users/hans/Documents/Library/JBook/[JBook] Business-Data-Analytics'"
      ]
     },
     "execution_count": 3,
     "metadata": {},
     "output_type": "execute_result"
    }
   ],
   "source": [
    "pwd"
   ]
  },
  {
   "cell_type": "markdown",
   "id": "87090336-ec79-4666-b6ef-ef36d0f9b335",
   "metadata": {},
   "source": []
  }
 ],
 "metadata": {
  "kernelspec": {
   "display_name": "Python 3 (ipykernel)",
   "language": "python",
   "name": "python3"
  },
  "language_info": {
   "codemirror_mode": {
    "name": "ipython",
    "version": 3
   },
   "file_extension": ".py",
   "mimetype": "text/x-python",
   "name": "python",
   "nbconvert_exporter": "python",
   "pygments_lexer": "ipython3",
   "version": "3.9.17"
  }
 },
 "nbformat": 4,
 "nbformat_minor": 5
}
